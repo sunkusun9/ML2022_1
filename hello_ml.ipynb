{
  "nbformat": 4,
  "nbformat_minor": 0,
  "metadata": {
    "colab": {
      "provenance": [],
      "authorship_tag": "ABX9TyNaTMrcBEH9t0VAPqLNKWtl",
      "include_colab_link": true
    },
    "kernelspec": {
      "name": "python3",
      "display_name": "Python 3"
    },
    "language_info": {
      "name": "python"
    }
  },
  "cells": [
    {
      "cell_type": "markdown",
      "metadata": {
        "id": "view-in-github",
        "colab_type": "text"
      },
      "source": [
        "<a href=\"https://colab.research.google.com/github/sunkusun9/ML2022_1/blob/main/hello_ml.ipynb\" target=\"_parent\"><img src=\"https://colab.research.google.com/assets/colab-badge.svg\" alt=\"Open In Colab\"/></a>"
      ]
    },
    {
      "cell_type": "markdown",
      "source": [
        "# Hello\n",
        "\n",
        "Hello, Machine Learning~을 찍습니다.\n",
        "\n",
        "문서 영역으로, 설명을 기재할 수 있습니다. Markdown을 지원하여 문장에 모양을 지정할 수 있고, 표, 이미지, 수식등을 문서에 넣을 수 있습니다."
      ],
      "metadata": {
        "id": "wwpOnLr22hjA"
      }
    },
    {
      "cell_type": "code",
      "execution_count": null,
      "metadata": {
        "id": "OmZRZ6rFne9y",
        "outputId": "e5732073-2db9-4de4-81c7-d7ad5bab00d7",
        "colab": {
          "base_uri": "https://localhost:8080/"
        }
      },
      "outputs": [
        {
          "output_type": "stream",
          "name": "stdout",
          "text": [
            "Hello Machine Learning\n"
          ]
        }
      ],
      "source": [
        "# 코드 영역으로 Python 코드를 작성하고, 실행하고 출력을 확인할 수 있습니다.\n",
        "\n",
        "print(\"Hello Machine Learning\")"
      ]
    },
    {
      "cell_type": "code",
      "source": [],
      "metadata": {
        "id": "DmoelEeTpe0p"
      },
      "execution_count": null,
      "outputs": []
    }
  ]
}