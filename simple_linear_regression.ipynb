{
  "nbformat": 4,
  "nbformat_minor": 0,
  "metadata": {
    "colab": {
      "provenance": [],
      "toc_visible": true,
      "authorship_tag": "ABX9TyPINA9m5o0pvNDPYuPMqdFR",
      "include_colab_link": true
    },
    "kernelspec": {
      "name": "python3",
      "display_name": "Python 3"
    },
    "language_info": {
      "name": "python"
    }
  },
  "cells": [
    {
      "cell_type": "markdown",
      "metadata": {
        "id": "view-in-github",
        "colab_type": "text"
      },
      "source": [
        "<a href=\"https://colab.research.google.com/github/sunkusun9/ML2022_1/blob/main/simple_linear_regression.ipynb\" target=\"_parent\"><img src=\"https://colab.research.google.com/assets/colab-badge.svg\" alt=\"Open In Colab\"/></a>"
      ]
    },
    {
      "cell_type": "code",
      "source": [
        "# 한글 폰트 설정\n",
        "!apt-get install -y fonts-nanum\n",
        "!fc-cache -fv\n",
        "!rm ~/.cache/matplotlib -rf\n",
        "# 런타임 다시 시작 필요"
      ],
      "metadata": {
        "id": "SMuhQU1t9Nvd",
        "outputId": "59e5c91c-054d-409d-eaf9-db21151b71f0",
        "colab": {
          "base_uri": "https://localhost:8080/",
          "height": 0
        }
      },
      "execution_count": 1,
      "outputs": [
        {
          "output_type": "stream",
          "name": "stdout",
          "text": [
            "Reading package lists... Done\n",
            "Building dependency tree       \n",
            "Reading state information... Done\n",
            "fonts-nanum is already the newest version (20170925-1).\n",
            "The following package was automatically installed and is no longer required:\n",
            "  libnvidia-common-460\n",
            "Use 'apt autoremove' to remove it.\n",
            "0 upgraded, 0 newly installed, 0 to remove and 20 not upgraded.\n",
            "/usr/share/fonts: caching, new cache contents: 0 fonts, 1 dirs\n",
            "/usr/share/fonts/truetype: caching, new cache contents: 0 fonts, 3 dirs\n",
            "/usr/share/fonts/truetype/humor-sans: caching, new cache contents: 1 fonts, 0 dirs\n",
            "/usr/share/fonts/truetype/liberation: caching, new cache contents: 16 fonts, 0 dirs\n",
            "/usr/share/fonts/truetype/nanum: caching, new cache contents: 10 fonts, 0 dirs\n",
            "/usr/local/share/fonts: caching, new cache contents: 0 fonts, 0 dirs\n",
            "/root/.local/share/fonts: skipping, no such directory\n",
            "/root/.fonts: skipping, no such directory\n",
            "/var/cache/fontconfig: cleaning cache directory\n",
            "/root/.cache/fontconfig: not cleaning non-existent cache directory\n",
            "/root/.fontconfig: not cleaning non-existent cache directory\n",
            "fc-cache: succeeded\n"
          ]
        }
      ]
    },
    {
      "cell_type": "code",
      "source": [
        "import matplotlib as mpl\n",
        "import matplotlib.pyplot as plt\n",
        "import matplotlib.font_manager as fm\n",
        "\n",
        "plt.rc('font', family='NanumBarunGothic') \n",
        "mpl.rcParams['axes.unicode_minus'] = False"
      ],
      "metadata": {
        "id": "lYE8Tw3a692D"
      },
      "execution_count": 2,
      "outputs": []
    },
    {
      "cell_type": "markdown",
      "source": [
        "# 단순 선형 회귀 모델\n",
        "\n"
      ],
      "metadata": {
        "id": "Hl9C0vE3V7xx"
      }
    },
    {
      "cell_type": "markdown",
      "source": [
        "$\\hat{y}=\\beta_0 + \\beta_1x$\n",
        "\n"
      ],
      "metadata": {
        "id": "YFUHPqIOWxgV"
      }
    },
    {
      "cell_type": "code",
      "source": [
        "import numpy as np"
      ],
      "metadata": {
        "id": "R-GW5N9OWv1w"
      },
      "execution_count": 3,
      "outputs": []
    },
    {
      "cell_type": "markdown",
      "source": [
        "## 선형 회귀 분석을 보이기 위한 임의의 데이터 생성\n",
        "\n"
      ],
      "metadata": {
        "id": "8Mutpcv7YFXh"
      }
    },
    {
      "cell_type": "markdown",
      "source": [
        "* 표준정규분포(평균=0, 분산=1인 정규분포)를 따르는 임의의 변수 n개를 생성"
      ],
      "metadata": {
        "id": "LjZNYl8gZXwK"
      }
    },
    {
      "cell_type": "code",
      "execution_count": 4,
      "metadata": {
        "id": "dF1Qy2s2V6YU"
      },
      "outputs": [],
      "source": [
        "n = 100 # 데이터 생성 수\n",
        "np.random.seed(42) # 랜덤 Seedㄹ를 42로 지정하여 동일한 난수 생성\n",
        "x = np.random.normal(size=n) # 표준정규분포(평균=0, 분산=1인 정규분포)"
      ]
    },
    {
      "cell_type": "markdown",
      "source": [
        "* x의 히스토그램을 출력하여 값을 확인한다"
      ],
      "metadata": {
        "id": "-PmvGhrfZaTo"
      }
    },
    {
      "cell_type": "code",
      "source": [
        "plt.hist(x, bins=15) # x의 히스토그램을 15개의 구간을 사용하여 출력\n",
        "plt.xlabel(\"x\")\n",
        "plt.ylabel(\"freq\")\n",
        "plt.title(\"x 값 분포도\")\n",
        "plt.show()"
      ],
      "metadata": {
        "colab": {
          "base_uri": "https://localhost:8080/",
          "height": 294
        },
        "id": "MAltMLPjXH9R",
        "outputId": "1978f94d-c940-40f9-8c0e-c99c37f272df"
      },
      "execution_count": 5,
      "outputs": [
        {
          "output_type": "display_data",
          "data": {
            "text/plain": [
              "<Figure size 432x288 with 1 Axes>"
            ],
            "image/png": "[encoded data removed]"
          },
          "metadata": {
            "needs_background": "light"
          }
        }
      ]
    },
    {
      "cell_type": "markdown",
      "source": [
        "* 기울기가 2.5, 절편이 3.2 이고 표준편차를 0.2의 노이즈를 주어 x에 대한 y값을 생성"
      ],
      "metadata": {
        "id": "f3NJ5VsUZ7og"
      }
    },
    {
      "cell_type": "code",
      "source": [
        "beta_0, beta_1, noise = 2.5, 3.2, 1.0\n",
        "eps = np.random.normal(scale=0.2, size=n)\n",
        "y = x * beta_1 + beta_0 + eps"
      ],
      "metadata": {
        "id": "rtfNWbc8YjvI"
      },
      "execution_count": 6,
      "outputs": []
    },
    {
      "cell_type": "markdown",
      "source": [
        "* x,y 산포도 그래프 출력"
      ],
      "metadata": {
        "id": "03NQhafuaKyG"
      }
    },
    {
      "cell_type": "code",
      "source": [
        "plt.scatter(x, y, s=3) # x, y의 산포도 그래프 출력\n",
        "plt.axhline(0, linestyle='dashed')\n",
        "plt.axvline(0, linestyle='dashed')\n",
        "plt.xlabel(\"x\")\n",
        "plt.ylabel(\"y\")\n",
        "plt.title(\"산포도 그래프\")\n",
        "plt.show()"
      ],
      "metadata": {
        "colab": {
          "base_uri": "https://localhost:8080/",
          "height": 294
        },
        "id": "sIKuFcUXZcmY",
        "outputId": "32ab4f98-4945-428b-e058-9092a2a03bbc"
      },
      "execution_count": 7,
      "outputs": [
        {
          "output_type": "display_data",
          "data": {
            "text/plain": [
              "<Figure size 432x288 with 1 Axes>"
            ],
            "image/png": "[encoded data removed]"
          },
          "metadata": {
            "needs_background": "light"
          }
        }
      ]
    },
    {
      "cell_type": "markdown",
      "source": [
        "## 오차"
      ],
      "metadata": {
        "id": "Cxnb03VbeTPj"
      }
    },
    {
      "cell_type": "code",
      "source": [
        "fig, axs= plt.subplots(1, 2, figsize=(12, 4))\n",
        "axs[0].hist(eps, bins=15)\n",
        "axs[0].set_title('$\\epsilon$(오차)')\n",
        "axs[1].scatter(x, eps)\n",
        "axs[1].axhline(np.mean(eps), linestyle=\"--\")\n",
        "axs[1].set_ylabel(\"$residual$\")\n",
        "axs[1].set_xlabel(\"x\")\n",
        "plt.show()"
      ],
      "metadata": {
        "colab": {
          "base_uri": "https://localhost:8080/",
          "height": 296
        },
        "id": "2tygluFvqwuS",
        "outputId": "b47663ca-2c0c-4ff6-9912-8047eac981d8"
      },
      "execution_count": 58,
      "outputs": [
        {
          "output_type": "display_data",
          "data": {
            "text/plain": [
              "<Figure size 864x288 with 2 Axes>"
            ],
            "image/png": "[encoded data removed]"
          },
          "metadata": {
            "needs_background": "light"
          }
        }
      ]
    },
    {
      "cell_type": "markdown",
      "source": [
        "# 정규방정식(Ordinary Least Squares) - I"
      ],
      "metadata": {
        "id": "rvf1tBjn-Dgd"
      }
    },
    {
      "cell_type": "markdown",
      "source": [
        "Ordinary Least Squares 방법으로,\n",
        "\n",
        "임의로 생성한 데이터셋으로 단순 선형회귀모델을 학습시켜보자."
      ],
      "metadata": {
        "id": "KCeFqKGZart9"
      }
    },
    {
      "cell_type": "markdown",
      "source": [
        "$\\hat{\\beta_1}=\\frac{\\sum\\limits_{i=1}^{n}(x_i-\\bar{x})y_i}{\\sum\\limits_{i=1}^{n}(x_i-\\bar{x})^2}$,  $\\hat{\\beta_0}=\\bar{y} - \\beta_1\\bar{x}$\n",
        "\n",
        "$\\bar{x}=\\frac{\\sum\\limits_{i=1}^{n}x_i}{n}$,  $\\bar{y}=\\frac{\\sum\\limits_{i=1}^{n}y_i}{n}$"
      ],
      "metadata": {
        "id": "v_RaBfzz6aAM"
      }
    },
    {
      "cell_type": "markdown",
      "source": [
        "* 위 정규방정식을 이용하여 beta_hat_1, beta_hat_0를 구하라"
      ],
      "metadata": {
        "id": "ddcP6-2eaRx5"
      }
    },
    {
      "cell_type": "code",
      "source": [
        "x_bar = np.mean(x) # X의 평균을 구한다\n",
        "x_diff = (x - x_bar) # x_i와 x_bar의 차이를 구한다.\n",
        "beta_hat_1 = np.sum(x_diff * y) / np.sum(np.square(x_diff)) # beta_1을 구한다.\n",
        "beta_hat_0 = np.mean(y) - beta_1 * np.mean(x) # beta_0를 구한다.\n",
        "beta_hat_0, beta_hat_1"
      ],
      "metadata": {
        "id": "-ezpd28V8NFF",
        "outputId": "05b4eeea-dea0-4994-d316-3514b6027c19",
        "colab": {
          "base_uri": "https://localhost:8080/",
          "height": 0
        }
      },
      "execution_count": 8,
      "outputs": [
        {
          "output_type": "execute_result",
          "data": {
            "text/plain": [
              "(2.5044609174099848, 3.1713485679457114)"
            ]
          },
          "metadata": {},
          "execution_count": 8
        }
      ]
    },
    {
      "cell_type": "code",
      "source": [
        "# Tip: np.sum(x_diff * y)는 2번의 Vector 연산이 필요이를 dot을 사용하면 한 번으로 줄일 수 있다 .\n",
        "beta_hat_1 = np.dot(x_diff, y) / np.sum(np.square(x_diff)) \n",
        "beta_hat_1"
      ],
      "metadata": {
        "id": "45KLXYka_vHX",
        "outputId": "14ae4af4-c60c-4ed7-df20-6d051d6c021f",
        "colab": {
          "base_uri": "https://localhost:8080/",
          "height": 0
        }
      },
      "execution_count": 9,
      "outputs": [
        {
          "output_type": "execute_result",
          "data": {
            "text/plain": [
              "3.171348567945711"
            ]
          },
          "metadata": {},
          "execution_count": 9
        }
      ]
    },
    {
      "cell_type": "code",
      "source": [
        "%%timeit\n",
        "beta_hat_1 = np.sum(x_diff * y) / np.sum(np.square(x_diff)) # beta_1을 구한다."
      ],
      "metadata": {
        "id": "JJUbEdyhDNgv",
        "outputId": "d27f3f3f-d637-43b1-f71d-e3957ef5246e",
        "colab": {
          "base_uri": "https://localhost:8080/",
          "height": 0
        }
      },
      "execution_count": 10,
      "outputs": [
        {
          "output_type": "stream",
          "name": "stdout",
          "text": [
            "25.5 µs ± 3.76 µs per loop (mean ± std. dev. of 7 runs, 10000 loops each)\n"
          ]
        }
      ]
    },
    {
      "cell_type": "code",
      "source": [
        "%%timeit\n",
        "# Tip: np.sum(x_diff * y)는 2번의 Vector 연산이 필요이를 dot을 사용하면 한 번으로 줄일 수 있다 .\n",
        "beta_hat_1 = np.dot(x_diff, y) / np.sum(np.square(x_diff)) "
      ],
      "metadata": {
        "id": "O7-i6PsbCk2_",
        "outputId": "19191198-8ad1-4511-ee3f-7348f6db7505",
        "colab": {
          "base_uri": "https://localhost:8080/",
          "height": 0
        }
      },
      "execution_count": 11,
      "outputs": [
        {
          "output_type": "stream",
          "name": "stdout",
          "text": [
            "17.9 µs ± 1.23 µs per loop (mean ± std. dev. of 7 runs, 100000 loops each)\n"
          ]
        }
      ]
    },
    {
      "cell_type": "markdown",
      "source": [
        "* (x, y) 산포도 그래프 위에 위에서 구한 회귀선 출력"
      ],
      "metadata": {
        "id": "Y6wRi4zIafwN"
      }
    },
    {
      "cell_type": "code",
      "source": [
        "# x, y의 산포도 그래프 출력\n",
        "plt.scatter(x, y, s=3, label='(x, y)')\n",
        "x_space = np.linspace(-2.5, 2.5, 10)\n",
        "plt.plot(x_space, beta_0 + beta_1 * x_space, c='r', label='회귀선')\n",
        "plt.axhline(0, linestyle='dashed')\n",
        "plt.axvline(0, linestyle='dashed')\n",
        "plt.xlabel(\"x\")\n",
        "plt.ylabel(\"y\")\n",
        "plt.title(\"산포도 그래프와 회귀선\")\n",
        "plt.legend()\n",
        "plt.show()"
      ],
      "metadata": {
        "id": "y4_U_jQp9vZt",
        "outputId": "36200e41-c594-49bb-86fb-229305ac665f",
        "colab": {
          "base_uri": "https://localhost:8080/",
          "height": 294
        }
      },
      "execution_count": 12,
      "outputs": [
        {
          "output_type": "display_data",
          "data": {
            "text/plain": [
              "<Figure size 432x288 with 1 Axes>"
            ],
            "image/png": "[encoded data removed]"
          },
          "metadata": {
            "needs_background": "light"
          }
        }
      ]
    },
    {
      "cell_type": "code",
      "source": [
        "from scipy.stats import norm\n",
        "y_hat = beta_0 + beta_1 * x\n",
        "residual = y - y_hat\n",
        "\n",
        "fig, axs= plt.subplots(1, 3, figsize=(16, 4))\n",
        "axs[0].hist(residual, bins=15)\n",
        "axs[0].set_xlabel(\"$e$(잔차)\")\n",
        "axs[0].set_title(\"히스토그램: $e$(잔차)\")\n",
        "residual_sort = residual.copy()\n",
        "residual_sort.sort()\n",
        "axs[1].plot(norm.cdf(residual_sort), np.arange(1, residual.shape[0] + 1) / residual.shape[0])\n",
        "axs[1].set_title(\"Q-Q plot: $e$(잔차)\")\n",
        "axs[1].set_xlabel(\"정규분포상 변위치\")\n",
        "axs[1].set_ylabel(\"관측값의 변위치\")\n",
        "axs[2].scatter(x, residual)\n",
        "axs[2].axhline(np.mean(residual), linestyle=\"--\")\n",
        "axs[2].set_ylabel(\"$residual$\")\n",
        "axs[2].set_xlabel(\"x\")\n",
        "plt.show()"
      ],
      "metadata": {
        "id": "WQHzI2g3sA_h",
        "outputId": "a90ffe86-dfbc-4f91-a7fe-aa279fe1a702",
        "colab": {
          "base_uri": "https://localhost:8080/",
          "height": 301
        }
      },
      "execution_count": 60,
      "outputs": [
        {
          "output_type": "display_data",
          "data": {
            "text/plain": [
              "<Figure size 1152x288 with 3 Axes>"
            ],
            "image/png": "[encoded data removed]"
          },
          "metadata": {
            "needs_background": "light"
          }
        }
      ]
    },
    {
      "cell_type": "markdown",
      "source": [
        "여기서 loss 함수인 MSE 를 구해보자\n",
        "\n",
        "$MSE=\\frac{\\sum\\limits_{i=1}^{n}(y-\\hat{y})^2}{n}$\n",
        "* 평균제곱오차(Mean Squared Error)를 구해보자"
      ],
      "metadata": {
        "id": "IA86D1HVyhPJ"
      }
    },
    {
      "cell_type": "code",
      "source": [
        "y_hat = beta_hat_0 + beta_hat_1 * x # y_hat을 구한다."
      ],
      "metadata": {
        "id": "BksqbdN-1Znr"
      },
      "execution_count": 13,
      "outputs": []
    },
    {
      "cell_type": "code",
      "source": [
        "# 반복문을 이용\n",
        "mse_1 = 0\n",
        "for i in range(n):\n",
        "    mse_1 += (y[i] - y_hat[i]) ** 2\n",
        "mse_1 /= n\n",
        "mse_1"
      ],
      "metadata": {
        "colab": {
          "base_uri": "https://localhost:8080/",
          "height": 0
        },
        "id": "WZkRBA4zzgOI",
        "outputId": "d785588e-0fe3-4448-fe95-fd04fa343313"
      },
      "execution_count": 14,
      "outputs": [
        {
          "output_type": "execute_result",
          "data": {
            "text/plain": [
              "0.035354152007826344"
            ]
          },
          "metadata": {},
          "execution_count": 14
        }
      ]
    },
    {
      "cell_type": "code",
      "source": [
        "# numpy의 mean 함수 이용\n",
        "mse_2 = np.mean(np.square(y - y_hat)) # 벡터화 연산들이 적용\n",
        "mse_2"
      ],
      "metadata": {
        "colab": {
          "base_uri": "https://localhost:8080/",
          "height": 0
        },
        "id": "MPDBUuFm0dbS",
        "outputId": "b0c9aa13-1a47-478f-837f-d5077d248e06"
      },
      "execution_count": 15,
      "outputs": [
        {
          "output_type": "execute_result",
          "data": {
            "text/plain": [
              "0.03535415200782634"
            ]
          },
          "metadata": {},
          "execution_count": 15
        }
      ]
    },
    {
      "cell_type": "markdown",
      "source": [
        "[Practice]\n",
        "\n",
        "위의 방법 보더 더 연산을 효율화 한다면?"
      ],
      "metadata": {
        "id": "H2-Z7Fg802c4"
      }
    },
    {
      "cell_type": "code",
      "source": [
        "residual = y - y_hat\n",
        "mse_3 = np.dot(residual, residual) / n\n",
        "mse_3"
      ],
      "metadata": {
        "colab": {
          "base_uri": "https://localhost:8080/",
          "height": 0
        },
        "id": "OBQW_deQ1M5z",
        "outputId": "faefc717-b034-4044-f839-705f7a335518"
      },
      "execution_count": 16,
      "outputs": [
        {
          "output_type": "execute_result",
          "data": {
            "text/plain": [
              "0.035354152007826344"
            ]
          },
          "metadata": {},
          "execution_count": 16
        }
      ]
    },
    {
      "cell_type": "code",
      "source": [
        "%%timeit\n",
        "mse_1 = 0\n",
        "for i in range(n):\n",
        "    mse_1 += (y[i] - y_hat[i]) ** 2\n",
        "mse_1 /= n"
      ],
      "metadata": {
        "colab": {
          "base_uri": "https://localhost:8080/",
          "height": 0
        },
        "id": "WpH_JuXl1P36",
        "outputId": "1d8f9e66-8c5a-4a22-f66a-72ac6e1988ed"
      },
      "execution_count": 17,
      "outputs": [
        {
          "output_type": "stream",
          "name": "stdout",
          "text": [
            "67.4 µs ± 5.68 µs per loop (mean ± std. dev. of 7 runs, 10000 loops each)\n"
          ]
        }
      ]
    },
    {
      "cell_type": "code",
      "source": [
        "%%timeit\n",
        "mse_2 = np.mean(np.square(y - y_hat))"
      ],
      "metadata": {
        "colab": {
          "base_uri": "https://localhost:8080/",
          "height": 0
        },
        "id": "uz579PHa1Tw9",
        "outputId": "06b9e86f-ee0c-41de-cb10-b6bdad9996b8"
      },
      "execution_count": 18,
      "outputs": [
        {
          "output_type": "stream",
          "name": "stdout",
          "text": [
            "9.77 µs ± 40.6 ns per loop (mean ± std. dev. of 7 runs, 100000 loops each)\n"
          ]
        }
      ]
    },
    {
      "cell_type": "code",
      "source": [
        "%%timeit\n",
        "residual = y - y_hat\n",
        "mse_3 = np.dot(residual, residual) / n"
      ],
      "metadata": {
        "colab": {
          "base_uri": "https://localhost:8080/",
          "height": 0
        },
        "id": "MdLhYzcp1gAK",
        "outputId": "a13aa2aa-ed4d-47d6-a9e3-bcb9d87abf0e"
      },
      "execution_count": 19,
      "outputs": [
        {
          "output_type": "stream",
          "name": "stdout",
          "text": [
            "2.38 µs ± 86.8 ns per loop (mean ± std. dev. of 7 runs, 100000 loops each)\n"
          ]
        }
      ]
    },
    {
      "cell_type": "code",
      "source": [
        "# 이후에 손실을 다음으로 구한다.\n",
        "def loss_mse(y, y_hat):\n",
        "    residual = y - y_hat\n",
        "    return np.dot(residual, residual) / y.shape[0]\n",
        "\n",
        "loss_mse(y, y_hat)"
      ],
      "metadata": {
        "colab": {
          "base_uri": "https://localhost:8080/",
          "height": 0
        },
        "id": "Lx4H-oRT15S6",
        "outputId": "9986a934-2c33-499f-997d-d1a0ed1f3dfe"
      },
      "execution_count": 20,
      "outputs": [
        {
          "output_type": "execute_result",
          "data": {
            "text/plain": [
              "0.035354152007826344"
            ]
          },
          "metadata": {},
          "execution_count": 20
        }
      ]
    },
    {
      "cell_type": "markdown",
      "source": [
        "[Practice]\n",
        "\n",
        "[sklearn.metrics.mean_squared_error](https://scikit-learn.org/stable/modules/generated/sklearn.metrics.mean_squared_error.html) 를 이용해서 구해보자."
      ],
      "metadata": {
        "id": "TvEoZooH2GV4"
      }
    },
    {
      "cell_type": "code",
      "source": [
        "from sklearn.metrics import mean_squared_error\n",
        "\n",
        "mean_squared_error(y, y_hat)"
      ],
      "metadata": {
        "colab": {
          "base_uri": "https://localhost:8080/",
          "height": 0
        },
        "id": "Av-JqVct2zic",
        "outputId": "f472f326-d619-4458-cc35-4c860e550e24"
      },
      "execution_count": 21,
      "outputs": [
        {
          "output_type": "execute_result",
          "data": {
            "text/plain": [
              "0.03535415200782634"
            ]
          },
          "metadata": {},
          "execution_count": 21
        }
      ]
    },
    {
      "cell_type": "markdown",
      "source": [
        "$\\hat{\\beta_1}=\\frac{\\sum\\limits_{i=1}^{n}(x_i-\\bar{x})(y_i-\\bar{y})}{\\sum\\limits_{i=1}^{n}(x_i-\\bar{x})^2}$"
      ],
      "metadata": {
        "id": "BXJWX7TFDADF"
      }
    },
    {
      "cell_type": "markdown",
      "source": [
        "* 위 식으로 beta_1을 구하자"
      ],
      "metadata": {
        "id": "O-s3l_N-atet"
      }
    },
    {
      "cell_type": "code",
      "source": [
        "x_bar = np.mean(x)\n",
        "y_bar = np.mean(y)\n",
        "x_diff = (x - x_bar) # x_i와 x_bar의 차이를 구한다.\n",
        "y_diff = (y - y_bar) # y_i와 y_bar의 차이를 구한다.\n",
        "beta_hat_1 = np.sum(x_diff * y_diff) / np.sum(np.square(x_diff)) # beta_1을 구한다.\n",
        "beta_hat_1"
      ],
      "metadata": {
        "colab": {
          "base_uri": "https://localhost:8080/",
          "height": 0
        },
        "id": "dqpamy53DPq0",
        "outputId": "9af69393-6dad-40e3-bb1f-a54fb7578c61"
      },
      "execution_count": 22,
      "outputs": [
        {
          "output_type": "execute_result",
          "data": {
            "text/plain": [
              "3.17134856794571"
            ]
          },
          "metadata": {},
          "execution_count": 22
        }
      ]
    },
    {
      "cell_type": "markdown",
      "source": [
        "[Practice]\n",
        "\n",
        "$\\hat{\\beta_1}=\\frac{\\sum\\limits_{i=1}^{n}(y_i-\\bar{y})x_i}{\\sum\\limits_{i=1}^{n}(x_i-\\bar{x})x_i}$\n",
        "\n",
        "$\\hat{\\beta_1}=\\frac{\\sum\\limits_{i=1}^{n}(x_i-\\bar{x})y_i}{\\sum\\limits_{i=1}^{n}(x_i-\\bar{x})x_i}$"
      ],
      "metadata": {
        "id": "-B4mdTOzGNiN"
      }
    },
    {
      "cell_type": "code",
      "source": [
        "x_bar = np.mean(x)\n",
        "y_bar = np.mean(y)\n",
        "x_diff = (x - x_bar) # x_i와 x_bar의 차이를 구한다.\n",
        "y_diff = (y - y_bar) # y_i와 y_bar의 차이를 구한다.\n",
        "beta_hat_1 = np.sum(y_diff * x) / np.sum(x_diff * x) # beta_1을 구한다.\n",
        "beta_hat_1"
      ],
      "metadata": {
        "colab": {
          "base_uri": "https://localhost:8080/",
          "height": 0
        },
        "id": "Ty8pPty3HBds",
        "outputId": "b0565cee-ef84-4c10-911c-63c8bd6bcb79"
      },
      "execution_count": 23,
      "outputs": [
        {
          "output_type": "execute_result",
          "data": {
            "text/plain": [
              "3.1713485679457123"
            ]
          },
          "metadata": {},
          "execution_count": 23
        }
      ]
    },
    {
      "cell_type": "code",
      "source": [
        "x_bar = np.mean(x)\n",
        "y_bar = np.mean(y)\n",
        "x_diff = (x - x_bar) # x_i와 x_bar의 차이를 구한다.\n",
        "y_diff = (y - y_bar) # y_i와 y_bar의 차이를 구한다.\n",
        "beta_hat_1 = np.sum(x_diff * y) / np.sum(x_diff * x) # beta_1을 구한다.\n",
        "beta_hat_1"
      ],
      "metadata": {
        "colab": {
          "base_uri": "https://localhost:8080/",
          "height": 0
        },
        "id": "gIAgXXdLIKqb",
        "outputId": "877c55cf-79d1-45a3-bbc4-e01764e04d99"
      },
      "execution_count": 24,
      "outputs": [
        {
          "output_type": "execute_result",
          "data": {
            "text/plain": [
              "3.1713485679457123"
            ]
          },
          "metadata": {},
          "execution_count": 24
        }
      ]
    },
    {
      "cell_type": "markdown",
      "source": [
        "[Practice] \n",
        "\n",
        "beta_hat_1 을 구하는 식을 2가지 더 세우고 이를 구현하시오."
      ],
      "metadata": {
        "id": "KdopjlAhnpyC"
      }
    },
    {
      "cell_type": "markdown",
      "source": [
        "# 정규방정식(Ordinary Least Squares) - II"
      ],
      "metadata": {
        "id": "hVt9vqUF9jEn"
      }
    },
    {
      "cell_type": "markdown",
      "source": [
        "$\\hat{\\beta}=(X^TX)^{-1}X^Ty$"
      ],
      "metadata": {
        "id": "eIcuD8al92CI"
      }
    },
    {
      "cell_type": "markdown",
      "source": [
        "* 모두 1일 열을 추가"
      ],
      "metadata": {
        "id": "DHUQkQy8bMs0"
      }
    },
    {
      "cell_type": "code",
      "source": [
        "X = np.hstack([np.ones((n, 1)), np.expand_dims(x.T, axis= 1)]) # 사이즈가 nx1인 모든 값이 1인 matrix 생성, 벡터 x를 nx1인 Matrix로 변환하고 이를 종으로 합친다.\n",
        "X.shape, X[:3] # Matrix X의 모양과, 첫번째 3행까지 확인"
      ],
      "metadata": {
        "id": "wv7m2XdEEv9e",
        "colab": {
          "base_uri": "https://localhost:8080/",
          "height": 0
        },
        "outputId": "9a6f0bb3-cfa7-42de-b5c1-9228570b1ef4"
      },
      "execution_count": 25,
      "outputs": [
        {
          "output_type": "execute_result",
          "data": {
            "text/plain": [
              "((100, 2), array([[ 1.        ,  0.49671415],\n",
              "        [ 1.        , -0.1382643 ],\n",
              "        [ 1.        ,  0.64768854]]))"
            ]
          },
          "metadata": {},
          "execution_count": 25
        }
      ]
    },
    {
      "cell_type": "markdown",
      "source": [
        "* 위 공식으로 벡터 $\\hat{\\beta}$ 를 구하라"
      ],
      "metadata": {
        "id": "c30nlHYhbxVk"
      }
    },
    {
      "cell_type": "code",
      "source": [
        "# Gram Matrix 구하기\n",
        "Xt_by_X = np.matmul(X.T, X)\n",
        "# Gram Matrix의 역행렬 구하기\n",
        "inv_Xt_by_X = np.linalg.inv(Xt_by_X)\n",
        "# XT_by_y 구하기 \n",
        "XT_by_y = np.matmul(X.T, y)\n",
        "# beta_hat 구하기\n",
        "beta_hat = np.matmul(inv_Xt_by_X, XT_by_y)\n",
        "beta_hat"
      ],
      "metadata": {
        "id": "R_wveGEjFlVo",
        "outputId": "47f2ac07-192c-4ae9-f9eb-864f2834eb11",
        "colab": {
          "base_uri": "https://localhost:8080/",
          "height": 0
        }
      },
      "execution_count": 26,
      "outputs": [
        {
          "output_type": "execute_result",
          "data": {
            "text/plain": [
              "array([2.50148557, 3.17134857])"
            ]
          },
          "metadata": {},
          "execution_count": 26
        }
      ]
    },
    {
      "cell_type": "markdown",
      "source": [
        "[sklearn.datasets.make_regression](https://scikit-learn.org/stable/modules/generated/sklearn.datasets.make_regression.html#sklearn.datasets.make_regression)을 사용하여 구해보자"
      ],
      "metadata": {
        "id": "3g8srOIEb7MA"
      }
    },
    {
      "cell_type": "code",
      "source": [
        "from sklearn.linear_model import LinearRegression\n",
        "lr = LinearRegression()\n",
        "lr.fit(np.expand_dims(x, axis=-1), y) # 학습 시킨다. X를 matrix로 변경한다"
      ],
      "metadata": {
        "id": "daPpCERL1XWL",
        "outputId": "f4997f56-9ee9-4794-e2db-865bd19619ab",
        "colab": {
          "base_uri": "https://localhost:8080/",
          "height": 0
        }
      },
      "execution_count": 27,
      "outputs": [
        {
          "output_type": "execute_result",
          "data": {
            "text/plain": [
              "LinearRegression()"
            ]
          },
          "metadata": {},
          "execution_count": 27
        }
      ]
    },
    {
      "cell_type": "code",
      "source": [
        "lr.intercept_, lr.coef_"
      ],
      "metadata": {
        "id": "eN9yQ7weY7Ek",
        "outputId": "04c98168-99b5-467c-e77c-9c86c091b6a0",
        "colab": {
          "base_uri": "https://localhost:8080/",
          "height": 0
        }
      },
      "execution_count": 28,
      "outputs": [
        {
          "output_type": "execute_result",
          "data": {
            "text/plain": [
              "(2.5014855659727933, array([3.17134857]))"
            ]
          },
          "metadata": {},
          "execution_count": 28
        }
      ]
    },
    {
      "cell_type": "markdown",
      "source": [
        "위 매뉴얼을 보면, \n",
        "> From the implementation point of view, this is just plain Ordinary Least Squares (scipy.linalg.lstsq) or Non Negative Least Squares (scipy.optimize.nnls) wrapped as a predictor object.\n",
        "\n",
        "[Pratice] 여기서 scipy.linalg.lstsq로 해보자."
      ],
      "metadata": {
        "id": "hTO0WxxgcpQI"
      }
    },
    {
      "cell_type": "code",
      "source": [
        "from scipy.linalg import lstsq\n",
        "lstsq(X, y) # 절편을 구하기 위해 모든 열이 1일 열을 포함한 데이터를 넘긴다."
      ],
      "metadata": {
        "colab": {
          "base_uri": "https://localhost:8080/",
          "height": 0
        },
        "id": "RdeLJaKWs175",
        "outputId": "fddfe29b-4985-49bc-a174-d888db75112a"
      },
      "execution_count": 29,
      "outputs": [
        {
          "output_type": "execute_result",
          "data": {
            "text/plain": [
              "(array([2.50148557, 3.17134857]),\n",
              " 3.5345299291651537,\n",
              " 2,\n",
              " array([10.24064568,  8.82382034]))"
            ]
          },
          "metadata": {},
          "execution_count": 29
        }
      ]
    },
    {
      "cell_type": "markdown",
      "source": [
        "# 경사하강법(Gradient Descent)"
      ],
      "metadata": {
        "id": "b4HBP6_NsL2N"
      }
    },
    {
      "cell_type": "markdown",
      "source": [
        "예제)\n",
        "경사하강법으로 $y=(x-2)^2 + 3$의 y를 최소로 하는 x의 값을 구한다. 초기점을 포한하여 매단계 별 x값을 x_hist에 리스트로 남긴다.\n",
        "\n",
        "* 반복횟수 = 5, 이동폭 0.3"
      ],
      "metadata": {
        "id": "Ia18VBtP6rHR"
      }
    },
    {
      "cell_type": "code",
      "source": [
        "#x =np.random.rand(1)[0] * 3 # [-3, 3]에서 임의 값으로 지정\n",
        "optimal = 3\n",
        "optimal_x = 2\n",
        "\n",
        "x = -1\n",
        "x_hist = [x] # X값의 history\n",
        "epochs = 5 # 반복 횟수\n",
        "rate = 0.3 # 이동폭\n",
        "for i in range(epochs):\n",
        "    delta_y = 2 * (x - optimal_x) # 미분값을 구한다\n",
        "    x -= rate * delta_y # x값을 업데이트 한다.\n",
        "    x_hist.append(x) # X값 history에 추가"
      ],
      "metadata": {
        "id": "w0dV2fCFK3to"
      },
      "execution_count": 30,
      "outputs": []
    },
    {
      "cell_type": "markdown",
      "source": [
        "* x가 [-1, 5]인 (x, y) 그래프를 그리고, 각 단계별 이동점을 표시한다."
      ],
      "metadata": {
        "id": "YgXzpNzJdsCp"
      }
    },
    {
      "cell_type": "code",
      "source": [
        "import matplotlib.lines as mlines\n",
        "plt.figure(figsize=(8, 5)) # 표 설정\n",
        "X_plot = np.linspace(-1, 5, 1000)\n",
        "Y_plot = np.square(X_plot - optimal_x) + optimal\n",
        "plt.plot(X_plot, Y_plot, label=\"$y=(x-2)^2 + 3$\") # X, Y 그래프 출력\n",
        "# x, y 변화점 출력\n",
        "x_hist = np.array(x_hist)\n",
        "y_hist = np.square(x_hist - 2) + 3\n",
        "plt.scatter(x_hist, y_hist, c='orange')\n",
        "for i, (x_, y_) in enumerate(zip(x_hist, y_hist)):\n",
        "    plt.annotate(str(i), (x_, y_), xytext=(x_ - (0.1 if i < 5 else 0.0), y_ - 0.4))\n",
        "plt.xlabel(\"x\")\n",
        "plt.ylabel(\"y\")\n",
        "plt.legend()\n",
        "plt.show()"
      ],
      "metadata": {
        "id": "371JxZTbsy3M",
        "outputId": "eed19cc2-2fb7-41ff-85ad-6bbad9ebb912",
        "colab": {
          "base_uri": "https://localhost:8080/",
          "height": 334
        }
      },
      "execution_count": 31,
      "outputs": [
        {
          "output_type": "display_data",
          "data": {
            "text/plain": [
              "<Figure size 576x360 with 1 Axes>"
            ],
            "image/png": "[encoded data removed]"
          },
          "metadata": {
            "needs_background": "light"
          }
        }
      ]
    },
    {
      "cell_type": "markdown",
      "source": [
        "## 이동폭 (step size)"
      ],
      "metadata": {
        "id": "aKto_dX2Z1S2"
      }
    },
    {
      "cell_type": "markdown",
      "source": [
        "* 이동이 [1, 0.3, 0.03] 각각에 대한 그래프를 그린다."
      ],
      "metadata": {
        "id": "h6fi2wo8enMK"
      }
    },
    {
      "cell_type": "code",
      "source": [
        "fig, ax = plt.subplots(1, 3, figsize=(16, 4)) # 1x3 표 생성\n",
        "for rate, ax_ in zip([1, 0.3, 0.03], ax): # 이동폭을 [1, 0.3, 0.01]에 대한 반복, 결과 ax도 묶어서 반복한다.\n",
        "    # 경사하강으로 최적화\n",
        "    x = -1\n",
        "    x_hist = [x] \n",
        "    epochs = 5 # 반복 횟수\n",
        "    for i in range(epochs):\n",
        "        delta_y = 2 * (x - 2)\n",
        "        x -= rate * delta_y\n",
        "        x_hist.append(x)\n",
        "    # 표출력\n",
        "    ax_.plot(X_plot, Y_plot, label=\"$y=(x-2)^2 + 3$\")\n",
        "    x_hist = np.array(x_hist)\n",
        "    y_hist = np.square(x_hist - 2) + 3\n",
        "    ax_.scatter(x_hist, y_hist, c='orange')\n",
        "    for i, (x_, y_) in enumerate(zip(x_hist, y_hist)):\n",
        "        ax_.annotate(str(i), (x_, y_), xytext=(x_ - (0.1 if i < 5 else 0.0), y_ - 0.4)) # 단계출력\n",
        "    ax_.set_xlabel(\"x\")\n",
        "    ax_.set_ylabel(\"y\")\n",
        "    ax_.legend()\n",
        "    ax_.set_title(\"$\\gamma={}$\".format(rate))\n",
        "plt.show()"
      ],
      "metadata": {
        "id": "sIwjAHLXV6rI",
        "outputId": "4ed8a637-d66a-4464-c318-04983cc344ac",
        "colab": {
          "base_uri": "https://localhost:8080/",
          "height": 296
        }
      },
      "execution_count": 32,
      "outputs": [
        {
          "output_type": "display_data",
          "data": {
            "text/plain": [
              "<Figure size 1152x288 with 3 Axes>"
            ],
            "image/png": "[encoded data removed]"
          },
          "metadata": {
            "needs_background": "light"
          }
        }
      ]
    },
    {
      "cell_type": "markdown",
      "source": [
        "## 반복횟수(epochs)"
      ],
      "metadata": {
        "id": "rYackpu9Z7ea"
      }
    },
    {
      "cell_type": "markdown",
      "source": [
        "* y값의 이전 단계와의 차이가 1e-2이하로 5번이상 유지 됐을 때 수렴했다고 판단할때 수렴했을 때의 단계를 구한다. \n",
        "* 반복수는 50, 이동폭:0.1"
      ],
      "metadata": {
        "id": "VzwNZ5Ole2Gf"
      }
    },
    {
      "cell_type": "code",
      "source": [
        "x = -1\n",
        "y = (x - 2) ** 2 + 3\n",
        "x_hist = [x]\n",
        "y_hist = [y]\n",
        "rate = 0.1\n",
        "epochs = 50 # 반복 횟수\n",
        "converge_thres = 1e-2 # 수렴점\n",
        "converge_cnt = 0 # 수렴점이하로 유지된 반복수\n",
        "converge_max_cnt = 5 # 수렴이라 결정할 때의 최대 converge_cnt\n",
        "converge_iter = -1\n",
        "for i in range(epochs):\n",
        "    prev_y = y # y_diff(y의 변화값)을 구하기 위해 저장\n",
        "    delta_y = 2 * (x - 2)\n",
        "    x -= rate * delta_y\n",
        "    y = (x - 2) ** 2 + 3\n",
        "    x_hist.append(x)\n",
        "    y_hist.append(y)\n",
        "    y_diff = prev_y - y\n",
        "    if y_diff < converge_thres:\n",
        "        converge_cnt +=1\n",
        "        if converge_cnt >= converge_max_cnt and converge_iter < 0: # 최초의 수렴시점을 기록\n",
        "            converge_iter = i + 1\n",
        "    else:\n",
        "        converge_cnt = 0\n"
      ],
      "metadata": {
        "id": "U9B7q4_mDfqF"
      },
      "execution_count": 33,
      "outputs": []
    },
    {
      "cell_type": "markdown",
      "source": [
        "* 단계별 y값을 출력하라"
      ],
      "metadata": {
        "id": "cPK4oYPAfkLS"
      }
    },
    {
      "cell_type": "code",
      "source": [
        "plt.figure(figsize=(8, 5)) # 표 설정\n",
        "# epoch에 따른 y값 출력\n",
        "plt.plot(y_hist, label='y')\n",
        "plt.axvline(converge_iter, linestyle='--', color='orange')\n",
        "plt.annotate(\"수렴점\", (20, 8))\n",
        "plt.xlabel(\"단계\")\n",
        "plt.ylabel(\"y\")\n",
        "plt.legend()\n",
        "plt.show()"
      ],
      "metadata": {
        "id": "2Rv0oV69fhQv",
        "colab": {
          "base_uri": "https://localhost:8080/",
          "height": 334
        },
        "outputId": "d02a76c6-3fc6-4233-b162-50659f084439"
      },
      "execution_count": 34,
      "outputs": [
        {
          "output_type": "display_data",
          "data": {
            "text/plain": [
              "<Figure size 576x360 with 1 Axes>"
            ],
            "image/png": "[encoded data removed]"
          },
          "metadata": {
            "needs_background": "light"
          }
        }
      ]
    },
    {
      "cell_type": "markdown",
      "source": [
        "## 경사하강법(Gradient Descent)를 통한 선형 회귀(Linear Regression) 학습\n",
        "\n",
        "$\\frac{\\partial F}{\\partial\\beta_0}=\\frac{\\sum\\limits_{i=1}^{n}-(y_i-\\beta_0-\\beta_1x)}{n}$\n",
        "\n",
        "$\\frac{\\partial F}{\\partial\\beta_1}=\\frac{\\sum\\limits_{i=1}^{n}-x_i(y_i-\\beta_0-\\beta_1x)}{n}$"
      ],
      "metadata": {
        "id": "LnwSLmkvjssZ"
      }
    },
    {
      "cell_type": "code",
      "source": [
        "# 위와 동일한 회귀 데이터셋 생성\n",
        "np.random.seed(42)\n",
        "x = np.random.normal(size=n)\n",
        "eps = np.random.normal(scale=0.2, size=n)\n",
        "beta_0, beta_1, noise = 2.5, 3.2, 1.0\n",
        "y = x * beta_1 + beta_0 + eps"
      ],
      "metadata": {
        "id": "PbC0geEuktuh"
      },
      "execution_count": 35,
      "outputs": []
    },
    {
      "cell_type": "markdown",
      "source": [
        "* beta_0, beta_1을 [-1, 1] 사이의 임의 수로 초기화\n",
        "* loss_hist에는 단계별 손실을, beta_hist에는 단계별 beta_0, beta_1의 튜플을 기록\n",
        "* 반복수는 20 이고 학습율은 0.25로 하여 경사하강법을 이용하여 "
      ],
      "metadata": {
        "id": "Itl_uc30fyfx"
      }
    },
    {
      "cell_type": "code",
      "source": [
        "beta_hat_0, beta_hat_1 = np.random.rand(2) * 2 - 1 # 초기값 설정 [-1, 1]\n",
        "loss_hist = []\n",
        "beta_hat_hist = [(beta_hat_0, beta_hat_1)]\n",
        "epochs = 20\n",
        "\n",
        "y_hat = beta_hat_0 + beta_hat_1 * x\n",
        "learning_rate = 0.25\n",
        "loss =  np.mean(np.square(y, y_hat)) # MSE\n",
        "loss_hist.append(loss)"
      ],
      "metadata": {
        "id": "Cwhx8xaleBOD"
      },
      "execution_count": 36,
      "outputs": []
    },
    {
      "cell_type": "code",
      "source": [
        "for i in range(epochs):\n",
        "    y_delta = y - beta_hat_0 - beta_hat_1 * x\n",
        "    \"\"\"\n",
        "    beta_hat_delta_0, beta_hat_delta_1 = 0\n",
        "    for i in  range(i):\n",
        "        beta_hat_delta_0 += y_delta[i]\n",
        "        beta_hat_delta_1 += y_delta[i] * x[i]\n",
        "    \"\"\"\n",
        "    beta_hat_delta_0 = -np.mean(y_delta) # beta_0의 미분값\n",
        "    beta_hat_delta_1 = -np.mean(y_delta * x) # beta_1의 미분값\n",
        "    beta_hat_0 -= beta_hat_delta_0 * learning_rate\n",
        "    beta_hat_1 -= beta_hat_delta_1 * learning_rate\n",
        "    y_hat = beta_hat_0 + beta_hat_1 * x\n",
        "    loss = loss_mse(y, y_hat)\n",
        "    beta_hat_hist.append((beta_hat_0, beta_hat_1))\n",
        "    loss_hist.append(loss)"
      ],
      "metadata": {
        "id": "BRhVQAY_eCXL"
      },
      "execution_count": 37,
      "outputs": []
    },
    {
      "cell_type": "markdown",
      "source": [
        "* 단계별 손실을 출력"
      ],
      "metadata": {
        "id": "dPKgkH-LgSn_"
      }
    },
    {
      "cell_type": "code",
      "source": [
        "plt.figure(figsize=(8, 5)) # 표 설정\n",
        "# epoch에 따른 y값 출력\n",
        "plt.plot(loss_hist, label='loss')\n",
        "plt.xlabel(\"단계\")\n",
        "plt.ylabel(\"MSE\")\n",
        "plt.legend()\n",
        "plt.title(\"단계별 손실(loss)\")\n",
        "plt.show()"
      ],
      "metadata": {
        "id": "tibdaaOPpVHR",
        "outputId": "fe29e533-8cb0-4dc0-d61a-9a119b7c48d9",
        "colab": {
          "base_uri": "https://localhost:8080/",
          "height": 349
        }
      },
      "execution_count": 38,
      "outputs": [
        {
          "output_type": "display_data",
          "data": {
            "text/plain": [
              "<Figure size 576x360 with 1 Axes>"
            ],
            "image/png": "[encoded data removed]"
          },
          "metadata": {
            "needs_background": "light"
          }
        }
      ]
    },
    {
      "cell_type": "code",
      "source": [
        "(beta_hat_0, beta_hat_1), (beta_0, beta_1)"
      ],
      "metadata": {
        "id": "zjH7IKB3p3-D",
        "outputId": "27f428ad-a4a4-465c-c487-68277498f553",
        "colab": {
          "base_uri": "https://localhost:8080/",
          "height": 0
        }
      },
      "execution_count": 39,
      "outputs": [
        {
          "output_type": "execute_result",
          "data": {
            "text/plain": [
              "((2.482804271575319, 3.1338839682281825), (2.5, 3.2))"
            ]
          },
          "metadata": {},
          "execution_count": 39
        }
      ]
    },
    {
      "cell_type": "markdown",
      "source": [
        "* (x, y)의 산포도 그래프를 그리고, 각 단계별 직선을 출력한다."
      ],
      "metadata": {
        "id": "NrxhxRtTiY7e"
      }
    },
    {
      "cell_type": "code",
      "source": [
        "plt.figure(figsize=(8, 5)) # 표 설정\n",
        "# x, y의 산포도 그래프 출력\n",
        "plt.scatter(x, y, s=3, label='(x, y)')\n",
        "x_space = np.linspace(-2.5, 2.5, 10)\n",
        "# 단계별 회귀선 출력\n",
        "for i in range(0,16,5): \n",
        "    beta_hat_0, beta_hat_1 = beta_hat_hist[i]\n",
        "    plt.plot(x_space, beta_hat_0 + beta_hat_1 * x_space, label='{}단계'.format(i), linestyle='dotted')\n",
        "plt.axhline(0, linestyle='dashed')\n",
        "plt.axvline(0, linestyle='dashed')\n",
        "plt.xlabel(\"x\")\n",
        "plt.ylabel(\"y\")\n",
        "plt.title(\"산포도 그래프와 회귀선\")\n",
        "plt.legend()\n",
        "plt.show()"
      ],
      "metadata": {
        "id": "BP8O9jwq5ZHd",
        "outputId": "f352bee5-dcc3-4f4d-e371-29fef004312f",
        "colab": {
          "base_uri": "https://localhost:8080/",
          "height": 349
        }
      },
      "execution_count": 40,
      "outputs": [
        {
          "output_type": "display_data",
          "data": {
            "text/plain": [
              "<Figure size 576x360 with 1 Axes>"
            ],
            "image/png": "[encoded data removed]"
          },
          "metadata": {
            "needs_background": "light"
          }
        }
      ]
    },
    {
      "cell_type": "markdown",
      "source": [
        "## 미니 배치(mini-batch) 경사하강법(gradient descent)"
      ],
      "metadata": {
        "id": "3AJi61-ziRwd"
      }
    },
    {
      "cell_type": "markdown",
      "source": [
        "* 배치 크기: 16, 반복수: 10, 학습율: 0.25 으로 하고 각 스텝 별 손실을 loss_hist_step에 리스트로 남기고\n",
        "* loss_hist와 beta_hist는 위와 같은 내용으로 미니 배치 경사하강법으로 beta_0, beta_1을 구하라(초기화도 동일)"
      ],
      "metadata": {
        "id": "b6AR_vW-iqAJ"
      }
    },
    {
      "cell_type": "code",
      "source": [
        "beta_hat_0, beta_hat_1 = np.random.rand(2) * 2 - 1 # 초기값 설정 [-1, 1]\n",
        "loss_hist = []\n",
        "loss_hist_step = []\n",
        "beta_hat_hist = [(beta_hat_0, beta_hat_1)]\n",
        "epochs = 10\n",
        "batch_size = 16 # Batch size\n",
        "\n",
        "y_hat = beta_hat_0 + beta_hat_1 * x\n",
        "learning_rate = 0.25\n",
        "loss =  loss_mse(y, y_hat) # MSE\n",
        "loss_hist.append(loss)"
      ],
      "metadata": {
        "id": "AwEIRrbXM2Nt"
      },
      "execution_count": 41,
      "outputs": []
    },
    {
      "cell_type": "code",
      "source": [
        "for i in range(epochs):\n",
        "    for j in range(0,n,batch_size):\n",
        "        # j번째 배치 세트를 만든다.\n",
        "        x_c = x[j:j + batch_size] \n",
        "        y_c = y[j:j + batch_size]\n",
        "        y_delta = y_c - beta_hat_0 - beta_hat_1 * x_c\n",
        "        beta_hat_delta_0 = -np.mean(y_delta) # beta_0의 미분값\n",
        "        beta_hat_delta_1 = -np.mean(y_delta * x_c) # beta_1의 미분값\n",
        "        beta_hat_0 -= beta_hat_delta_0 * learning_rate\n",
        "        beta_hat_1 -= beta_hat_delta_1 * learning_rate\n",
        "        y_hat_c = beta_hat_0 + beta_hat_1 * x_c\n",
        "        loss_c = loss_mse(y_c, y_hat_c)\n",
        "        loss_hist.append(loss_c)\n",
        "    y_hat = beta_hat_0 + beta_hat_1 * x\n",
        "    loss = loss_mse(y, y_hat)\n",
        "    beta_hat_hist.append((beta_hat_0, beta_hat_1))\n",
        "    loss_hist.append(loss)"
      ],
      "metadata": {
        "id": "ioti42kw6WYd"
      },
      "execution_count": 42,
      "outputs": []
    },
    {
      "cell_type": "markdown",
      "source": [
        "스텝별 손실을 기록"
      ],
      "metadata": {
        "id": "H2dVU_0wjW1w"
      }
    },
    {
      "cell_type": "code",
      "source": [
        "plt.figure(figsize=(8, 5)) # 표 설정\n",
        "# epoch에 따른 y값 출력\n",
        "plt.plot(loss_hist, label='loss')\n",
        "plt.xlabel(\"스텝\")\n",
        "plt.ylabel(\"손실(Loss)\")\n",
        "plt.legend()\n",
        "plt.title(\"스텝별 손실(loss, MSE)\")\n",
        "plt.show()"
      ],
      "metadata": {
        "id": "NI8VOJdpRRNl",
        "outputId": "601fd0a1-804a-4a90-fa66-4a9294c53f01",
        "colab": {
          "base_uri": "https://localhost:8080/",
          "height": 349
        }
      },
      "execution_count": 43,
      "outputs": [
        {
          "output_type": "display_data",
          "data": {
            "text/plain": [
              "<Figure size 576x360 with 1 Axes>"
            ],
            "image/png": "[encoded data removed]"
          },
          "metadata": {
            "needs_background": "light"
          }
        }
      ]
    },
    {
      "cell_type": "markdown",
      "source": [
        "* 배치의 크기를 [1, 4, 8, 16] 따른 손실에 대한 스텝별 추세를 출력한다."
      ],
      "metadata": {
        "id": "Zj2eknCzjevy"
      }
    },
    {
      "cell_type": "code",
      "source": [
        "# 위와 동일한 회귀 데이터셋 생성\n",
        "np.random.seed(42)\n",
        "sort_ = False\n",
        "x = np.random.normal(size=n)\n",
        "beta_0, beta_1, noise = 2.5, 3.2, 1.0\n",
        "eps = np.random.normal(scale=noise, size=n)\n",
        "y = x * beta_1 + beta_0 + eps\n",
        "if sort_:\n",
        "    x = x[np.argsort(y)]\n",
        "    y = np.sort(y)\n",
        "fig, axs = plt.subplots(1, 4, figsize=(12, 3)) # 1x4 표 영역 생성\n",
        "\n",
        "if sort_:\n",
        "    plt.suptitle(\"배치크기(batch size)에 따른 손실 추세(정렬)\", verticalalignment=\"bottom\")\n",
        "else:\n",
        "    plt.suptitle(\"배치크기(batch size)에 따른 손실 추세\", verticalalignment=\"bottom\")\n",
        "for batch_size, ax in zip([1, 4, 8, 16], axs):\n",
        "    beta_hat_0, beta_hat_1 = np.random.rand(2) * 2 - 1 # 초기값 설정 [-1, 1]\n",
        "    loss_hist = []\n",
        "    loss_hist_step = []\n",
        "    beta_hist = [(beta_hat_0, beta_hat_1)]\n",
        "    epochs = 10\n",
        "\n",
        "    y_hat = beta_hat_0 + beta_hat_1 * x\n",
        "    learning_rate = 0.25\n",
        "    loss =  loss_mse(y, y_hat)\n",
        "    loss_hist.append(loss)\n",
        "\n",
        "    for i in range(epochs):\n",
        "        for j in range(0,n,batch_size):\n",
        "            # j번째 배치 세트를 만든다.\n",
        "            x_c = x[j:j + batch_size] \n",
        "            y_c = y[j:j + batch_size]\n",
        "            y_delta = y_c - beta_hat_0 - beta_hat_1 * x_c\n",
        "            beta_hat_delta_0 = -np.mean(y_delta) # beta_0의 미분값\n",
        "            beta_hat_delta_1 = -np.mean(y_delta * x_c) # beta_1의 미분값\n",
        "            beta_hat_0 -= beta_hat_delta_0 * learning_rate\n",
        "            beta_hat_1 -= beta_hat_delta_1 * learning_rate\n",
        "            y_hat_c = beta_hat_0 + beta_hat_1 * x_c\n",
        "            loss_c = loss_mse(y_c, y_hat_c) # 배치에서 loss(MSE)를 구한다.\n",
        "            loss_hist.append(loss_c)\n",
        "        y_hat = beta_hat_0 + beta_hat_1 * x\n",
        "        mse = loss_mse(y, y_hat)\n",
        "        beta_hist.append((beta_hat_0, beta_hat_1))\n",
        "        #loss_hist.append(mse)\n",
        "    # epoch에 따른 y값 출력\n",
        "    ax.plot(loss_hist[:50], label='loss')\n",
        "    ax.set_xlabel(\"단계\")\n",
        "    ax.set_ylabel(\"손실(loss)\")\n",
        "    ax.set_title('batch size: {}'.format(batch_size))\n",
        "    ax.legend()\n",
        "\n",
        "plt.tight_layout()\n",
        "plt.show()"
      ],
      "metadata": {
        "id": "lDEYjx_mSDJr",
        "outputId": "381e4a6c-1d45-44a7-aad5-4e72b4247ba2",
        "colab": {
          "base_uri": "https://localhost:8080/",
          "height": 244
        }
      },
      "execution_count": 44,
      "outputs": [
        {
          "output_type": "display_data",
          "data": {
            "text/plain": [
              "<Figure size 864x216 with 4 Axes>"
            ],
            "image/png": "[encoded data removed]"
          },
          "metadata": {
            "needs_background": "light"
          }
        }
      ]
    },
    {
      "cell_type": "markdown",
      "source": [
        "Question\n",
        "\n",
        "데이터가 정렬이 되었을 경우와 그렇지 않은 경우를 비교하라"
      ],
      "metadata": {
        "id": "wOGY0Kceu0Gi"
      }
    },
    {
      "cell_type": "markdown",
      "source": [
        "[Practice]\n",
        "\n",
        "미니 배치 경사하강법에 수렴 여부를 체크 로직을 적용하라"
      ],
      "metadata": {
        "id": "1zguAphpuXRu"
      }
    },
    {
      "cell_type": "code",
      "source": [
        "beta_hat_0, beta_hat_1 = np.random.rand(2) * 2 - 1 # 초기값 설정 [-1, 1]\n",
        "loss_hist = []\n",
        "loss_hist_step = []\n",
        "beta_hat_hist = [(beta_hat_0, beta_hat_1)]\n",
        "epochs = 10\n",
        "batch_size = 16 # Batch size\n",
        "\n",
        "y_hat = beta_hat_0 + beta_hat_1 * x\n",
        "learning_rate = 0.25\n",
        "loss =  loss_mse(y, y_hat)\n",
        "loss_hist.append(loss)\n",
        "\n",
        "converge_thres = 1e-2 # 수렴점\n",
        "converge_cnt = 0 # 수렴점이하로 유지된 반복수\n",
        "converge_max_cnt = 5 # 수렴이라 결정할 때의 최대 converge_cnt\n",
        "converge_iter = -1\n",
        "\n",
        "for i in range(epochs):\n",
        "    prev_loss = loss # 이전 loss를 저장\n",
        "    for j in range(0,n,batch_size):\n",
        "        # j번째 배치 세트를 만든다.\n",
        "        x_c = x[j:j + batch_size] \n",
        "        y_c = y[j:j + batch_size]\n",
        "        y_delta = y_c - beta_hat_0 - beta_hat_1 * x_c\n",
        "        beta_hat_delta_0 = -np.mean(y_delta) # beta_0의 미분값\n",
        "        beta_hat_delta_1 = -np.mean(y_delta * x_c) # beta_1의 미분값\n",
        "        beta_hat_0 -= beta_hat_delta_0 * learning_rate\n",
        "        beta_hat_1 -= beta_hat_delta_1 * learning_rate\n",
        "        y_hat_c = beta_hat_0 + beta_hat_1 * x_c\n",
        "        mse_c = loss_mse(y_c, y_hat_c)\n",
        "        loss_hist.append(mse_c)\n",
        "    y_hat = beta_hat_0 + beta_hat_1 * x\n",
        "    loss = loss_mse(y, y_hat) # loss는 MSE\n",
        "    loss_diff = prev_loss - loss # 이전 loss값과의 차이를 구한다.\n",
        "    if loss_diff < converge_thres: \n",
        "        converge_cnt +=1\n",
        "        if converge_cnt >= converge_max_cnt and converge_iter < 0: # 최초의 수렴시점을 기록\n",
        "            converge_iter = i + 1\n",
        "            break\n",
        "    else:\n",
        "        converge_cnt = 0\n",
        "\n",
        "    beta_hat_hist.append((beta_hat_0, beta_hat_1))\n",
        "    loss_hist.append(mse)"
      ],
      "metadata": {
        "id": "rx9bXjxPuxIC"
      },
      "execution_count": 50,
      "outputs": []
    },
    {
      "cell_type": "code",
      "source": [
        "plt.figure(figsize=(8, 5)) # 표 설정\n",
        "# epoch에 따른 y값 출력\n",
        "plt.plot(loss_hist, label='손실')\n",
        "plt.xlabel(\"단계\")\n",
        "plt.ylabel(\"손실(mse)\")\n",
        "plt.legend()\n",
        "plt.show()"
      ],
      "metadata": {
        "colab": {
          "base_uri": "https://localhost:8080/",
          "height": 334
        },
        "id": "iORZtK20xjep",
        "outputId": "bfe3b428-5fe2-4fdf-e4cd-d8f523569960"
      },
      "execution_count": 51,
      "outputs": [
        {
          "output_type": "display_data",
          "data": {
            "text/plain": [
              "<Figure size 576x360 with 1 Axes>"
            ],
            "image/png": "[encoded data removed]"
          },
          "metadata": {
            "needs_background": "light"
          }
        }
      ]
    },
    {
      "cell_type": "code",
      "source": [],
      "metadata": {
        "id": "H7g_rm3_t6Qx"
      },
      "execution_count": 49,
      "outputs": []
    }
  ]
}