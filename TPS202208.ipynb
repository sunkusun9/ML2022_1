{
  "nbformat": 4,
  "nbformat_minor": 0,
  "metadata": {
    "colab": {
      "provenance": [],
      "toc_visible": true,
      "authorship_tag": "ABX9TyPtB/xef+Dqx6CFo7BrxSbd",
      "include_colab_link": true
    },
    "kernelspec": {
      "name": "python3",
      "display_name": "Python 3"
    },
    "language_info": {
      "name": "python"
    }
  },
  "cells": [
    {
      "cell_type": "markdown",
      "metadata": {
        "id": "view-in-github",
        "colab_type": "text"
      },
      "source": [
        "<a href=\"https://colab.research.google.com/github/sunkusun9/ML2022_1/blob/main/TPS202208.ipynb\" target=\"_parent\"><img src=\"https://colab.research.google.com/assets/colab-badge.svg\" alt=\"Open In Colab\"/></a>"
      ]
    },
    {
      "cell_type": "markdown",
      "source": [
        "# Intro\n",
        "\n",
        "[Kaggle의 Tabular Playground 2022-08월 과제](https://www.kaggle.com/competitions/tabular-playground-series-aug-2022) 를 기반으로 만들어진 문제입니다.\n",
        "\n",
        "액체가 엎질러졌을 제품에 따라서 여러 조건에 따라, 물기를 완전히 흡수하는데 성공할지 아니면 실패했는지에 대한 테스트하는 실험에 대한 데이터입니다. \n",
        "\n",
        "\n",
        "|속성명|설명|타입|\n",
        "|------|----|----|\n",
        "|ID|고유번호|int|\n",
        "|loading|흡수할 용량|float|\n",
        "|product_code|상품코드|string|\n",
        "|attribute_0|구성물질 1|string|\n",
        "|attribute_1|구성물질 2|string|\n",
        "|attribute_2|구성물질 1 함량|string|\n",
        "|attribute_3|구성물질 2 함량|string|\n",
        "|measure_0~2|측정치 0~2|int|\n",
        "|measure_3~17|측정치 3~17|float|\n",
        "|failure|실패여부|boolean| "
      ],
      "metadata": {
        "id": "knlzkIfFGf-C"
      }
    },
    {
      "cell_type": "markdown",
      "source": [
        "# Download\n",
        "\n",
        "Kaggle API를 이용하여 Kaggle에 등록된 ID와 인증키를 가지고 데이터를 다운로드"
      ],
      "metadata": {
        "id": "8ApLx-GNIGTR"
      }
    },
    {
      "cell_type": "code",
      "execution_count": 10,
      "metadata": {
        "id": "g5SzckxYGT72",
        "colab": {
          "base_uri": "https://localhost:8080/"
        },
        "outputId": "f8d76580-9355-4fc6-a8f2-6ce82656978c"
      },
      "outputs": [
        {
          "output_type": "stream",
          "name": "stdout",
          "text": [
            "Downloading tabular-playground-series-aug-2022.zip to /content\n",
            "\r  0% 0.00/2.27M [00:00<?, ?B/s]\n",
            "\r100% 2.27M/2.27M [00:00<00:00, 164MB/s]\n",
            "Archive:  tabular-playground-series-aug-2022.zip\n",
            "  inflating: sample_submission.csv   \n",
            "  inflating: test.csv                \n",
            "  inflating: train.csv               \n"
          ]
        }
      ],
      "source": [
        "import os\n",
        "\n",
        "os.environ['KAGGLE_USERNAME'] = ''\n",
        "os.environ['KAGGLE_KEY'] = ''\n",
        "\n",
        "# train.csv가 없으면 Kaggle에서 데이터를 다운로드 받는다.\n",
        "if not os.path.exists('train.csv'):\n",
        "    !kaggle competitions download -c tabular-playground-series-aug-2022\n",
        "    !unzip tabular-playground-series-aug-2022.zip\n",
        "    !rm tabular-playground-series-aug-2022.zip"
      ]
    },
    {
      "cell_type": "code",
      "source": [
        "!head train.csv"
      ],
      "metadata": {
        "colab": {
          "base_uri": "https://localhost:8080/"
        },
        "id": "flcleYssIrFo",
        "outputId": "aceb6250-aafc-4e61-f5cb-54d46332bda4"
      },
      "execution_count": 35,
      "outputs": [
        {
          "output_type": "stream",
          "name": "stdout",
          "text": [
            "id,product_code,loading,attribute_0,attribute_1,attribute_2,attribute_3,measurement_0,measurement_1,measurement_2,measurement_3,measurement_4,measurement_5,measurement_6,measurement_7,measurement_8,measurement_9,measurement_10,measurement_11,measurement_12,measurement_13,measurement_14,measurement_15,measurement_16,measurement_17,failure\n",
            "0,A,80.1,material_7,material_8,9,5,7,8,4,18.04,12.518,15.748,19.292,11.739,20.155,10.672,15.859,17.594,15.193,15.029,,13.034,14.684,764.1,0\n",
            "1,A,84.89,material_7,material_8,9,5,14,3,3,18.213,11.54,17.717,17.893,12.748,17.889,12.448,17.947,17.915,11.755,14.732,15.425,14.395,15.631,682.057,0\n",
            "2,A,82.43,material_7,material_8,9,5,12,1,5,18.057,11.652,16.738,18.24,12.718,18.288,12.715,15.607,,13.798,16.711,18.631,14.094,17.946,663.376,0\n",
            "3,A,101.07,material_7,material_8,9,5,13,2,6,17.295,11.188,18.576,18.339,12.583,19.06,12.471,16.346,18.377,10.02,15.25,15.562,16.154,17.172,826.282,0\n",
            "4,A,188.06,material_7,material_8,9,5,9,2,8,19.346,12.95,16.99,15.746,11.306,18.093,10.337,17.082,19.932,12.428,16.182,12.76,13.153,16.412,579.885,0\n",
            "5,A,75.35,material_7,material_8,9,5,11,4,0,17.564,13.721,16.594,,11.592,20.81,10.622,14.904,19.107,13.327,15.354,19.251,,17.625,832.902,0\n",
            "6,A,161.71,material_7,material_8,9,5,12,2,4,17.303,12.643,17.476,17.679,12.957,17.916,11.37,17.714,19.924,11.56,16.653,17.734,,16.637,684.438,1\n",
            "7,A,177.92,material_7,material_8,9,5,4,8,8,17.062,13.634,17.879,15.894,11.029,18.643,10.254,16.449,20.478,12.207,15.624,16.968,15.176,17.231,684.0,1\n",
            "8,A,109.5,material_7,material_8,9,5,9,6,5,18.111,11.886,17.354,18.558,11.54,19.887,11.557,15.965,19.604,14.091,15.674,13.327,13.535,15.408,,0\n"
          ]
        }
      ]
    },
    {
      "cell_type": "markdown",
      "source": [
        "# Preparation"
      ],
      "metadata": {
        "id": "OTH5MsOALolZ"
      }
    },
    {
      "cell_type": "code",
      "source": [
        "import pandas as pd\n",
        "import numpy as np\n",
        "import sklearn\n",
        "import scipy\n",
        "\n",
        "for i in [pd, np, sklearn, scipy]:\n",
        "    print(i.__name__, i.__version__)"
      ],
      "metadata": {
        "colab": {
          "base_uri": "https://localhost:8080/"
        },
        "id": "V0e7SqWYLnZA",
        "outputId": "d49174ce-cad7-49bd-8a09-dcd297450d6d"
      },
      "execution_count": 36,
      "outputs": [
        {
          "output_type": "stream",
          "name": "stdout",
          "text": [
            "pandas 1.3.5\n",
            "numpy 1.21.6\n",
            "sklearn 1.0.2\n",
            "scipy 1.7.3\n"
          ]
        }
      ]
    },
    {
      "cell_type": "code",
      "source": [
        "df_org = pd.read_csv('train.csv', dtype={'failure': 'int8', 'attribute_2': 'int8', 'attribute_3': 'int8'}, index_col='id')"
      ],
      "metadata": {
        "id": "7ODwTna_Phdr"
      },
      "execution_count": 225,
      "outputs": []
    },
    {
      "cell_type": "code",
      "source": [
        "df_org.info()"
      ],
      "metadata": {
        "colab": {
          "base_uri": "https://localhost:8080/"
        },
        "id": "QasrJaVYPzft",
        "outputId": "646da63c-ac03-4837-828c-23f0b8ce597b"
      },
      "execution_count": 38,
      "outputs": [
        {
          "output_type": "stream",
          "name": "stdout",
          "text": [
            "<class 'pandas.core.frame.DataFrame'>\n",
            "RangeIndex: 26570 entries, 0 to 26569\n",
            "Data columns (total 26 columns):\n",
            " #   Column          Non-Null Count  Dtype  \n",
            "---  ------          --------------  -----  \n",
            " 0   id              26570 non-null  int64  \n",
            " 1   product_code    26570 non-null  object \n",
            " 2   loading         26320 non-null  float64\n",
            " 3   attribute_0     26570 non-null  object \n",
            " 4   attribute_1     26570 non-null  object \n",
            " 5   attribute_2     26570 non-null  int8   \n",
            " 6   attribute_3     26570 non-null  int8   \n",
            " 7   measurement_0   26570 non-null  int64  \n",
            " 8   measurement_1   26570 non-null  int64  \n",
            " 9   measurement_2   26570 non-null  int64  \n",
            " 10  measurement_3   26189 non-null  float64\n",
            " 11  measurement_4   26032 non-null  float64\n",
            " 12  measurement_5   25894 non-null  float64\n",
            " 13  measurement_6   25774 non-null  float64\n",
            " 14  measurement_7   25633 non-null  float64\n",
            " 15  measurement_8   25522 non-null  float64\n",
            " 16  measurement_9   25343 non-null  float64\n",
            " 17  measurement_10  25270 non-null  float64\n",
            " 18  measurement_11  25102 non-null  float64\n",
            " 19  measurement_12  24969 non-null  float64\n",
            " 20  measurement_13  24796 non-null  float64\n",
            " 21  measurement_14  24696 non-null  float64\n",
            " 22  measurement_15  24561 non-null  float64\n",
            " 23  measurement_16  24460 non-null  float64\n",
            " 24  measurement_17  24286 non-null  float64\n",
            " 25  failure         26570 non-null  int8   \n",
            "dtypes: float64(16), int64(4), int8(3), object(3)\n",
            "memory usage: 4.7+ MB\n"
          ]
        }
      ]
    },
    {
      "cell_type": "code",
      "source": [
        "df_org.describe().T"
      ],
      "metadata": {
        "colab": {
          "base_uri": "https://localhost:8080/",
          "height": 771
        },
        "id": "_8C6bIwwaxIm",
        "outputId": "7a6df3aa-455b-4903-8970-4df930019d0d"
      },
      "execution_count": 39,
      "outputs": [
        {
          "output_type": "execute_result",
          "data": {
            "text/plain": [
              "                  count          mean          std      min         25%  \\\n",
              "id              26570.0  13284.500000  7670.242662    0.000  6642.25000   \n",
              "loading         26320.0    127.826233    39.030020   33.160    99.98750   \n",
              "attribute_2     26570.0      6.754046     1.471852    5.000     6.00000   \n",
              "attribute_3     26570.0      7.240459     1.456493    5.000     6.00000   \n",
              "measurement_0   26570.0      7.415883     4.116690    0.000     4.00000   \n",
              "measurement_1   26570.0      8.232518     4.199401    0.000     5.00000   \n",
              "measurement_2   26570.0      6.256568     3.309109    0.000     4.00000   \n",
              "measurement_3   26189.0     17.791528     1.001200   13.968    17.11700   \n",
              "measurement_4   26032.0     11.731988     0.996085    8.008    11.05100   \n",
              "measurement_5   25894.0     17.127804     0.996414   12.073    16.44300   \n",
              "measurement_6   25774.0     17.510759     0.995980   12.715    16.83900   \n",
              "measurement_7   25633.0     11.716624     1.000836    7.968    11.04500   \n",
              "measurement_8   25522.0     19.024714     1.008591   15.217    18.34025   \n",
              "measurement_9   25343.0     11.430725     0.999137    7.537    10.75700   \n",
              "measurement_10  25270.0     16.117711     1.405978    9.323    15.20900   \n",
              "measurement_11  25102.0     19.172085     1.520785   12.461    18.17000   \n",
              "measurement_12  24969.0     11.702464     1.488838    5.167    10.70300   \n",
              "measurement_13  24796.0     15.652904     1.155247   10.890    14.89000   \n",
              "measurement_14  24696.0     16.048444     1.491923    9.140    15.05700   \n",
              "measurement_15  24561.0     14.995554     1.549226    9.104    13.95700   \n",
              "measurement_16  24460.0     16.460727     1.708935    9.701    15.26800   \n",
              "measurement_17  24286.0    701.269059   123.304161  196.787   618.96150   \n",
              "failure         26570.0      0.212608     0.409160    0.000     0.00000   \n",
              "\n",
              "                       50%          75%        max  \n",
              "id              13284.5000  19926.75000  26569.000  \n",
              "loading           122.3900    149.15250    385.860  \n",
              "attribute_2         6.0000      8.00000      9.000  \n",
              "attribute_3         8.0000      8.00000      9.000  \n",
              "measurement_0       7.0000     10.00000     29.000  \n",
              "measurement_1       8.0000     11.00000     29.000  \n",
              "measurement_2       6.0000      8.00000     24.000  \n",
              "measurement_3      17.7870     18.46900     21.499  \n",
              "measurement_4      11.7330     12.41000     16.484  \n",
              "measurement_5      17.1320     17.80500     21.425  \n",
              "measurement_6      17.5160     18.17800     21.543  \n",
              "measurement_7      11.7120     12.39100     15.419  \n",
              "measurement_8      19.0210     19.70800     23.807  \n",
              "measurement_9      11.4300     12.10200     15.412  \n",
              "measurement_10     16.1270     17.02500     22.479  \n",
              "measurement_11     19.2115     20.20700     25.640  \n",
              "measurement_12     11.7170     12.70900     17.663  \n",
              "measurement_13     15.6285     16.37400     22.713  \n",
              "measurement_14     16.0400     17.08200     22.303  \n",
              "measurement_15     14.9690     16.01800     21.626  \n",
              "measurement_16     16.4360     17.62800     24.094  \n",
              "measurement_17    701.0245    784.09025   1312.794  \n",
              "failure             0.0000      0.00000      1.000  "
            ],
            "text/html": [
              "\n",
              "  <div id=\"df-9634e1c2-3411-4b77-9420-2ee6afd0bd49\">\n",
              "    <div class=\"colab-df-container\">\n",
              "      <div>\n",
              "<style scoped>\n",
              "    .dataframe tbody tr th:only-of-type {\n",
              "        vertical-align: middle;\n",
              "    }\n",
              "\n",
              "    .dataframe tbody tr th {\n",
              "        vertical-align: top;\n",
              "    }\n",
              "\n",
              "    .dataframe thead th {\n",
              "        text-align: right;\n",
              "    }\n",
              "</style>\n",
              "<table border=\"1\" class=\"dataframe\">\n",
              "  <thead>\n",
              "    <tr style=\"text-align: right;\">\n",
              "      <th></th>\n",
              "      <th>count</th>\n",
              "      <th>mean</th>\n",
              "      <th>std</th>\n",
              "      <th>min</th>\n",
              "      <th>25%</th>\n",
              "      <th>50%</th>\n",
              "      <th>75%</th>\n",
              "      <th>max</th>\n",
              "    </tr>\n",
              "  </thead>\n",
              "  <tbody>\n",
              "    <tr>\n",
              "      <th>id</th>\n",
              "      <td>26570.0</td>\n",
              "      <td>13284.500000</td>\n",
              "      <td>7670.242662</td>\n",
              "      <td>0.000</td>\n",
              "      <td>6642.25000</td>\n",
              "      <td>13284.5000</td>\n",
              "      <td>19926.75000</td>\n",
              "      <td>26569.000</td>\n",
              "    </tr>\n",
              "    <tr>\n",
              "      <th>loading</th>\n",
              "      <td>26320.0</td>\n",
              "      <td>127.826233</td>\n",
              "      <td>39.030020</td>\n",
              "      <td>33.160</td>\n",
              "      <td>99.98750</td>\n",
              "      <td>122.3900</td>\n",
              "      <td>149.15250</td>\n",
              "      <td>385.860</td>\n",
              "    </tr>\n",
              "    <tr>\n",
              "      <th>attribute_2</th>\n",
              "      <td>26570.0</td>\n",
              "      <td>6.754046</td>\n",
              "      <td>1.471852</td>\n",
              "      <td>5.000</td>\n",
              "      <td>6.00000</td>\n",
              "      <td>6.0000</td>\n",
              "      <td>8.00000</td>\n",
              "      <td>9.000</td>\n",
              "    </tr>\n",
              "    <tr>\n",
              "      <th>attribute_3</th>\n",
              "      <td>26570.0</td>\n",
              "      <td>7.240459</td>\n",
              "      <td>1.456493</td>\n",
              "      <td>5.000</td>\n",
              "      <td>6.00000</td>\n",
              "      <td>8.0000</td>\n",
              "      <td>8.00000</td>\n",
              "      <td>9.000</td>\n",
              "    </tr>\n",
              "    <tr>\n",
              "      <th>measurement_0</th>\n",
              "      <td>26570.0</td>\n",
              "      <td>7.415883</td>\n",
              "      <td>4.116690</td>\n",
              "      <td>0.000</td>\n",
              "      <td>4.00000</td>\n",
              "      <td>7.0000</td>\n",
              "      <td>10.00000</td>\n",
              "      <td>29.000</td>\n",
              "    </tr>\n",
              "    <tr>\n",
              "      <th>measurement_1</th>\n",
              "      <td>26570.0</td>\n",
              "      <td>8.232518</td>\n",
              "      <td>4.199401</td>\n",
              "      <td>0.000</td>\n",
              "      <td>5.00000</td>\n",
              "      <td>8.0000</td>\n",
              "      <td>11.00000</td>\n",
              "      <td>29.000</td>\n",
              "    </tr>\n",
              "    <tr>\n",
              "      <th>measurement_2</th>\n",
              "      <td>26570.0</td>\n",
              "      <td>6.256568</td>\n",
              "      <td>3.309109</td>\n",
              "      <td>0.000</td>\n",
              "      <td>4.00000</td>\n",
              "      <td>6.0000</td>\n",
              "      <td>8.00000</td>\n",
              "      <td>24.000</td>\n",
              "    </tr>\n",
              "    <tr>\n",
              "      <th>measurement_3</th>\n",
              "      <td>26189.0</td>\n",
              "      <td>17.791528</td>\n",
              "      <td>1.001200</td>\n",
              "      <td>13.968</td>\n",
              "      <td>17.11700</td>\n",
              "      <td>17.7870</td>\n",
              "      <td>18.46900</td>\n",
              "      <td>21.499</td>\n",
              "    </tr>\n",
              "    <tr>\n",
              "      <th>measurement_4</th>\n",
              "      <td>26032.0</td>\n",
              "      <td>11.731988</td>\n",
              "      <td>0.996085</td>\n",
              "      <td>8.008</td>\n",
              "      <td>11.05100</td>\n",
              "      <td>11.7330</td>\n",
              "      <td>12.41000</td>\n",
              "      <td>16.484</td>\n",
              "    </tr>\n",
              "    <tr>\n",
              "      <th>measurement_5</th>\n",
              "      <td>25894.0</td>\n",
              "      <td>17.127804</td>\n",
              "      <td>0.996414</td>\n",
              "      <td>12.073</td>\n",
              "      <td>16.44300</td>\n",
              "      <td>17.1320</td>\n",
              "      <td>17.80500</td>\n",
              "      <td>21.425</td>\n",
              "    </tr>\n",
              "    <tr>\n",
              "      <th>measurement_6</th>\n",
              "      <td>25774.0</td>\n",
              "      <td>17.510759</td>\n",
              "      <td>0.995980</td>\n",
              "      <td>12.715</td>\n",
              "      <td>16.83900</td>\n",
              "      <td>17.5160</td>\n",
              "      <td>18.17800</td>\n",
              "      <td>21.543</td>\n",
              "    </tr>\n",
              "    <tr>\n",
              "      <th>measurement_7</th>\n",
              "      <td>25633.0</td>\n",
              "      <td>11.716624</td>\n",
              "      <td>1.000836</td>\n",
              "      <td>7.968</td>\n",
              "      <td>11.04500</td>\n",
              "      <td>11.7120</td>\n",
              "      <td>12.39100</td>\n",
              "      <td>15.419</td>\n",
              "    </tr>\n",
              "    <tr>\n",
              "      <th>measurement_8</th>\n",
              "      <td>25522.0</td>\n",
              "      <td>19.024714</td>\n",
              "      <td>1.008591</td>\n",
              "      <td>15.217</td>\n",
              "      <td>18.34025</td>\n",
              "      <td>19.0210</td>\n",
              "      <td>19.70800</td>\n",
              "      <td>23.807</td>\n",
              "    </tr>\n",
              "    <tr>\n",
              "      <th>measurement_9</th>\n",
              "      <td>25343.0</td>\n",
              "      <td>11.430725</td>\n",
              "      <td>0.999137</td>\n",
              "      <td>7.537</td>\n",
              "      <td>10.75700</td>\n",
              "      <td>11.4300</td>\n",
              "      <td>12.10200</td>\n",
              "      <td>15.412</td>\n",
              "    </tr>\n",
              "    <tr>\n",
              "      <th>measurement_10</th>\n",
              "      <td>25270.0</td>\n",
              "      <td>16.117711</td>\n",
              "      <td>1.405978</td>\n",
              "      <td>9.323</td>\n",
              "      <td>15.20900</td>\n",
              "      <td>16.1270</td>\n",
              "      <td>17.02500</td>\n",
              "      <td>22.479</td>\n",
              "    </tr>\n",
              "    <tr>\n",
              "      <th>measurement_11</th>\n",
              "      <td>25102.0</td>\n",
              "      <td>19.172085</td>\n",
              "      <td>1.520785</td>\n",
              "      <td>12.461</td>\n",
              "      <td>18.17000</td>\n",
              "      <td>19.2115</td>\n",
              "      <td>20.20700</td>\n",
              "      <td>25.640</td>\n",
              "    </tr>\n",
              "    <tr>\n",
              "      <th>measurement_12</th>\n",
              "      <td>24969.0</td>\n",
              "      <td>11.702464</td>\n",
              "      <td>1.488838</td>\n",
              "      <td>5.167</td>\n",
              "      <td>10.70300</td>\n",
              "      <td>11.7170</td>\n",
              "      <td>12.70900</td>\n",
              "      <td>17.663</td>\n",
              "    </tr>\n",
              "    <tr>\n",
              "      <th>measurement_13</th>\n",
              "      <td>24796.0</td>\n",
              "      <td>15.652904</td>\n",
              "      <td>1.155247</td>\n",
              "      <td>10.890</td>\n",
              "      <td>14.89000</td>\n",
              "      <td>15.6285</td>\n",
              "      <td>16.37400</td>\n",
              "      <td>22.713</td>\n",
              "    </tr>\n",
              "    <tr>\n",
              "      <th>measurement_14</th>\n",
              "      <td>24696.0</td>\n",
              "      <td>16.048444</td>\n",
              "      <td>1.491923</td>\n",
              "      <td>9.140</td>\n",
              "      <td>15.05700</td>\n",
              "      <td>16.0400</td>\n",
              "      <td>17.08200</td>\n",
              "      <td>22.303</td>\n",
              "    </tr>\n",
              "    <tr>\n",
              "      <th>measurement_15</th>\n",
              "      <td>24561.0</td>\n",
              "      <td>14.995554</td>\n",
              "      <td>1.549226</td>\n",
              "      <td>9.104</td>\n",
              "      <td>13.95700</td>\n",
              "      <td>14.9690</td>\n",
              "      <td>16.01800</td>\n",
              "      <td>21.626</td>\n",
              "    </tr>\n",
              "    <tr>\n",
              "      <th>measurement_16</th>\n",
              "      <td>24460.0</td>\n",
              "      <td>16.460727</td>\n",
              "      <td>1.708935</td>\n",
              "      <td>9.701</td>\n",
              "      <td>15.26800</td>\n",
              "      <td>16.4360</td>\n",
              "      <td>17.62800</td>\n",
              "      <td>24.094</td>\n",
              "    </tr>\n",
              "    <tr>\n",
              "      <th>measurement_17</th>\n",
              "      <td>24286.0</td>\n",
              "      <td>701.269059</td>\n",
              "      <td>123.304161</td>\n",
              "      <td>196.787</td>\n",
              "      <td>618.96150</td>\n",
              "      <td>701.0245</td>\n",
              "      <td>784.09025</td>\n",
              "      <td>1312.794</td>\n",
              "    </tr>\n",
              "    <tr>\n",
              "      <th>failure</th>\n",
              "      <td>26570.0</td>\n",
              "      <td>0.212608</td>\n",
              "      <td>0.409160</td>\n",
              "      <td>0.000</td>\n",
              "      <td>0.00000</td>\n",
              "      <td>0.0000</td>\n",
              "      <td>0.00000</td>\n",
              "      <td>1.000</td>\n",
              "    </tr>\n",
              "  </tbody>\n",
              "</table>\n",
              "</div>\n",
              "      <button class=\"colab-df-convert\" onclick=\"convertToInteractive('df-9634e1c2-3411-4b77-9420-2ee6afd0bd49')\"\n",
              "              title=\"Convert this dataframe to an interactive table.\"\n",
              "              style=\"display:none;\">\n",
              "        \n",
              "  <svg xmlns=\"http://www.w3.org/2000/svg\" height=\"24px\"viewBox=\"0 0 24 24\"\n",
              "       width=\"24px\">\n",
              "    <path d=\"M0 0h24v24H0V0z\" fill=\"none\"/>\n",
              "    <path d=\"M18.56 5.44l.94 2.06.94-2.06 2.06-.94-2.06-.94-.94-2.06-.94 2.06-2.06.94zm-11 1L8.5 8.5l.94-2.06 2.06-.94-2.06-.94L8.5 2.5l-.94 2.06-2.06.94zm10 10l.94 2.06.94-2.06 2.06-.94-2.06-.94-.94-2.06-.94 2.06-2.06.94z\"/><path d=\"M17.41 7.96l-1.37-1.37c-.4-.4-.92-.59-1.43-.59-.52 0-1.04.2-1.43.59L10.3 9.45l-7.72 7.72c-.78.78-.78 2.05 0 2.83L4 21.41c.39.39.9.59 1.41.59.51 0 1.02-.2 1.41-.59l7.78-7.78 2.81-2.81c.8-.78.8-2.07 0-2.86zM5.41 20L4 18.59l7.72-7.72 1.47 1.35L5.41 20z\"/>\n",
              "  </svg>\n",
              "      </button>\n",
              "      \n",
              "  <style>\n",
              "    .colab-df-container {\n",
              "      display:flex;\n",
              "      flex-wrap:wrap;\n",
              "      gap: 12px;\n",
              "    }\n",
              "\n",
              "    .colab-df-convert {\n",
              "      background-color: #E8F0FE;\n",
              "      border: none;\n",
              "      border-radius: 50%;\n",
              "      cursor: pointer;\n",
              "      display: none;\n",
              "      fill: #1967D2;\n",
              "      height: 32px;\n",
              "      padding: 0 0 0 0;\n",
              "      width: 32px;\n",
              "    }\n",
              "\n",
              "    .colab-df-convert:hover {\n",
              "      background-color: #E2EBFA;\n",
              "      box-shadow: 0px 1px 2px rgba(60, 64, 67, 0.3), 0px 1px 3px 1px rgba(60, 64, 67, 0.15);\n",
              "      fill: #174EA6;\n",
              "    }\n",
              "\n",
              "    [theme=dark] .colab-df-convert {\n",
              "      background-color: #3B4455;\n",
              "      fill: #D2E3FC;\n",
              "    }\n",
              "\n",
              "    [theme=dark] .colab-df-convert:hover {\n",
              "      background-color: #434B5C;\n",
              "      box-shadow: 0px 1px 3px 1px rgba(0, 0, 0, 0.15);\n",
              "      filter: drop-shadow(0px 1px 2px rgba(0, 0, 0, 0.3));\n",
              "      fill: #FFFFFF;\n",
              "    }\n",
              "  </style>\n",
              "\n",
              "      <script>\n",
              "        const buttonEl =\n",
              "          document.querySelector('#df-9634e1c2-3411-4b77-9420-2ee6afd0bd49 button.colab-df-convert');\n",
              "        buttonEl.style.display =\n",
              "          google.colab.kernel.accessAllowed ? 'block' : 'none';\n",
              "\n",
              "        async function convertToInteractive(key) {\n",
              "          const element = document.querySelector('#df-9634e1c2-3411-4b77-9420-2ee6afd0bd49');\n",
              "          const dataTable =\n",
              "            await google.colab.kernel.invokeFunction('convertToInteractive',\n",
              "                                                     [key], {});\n",
              "          if (!dataTable) return;\n",
              "\n",
              "          const docLinkHtml = 'Like what you see? Visit the ' +\n",
              "            '<a target=\"_blank\" href=https://colab.research.google.com/notebooks/data_table.ipynb>data table notebook</a>'\n",
              "            + ' to learn more about interactive tables.';\n",
              "          element.innerHTML = '';\n",
              "          dataTable['output_type'] = 'display_data';\n",
              "          await google.colab.output.renderOutput(dataTable, element);\n",
              "          const docLink = document.createElement('div');\n",
              "          docLink.innerHTML = docLinkHtml;\n",
              "          element.appendChild(docLink);\n",
              "        }\n",
              "      </script>\n",
              "    </div>\n",
              "  </div>\n",
              "  "
            ]
          },
          "metadata": {},
          "execution_count": 39
        }
      ]
    },
    {
      "cell_type": "code",
      "source": [
        "df_org[['product_code', 'attribute_0', 'attribute_1', 'attribute_2', 'attribute_3']].value_counts()"
      ],
      "metadata": {
        "id": "5Bkk6zxuUWRh",
        "colab": {
          "base_uri": "https://localhost:8080/"
        },
        "outputId": "e141c29f-3d76-4203-91be-3f0becd76db9"
      },
      "execution_count": 40,
      "outputs": [
        {
          "output_type": "execute_result",
          "data": {
            "text/plain": [
              "product_code  attribute_0  attribute_1  attribute_2  attribute_3\n",
              "C             material_7   material_8   5            8              5765\n",
              "E             material_7   material_6   6            9              5343\n",
              "B             material_5   material_5   8            8              5250\n",
              "D             material_7   material_5   6            6              5112\n",
              "A             material_7   material_8   9            5              5100\n",
              "dtype: int64"
            ]
          },
          "metadata": {},
          "execution_count": 40
        }
      ]
    },
    {
      "cell_type": "code",
      "source": [
        "df_test = pd.read_csv('test.csv', dtype={'failure': 'int8', 'attribute_2': 'int8', 'attribute_3': 'int8'}, index_col='id')\n",
        "df_test.head()"
      ],
      "metadata": {
        "id": "eSYACymaakW1",
        "colab": {
          "base_uri": "https://localhost:8080/",
          "height": 300
        },
        "outputId": "ef908d0c-f927-4eee-f469-909cdbe4c2c2"
      },
      "execution_count": 218,
      "outputs": [
        {
          "output_type": "execute_result",
          "data": {
            "text/plain": [
              "      id product_code  loading attribute_0 attribute_1  attribute_2  \\\n",
              "0  26570            F   119.57  material_5  material_6            6   \n",
              "1  26571            F   113.51  material_5  material_6            6   \n",
              "2  26572            F   112.16  material_5  material_6            6   \n",
              "3  26573            F   112.72  material_5  material_6            6   \n",
              "4  26574            F   208.00  material_5  material_6            6   \n",
              "\n",
              "   attribute_3  measurement_0  measurement_1  measurement_2  ...  \\\n",
              "0            4              6              9              6  ...   \n",
              "1            4             11              8              0  ...   \n",
              "2            4              8             12              4  ...   \n",
              "3            4              8             11             10  ...   \n",
              "4            4             14             16              8  ...   \n",
              "\n",
              "   measurement_8  measurement_9  measurement_10  measurement_11  \\\n",
              "0         18.654         10.802          15.909          18.070   \n",
              "1         19.368         12.032          13.998             NaN   \n",
              "2         17.774         11.743          17.046          18.086   \n",
              "3         18.948         11.790          18.165          16.163   \n",
              "4         19.141         12.370          14.578          17.849   \n",
              "\n",
              "   measurement_12  measurement_13  measurement_14  measurement_15  \\\n",
              "0          13.772          13.659          16.825          13.742   \n",
              "1          12.473          17.468          16.708          14.776   \n",
              "2          10.907          13.363          15.737          17.065   \n",
              "3          10.933          15.501          15.667          12.620   \n",
              "4          11.941          16.070          16.183          13.324   \n",
              "\n",
              "   measurement_16  measurement_17  \n",
              "0          17.710         634.612  \n",
              "1          14.102         537.037  \n",
              "2          16.021         658.995  \n",
              "3          16.111         594.301  \n",
              "4          17.150         801.044  \n",
              "\n",
              "[5 rows x 25 columns]"
            ],
            "text/html": [
              "\n",
              "  <div id=\"df-63c77547-1253-4729-badc-8e020d3e3efc\">\n",
              "    <div class=\"colab-df-container\">\n",
              "      <div>\n",
              "<style scoped>\n",
              "    .dataframe tbody tr th:only-of-type {\n",
              "        vertical-align: middle;\n",
              "    }\n",
              "\n",
              "    .dataframe tbody tr th {\n",
              "        vertical-align: top;\n",
              "    }\n",
              "\n",
              "    .dataframe thead th {\n",
              "        text-align: right;\n",
              "    }\n",
              "</style>\n",
              "<table border=\"1\" class=\"dataframe\">\n",
              "  <thead>\n",
              "    <tr style=\"text-align: right;\">\n",
              "      <th></th>\n",
              "      <th>id</th>\n",
              "      <th>product_code</th>\n",
              "      <th>loading</th>\n",
              "      <th>attribute_0</th>\n",
              "      <th>attribute_1</th>\n",
              "      <th>attribute_2</th>\n",
              "      <th>attribute_3</th>\n",
              "      <th>measurement_0</th>\n",
              "      <th>measurement_1</th>\n",
              "      <th>measurement_2</th>\n",
              "      <th>...</th>\n",
              "      <th>measurement_8</th>\n",
              "      <th>measurement_9</th>\n",
              "      <th>measurement_10</th>\n",
              "      <th>measurement_11</th>\n",
              "      <th>measurement_12</th>\n",
              "      <th>measurement_13</th>\n",
              "      <th>measurement_14</th>\n",
              "      <th>measurement_15</th>\n",
              "      <th>measurement_16</th>\n",
              "      <th>measurement_17</th>\n",
              "    </tr>\n",
              "  </thead>\n",
              "  <tbody>\n",
              "    <tr>\n",
              "      <th>0</th>\n",
              "      <td>26570</td>\n",
              "      <td>F</td>\n",
              "      <td>119.57</td>\n",
              "      <td>material_5</td>\n",
              "      <td>material_6</td>\n",
              "      <td>6</td>\n",
              "      <td>4</td>\n",
              "      <td>6</td>\n",
              "      <td>9</td>\n",
              "      <td>6</td>\n",
              "      <td>...</td>\n",
              "      <td>18.654</td>\n",
              "      <td>10.802</td>\n",
              "      <td>15.909</td>\n",
              "      <td>18.070</td>\n",
              "      <td>13.772</td>\n",
              "      <td>13.659</td>\n",
              "      <td>16.825</td>\n",
              "      <td>13.742</td>\n",
              "      <td>17.710</td>\n",
              "      <td>634.612</td>\n",
              "    </tr>\n",
              "    <tr>\n",
              "      <th>1</th>\n",
              "      <td>26571</td>\n",
              "      <td>F</td>\n",
              "      <td>113.51</td>\n",
              "      <td>material_5</td>\n",
              "      <td>material_6</td>\n",
              "      <td>6</td>\n",
              "      <td>4</td>\n",
              "      <td>11</td>\n",
              "      <td>8</td>\n",
              "      <td>0</td>\n",
              "      <td>...</td>\n",
              "      <td>19.368</td>\n",
              "      <td>12.032</td>\n",
              "      <td>13.998</td>\n",
              "      <td>NaN</td>\n",
              "      <td>12.473</td>\n",
              "      <td>17.468</td>\n",
              "      <td>16.708</td>\n",
              "      <td>14.776</td>\n",
              "      <td>14.102</td>\n",
              "      <td>537.037</td>\n",
              "    </tr>\n",
              "    <tr>\n",
              "      <th>2</th>\n",
              "      <td>26572</td>\n",
              "      <td>F</td>\n",
              "      <td>112.16</td>\n",
              "      <td>material_5</td>\n",
              "      <td>material_6</td>\n",
              "      <td>6</td>\n",
              "      <td>4</td>\n",
              "      <td>8</td>\n",
              "      <td>12</td>\n",
              "      <td>4</td>\n",
              "      <td>...</td>\n",
              "      <td>17.774</td>\n",
              "      <td>11.743</td>\n",
              "      <td>17.046</td>\n",
              "      <td>18.086</td>\n",
              "      <td>10.907</td>\n",
              "      <td>13.363</td>\n",
              "      <td>15.737</td>\n",
              "      <td>17.065</td>\n",
              "      <td>16.021</td>\n",
              "      <td>658.995</td>\n",
              "    </tr>\n",
              "    <tr>\n",
              "      <th>3</th>\n",
              "      <td>26573</td>\n",
              "      <td>F</td>\n",
              "      <td>112.72</td>\n",
              "      <td>material_5</td>\n",
              "      <td>material_6</td>\n",
              "      <td>6</td>\n",
              "      <td>4</td>\n",
              "      <td>8</td>\n",
              "      <td>11</td>\n",
              "      <td>10</td>\n",
              "      <td>...</td>\n",
              "      <td>18.948</td>\n",
              "      <td>11.790</td>\n",
              "      <td>18.165</td>\n",
              "      <td>16.163</td>\n",
              "      <td>10.933</td>\n",
              "      <td>15.501</td>\n",
              "      <td>15.667</td>\n",
              "      <td>12.620</td>\n",
              "      <td>16.111</td>\n",
              "      <td>594.301</td>\n",
              "    </tr>\n",
              "    <tr>\n",
              "      <th>4</th>\n",
              "      <td>26574</td>\n",
              "      <td>F</td>\n",
              "      <td>208.00</td>\n",
              "      <td>material_5</td>\n",
              "      <td>material_6</td>\n",
              "      <td>6</td>\n",
              "      <td>4</td>\n",
              "      <td>14</td>\n",
              "      <td>16</td>\n",
              "      <td>8</td>\n",
              "      <td>...</td>\n",
              "      <td>19.141</td>\n",
              "      <td>12.370</td>\n",
              "      <td>14.578</td>\n",
              "      <td>17.849</td>\n",
              "      <td>11.941</td>\n",
              "      <td>16.070</td>\n",
              "      <td>16.183</td>\n",
              "      <td>13.324</td>\n",
              "      <td>17.150</td>\n",
              "      <td>801.044</td>\n",
              "    </tr>\n",
              "  </tbody>\n",
              "</table>\n",
              "<p>5 rows × 25 columns</p>\n",
              "</div>\n",
              "      <button class=\"colab-df-convert\" onclick=\"convertToInteractive('df-63c77547-1253-4729-badc-8e020d3e3efc')\"\n",
              "              title=\"Convert this dataframe to an interactive table.\"\n",
              "              style=\"display:none;\">\n",
              "        \n",
              "  <svg xmlns=\"http://www.w3.org/2000/svg\" height=\"24px\"viewBox=\"0 0 24 24\"\n",
              "       width=\"24px\">\n",
              "    <path d=\"M0 0h24v24H0V0z\" fill=\"none\"/>\n",
              "    <path d=\"M18.56 5.44l.94 2.06.94-2.06 2.06-.94-2.06-.94-.94-2.06-.94 2.06-2.06.94zm-11 1L8.5 8.5l.94-2.06 2.06-.94-2.06-.94L8.5 2.5l-.94 2.06-2.06.94zm10 10l.94 2.06.94-2.06 2.06-.94-2.06-.94-.94-2.06-.94 2.06-2.06.94z\"/><path d=\"M17.41 7.96l-1.37-1.37c-.4-.4-.92-.59-1.43-.59-.52 0-1.04.2-1.43.59L10.3 9.45l-7.72 7.72c-.78.78-.78 2.05 0 2.83L4 21.41c.39.39.9.59 1.41.59.51 0 1.02-.2 1.41-.59l7.78-7.78 2.81-2.81c.8-.78.8-2.07 0-2.86zM5.41 20L4 18.59l7.72-7.72 1.47 1.35L5.41 20z\"/>\n",
              "  </svg>\n",
              "      </button>\n",
              "      \n",
              "  <style>\n",
              "    .colab-df-container {\n",
              "      display:flex;\n",
              "      flex-wrap:wrap;\n",
              "      gap: 12px;\n",
              "    }\n",
              "\n",
              "    .colab-df-convert {\n",
              "      background-color: #E8F0FE;\n",
              "      border: none;\n",
              "      border-radius: 50%;\n",
              "      cursor: pointer;\n",
              "      display: none;\n",
              "      fill: #1967D2;\n",
              "      height: 32px;\n",
              "      padding: 0 0 0 0;\n",
              "      width: 32px;\n",
              "    }\n",
              "\n",
              "    .colab-df-convert:hover {\n",
              "      background-color: #E2EBFA;\n",
              "      box-shadow: 0px 1px 2px rgba(60, 64, 67, 0.3), 0px 1px 3px 1px rgba(60, 64, 67, 0.15);\n",
              "      fill: #174EA6;\n",
              "    }\n",
              "\n",
              "    [theme=dark] .colab-df-convert {\n",
              "      background-color: #3B4455;\n",
              "      fill: #D2E3FC;\n",
              "    }\n",
              "\n",
              "    [theme=dark] .colab-df-convert:hover {\n",
              "      background-color: #434B5C;\n",
              "      box-shadow: 0px 1px 3px 1px rgba(0, 0, 0, 0.15);\n",
              "      filter: drop-shadow(0px 1px 2px rgba(0, 0, 0, 0.3));\n",
              "      fill: #FFFFFF;\n",
              "    }\n",
              "  </style>\n",
              "\n",
              "      <script>\n",
              "        const buttonEl =\n",
              "          document.querySelector('#df-63c77547-1253-4729-badc-8e020d3e3efc button.colab-df-convert');\n",
              "        buttonEl.style.display =\n",
              "          google.colab.kernel.accessAllowed ? 'block' : 'none';\n",
              "\n",
              "        async function convertToInteractive(key) {\n",
              "          const element = document.querySelector('#df-63c77547-1253-4729-badc-8e020d3e3efc');\n",
              "          const dataTable =\n",
              "            await google.colab.kernel.invokeFunction('convertToInteractive',\n",
              "                                                     [key], {});\n",
              "          if (!dataTable) return;\n",
              "\n",
              "          const docLinkHtml = 'Like what you see? Visit the ' +\n",
              "            '<a target=\"_blank\" href=https://colab.research.google.com/notebooks/data_table.ipynb>data table notebook</a>'\n",
              "            + ' to learn more about interactive tables.';\n",
              "          element.innerHTML = '';\n",
              "          dataTable['output_type'] = 'display_data';\n",
              "          await google.colab.output.renderOutput(dataTable, element);\n",
              "          const docLink = document.createElement('div');\n",
              "          docLink.innerHTML = docLinkHtml;\n",
              "          element.appendChild(docLink);\n",
              "        }\n",
              "      </script>\n",
              "    </div>\n",
              "  </div>\n",
              "  "
            ]
          },
          "metadata": {},
          "execution_count": 218
        }
      ]
    },
    {
      "cell_type": "code",
      "source": [
        "df_test.describe().T"
      ],
      "metadata": {
        "colab": {
          "base_uri": "https://localhost:8080/",
          "height": 739
        },
        "id": "bGwd6DtCaopm",
        "outputId": "3ff25e47-f846-4c3f-ae82-b2413d472f77"
      },
      "execution_count": 194,
      "outputs": [
        {
          "output_type": "execute_result",
          "data": {
            "text/plain": [
              "                  count          mean          std        min          25%  \\\n",
              "id              20775.0  36957.000000  5997.370257  26570.000  31763.50000   \n",
              "loading         20552.0    127.634895    39.154642     37.700     99.47000   \n",
              "attribute_2     20775.0      7.733959     1.308535      6.000      6.00000   \n",
              "attribute_3     20775.0      6.196823     1.917478      4.000      4.00000   \n",
              "measurement_0   20775.0      7.453574     4.274477      0.000      4.00000   \n",
              "measurement_1   20775.0      8.962407     4.334200      0.000      6.00000   \n",
              "measurement_2   20775.0      6.126931     3.835881      0.000      3.00000   \n",
              "measurement_3   20446.0     17.793466     1.002206     13.565     17.11900   \n",
              "measurement_4   20366.0     11.727331     1.006834      7.384     11.04825   \n",
              "measurement_5   20267.0     17.138080     1.008714     12.215     16.45700   \n",
              "measurement_6   20151.0     17.515797     1.000067     13.539     16.84700   \n",
              "measurement_7   20055.0     11.710919     1.001096      7.853     11.03500   \n",
              "measurement_8   19929.0     19.030765     1.005401     14.885     18.35100   \n",
              "measurement_9   19871.0     11.417921     0.999953      7.578     10.74400   \n",
              "measurement_10  19708.0     16.123986     1.565414      9.167     15.09500   \n",
              "measurement_11  19639.0     18.846571     1.588642     13.127     17.71400   \n",
              "measurement_12  19535.0     11.914230     1.363253      6.116     11.06900   \n",
              "measurement_13  19472.0     15.736104     1.357019      9.209     14.87100   \n",
              "measurement_14  19335.0     16.123958     1.410569      8.415     15.23800   \n",
              "measurement_15  19233.0     15.115915     1.545069      8.417     14.08200   \n",
              "measurement_16  19097.0     16.636052     1.643463     10.162     15.51200   \n",
              "measurement_17  19035.0    701.389816   130.205829      1.671    618.72350   \n",
              "\n",
              "                       50%         75%        max  \n",
              "id              36957.0000  42150.5000  47344.000  \n",
              "loading           122.1100    148.8400    385.570  \n",
              "attribute_2         7.0000      9.0000      9.000  \n",
              "attribute_3         5.0000      7.0000      9.000  \n",
              "measurement_0       7.0000     10.0000     30.000  \n",
              "measurement_1       9.0000     12.0000     33.000  \n",
              "measurement_2       6.0000      8.0000     28.000  \n",
              "measurement_3      17.7890     18.4780     21.389  \n",
              "measurement_4      11.7290     12.4110     15.623  \n",
              "measurement_5      17.1320     17.8245     21.681  \n",
              "measurement_6      17.5100     18.1970     21.183  \n",
              "measurement_7      11.7040     12.3850     15.828  \n",
              "measurement_8      19.0400     19.7070     23.092  \n",
              "measurement_9      11.4140     12.0930     15.091  \n",
              "measurement_10     16.1095     17.1560     23.354  \n",
              "measurement_11     18.8100     19.9675     24.950  \n",
              "measurement_12     11.9410     12.7910     18.962  \n",
              "measurement_13     15.7340     16.6050     21.677  \n",
              "measurement_14     16.1190     17.0015     23.140  \n",
              "measurement_15     15.0620     16.1070     22.097  \n",
              "measurement_16     16.7060     17.7810     22.270  \n",
              "measurement_17    701.3790    784.8725   1242.786  "
            ],
            "text/html": [
              "\n",
              "  <div id=\"df-4017a173-3935-4b91-ab33-15cc0f3251a9\">\n",
              "    <div class=\"colab-df-container\">\n",
              "      <div>\n",
              "<style scoped>\n",
              "    .dataframe tbody tr th:only-of-type {\n",
              "        vertical-align: middle;\n",
              "    }\n",
              "\n",
              "    .dataframe tbody tr th {\n",
              "        vertical-align: top;\n",
              "    }\n",
              "\n",
              "    .dataframe thead th {\n",
              "        text-align: right;\n",
              "    }\n",
              "</style>\n",
              "<table border=\"1\" class=\"dataframe\">\n",
              "  <thead>\n",
              "    <tr style=\"text-align: right;\">\n",
              "      <th></th>\n",
              "      <th>count</th>\n",
              "      <th>mean</th>\n",
              "      <th>std</th>\n",
              "      <th>min</th>\n",
              "      <th>25%</th>\n",
              "      <th>50%</th>\n",
              "      <th>75%</th>\n",
              "      <th>max</th>\n",
              "    </tr>\n",
              "  </thead>\n",
              "  <tbody>\n",
              "    <tr>\n",
              "      <th>id</th>\n",
              "      <td>20775.0</td>\n",
              "      <td>36957.000000</td>\n",
              "      <td>5997.370257</td>\n",
              "      <td>26570.000</td>\n",
              "      <td>31763.50000</td>\n",
              "      <td>36957.0000</td>\n",
              "      <td>42150.5000</td>\n",
              "      <td>47344.000</td>\n",
              "    </tr>\n",
              "    <tr>\n",
              "      <th>loading</th>\n",
              "      <td>20552.0</td>\n",
              "      <td>127.634895</td>\n",
              "      <td>39.154642</td>\n",
              "      <td>37.700</td>\n",
              "      <td>99.47000</td>\n",
              "      <td>122.1100</td>\n",
              "      <td>148.8400</td>\n",
              "      <td>385.570</td>\n",
              "    </tr>\n",
              "    <tr>\n",
              "      <th>attribute_2</th>\n",
              "      <td>20775.0</td>\n",
              "      <td>7.733959</td>\n",
              "      <td>1.308535</td>\n",
              "      <td>6.000</td>\n",
              "      <td>6.00000</td>\n",
              "      <td>7.0000</td>\n",
              "      <td>9.0000</td>\n",
              "      <td>9.000</td>\n",
              "    </tr>\n",
              "    <tr>\n",
              "      <th>attribute_3</th>\n",
              "      <td>20775.0</td>\n",
              "      <td>6.196823</td>\n",
              "      <td>1.917478</td>\n",
              "      <td>4.000</td>\n",
              "      <td>4.00000</td>\n",
              "      <td>5.0000</td>\n",
              "      <td>7.0000</td>\n",
              "      <td>9.000</td>\n",
              "    </tr>\n",
              "    <tr>\n",
              "      <th>measurement_0</th>\n",
              "      <td>20775.0</td>\n",
              "      <td>7.453574</td>\n",
              "      <td>4.274477</td>\n",
              "      <td>0.000</td>\n",
              "      <td>4.00000</td>\n",
              "      <td>7.0000</td>\n",
              "      <td>10.0000</td>\n",
              "      <td>30.000</td>\n",
              "    </tr>\n",
              "    <tr>\n",
              "      <th>measurement_1</th>\n",
              "      <td>20775.0</td>\n",
              "      <td>8.962407</td>\n",
              "      <td>4.334200</td>\n",
              "      <td>0.000</td>\n",
              "      <td>6.00000</td>\n",
              "      <td>9.0000</td>\n",
              "      <td>12.0000</td>\n",
              "      <td>33.000</td>\n",
              "    </tr>\n",
              "    <tr>\n",
              "      <th>measurement_2</th>\n",
              "      <td>20775.0</td>\n",
              "      <td>6.126931</td>\n",
              "      <td>3.835881</td>\n",
              "      <td>0.000</td>\n",
              "      <td>3.00000</td>\n",
              "      <td>6.0000</td>\n",
              "      <td>8.0000</td>\n",
              "      <td>28.000</td>\n",
              "    </tr>\n",
              "    <tr>\n",
              "      <th>measurement_3</th>\n",
              "      <td>20446.0</td>\n",
              "      <td>17.793466</td>\n",
              "      <td>1.002206</td>\n",
              "      <td>13.565</td>\n",
              "      <td>17.11900</td>\n",
              "      <td>17.7890</td>\n",
              "      <td>18.4780</td>\n",
              "      <td>21.389</td>\n",
              "    </tr>\n",
              "    <tr>\n",
              "      <th>measurement_4</th>\n",
              "      <td>20366.0</td>\n",
              "      <td>11.727331</td>\n",
              "      <td>1.006834</td>\n",
              "      <td>7.384</td>\n",
              "      <td>11.04825</td>\n",
              "      <td>11.7290</td>\n",
              "      <td>12.4110</td>\n",
              "      <td>15.623</td>\n",
              "    </tr>\n",
              "    <tr>\n",
              "      <th>measurement_5</th>\n",
              "      <td>20267.0</td>\n",
              "      <td>17.138080</td>\n",
              "      <td>1.008714</td>\n",
              "      <td>12.215</td>\n",
              "      <td>16.45700</td>\n",
              "      <td>17.1320</td>\n",
              "      <td>17.8245</td>\n",
              "      <td>21.681</td>\n",
              "    </tr>\n",
              "    <tr>\n",
              "      <th>measurement_6</th>\n",
              "      <td>20151.0</td>\n",
              "      <td>17.515797</td>\n",
              "      <td>1.000067</td>\n",
              "      <td>13.539</td>\n",
              "      <td>16.84700</td>\n",
              "      <td>17.5100</td>\n",
              "      <td>18.1970</td>\n",
              "      <td>21.183</td>\n",
              "    </tr>\n",
              "    <tr>\n",
              "      <th>measurement_7</th>\n",
              "      <td>20055.0</td>\n",
              "      <td>11.710919</td>\n",
              "      <td>1.001096</td>\n",
              "      <td>7.853</td>\n",
              "      <td>11.03500</td>\n",
              "      <td>11.7040</td>\n",
              "      <td>12.3850</td>\n",
              "      <td>15.828</td>\n",
              "    </tr>\n",
              "    <tr>\n",
              "      <th>measurement_8</th>\n",
              "      <td>19929.0</td>\n",
              "      <td>19.030765</td>\n",
              "      <td>1.005401</td>\n",
              "      <td>14.885</td>\n",
              "      <td>18.35100</td>\n",
              "      <td>19.0400</td>\n",
              "      <td>19.7070</td>\n",
              "      <td>23.092</td>\n",
              "    </tr>\n",
              "    <tr>\n",
              "      <th>measurement_9</th>\n",
              "      <td>19871.0</td>\n",
              "      <td>11.417921</td>\n",
              "      <td>0.999953</td>\n",
              "      <td>7.578</td>\n",
              "      <td>10.74400</td>\n",
              "      <td>11.4140</td>\n",
              "      <td>12.0930</td>\n",
              "      <td>15.091</td>\n",
              "    </tr>\n",
              "    <tr>\n",
              "      <th>measurement_10</th>\n",
              "      <td>19708.0</td>\n",
              "      <td>16.123986</td>\n",
              "      <td>1.565414</td>\n",
              "      <td>9.167</td>\n",
              "      <td>15.09500</td>\n",
              "      <td>16.1095</td>\n",
              "      <td>17.1560</td>\n",
              "      <td>23.354</td>\n",
              "    </tr>\n",
              "    <tr>\n",
              "      <th>measurement_11</th>\n",
              "      <td>19639.0</td>\n",
              "      <td>18.846571</td>\n",
              "      <td>1.588642</td>\n",
              "      <td>13.127</td>\n",
              "      <td>17.71400</td>\n",
              "      <td>18.8100</td>\n",
              "      <td>19.9675</td>\n",
              "      <td>24.950</td>\n",
              "    </tr>\n",
              "    <tr>\n",
              "      <th>measurement_12</th>\n",
              "      <td>19535.0</td>\n",
              "      <td>11.914230</td>\n",
              "      <td>1.363253</td>\n",
              "      <td>6.116</td>\n",
              "      <td>11.06900</td>\n",
              "      <td>11.9410</td>\n",
              "      <td>12.7910</td>\n",
              "      <td>18.962</td>\n",
              "    </tr>\n",
              "    <tr>\n",
              "      <th>measurement_13</th>\n",
              "      <td>19472.0</td>\n",
              "      <td>15.736104</td>\n",
              "      <td>1.357019</td>\n",
              "      <td>9.209</td>\n",
              "      <td>14.87100</td>\n",
              "      <td>15.7340</td>\n",
              "      <td>16.6050</td>\n",
              "      <td>21.677</td>\n",
              "    </tr>\n",
              "    <tr>\n",
              "      <th>measurement_14</th>\n",
              "      <td>19335.0</td>\n",
              "      <td>16.123958</td>\n",
              "      <td>1.410569</td>\n",
              "      <td>8.415</td>\n",
              "      <td>15.23800</td>\n",
              "      <td>16.1190</td>\n",
              "      <td>17.0015</td>\n",
              "      <td>23.140</td>\n",
              "    </tr>\n",
              "    <tr>\n",
              "      <th>measurement_15</th>\n",
              "      <td>19233.0</td>\n",
              "      <td>15.115915</td>\n",
              "      <td>1.545069</td>\n",
              "      <td>8.417</td>\n",
              "      <td>14.08200</td>\n",
              "      <td>15.0620</td>\n",
              "      <td>16.1070</td>\n",
              "      <td>22.097</td>\n",
              "    </tr>\n",
              "    <tr>\n",
              "      <th>measurement_16</th>\n",
              "      <td>19097.0</td>\n",
              "      <td>16.636052</td>\n",
              "      <td>1.643463</td>\n",
              "      <td>10.162</td>\n",
              "      <td>15.51200</td>\n",
              "      <td>16.7060</td>\n",
              "      <td>17.7810</td>\n",
              "      <td>22.270</td>\n",
              "    </tr>\n",
              "    <tr>\n",
              "      <th>measurement_17</th>\n",
              "      <td>19035.0</td>\n",
              "      <td>701.389816</td>\n",
              "      <td>130.205829</td>\n",
              "      <td>1.671</td>\n",
              "      <td>618.72350</td>\n",
              "      <td>701.3790</td>\n",
              "      <td>784.8725</td>\n",
              "      <td>1242.786</td>\n",
              "    </tr>\n",
              "  </tbody>\n",
              "</table>\n",
              "</div>\n",
              "      <button class=\"colab-df-convert\" onclick=\"convertToInteractive('df-4017a173-3935-4b91-ab33-15cc0f3251a9')\"\n",
              "              title=\"Convert this dataframe to an interactive table.\"\n",
              "              style=\"display:none;\">\n",
              "        \n",
              "  <svg xmlns=\"http://www.w3.org/2000/svg\" height=\"24px\"viewBox=\"0 0 24 24\"\n",
              "       width=\"24px\">\n",
              "    <path d=\"M0 0h24v24H0V0z\" fill=\"none\"/>\n",
              "    <path d=\"M18.56 5.44l.94 2.06.94-2.06 2.06-.94-2.06-.94-.94-2.06-.94 2.06-2.06.94zm-11 1L8.5 8.5l.94-2.06 2.06-.94-2.06-.94L8.5 2.5l-.94 2.06-2.06.94zm10 10l.94 2.06.94-2.06 2.06-.94-2.06-.94-.94-2.06-.94 2.06-2.06.94z\"/><path d=\"M17.41 7.96l-1.37-1.37c-.4-.4-.92-.59-1.43-.59-.52 0-1.04.2-1.43.59L10.3 9.45l-7.72 7.72c-.78.78-.78 2.05 0 2.83L4 21.41c.39.39.9.59 1.41.59.51 0 1.02-.2 1.41-.59l7.78-7.78 2.81-2.81c.8-.78.8-2.07 0-2.86zM5.41 20L4 18.59l7.72-7.72 1.47 1.35L5.41 20z\"/>\n",
              "  </svg>\n",
              "      </button>\n",
              "      \n",
              "  <style>\n",
              "    .colab-df-container {\n",
              "      display:flex;\n",
              "      flex-wrap:wrap;\n",
              "      gap: 12px;\n",
              "    }\n",
              "\n",
              "    .colab-df-convert {\n",
              "      background-color: #E8F0FE;\n",
              "      border: none;\n",
              "      border-radius: 50%;\n",
              "      cursor: pointer;\n",
              "      display: none;\n",
              "      fill: #1967D2;\n",
              "      height: 32px;\n",
              "      padding: 0 0 0 0;\n",
              "      width: 32px;\n",
              "    }\n",
              "\n",
              "    .colab-df-convert:hover {\n",
              "      background-color: #E2EBFA;\n",
              "      box-shadow: 0px 1px 2px rgba(60, 64, 67, 0.3), 0px 1px 3px 1px rgba(60, 64, 67, 0.15);\n",
              "      fill: #174EA6;\n",
              "    }\n",
              "\n",
              "    [theme=dark] .colab-df-convert {\n",
              "      background-color: #3B4455;\n",
              "      fill: #D2E3FC;\n",
              "    }\n",
              "\n",
              "    [theme=dark] .colab-df-convert:hover {\n",
              "      background-color: #434B5C;\n",
              "      box-shadow: 0px 1px 3px 1px rgba(0, 0, 0, 0.15);\n",
              "      filter: drop-shadow(0px 1px 2px rgba(0, 0, 0, 0.3));\n",
              "      fill: #FFFFFF;\n",
              "    }\n",
              "  </style>\n",
              "\n",
              "      <script>\n",
              "        const buttonEl =\n",
              "          document.querySelector('#df-4017a173-3935-4b91-ab33-15cc0f3251a9 button.colab-df-convert');\n",
              "        buttonEl.style.display =\n",
              "          google.colab.kernel.accessAllowed ? 'block' : 'none';\n",
              "\n",
              "        async function convertToInteractive(key) {\n",
              "          const element = document.querySelector('#df-4017a173-3935-4b91-ab33-15cc0f3251a9');\n",
              "          const dataTable =\n",
              "            await google.colab.kernel.invokeFunction('convertToInteractive',\n",
              "                                                     [key], {});\n",
              "          if (!dataTable) return;\n",
              "\n",
              "          const docLinkHtml = 'Like what you see? Visit the ' +\n",
              "            '<a target=\"_blank\" href=https://colab.research.google.com/notebooks/data_table.ipynb>data table notebook</a>'\n",
              "            + ' to learn more about interactive tables.';\n",
              "          element.innerHTML = '';\n",
              "          dataTable['output_type'] = 'display_data';\n",
              "          await google.colab.output.renderOutput(dataTable, element);\n",
              "          const docLink = document.createElement('div');\n",
              "          docLink.innerHTML = docLinkHtml;\n",
              "          element.appendChild(docLink);\n",
              "        }\n",
              "      </script>\n",
              "    </div>\n",
              "  </div>\n",
              "  "
            ]
          },
          "metadata": {},
          "execution_count": 194
        }
      ]
    },
    {
      "cell_type": "code",
      "source": [
        "df_test[['product_code', 'attribute_0', 'attribute_1', 'attribute_2', 'attribute_3']].value_counts()"
      ],
      "metadata": {
        "colab": {
          "base_uri": "https://localhost:8080/"
        },
        "id": "OrAWYP7yb4l_",
        "outputId": "55a2fcb7-2e3e-4ba1-e495-fd1d7a7481d2"
      },
      "execution_count": 195,
      "outputs": [
        {
          "output_type": "execute_result",
          "data": {
            "text/plain": [
              "product_code  attribute_0  attribute_1  attribute_2  attribute_3\n",
              "F             material_5   material_6   6            4              5422\n",
              "I             material_7   material_5   9            5              5228\n",
              "G             material_5   material_6   9            7              5107\n",
              "H             material_7   material_7   7            9              5018\n",
              "dtype: int64"
            ]
          },
          "metadata": {},
          "execution_count": 195
        }
      ]
    },
    {
      "cell_type": "code",
      "source": [
        "df  = df_org.copy()"
      ],
      "metadata": {
        "id": "LhS8CB-soSdg"
      },
      "execution_count": 44,
      "outputs": []
    },
    {
      "cell_type": "markdown",
      "source": [
        "# 전처리"
      ],
      "metadata": {
        "id": "HlG53x4OPZwW"
      }
    },
    {
      "cell_type": "markdown",
      "source": [
        "measurement_17는 failure를 유추하기 위해 product_code 별로 measurement3 ~ measurement_9을 최적의 선형적인 조합으로 기기에서 만들어 주는 값이다. 즉 product_code 별로 measurement3 ~ mesuremenet_9을 입력으로 measurement_17을 선형회귀모델로 학습하면 measurement_17을 복원하는 모델이 된다. 하지만 실험 기기가 종종 오류를 일으켜 measurement_17에 결측이 발생한다. 이 정보를 바탕으로 복원을 위한 선형회귀모델을 만들어 measurement_17의 결측치를 보간하고자 한다.\n",
        "\n",
        "※ 본 처리 과정은  [Perfect Positive Correlation with measurement_17](https://www.kaggle.com/competitions/tabular-playground-series-aug-2022/discussion/343939) 을 기반으로 만들어 졌습니다.\n",
        "\n",
        "## 단계 1\n",
        "\n",
        "measurement_3~9 중에서 결측치가 전혀없는 examine 데이터프레임을 만든다."
      ],
      "metadata": {
        "id": "VmgDHLNVPo69"
      }
    },
    {
      "cell_type": "code",
      "source": [
        "m_cols = ['measurement_{}'.format(i) for i in range(3, 10)] # 편의를 위해 measurement3~measurement9까지 컬럼값을 담는 리스트를 만든다.\n",
        "df_examine = df.loc[df[m_cols + ['measurement_17']].notna().all(axis=1)] # m_cols와 measuement_17에서 결측치가 없는 데이터프레임 df_examine을 만든다.\n",
        "df['measurement_17'].isna().sum() # measurement_17의 결측치 확인"
      ],
      "metadata": {
        "id": "i9WZpZPQP71u",
        "colab": {
          "base_uri": "https://localhost:8080/"
        },
        "outputId": "9867dc5c-1241-4048-c9b6-0e4ca3419b26"
      },
      "execution_count": 45,
      "outputs": [
        {
          "output_type": "execute_result",
          "data": {
            "text/plain": [
              "2284"
            ]
          },
          "metadata": {},
          "execution_count": 45
        }
      ]
    },
    {
      "cell_type": "markdown",
      "source": [
        "## 단계 2\n",
        "\n",
        "examine 데이터프레임을 활용하여, product_code 별로 measurement_3 ~ measurement9  속성을 입력으로 하여 measurement_17을 맞추는 선형회귀모델을 만들고, 이 모델들을 활용하여 복원할 수 있는 measurement_17 결측치를 최대한 복원한다. 그리고 이 데이터프레임을 basetable이라고 한다.\n",
        "\n",
        "- 선형 모델읜 sklearn.linear_regression.Lasso를 사용하고, 모든 설정은 기본값을 사용한다.\n",
        "\n",
        "- 회귀계수의 값이 0인 속성은 measurement_17과 전혀 관련이 없다고 간주한다. \n",
        "\n",
        "- 절편을 제외한 각 속성에 해당하는 회귀계수의 총합은 1203.35(소수점 2째 자리까지 반올림)이다.\n",
        "\n",
        " Guide. 속성명을 열의 이름으로, product_code를 행의 Index로 하여 각각의 값이 회귀계수인 데이터프레임 coef를 만들고 여기서 합을 내도록함을 권장.\n",
        " > 단계 3에서도 활용할수 도 있음\n",
        "\n",
        "* Hint\n",
        "    - 복원 후 measurement_17의 결측치는 341개로 줄어 든다."
      ],
      "metadata": {
        "id": "qTuOI28auiZo"
      }
    },
    {
      "cell_type": "code",
      "source": [
        "from sklearn.linear_model import Lasso\n",
        "from sklearn.metrics import r2_score"
      ],
      "metadata": {
        "id": "sAnafSWcWnBe"
      },
      "execution_count": 46,
      "outputs": []
    },
    {
      "cell_type": "code",
      "source": [
        "lr = Lasso()\n",
        "pc_list = [] # coef 데이터프레임 구성을 위해 처리한 product_code 저장 \n",
        "coef_list = [] # 마찬가지로 회귀계수 저장\n",
        "impute_cnt = []\n",
        "for k, v in df_examine.groupby('product_code'): # groupby를 이용하여 product_code 별로 구분하여 데이터프레임의 행들을 나누어 가져온다.\n",
        "    lr.fit(v[m_cols],v['measurement_17']) # 학습\n",
        "    print(k, lr.coef_, r2_score(v['measurement_17'], lr.predict(v[m_cols]))) # 결과 확인\n",
        "    coef_ = lr.coef_.copy() # 복사\n",
        "    avail_cols = np.array(m_cols)[coef_ != 0] # 연관성이 있는 속성명을 뽑아 낸다, 작업을 편하게 하기 위해 list를 numpy array로 바꾼다.\n",
        "    pc_list.append(k) # 처리한 product_code를 저장\n",
        "    coef_list.append(coef_) # 도출한 회귀계수 저장 \n",
        "    # 현재 복원 스텝을 진행하는 product_code 에서 연관성이 있는 속성이 결측이 없고 measurement_17은 결측인 행을 뽑기 위한  Boolean 인덱싱 행을  만든다.\n",
        "    target_cond = (df['product_code'] == k) & df[avail_cols].notna().all(axis=1) & df['measurement_17'].isna()\n",
        "    impute_cnt.append(target_cond.sum())\n",
        "    # 결측치를 예측하고 입력한다. loc를 행을 선택후 값을 지정할 때에, 대입하는 값의 수가 일치하면, 인덱스와 상관없이 순서대로 대입이 되게 된다. \n",
        "    df.loc[target_cond, 'measurement_17'] = lr.predict(df.loc[target_cond][m_cols].fillna(0))\n",
        "df_coef = pd.DataFrame(np.vstack(coef_list), columns=lr.feature_names_in_, index=pc_list) # coef 데이터프레밍 생성\n",
        "df_coef.head()"
      ],
      "metadata": {
        "colab": {
          "base_uri": "https://localhost:8080/",
          "height": 390
        },
        "id": "pxr1d47-XL5H",
        "outputId": "6c96067e-1ba8-4eff-c510-be1743de9675"
      },
      "execution_count": 47,
      "outputs": [
        {
          "output_type": "stream",
          "name": "stdout",
          "text": [
            "A [-0.         13.88990012 58.79968924 25.78318324 24.15966165 76.39890398\n",
            "  0.        ] 0.9995502992956551\n",
            "B [17.63821044 43.43821149 33.96906643  0.         86.45728502  0.\n",
            " 25.76855271] 0.9995615957156855\n",
            "C [ 0.          0.         51.42237822  6.15590156 40.67515231 90.18778957\n",
            " 35.52042918] 0.9996223694466843\n",
            "D [23.70932099  0.         62.67195241 92.76751898 47.31637707 56.14618422\n",
            "  0.        ] 0.9997247049648755\n",
            "E [ 0.         57.69072149 65.64540559 76.06431605  0.         72.15415319\n",
            " 18.9206499 ] 0.9997300196455193\n"
          ]
        },
        {
          "output_type": "execute_result",
          "data": {
            "text/plain": [
              "   measurement_3  measurement_4  measurement_5  measurement_6  measurement_7  \\\n",
              "A      -0.000000      13.889900      58.799689      25.783183      24.159662   \n",
              "B      17.638210      43.438211      33.969066       0.000000      86.457285   \n",
              "C       0.000000       0.000000      51.422378       6.155902      40.675152   \n",
              "D      23.709321       0.000000      62.671952      92.767519      47.316377   \n",
              "E       0.000000      57.690721      65.645406      76.064316       0.000000   \n",
              "\n",
              "   measurement_8  measurement_9  \n",
              "A      76.398904       0.000000  \n",
              "B       0.000000      25.768553  \n",
              "C      90.187790      35.520429  \n",
              "D      56.146184       0.000000  \n",
              "E      72.154153      18.920650  "
            ],
            "text/html": [
              "\n",
              "  <div id=\"df-228120ee-770b-4a60-8ecc-ca1dbf0fe44c\">\n",
              "    <div class=\"colab-df-container\">\n",
              "      <div>\n",
              "<style scoped>\n",
              "    .dataframe tbody tr th:only-of-type {\n",
              "        vertical-align: middle;\n",
              "    }\n",
              "\n",
              "    .dataframe tbody tr th {\n",
              "        vertical-align: top;\n",
              "    }\n",
              "\n",
              "    .dataframe thead th {\n",
              "        text-align: right;\n",
              "    }\n",
              "</style>\n",
              "<table border=\"1\" class=\"dataframe\">\n",
              "  <thead>\n",
              "    <tr style=\"text-align: right;\">\n",
              "      <th></th>\n",
              "      <th>measurement_3</th>\n",
              "      <th>measurement_4</th>\n",
              "      <th>measurement_5</th>\n",
              "      <th>measurement_6</th>\n",
              "      <th>measurement_7</th>\n",
              "      <th>measurement_8</th>\n",
              "      <th>measurement_9</th>\n",
              "    </tr>\n",
              "  </thead>\n",
              "  <tbody>\n",
              "    <tr>\n",
              "      <th>A</th>\n",
              "      <td>-0.000000</td>\n",
              "      <td>13.889900</td>\n",
              "      <td>58.799689</td>\n",
              "      <td>25.783183</td>\n",
              "      <td>24.159662</td>\n",
              "      <td>76.398904</td>\n",
              "      <td>0.000000</td>\n",
              "    </tr>\n",
              "    <tr>\n",
              "      <th>B</th>\n",
              "      <td>17.638210</td>\n",
              "      <td>43.438211</td>\n",
              "      <td>33.969066</td>\n",
              "      <td>0.000000</td>\n",
              "      <td>86.457285</td>\n",
              "      <td>0.000000</td>\n",
              "      <td>25.768553</td>\n",
              "    </tr>\n",
              "    <tr>\n",
              "      <th>C</th>\n",
              "      <td>0.000000</td>\n",
              "      <td>0.000000</td>\n",
              "      <td>51.422378</td>\n",
              "      <td>6.155902</td>\n",
              "      <td>40.675152</td>\n",
              "      <td>90.187790</td>\n",
              "      <td>35.520429</td>\n",
              "    </tr>\n",
              "    <tr>\n",
              "      <th>D</th>\n",
              "      <td>23.709321</td>\n",
              "      <td>0.000000</td>\n",
              "      <td>62.671952</td>\n",
              "      <td>92.767519</td>\n",
              "      <td>47.316377</td>\n",
              "      <td>56.146184</td>\n",
              "      <td>0.000000</td>\n",
              "    </tr>\n",
              "    <tr>\n",
              "      <th>E</th>\n",
              "      <td>0.000000</td>\n",
              "      <td>57.690721</td>\n",
              "      <td>65.645406</td>\n",
              "      <td>76.064316</td>\n",
              "      <td>0.000000</td>\n",
              "      <td>72.154153</td>\n",
              "      <td>18.920650</td>\n",
              "    </tr>\n",
              "  </tbody>\n",
              "</table>\n",
              "</div>\n",
              "      <button class=\"colab-df-convert\" onclick=\"convertToInteractive('df-228120ee-770b-4a60-8ecc-ca1dbf0fe44c')\"\n",
              "              title=\"Convert this dataframe to an interactive table.\"\n",
              "              style=\"display:none;\">\n",
              "        \n",
              "  <svg xmlns=\"http://www.w3.org/2000/svg\" height=\"24px\"viewBox=\"0 0 24 24\"\n",
              "       width=\"24px\">\n",
              "    <path d=\"M0 0h24v24H0V0z\" fill=\"none\"/>\n",
              "    <path d=\"M18.56 5.44l.94 2.06.94-2.06 2.06-.94-2.06-.94-.94-2.06-.94 2.06-2.06.94zm-11 1L8.5 8.5l.94-2.06 2.06-.94-2.06-.94L8.5 2.5l-.94 2.06-2.06.94zm10 10l.94 2.06.94-2.06 2.06-.94-2.06-.94-.94-2.06-.94 2.06-2.06.94z\"/><path d=\"M17.41 7.96l-1.37-1.37c-.4-.4-.92-.59-1.43-.59-.52 0-1.04.2-1.43.59L10.3 9.45l-7.72 7.72c-.78.78-.78 2.05 0 2.83L4 21.41c.39.39.9.59 1.41.59.51 0 1.02-.2 1.41-.59l7.78-7.78 2.81-2.81c.8-.78.8-2.07 0-2.86zM5.41 20L4 18.59l7.72-7.72 1.47 1.35L5.41 20z\"/>\n",
              "  </svg>\n",
              "      </button>\n",
              "      \n",
              "  <style>\n",
              "    .colab-df-container {\n",
              "      display:flex;\n",
              "      flex-wrap:wrap;\n",
              "      gap: 12px;\n",
              "    }\n",
              "\n",
              "    .colab-df-convert {\n",
              "      background-color: #E8F0FE;\n",
              "      border: none;\n",
              "      border-radius: 50%;\n",
              "      cursor: pointer;\n",
              "      display: none;\n",
              "      fill: #1967D2;\n",
              "      height: 32px;\n",
              "      padding: 0 0 0 0;\n",
              "      width: 32px;\n",
              "    }\n",
              "\n",
              "    .colab-df-convert:hover {\n",
              "      background-color: #E2EBFA;\n",
              "      box-shadow: 0px 1px 2px rgba(60, 64, 67, 0.3), 0px 1px 3px 1px rgba(60, 64, 67, 0.15);\n",
              "      fill: #174EA6;\n",
              "    }\n",
              "\n",
              "    [theme=dark] .colab-df-convert {\n",
              "      background-color: #3B4455;\n",
              "      fill: #D2E3FC;\n",
              "    }\n",
              "\n",
              "    [theme=dark] .colab-df-convert:hover {\n",
              "      background-color: #434B5C;\n",
              "      box-shadow: 0px 1px 3px 1px rgba(0, 0, 0, 0.15);\n",
              "      filter: drop-shadow(0px 1px 2px rgba(0, 0, 0, 0.3));\n",
              "      fill: #FFFFFF;\n",
              "    }\n",
              "  </style>\n",
              "\n",
              "      <script>\n",
              "        const buttonEl =\n",
              "          document.querySelector('#df-228120ee-770b-4a60-8ecc-ca1dbf0fe44c button.colab-df-convert');\n",
              "        buttonEl.style.display =\n",
              "          google.colab.kernel.accessAllowed ? 'block' : 'none';\n",
              "\n",
              "        async function convertToInteractive(key) {\n",
              "          const element = document.querySelector('#df-228120ee-770b-4a60-8ecc-ca1dbf0fe44c');\n",
              "          const dataTable =\n",
              "            await google.colab.kernel.invokeFunction('convertToInteractive',\n",
              "                                                     [key], {});\n",
              "          if (!dataTable) return;\n",
              "\n",
              "          const docLinkHtml = 'Like what you see? Visit the ' +\n",
              "            '<a target=\"_blank\" href=https://colab.research.google.com/notebooks/data_table.ipynb>data table notebook</a>'\n",
              "            + ' to learn more about interactive tables.';\n",
              "          element.innerHTML = '';\n",
              "          dataTable['output_type'] = 'display_data';\n",
              "          await google.colab.output.renderOutput(dataTable, element);\n",
              "          const docLink = document.createElement('div');\n",
              "          docLink.innerHTML = docLinkHtml;\n",
              "          element.appendChild(docLink);\n",
              "        }\n",
              "      </script>\n",
              "    </div>\n",
              "  </div>\n",
              "  "
            ]
          },
          "metadata": {},
          "execution_count": 47
        }
      ]
    },
    {
      "cell_type": "code",
      "source": [
        "df['measurement_17'].isna().sum(), df_coef.sum().sum()"
      ],
      "metadata": {
        "colab": {
          "base_uri": "https://localhost:8080/"
        },
        "id": "EpHkA4hRNvQh",
        "outputId": "878cc26b-c23f-4f80-d0f4-141700e081a6"
      },
      "execution_count": 48,
      "outputs": [
        {
          "output_type": "execute_result",
          "data": {
            "text/plain": [
              "(341, 1203.350915049366)"
            ]
          },
          "metadata": {},
          "execution_count": 48
        }
      ]
    },
    {
      "cell_type": "code",
      "source": [
        "df_basetable = df.copy()"
      ],
      "metadata": {
        "id": "WgnKHObBPtmR"
      },
      "execution_count": 49,
      "outputs": []
    },
    {
      "cell_type": "markdown",
      "source": [
        "## 단계 3 (Optional)\n",
        "\n",
        "※ 본 단계는 구현의 난이도가 상당하여 Optional 단계로 하게 되었고 더 깊은 연습을 하시고자 하는 분들을 위해 만든 것이니, 단계에 영향이 없도록, basetable에서 optional 데이터프레임을 만들고 진행토록합니다. \n",
        "\n",
        "\n",
        "위에서 발견한 거의 완벽한 선형적 관계를 이용하여 measurement_17 이외에도 복원할 수 있는 값은 모두 복원하고자 한다. measurement_3~measurement_9 까지 복원하시오.\n",
        "\n",
        "- sklearn.linear_model.LinearRegression을 사용한다.\n",
        "\n",
        "- optional 데이터프레임에서 결측을 제거하여 examine 데이터프레임을 새로 만들고 이를 활용하여 선형모델을 만든다.\n",
        "\n",
        "- 결측 처리를 완료하면, measurement_3 ~ measurement_9 까지의 결측치는 모두 2294건이 된다."
      ],
      "metadata": {
        "id": "84koLHzHw_dA"
      }
    },
    {
      "cell_type": "code",
      "source": [
        "from sklearn.linear_model import LinearRegression\n",
        "from sklearn.metrics import mean_squared_error"
      ],
      "metadata": {
        "id": "TeHssWb_-Zex"
      },
      "execution_count": 50,
      "outputs": []
    },
    {
      "cell_type": "code",
      "source": [
        "df_optional =  df_basetable.copy()\n",
        "df_examine = df_optional.dropna()"
      ],
      "metadata": {
        "id": "Pfs7yzOX80BR"
      },
      "execution_count": 51,
      "outputs": []
    },
    {
      "cell_type": "code",
      "source": [
        "df_optional[m_cols].isna().sum().sum()"
      ],
      "metadata": {
        "colab": {
          "base_uri": "https://localhost:8080/"
        },
        "id": "5WqcgCyXTxND",
        "outputId": "95c3dbf4-1a68-4f2f-f39d-bbacd59a4d19"
      },
      "execution_count": 52,
      "outputs": [
        {
          "output_type": "execute_result",
          "data": {
            "text/plain": [
              "5603"
            ]
          },
          "metadata": {},
          "execution_count": 52
        }
      ]
    },
    {
      "cell_type": "code",
      "source": [
        "# product_code 별로 회귀 계수값을 살펴 보면, 위에서 언급했듯이 전혀 연관성이 없느 속성들이 있다. 이들은 다른 값을 이용해도 복원할 수 없다.\n",
        "# 예를 들면 product_code가 measurement_3, measurement_9 는 복원할 수 없고 다른 값들은 자신을 제외한 다른 속성값과 measurement_17을 이용한다면,\n",
        "# 입력값에 결측이 없는 경우라면 완전히 복원이 가능하다.\n",
        "df_coef"
      ],
      "metadata": {
        "colab": {
          "base_uri": "https://localhost:8080/",
          "height": 206
        },
        "id": "CjR4c7lrz3H6",
        "outputId": "a7704af0-3af9-4f24-e0e4-9ad2553c2dfc"
      },
      "execution_count": 53,
      "outputs": [
        {
          "output_type": "execute_result",
          "data": {
            "text/plain": [
              "   measurement_3  measurement_4  measurement_5  measurement_6  measurement_7  \\\n",
              "A      -0.000000      13.889900      58.799689      25.783183      24.159662   \n",
              "B      17.638210      43.438211      33.969066       0.000000      86.457285   \n",
              "C       0.000000       0.000000      51.422378       6.155902      40.675152   \n",
              "D      23.709321       0.000000      62.671952      92.767519      47.316377   \n",
              "E       0.000000      57.690721      65.645406      76.064316       0.000000   \n",
              "\n",
              "   measurement_8  measurement_9  \n",
              "A      76.398904       0.000000  \n",
              "B       0.000000      25.768553  \n",
              "C      90.187790      35.520429  \n",
              "D      56.146184       0.000000  \n",
              "E      72.154153      18.920650  "
            ],
            "text/html": [
              "\n",
              "  <div id=\"df-fe50239b-edd1-4949-ad5f-e9fd0cf6aa38\">\n",
              "    <div class=\"colab-df-container\">\n",
              "      <div>\n",
              "<style scoped>\n",
              "    .dataframe tbody tr th:only-of-type {\n",
              "        vertical-align: middle;\n",
              "    }\n",
              "\n",
              "    .dataframe tbody tr th {\n",
              "        vertical-align: top;\n",
              "    }\n",
              "\n",
              "    .dataframe thead th {\n",
              "        text-align: right;\n",
              "    }\n",
              "</style>\n",
              "<table border=\"1\" class=\"dataframe\">\n",
              "  <thead>\n",
              "    <tr style=\"text-align: right;\">\n",
              "      <th></th>\n",
              "      <th>measurement_3</th>\n",
              "      <th>measurement_4</th>\n",
              "      <th>measurement_5</th>\n",
              "      <th>measurement_6</th>\n",
              "      <th>measurement_7</th>\n",
              "      <th>measurement_8</th>\n",
              "      <th>measurement_9</th>\n",
              "    </tr>\n",
              "  </thead>\n",
              "  <tbody>\n",
              "    <tr>\n",
              "      <th>A</th>\n",
              "      <td>-0.000000</td>\n",
              "      <td>13.889900</td>\n",
              "      <td>58.799689</td>\n",
              "      <td>25.783183</td>\n",
              "      <td>24.159662</td>\n",
              "      <td>76.398904</td>\n",
              "      <td>0.000000</td>\n",
              "    </tr>\n",
              "    <tr>\n",
              "      <th>B</th>\n",
              "      <td>17.638210</td>\n",
              "      <td>43.438211</td>\n",
              "      <td>33.969066</td>\n",
              "      <td>0.000000</td>\n",
              "      <td>86.457285</td>\n",
              "      <td>0.000000</td>\n",
              "      <td>25.768553</td>\n",
              "    </tr>\n",
              "    <tr>\n",
              "      <th>C</th>\n",
              "      <td>0.000000</td>\n",
              "      <td>0.000000</td>\n",
              "      <td>51.422378</td>\n",
              "      <td>6.155902</td>\n",
              "      <td>40.675152</td>\n",
              "      <td>90.187790</td>\n",
              "      <td>35.520429</td>\n",
              "    </tr>\n",
              "    <tr>\n",
              "      <th>D</th>\n",
              "      <td>23.709321</td>\n",
              "      <td>0.000000</td>\n",
              "      <td>62.671952</td>\n",
              "      <td>92.767519</td>\n",
              "      <td>47.316377</td>\n",
              "      <td>56.146184</td>\n",
              "      <td>0.000000</td>\n",
              "    </tr>\n",
              "    <tr>\n",
              "      <th>E</th>\n",
              "      <td>0.000000</td>\n",
              "      <td>57.690721</td>\n",
              "      <td>65.645406</td>\n",
              "      <td>76.064316</td>\n",
              "      <td>0.000000</td>\n",
              "      <td>72.154153</td>\n",
              "      <td>18.920650</td>\n",
              "    </tr>\n",
              "  </tbody>\n",
              "</table>\n",
              "</div>\n",
              "      <button class=\"colab-df-convert\" onclick=\"convertToInteractive('df-fe50239b-edd1-4949-ad5f-e9fd0cf6aa38')\"\n",
              "              title=\"Convert this dataframe to an interactive table.\"\n",
              "              style=\"display:none;\">\n",
              "        \n",
              "  <svg xmlns=\"http://www.w3.org/2000/svg\" height=\"24px\"viewBox=\"0 0 24 24\"\n",
              "       width=\"24px\">\n",
              "    <path d=\"M0 0h24v24H0V0z\" fill=\"none\"/>\n",
              "    <path d=\"M18.56 5.44l.94 2.06.94-2.06 2.06-.94-2.06-.94-.94-2.06-.94 2.06-2.06.94zm-11 1L8.5 8.5l.94-2.06 2.06-.94-2.06-.94L8.5 2.5l-.94 2.06-2.06.94zm10 10l.94 2.06.94-2.06 2.06-.94-2.06-.94-.94-2.06-.94 2.06-2.06.94z\"/><path d=\"M17.41 7.96l-1.37-1.37c-.4-.4-.92-.59-1.43-.59-.52 0-1.04.2-1.43.59L10.3 9.45l-7.72 7.72c-.78.78-.78 2.05 0 2.83L4 21.41c.39.39.9.59 1.41.59.51 0 1.02-.2 1.41-.59l7.78-7.78 2.81-2.81c.8-.78.8-2.07 0-2.86zM5.41 20L4 18.59l7.72-7.72 1.47 1.35L5.41 20z\"/>\n",
              "  </svg>\n",
              "      </button>\n",
              "      \n",
              "  <style>\n",
              "    .colab-df-container {\n",
              "      display:flex;\n",
              "      flex-wrap:wrap;\n",
              "      gap: 12px;\n",
              "    }\n",
              "\n",
              "    .colab-df-convert {\n",
              "      background-color: #E8F0FE;\n",
              "      border: none;\n",
              "      border-radius: 50%;\n",
              "      cursor: pointer;\n",
              "      display: none;\n",
              "      fill: #1967D2;\n",
              "      height: 32px;\n",
              "      padding: 0 0 0 0;\n",
              "      width: 32px;\n",
              "    }\n",
              "\n",
              "    .colab-df-convert:hover {\n",
              "      background-color: #E2EBFA;\n",
              "      box-shadow: 0px 1px 2px rgba(60, 64, 67, 0.3), 0px 1px 3px 1px rgba(60, 64, 67, 0.15);\n",
              "      fill: #174EA6;\n",
              "    }\n",
              "\n",
              "    [theme=dark] .colab-df-convert {\n",
              "      background-color: #3B4455;\n",
              "      fill: #D2E3FC;\n",
              "    }\n",
              "\n",
              "    [theme=dark] .colab-df-convert:hover {\n",
              "      background-color: #434B5C;\n",
              "      box-shadow: 0px 1px 3px 1px rgba(0, 0, 0, 0.15);\n",
              "      filter: drop-shadow(0px 1px 2px rgba(0, 0, 0, 0.3));\n",
              "      fill: #FFFFFF;\n",
              "    }\n",
              "  </style>\n",
              "\n",
              "      <script>\n",
              "        const buttonEl =\n",
              "          document.querySelector('#df-fe50239b-edd1-4949-ad5f-e9fd0cf6aa38 button.colab-df-convert');\n",
              "        buttonEl.style.display =\n",
              "          google.colab.kernel.accessAllowed ? 'block' : 'none';\n",
              "\n",
              "        async function convertToInteractive(key) {\n",
              "          const element = document.querySelector('#df-fe50239b-edd1-4949-ad5f-e9fd0cf6aa38');\n",
              "          const dataTable =\n",
              "            await google.colab.kernel.invokeFunction('convertToInteractive',\n",
              "                                                     [key], {});\n",
              "          if (!dataTable) return;\n",
              "\n",
              "          const docLinkHtml = 'Like what you see? Visit the ' +\n",
              "            '<a target=\"_blank\" href=https://colab.research.google.com/notebooks/data_table.ipynb>data table notebook</a>'\n",
              "            + ' to learn more about interactive tables.';\n",
              "          element.innerHTML = '';\n",
              "          dataTable['output_type'] = 'display_data';\n",
              "          await google.colab.output.renderOutput(dataTable, element);\n",
              "          const docLink = document.createElement('div');\n",
              "          docLink.innerHTML = docLinkHtml;\n",
              "          element.appendChild(docLink);\n",
              "        }\n",
              "      </script>\n",
              "    </div>\n",
              "  </div>\n",
              "  "
            ]
          },
          "metadata": {},
          "execution_count": 53
        }
      ]
    },
    {
      "cell_type": "code",
      "source": [
        "lr = LinearRegression()\n",
        "for k, v in df_coef.iterrows():\n",
        "    rel_cols = df_coef.columns[v.values != 0] # 복원을 할 수 있는 열, 즉 회귀계수가 0이 아닌 열 들을 뽑아 보자.\n",
        "    print(k, v.values, rel_cols)\n",
        "    df_prod = df_examine.loc[df_examine['product_code'] == k]\n",
        "    train_error = []\n",
        "    recover_cnt = []\n",
        "    for col in rel_cols: # 복원할 수 있는 열 들을 하나하나씩 회귀모델을 만들어 복원작업을 돌리자.\n",
        "        X_cols = [i for i in rel_cols if col != i] + ['measurement_17'] # 복원 대상을 제외한 입력 속성들만 뽑자, measurement_17은 모두 넣도록 하자.\n",
        "        lr.fit(df_prod[X_cols], df_prod[col])\n",
        "        target_cond = df_optional[col].isna() & df_optional[X_cols].notna().all(axis=1) & (df_optional['product_code'] == k)\n",
        "        if target_cond.sum() == 0:\n",
        "            continue\n",
        "        train_error.append(mean_squared_error(df_prod[col], lr.predict(df_prod[X_cols])))\n",
        "        recover_cnt.append(target_cond.sum())\n",
        "        df_optional.loc[target_cond, col] = lr.predict(df_optional.loc[target_cond, X_cols].fillna(0))\n",
        "    print(train_error, recover_cnt)"
      ],
      "metadata": {
        "colab": {
          "base_uri": "https://localhost:8080/"
        },
        "id": "Nztp-gfv0qoB",
        "outputId": "ee6a950f-ba31-45e0-da5f-d0c1923ecf32"
      },
      "execution_count": 54,
      "outputs": [
        {
          "output_type": "stream",
          "name": "stdout",
          "text": [
            "A [-0.         13.88990012 58.79968924 25.78318324 24.15966165 76.39890398\n",
            "  0.        ] Index(['measurement_4', 'measurement_5', 'measurement_6', 'measurement_7',\n",
            "       'measurement_8'],\n",
            "      dtype='object')\n",
            "[0.0026022170944758117, 0.0001601881723599166, 0.000803429963261852, 0.0009057186446917824, 9.563857338564942e-05] [83, 120, 148, 140, 154]\n",
            "B [17.63821044 43.43821149 33.96906643  0.         86.45728502  0.\n",
            " 25.76855271] Index(['measurement_3', 'measurement_4', 'measurement_5', 'measurement_7',\n",
            "       'measurement_9'],\n",
            "      dtype='object')\n",
            "[0.0017148765648858958, 0.000297973790041269, 0.0004823720320238151, 7.68761650253593e-05, 0.0008253672868783111] [68, 79, 91, 156, 210]\n",
            "C [ 0.          0.         51.42237822  6.15590156 40.67515231 90.18778957\n",
            " 35.52042918] Index(['measurement_5', 'measurement_6', 'measurement_7', 'measurement_8',\n",
            "       'measurement_9'],\n",
            "      dtype='object')\n",
            "[0.00021271769731825171, 0.011438749521479828, 0.0003373864961868344, 7.030800228130399e-05, 0.0004399335242893331] [123, 146, 140, 181, 228]\n",
            "D [23.70932099  0.         62.67195241 92.76751898 47.31637707 56.14618422\n",
            "  0.        ] Index(['measurement_3', 'measurement_5', 'measurement_6', 'measurement_7',\n",
            "       'measurement_8'],\n",
            "      dtype='object')\n",
            "[0.0009987359921155145, 0.0001497094810347323, 6.917755600733013e-05, 0.00026086192017403206, 0.0001861671049804501] [53, 88, 121, 142, 150]\n",
            "E [ 0.         57.69072149 65.64540559 76.06431605  0.         72.15415319\n",
            " 18.9206499 ] Index(['measurement_4', 'measurement_5', 'measurement_6', 'measurement_8',\n",
            "       'measurement_9'],\n",
            "      dtype='object')\n",
            "[0.0001901755881420822, 0.0001475293147490092, 0.00011010641114962305, 0.00012232734019822965, 0.0016559889220347825] [95, 106, 117, 176, 194]\n"
          ]
        }
      ]
    },
    {
      "cell_type": "code",
      "source": [
        "df_optional[m_cols].isna().sum().sum()"
      ],
      "metadata": {
        "colab": {
          "base_uri": "https://localhost:8080/"
        },
        "id": "AgRxlq9aT7GT",
        "outputId": "357e7cd2-3e96-4681-a641-3219f9940e46"
      },
      "execution_count": 55,
      "outputs": [
        {
          "output_type": "execute_result",
          "data": {
            "text/plain": [
              "2294"
            ]
          },
          "metadata": {},
          "execution_count": 55
        }
      ]
    },
    {
      "cell_type": "markdown",
      "source": [
        "# 문제 1.\n",
        "\n",
        "(basetable을 사용) measurement_3~16 까지 결측 여부가 failure에 영향이 있는 지를 파악하고자 한다.\n",
        "\n",
        "이를 확인하기 위하여, \n",
        "\n",
        "n이 3 부터 16까지, 다음의 검증을 수행한다.\n",
        "\n",
        "$H_0: P(measurement\\_\\{n\\}=Missing|failure=True) = P(measurement\\_\\{n\\}=Missing|failure=False)$\n",
        "\n",
        "$H_1: P(measurement\\_\\{n\\}=Missing|failure=True) \\not= P(measurement\\_\\{n\\}=Missing|failure=False)$\n",
        "\n",
        "※ 본 문제는 kaggle의 [TPSAUG22 EDA which makes sense](https://www.kaggle.com/code/ambrosm/tpsaug22-eda-which-makes-sense) 코드 분석을 기반으로 만들어졌습니다.\n"
      ],
      "metadata": {
        "id": "9X-QzE9wRZzn"
      }
    },
    {
      "cell_type": "markdown",
      "source": [
        "## 단계 1.\n",
        "\n",
        "우선, measurement_3 속성 하나로 위 검증을 시행하자.\n",
        "\n",
        "P_missing_true는 failure가 1일 때 measurement_3가 결측일 확률\n",
        "\n",
        "P_missing_false는 failure가 0 일때 measurement_3가 결측일 확률\n",
        "\n",
        "\n",
        "이라고 할 때 이 값을 구하라."
      ],
      "metadata": {
        "id": "wX826iTkRxdf"
      }
    },
    {
      "cell_type": "code",
      "source": [
        "df_prob = pd.crosstab(df_basetable['measurement_3'].isna(), df_basetable['failure']) # 비율을 구하기 위해 crosstab으로 빈도를 구한다.\n",
        "df_prob"
      ],
      "metadata": {
        "colab": {
          "base_uri": "https://localhost:8080/",
          "height": 143
        },
        "id": "fWs8Kz2wRwpZ",
        "outputId": "1fcab4aa-d0d1-41ba-a4d0-84b84b95679f"
      },
      "execution_count": 56,
      "outputs": [
        {
          "output_type": "execute_result",
          "data": {
            "text/plain": [
              "failure            0     1\n",
              "measurement_3             \n",
              "False          20601  5588\n",
              "True             320    61"
            ],
            "text/html": [
              "\n",
              "  <div id=\"df-c3715f78-5d2f-455d-b779-4fab74159706\">\n",
              "    <div class=\"colab-df-container\">\n",
              "      <div>\n",
              "<style scoped>\n",
              "    .dataframe tbody tr th:only-of-type {\n",
              "        vertical-align: middle;\n",
              "    }\n",
              "\n",
              "    .dataframe tbody tr th {\n",
              "        vertical-align: top;\n",
              "    }\n",
              "\n",
              "    .dataframe thead th {\n",
              "        text-align: right;\n",
              "    }\n",
              "</style>\n",
              "<table border=\"1\" class=\"dataframe\">\n",
              "  <thead>\n",
              "    <tr style=\"text-align: right;\">\n",
              "      <th>failure</th>\n",
              "      <th>0</th>\n",
              "      <th>1</th>\n",
              "    </tr>\n",
              "    <tr>\n",
              "      <th>measurement_3</th>\n",
              "      <th></th>\n",
              "      <th></th>\n",
              "    </tr>\n",
              "  </thead>\n",
              "  <tbody>\n",
              "    <tr>\n",
              "      <th>False</th>\n",
              "      <td>20601</td>\n",
              "      <td>5588</td>\n",
              "    </tr>\n",
              "    <tr>\n",
              "      <th>True</th>\n",
              "      <td>320</td>\n",
              "      <td>61</td>\n",
              "    </tr>\n",
              "  </tbody>\n",
              "</table>\n",
              "</div>\n",
              "      <button class=\"colab-df-convert\" onclick=\"convertToInteractive('df-c3715f78-5d2f-455d-b779-4fab74159706')\"\n",
              "              title=\"Convert this dataframe to an interactive table.\"\n",
              "              style=\"display:none;\">\n",
              "        \n",
              "  <svg xmlns=\"http://www.w3.org/2000/svg\" height=\"24px\"viewBox=\"0 0 24 24\"\n",
              "       width=\"24px\">\n",
              "    <path d=\"M0 0h24v24H0V0z\" fill=\"none\"/>\n",
              "    <path d=\"M18.56 5.44l.94 2.06.94-2.06 2.06-.94-2.06-.94-.94-2.06-.94 2.06-2.06.94zm-11 1L8.5 8.5l.94-2.06 2.06-.94-2.06-.94L8.5 2.5l-.94 2.06-2.06.94zm10 10l.94 2.06.94-2.06 2.06-.94-2.06-.94-.94-2.06-.94 2.06-2.06.94z\"/><path d=\"M17.41 7.96l-1.37-1.37c-.4-.4-.92-.59-1.43-.59-.52 0-1.04.2-1.43.59L10.3 9.45l-7.72 7.72c-.78.78-.78 2.05 0 2.83L4 21.41c.39.39.9.59 1.41.59.51 0 1.02-.2 1.41-.59l7.78-7.78 2.81-2.81c.8-.78.8-2.07 0-2.86zM5.41 20L4 18.59l7.72-7.72 1.47 1.35L5.41 20z\"/>\n",
              "  </svg>\n",
              "      </button>\n",
              "      \n",
              "  <style>\n",
              "    .colab-df-container {\n",
              "      display:flex;\n",
              "      flex-wrap:wrap;\n",
              "      gap: 12px;\n",
              "    }\n",
              "\n",
              "    .colab-df-convert {\n",
              "      background-color: #E8F0FE;\n",
              "      border: none;\n",
              "      border-radius: 50%;\n",
              "      cursor: pointer;\n",
              "      display: none;\n",
              "      fill: #1967D2;\n",
              "      height: 32px;\n",
              "      padding: 0 0 0 0;\n",
              "      width: 32px;\n",
              "    }\n",
              "\n",
              "    .colab-df-convert:hover {\n",
              "      background-color: #E2EBFA;\n",
              "      box-shadow: 0px 1px 2px rgba(60, 64, 67, 0.3), 0px 1px 3px 1px rgba(60, 64, 67, 0.15);\n",
              "      fill: #174EA6;\n",
              "    }\n",
              "\n",
              "    [theme=dark] .colab-df-convert {\n",
              "      background-color: #3B4455;\n",
              "      fill: #D2E3FC;\n",
              "    }\n",
              "\n",
              "    [theme=dark] .colab-df-convert:hover {\n",
              "      background-color: #434B5C;\n",
              "      box-shadow: 0px 1px 3px 1px rgba(0, 0, 0, 0.15);\n",
              "      filter: drop-shadow(0px 1px 2px rgba(0, 0, 0, 0.3));\n",
              "      fill: #FFFFFF;\n",
              "    }\n",
              "  </style>\n",
              "\n",
              "      <script>\n",
              "        const buttonEl =\n",
              "          document.querySelector('#df-c3715f78-5d2f-455d-b779-4fab74159706 button.colab-df-convert');\n",
              "        buttonEl.style.display =\n",
              "          google.colab.kernel.accessAllowed ? 'block' : 'none';\n",
              "\n",
              "        async function convertToInteractive(key) {\n",
              "          const element = document.querySelector('#df-c3715f78-5d2f-455d-b779-4fab74159706');\n",
              "          const dataTable =\n",
              "            await google.colab.kernel.invokeFunction('convertToInteractive',\n",
              "                                                     [key], {});\n",
              "          if (!dataTable) return;\n",
              "\n",
              "          const docLinkHtml = 'Like what you see? Visit the ' +\n",
              "            '<a target=\"_blank\" href=https://colab.research.google.com/notebooks/data_table.ipynb>data table notebook</a>'\n",
              "            + ' to learn more about interactive tables.';\n",
              "          element.innerHTML = '';\n",
              "          dataTable['output_type'] = 'display_data';\n",
              "          await google.colab.output.renderOutput(dataTable, element);\n",
              "          const docLink = document.createElement('div');\n",
              "          docLink.innerHTML = docLinkHtml;\n",
              "          element.appendChild(docLink);\n",
              "        }\n",
              "      </script>\n",
              "    </div>\n",
              "  </div>\n",
              "  "
            ]
          },
          "metadata": {},
          "execution_count": 56
        }
      ]
    },
    {
      "cell_type": "code",
      "source": [
        "s_samples = df_prob.sum(axis=0) # 성공여부에 대한 합을 구한다.\n",
        "prob = (df_prob.loc[True] / s_samples).values # 비율을 구한다\n",
        "P_missing_false= prob[0]\n",
        "P_missing_true = prob[1]\n",
        "s_samples, P_missing_false, P_missing_true"
      ],
      "metadata": {
        "id": "LcGO3OHjRZbY",
        "colab": {
          "base_uri": "https://localhost:8080/"
        },
        "outputId": "baf333cf-45bd-465c-8d2d-5777c858da2e"
      },
      "execution_count": 57,
      "outputs": [
        {
          "output_type": "execute_result",
          "data": {
            "text/plain": [
              "(failure\n",
              " 0    20921\n",
              " 1     5649\n",
              " dtype: int64, 0.01529563596386406, 0.010798371393166932)"
            ]
          },
          "metadata": {},
          "execution_count": 57
        }
      ]
    },
    {
      "cell_type": "markdown",
      "source": [
        "## 단계 2\n",
        "\n",
        "위 가설은 다음과 같이 \n",
        "\n",
        "$H_0: P\\_missing\\_false - P\\_missing\\_true = 0$\n",
        "\n",
        "$H_1: P\\_missing\\_false - P\\_missing\\_true \\not= 0$\n",
        "\n",
        "으로 바꿀 수 있다. \n",
        "\n",
        "중심극한정리(Central Limit Theorem)이 충분히 성립함이 이견이 없다고 할 때, \n",
        "\n",
        "P_missing_false - P_missing_true의 분산을 구하고 이를 바탕으로 구하고, \n",
        "\n",
        "정규분포를 사용하여 위 가설에 대한 p-value를 구하라.\n",
        "\n",
        "* Hint: scipy.stats.norm 모듈을 활용"
      ],
      "metadata": {
        "id": "PTUDSV64WOMO"
      }
    },
    {
      "cell_type": "code",
      "source": [
        "# 위 사건은 베르눌리 분포에 해당하고, P_missing_false_var는 확률이다. 이에 대한 분산은 p(1-p)를 이용\n",
        "# 샘플 평균에 대한(P_missing_false는 missing을 1로 할 때에 대한 평균이라고 할 수 있다) 분산은 모분산/샘플 수이다.\n",
        "P_missing_false_var = (P_missing_false) * (1 - P_missing_false) / s_samples[0] \n",
        "P_missing_true_var = (P_missing_true) * (1 - P_missing_true) / s_samples[1]\n",
        "\n",
        "P_var = P_missing_false_var + P_missing_true_var # 두 사건이 독립이므로: VAR(X-Y) = VAR(X) + VAR(-Y) = VAR(X) + VAR(Y)"
      ],
      "metadata": {
        "id": "nvMrw-araVNS"
      },
      "execution_count": 58,
      "outputs": []
    },
    {
      "cell_type": "code",
      "source": [
        "from scipy.stats import norm"
      ],
      "metadata": {
        "id": "rN58lZ3TeFej"
      },
      "execution_count": 59,
      "outputs": []
    },
    {
      "cell_type": "code",
      "source": [
        "# 양측 검증이므로 절대값을 취하여 작은 값의 누적확률을 구하고 여기에 2를 곱한다.\n",
        "# norm.cdf의 scale은 표준 편차임을 유의하자.\n",
        "norm.cdf(-abs(P_missing_true - P_missing_false), loc=0, scale=P_var ** 0.5) * 2"
      ],
      "metadata": {
        "colab": {
          "base_uri": "https://localhost:8080/"
        },
        "id": "Cuo3h3zPftqr",
        "outputId": "077762bc-f845-4a84-812d-fa990b406f3e"
      },
      "execution_count": 60,
      "outputs": [
        {
          "output_type": "execute_result",
          "data": {
            "text/plain": [
              "0.005381119615351366"
            ]
          },
          "metadata": {},
          "execution_count": 60
        }
      ]
    },
    {
      "cell_type": "markdown",
      "source": [
        "## 단계 3\n",
        "\n",
        "measuremenet_4 ~ 9 까지 위 검증을 반복하고 결측치가 유의한 차이를 보인 속성의 p_value의 합을 구하여 A라고 한다. (유의 수준은 5%로 한다.)\n",
        "\n",
        "결측치에 대한 유의한 차이를 보이는 속성은 총 두 개이고, 속성 번호가 작은 것에 대한 결측유무의 속성명을 na_1으로 큰 것을 na_2로 하는 속성 2개을 (basetable)에 추가하고 (결측: 1, 비결측: 0), 이 데이터셋의 명을 prob_1 이라고 한다"
      ],
      "metadata": {
        "id": "O-9ee5BubHaJ"
      }
    },
    {
      "cell_type": "code",
      "source": [
        "sel_na_feat = [] # 유의미한 속성명을 저장한다.\n",
        "p_val_sum = 0 # 유의미한 속성의 pvalue를 저장한다.\n",
        "for i in range(3, 10):\n",
        "    df_prob = pd.crosstab(df_basetable['measurement_{}'.format(i)].isna(), df_basetable['failure']) \n",
        "    s_samples = df_prob.sum(axis=0)\n",
        "    prob = (df_prob.loc[True] / s_samples).values\n",
        "    P_missing_false= prob[0]\n",
        "    P_missing_true = prob[1]\n",
        "    P_missing_false_var = (P_missing_false) * (1 - P_missing_false) / s_samples[0] \n",
        "    P_missing_true_var = (P_missing_true) * (1 - P_missing_true) / s_samples[1]\n",
        "\n",
        "    P_var = P_missing_false_var + P_missing_true_var \n",
        "\n",
        "    p_val = norm.cdf(-abs(P_missing_true - P_missing_false), loc=0, scale=P_var ** 0.5) * 2 \n",
        "    if (p_val < 0.05):\n",
        "        print(i, p_val)\n",
        "        sel_na_feat.append(i)\n",
        "        p_val_sum += p_val\n",
        "    else:\n",
        "        print(i, p_val, \"x\")"
      ],
      "metadata": {
        "colab": {
          "base_uri": "https://localhost:8080/"
        },
        "id": "UwHl7W5KhkER",
        "outputId": "556aae5a-eef7-48c2-ef20-8a582752a12b"
      },
      "execution_count": 61,
      "outputs": [
        {
          "output_type": "stream",
          "name": "stdout",
          "text": [
            "3 0.005381119615351366\n",
            "4 0.1640078890010257 x\n",
            "5 0.011640088208378058\n",
            "6 0.8771576941613572 x\n",
            "7 0.8566216983356773 x\n",
            "8 0.708683049716051 x\n",
            "9 0.12439234283366417 x\n"
          ]
        }
      ]
    },
    {
      "cell_type": "markdown",
      "source": [
        "A의 값을 소수점 3째 짜리까지 반올림하여 출력한다.\n",
        "\n",
        "Ex) 0.052"
      ],
      "metadata": {
        "id": "uExfgkYbkm1f"
      }
    },
    {
      "cell_type": "code",
      "source": [
        "round(p_val_sum, 3)"
      ],
      "metadata": {
        "colab": {
          "base_uri": "https://localhost:8080/"
        },
        "id": "WUOsqHZEkfvo",
        "outputId": "d676deae-6ad2-44d1-f426-3117f629caf8"
      },
      "execution_count": 62,
      "outputs": [
        {
          "output_type": "execute_result",
          "data": {
            "text/plain": [
              "0.017"
            ]
          },
          "metadata": {},
          "execution_count": 62
        }
      ]
    },
    {
      "cell_type": "code",
      "source": [
        "df_prob_1 = df_basetable.copy()\n",
        "df_prob_1['na_1'] = df_basetable['measurement_{}'.format(sel_na_feat[0])].isna() * 1\n",
        "df_prob_1['na_2'] = df_basetable['measurement_{}'.format(sel_na_feat[1])].isna() * 1\n",
        "df_prob_1[['na_1', 'na_2']].describe()"
      ],
      "metadata": {
        "colab": {
          "base_uri": "https://localhost:8080/",
          "height": 300
        },
        "id": "BZD_Ycd5k8SR",
        "outputId": "03ef7431-2cd7-4066-90cc-0cfade3f3b6a"
      },
      "execution_count": 63,
      "outputs": [
        {
          "output_type": "execute_result",
          "data": {
            "text/plain": [
              "               na_1          na_2\n",
              "count  26570.000000  26570.000000\n",
              "mean       0.014339      0.025442\n",
              "std        0.118888      0.157467\n",
              "min        0.000000      0.000000\n",
              "25%        0.000000      0.000000\n",
              "50%        0.000000      0.000000\n",
              "75%        0.000000      0.000000\n",
              "max        1.000000      1.000000"
            ],
            "text/html": [
              "\n",
              "  <div id=\"df-1f783a41-1fc6-4472-80a6-d03300f6a282\">\n",
              "    <div class=\"colab-df-container\">\n",
              "      <div>\n",
              "<style scoped>\n",
              "    .dataframe tbody tr th:only-of-type {\n",
              "        vertical-align: middle;\n",
              "    }\n",
              "\n",
              "    .dataframe tbody tr th {\n",
              "        vertical-align: top;\n",
              "    }\n",
              "\n",
              "    .dataframe thead th {\n",
              "        text-align: right;\n",
              "    }\n",
              "</style>\n",
              "<table border=\"1\" class=\"dataframe\">\n",
              "  <thead>\n",
              "    <tr style=\"text-align: right;\">\n",
              "      <th></th>\n",
              "      <th>na_1</th>\n",
              "      <th>na_2</th>\n",
              "    </tr>\n",
              "  </thead>\n",
              "  <tbody>\n",
              "    <tr>\n",
              "      <th>count</th>\n",
              "      <td>26570.000000</td>\n",
              "      <td>26570.000000</td>\n",
              "    </tr>\n",
              "    <tr>\n",
              "      <th>mean</th>\n",
              "      <td>0.014339</td>\n",
              "      <td>0.025442</td>\n",
              "    </tr>\n",
              "    <tr>\n",
              "      <th>std</th>\n",
              "      <td>0.118888</td>\n",
              "      <td>0.157467</td>\n",
              "    </tr>\n",
              "    <tr>\n",
              "      <th>min</th>\n",
              "      <td>0.000000</td>\n",
              "      <td>0.000000</td>\n",
              "    </tr>\n",
              "    <tr>\n",
              "      <th>25%</th>\n",
              "      <td>0.000000</td>\n",
              "      <td>0.000000</td>\n",
              "    </tr>\n",
              "    <tr>\n",
              "      <th>50%</th>\n",
              "      <td>0.000000</td>\n",
              "      <td>0.000000</td>\n",
              "    </tr>\n",
              "    <tr>\n",
              "      <th>75%</th>\n",
              "      <td>0.000000</td>\n",
              "      <td>0.000000</td>\n",
              "    </tr>\n",
              "    <tr>\n",
              "      <th>max</th>\n",
              "      <td>1.000000</td>\n",
              "      <td>1.000000</td>\n",
              "    </tr>\n",
              "  </tbody>\n",
              "</table>\n",
              "</div>\n",
              "      <button class=\"colab-df-convert\" onclick=\"convertToInteractive('df-1f783a41-1fc6-4472-80a6-d03300f6a282')\"\n",
              "              title=\"Convert this dataframe to an interactive table.\"\n",
              "              style=\"display:none;\">\n",
              "        \n",
              "  <svg xmlns=\"http://www.w3.org/2000/svg\" height=\"24px\"viewBox=\"0 0 24 24\"\n",
              "       width=\"24px\">\n",
              "    <path d=\"M0 0h24v24H0V0z\" fill=\"none\"/>\n",
              "    <path d=\"M18.56 5.44l.94 2.06.94-2.06 2.06-.94-2.06-.94-.94-2.06-.94 2.06-2.06.94zm-11 1L8.5 8.5l.94-2.06 2.06-.94-2.06-.94L8.5 2.5l-.94 2.06-2.06.94zm10 10l.94 2.06.94-2.06 2.06-.94-2.06-.94-.94-2.06-.94 2.06-2.06.94z\"/><path d=\"M17.41 7.96l-1.37-1.37c-.4-.4-.92-.59-1.43-.59-.52 0-1.04.2-1.43.59L10.3 9.45l-7.72 7.72c-.78.78-.78 2.05 0 2.83L4 21.41c.39.39.9.59 1.41.59.51 0 1.02-.2 1.41-.59l7.78-7.78 2.81-2.81c.8-.78.8-2.07 0-2.86zM5.41 20L4 18.59l7.72-7.72 1.47 1.35L5.41 20z\"/>\n",
              "  </svg>\n",
              "      </button>\n",
              "      \n",
              "  <style>\n",
              "    .colab-df-container {\n",
              "      display:flex;\n",
              "      flex-wrap:wrap;\n",
              "      gap: 12px;\n",
              "    }\n",
              "\n",
              "    .colab-df-convert {\n",
              "      background-color: #E8F0FE;\n",
              "      border: none;\n",
              "      border-radius: 50%;\n",
              "      cursor: pointer;\n",
              "      display: none;\n",
              "      fill: #1967D2;\n",
              "      height: 32px;\n",
              "      padding: 0 0 0 0;\n",
              "      width: 32px;\n",
              "    }\n",
              "\n",
              "    .colab-df-convert:hover {\n",
              "      background-color: #E2EBFA;\n",
              "      box-shadow: 0px 1px 2px rgba(60, 64, 67, 0.3), 0px 1px 3px 1px rgba(60, 64, 67, 0.15);\n",
              "      fill: #174EA6;\n",
              "    }\n",
              "\n",
              "    [theme=dark] .colab-df-convert {\n",
              "      background-color: #3B4455;\n",
              "      fill: #D2E3FC;\n",
              "    }\n",
              "\n",
              "    [theme=dark] .colab-df-convert:hover {\n",
              "      background-color: #434B5C;\n",
              "      box-shadow: 0px 1px 3px 1px rgba(0, 0, 0, 0.15);\n",
              "      filter: drop-shadow(0px 1px 2px rgba(0, 0, 0, 0.3));\n",
              "      fill: #FFFFFF;\n",
              "    }\n",
              "  </style>\n",
              "\n",
              "      <script>\n",
              "        const buttonEl =\n",
              "          document.querySelector('#df-1f783a41-1fc6-4472-80a6-d03300f6a282 button.colab-df-convert');\n",
              "        buttonEl.style.display =\n",
              "          google.colab.kernel.accessAllowed ? 'block' : 'none';\n",
              "\n",
              "        async function convertToInteractive(key) {\n",
              "          const element = document.querySelector('#df-1f783a41-1fc6-4472-80a6-d03300f6a282');\n",
              "          const dataTable =\n",
              "            await google.colab.kernel.invokeFunction('convertToInteractive',\n",
              "                                                     [key], {});\n",
              "          if (!dataTable) return;\n",
              "\n",
              "          const docLinkHtml = 'Like what you see? Visit the ' +\n",
              "            '<a target=\"_blank\" href=https://colab.research.google.com/notebooks/data_table.ipynb>data table notebook</a>'\n",
              "            + ' to learn more about interactive tables.';\n",
              "          element.innerHTML = '';\n",
              "          dataTable['output_type'] = 'display_data';\n",
              "          await google.colab.output.renderOutput(dataTable, element);\n",
              "          const docLink = document.createElement('div');\n",
              "          docLink.innerHTML = docLinkHtml;\n",
              "          element.appendChild(docLink);\n",
              "        }\n",
              "      </script>\n",
              "    </div>\n",
              "  </div>\n",
              "  "
            ]
          },
          "metadata": {},
          "execution_count": 63
        }
      ]
    },
    {
      "cell_type": "markdown",
      "source": [
        "## 단계 4 (Optional)\n",
        "\n",
        "measurement_3~measurement_16까지, 결측치수가 failure와 연관성이 있을지 검증하시오."
      ],
      "metadata": {
        "id": "5ooCnr1Vi9YL"
      }
    },
    {
      "cell_type": "code",
      "source": [
        "from scipy.stats import chi2_contingency"
      ],
      "metadata": {
        "id": "JTS5o4MJk9ZD"
      },
      "execution_count": 64,
      "outputs": []
    },
    {
      "cell_type": "code",
      "source": [
        "df_conti_na = pd.crosstab(index=df_prob_1[['measurement_{}'.format(i) for i in range(3, 17)]].isna().sum(axis=1),\n",
        "                          columns=df_prob_1['failure'])\n",
        "chi2_contingency(df_conti_na)"
      ],
      "metadata": {
        "colab": {
          "base_uri": "https://localhost:8080/"
        },
        "id": "42MDbCxIkV73",
        "outputId": "442f158b-3c5e-45d5-b714-b978f6cf61ed"
      },
      "execution_count": 65,
      "outputs": [
        {
          "output_type": "execute_result",
          "data": {
            "text/plain": [
              "(9.660337889713894,\n",
              " 0.1397040591113054,\n",
              " 6,\n",
              " array([[1.05707349e+04, 2.85426515e+03],\n",
              "        [7.35738893e+03, 1.98661107e+03],\n",
              "        [2.43382804e+03, 6.57171961e+02],\n",
              "        [5.00781182e+02, 1.35218818e+02],\n",
              "        [5.19678585e+01, 1.40321415e+01],\n",
              "        [5.51174257e+00, 1.48825743e+00],\n",
              "        [7.87391795e-01, 2.12608205e-01]]))"
            ]
          },
          "metadata": {},
          "execution_count": 65
        }
      ]
    },
    {
      "cell_type": "markdown",
      "source": [
        "# 문제 2\n",
        "\n"
      ],
      "metadata": {
        "id": "6BiHbT8wPepf"
      }
    },
    {
      "cell_type": "markdown",
      "source": [
        "두가지 사항을  확인하고자 한다.\n",
        "\n",
        "첫째는 실험에 대해 공평하게 진행이 됐는지를 의문을 가지고 있어 product_code에 대해서 loading을 동일한 조건으로 진행했는지를 조사하라.\n",
        "\n",
        "분산분석(ANOVA)을 통해 진행을 해보고, 조사의 적합성을 살펴보기 위해, 분산분석의 가정에 얼마나 부합하는지를 보고하라고 덧붙였다. \n",
        "\n",
        "둘째는, 조사결과 attribute_0와 attribute_1은 failure와는 관계가 있는지를 조사하는데,해당 재료들의 조합은 이전의 여러 실험에서 성능에 차이가 없다는 결과가 있어 유의 수준을 1%로 정했다.\n"
      ],
      "metadata": {
        "id": "4P_kpdtN9aAS"
      }
    },
    {
      "cell_type": "markdown",
      "source": [
        "## 단계 1\n",
        "\n",
        "prob_1에서 loading 값이 결측이 아닌 값을 뽑아 prob_2 데이터프레임을 만들고, 검증은 prob_2를 통해 진행한다.\n",
        "\n",
        "prob_2에 loading 속성에 로그 함수를 적용하여 loading_log 컬럼을 만들어, 좌측으로 치우친 loading의 분포를 보다 정규분포 형태로 변환을 한다.\n",
        "\n",
        "- np.log 함수를 사용한다."
      ],
      "metadata": {
        "id": "1a6h3NOqHJj3"
      }
    },
    {
      "cell_type": "code",
      "source": [
        "df_prob_2 = df_prob_1.loc[df_prob_1['loading'].notna()].copy()\n",
        "df_prob_2['loading_log'] = np.log(df_prob_2['loading'])"
      ],
      "metadata": {
        "id": "WedrtuvJHYSC"
      },
      "execution_count": 66,
      "outputs": []
    },
    {
      "cell_type": "markdown",
      "source": [
        "## 단계 2"
      ],
      "metadata": {
        "id": "znKnezYwCBWa"
      }
    },
    {
      "cell_type": "markdown",
      "source": [
        "(prob_1을 이용) 일원분산분석을 진행을 위해서, loading_log 열이 일원산분산분석의 가정인  product_code 내에서 동일한 분산이 성립하는지 조사하고자 한다.\n",
        "\n",
        "Bartlett 검정 방법으로, 조사했을 때의  pvalue를 구하고 이 값을 B라고 한다.\n",
        "\n",
        "- scipy.stats.bartlett 함수를 이용라."
      ],
      "metadata": {
        "id": "0Moj3yS4Calg"
      }
    },
    {
      "cell_type": "code",
      "source": [
        "from scipy.stats import bartlett"
      ],
      "metadata": {
        "id": "AXVyKEv1H-w0"
      },
      "execution_count": 67,
      "outputs": []
    },
    {
      "cell_type": "code",
      "source": [
        "# 무식\n",
        "v_A = df_prob_2.loc[df_prob_2['product_code'] == \"A\", 'loading_log']\n",
        "v_B = df_prob_2.loc[df_prob_2['product_code'] == \"B\", 'loading_log']\n",
        "v_C = df_prob_2.loc[df_prob_2['product_code'] == \"C\", 'loading_log']\n",
        "v_D = df_prob_2.loc[df_prob_2['product_code'] == \"D\", 'loading_log']\n",
        "v_E = df_prob_2.loc[df_prob_2['product_code'] == \"E\", 'loading_log']\n",
        "\n",
        "bartlett(v_A, v_B, v_C, v_D, v_E)"
      ],
      "metadata": {
        "colab": {
          "base_uri": "https://localhost:8080/"
        },
        "id": "c4ZbXT1UIB_x",
        "outputId": "e88e6909-79bd-44ff-e888-21e8d0c8e2d8"
      },
      "execution_count": 68,
      "outputs": [
        {
          "output_type": "execute_result",
          "data": {
            "text/plain": [
              "BartlettResult(statistic=3.0374125206089695, pvalue=0.5515841437603531)"
            ]
          },
          "metadata": {},
          "execution_count": 68
        }
      ]
    },
    {
      "cell_type": "code",
      "source": [
        "# 쪼금 쎄련\n",
        "v_list = []\n",
        "for i in df_prob_2['product_code'].unique():\n",
        "    v_list.append(df_prob_2.loc[df_prob_2['product_code'] == i, \"loading_log\"])\n",
        "bartlett(*v_list)"
      ],
      "metadata": {
        "colab": {
          "base_uri": "https://localhost:8080/"
        },
        "id": "nntArnpGIbrY",
        "outputId": "11ef0740-7a16-41af-d0db-328dd52bb6b7"
      },
      "execution_count": 69,
      "outputs": [
        {
          "output_type": "execute_result",
          "data": {
            "text/plain": [
              "BartlettResult(statistic=3.0374125206089695, pvalue=0.5515841437603531)"
            ]
          },
          "metadata": {},
          "execution_count": 69
        }
      ]
    },
    {
      "cell_type": "code",
      "source": [
        "# 쎄련\n",
        "bartlett(*df_prob_2.groupby('product_code')['loading_log'].agg(list).tolist())"
      ],
      "metadata": {
        "colab": {
          "base_uri": "https://localhost:8080/"
        },
        "id": "6WCMseJICAyv",
        "outputId": "79c1495f-3ace-44d7-c948-59b13f041549"
      },
      "execution_count": 70,
      "outputs": [
        {
          "output_type": "execute_result",
          "data": {
            "text/plain": [
              "BartlettResult(statistic=3.0374125206089695, pvalue=0.5515841437603531)"
            ]
          },
          "metadata": {},
          "execution_count": 70
        }
      ]
    },
    {
      "cell_type": "code",
      "source": [
        "res = bartlett(*df_prob_2.groupby('product_code')['loading_log'].agg(list).tolist())\n",
        "B = res.pvalue"
      ],
      "metadata": {
        "id": "1OYgSVjtJ2QI"
      },
      "execution_count": 71,
      "outputs": []
    },
    {
      "cell_type": "markdown",
      "source": [
        "## 단계 3\n",
        "\n",
        "loading_log가 product_code 각각에 대해 정규성을 지니고 있는지 확인하고자 한다. jarque_bera test로 검증하고 결과의 p-value가 0.05가 넘는 열의 수를 C라고 하자.\n",
        "\n",
        "- scipy.stats.jarque_bera 함수를 이용하라."
      ],
      "metadata": {
        "id": "jETocsSqHC4Y"
      }
    },
    {
      "cell_type": "code",
      "source": [
        "from scipy.stats import jarque_bera"
      ],
      "metadata": {
        "id": "Vz2WeJO3KasZ"
      },
      "execution_count": 72,
      "outputs": []
    },
    {
      "cell_type": "code",
      "source": [
        "# 쪼금 세련 버젼\n",
        "v_list = []\n",
        "for i in df_prob_2['product_code'].unique():\n",
        "    v_list.append(jarque_bera(df_prob_2.loc[df_prob_2['product_code'] == i, \"loading_log\"])[1])\n",
        "C = np.sum(np.array(v_list) > 0.05)\n",
        "C"
      ],
      "metadata": {
        "colab": {
          "base_uri": "https://localhost:8080/"
        },
        "id": "fbYkgUSrr_Ay",
        "outputId": "80b061f3-8a6a-46b4-805f-88365ebb4c58"
      },
      "execution_count": 73,
      "outputs": [
        {
          "output_type": "execute_result",
          "data": {
            "text/plain": [
              "4"
            ]
          },
          "metadata": {},
          "execution_count": 73
        }
      ]
    },
    {
      "cell_type": "code",
      "source": [
        "# 쎄련 버젼\n",
        "C = (df_prob_2.groupby('product_code')['loading_log'].apply(lambda x: jarque_bera(x)[1]) > 0.05).sum()\n",
        "C"
      ],
      "metadata": {
        "colab": {
          "base_uri": "https://localhost:8080/"
        },
        "id": "66IfbqdpKG-A",
        "outputId": "25acf0d1-b180-4272-edc9-77042052fba2"
      },
      "execution_count": 74,
      "outputs": [
        {
          "output_type": "execute_result",
          "data": {
            "text/plain": [
              "4"
            ]
          },
          "metadata": {},
          "execution_count": 74
        }
      ]
    },
    {
      "cell_type": "markdown",
      "source": [
        "## 단계 4\n",
        "\n",
        "product_code에 대해서 분산분석을 통해서 loading_log 평균의 차이가 나는 지를 확인하고, 해당 검증의 pvalue를 D라고 한다.\n",
        "\n",
        "- scipy.stats.f_oneway 를 이용하라."
      ],
      "metadata": {
        "id": "E7jrsOb-NgYX"
      }
    },
    {
      "cell_type": "code",
      "source": [
        "from scipy.stats import f_oneway"
      ],
      "metadata": {
        "id": "q92HH38qPZkb"
      },
      "execution_count": 75,
      "outputs": []
    },
    {
      "cell_type": "code",
      "source": [
        "res = f_oneway(*df_prob_2.groupby('product_code')['loading_log'].agg(list).tolist())\n",
        "D = res.pvalue\n",
        "D"
      ],
      "metadata": {
        "colab": {
          "base_uri": "https://localhost:8080/"
        },
        "id": "tesyQV3AOkA3",
        "outputId": "cbc84230-58a1-44e7-d053-c07b77e307cb"
      },
      "execution_count": 76,
      "outputs": [
        {
          "output_type": "execute_result",
          "data": {
            "text/plain": [
              "0.6738197224743324"
            ]
          },
          "metadata": {},
          "execution_count": 76
        }
      ]
    },
    {
      "cell_type": "markdown",
      "source": [
        "## 단계 5\n",
        "\n",
        "chi2 분포를 이용한 동질성 검사를 통해 attirubute_0, attribute_1의 조합이 failure에 영향이  있는지 chi2 동질석 검사를 진행하라. 연관성이 있다고 할 수 있으면 E 값은 1로 아니면 0으로 한다.\n",
        "\n",
        "- 유의 수준은 1%로 한다.\n",
        "\n",
        "- scipy.stats.chi2_contingency 를 이용하고, correction은 False로 한다."
      ],
      "metadata": {
        "id": "vTqxt8an8WWB"
      }
    },
    {
      "cell_type": "code",
      "source": [
        "from scipy.stats import chi2_contingency"
      ],
      "metadata": {
        "id": "fBY6F5pwBRGh"
      },
      "execution_count": 77,
      "outputs": []
    },
    {
      "cell_type": "code",
      "source": [
        "df_conti = pd.crosstab(index=df_prob_1['attribute_0'].str.cat(df_prob_1['attribute_1']), columns=df_prob_1['failure'])\n",
        "res = chi2_contingency(df_conti)\n",
        "E = 1 if res[0] < 0.01 else 0\n",
        "res, E"
      ],
      "metadata": {
        "colab": {
          "base_uri": "https://localhost:8080/"
        },
        "id": "9ZOq2Fzu0NzZ",
        "outputId": "16fadce1-b328-42c2-eb2b-2348c0e91a7e"
      },
      "execution_count": 78,
      "outputs": [
        {
          "output_type": "execute_result",
          "data": {
            "text/plain": [
              "((9.049932287226607,\n",
              "  0.028634323451681147,\n",
              "  3,\n",
              "  array([[4133.8069251 , 1116.1930749 ],\n",
              "         [4025.14685736, 1086.85314264],\n",
              "         [4207.03436206, 1135.96563794],\n",
              "         [8555.01185548, 2309.98814452]])),\n",
              " 0)"
            ]
          },
          "metadata": {},
          "execution_count": 78
        }
      ]
    },
    {
      "cell_type": "markdown",
      "source": [
        "B + C + D + E 의 값을 소수점 3째 자리에서 반올림하여 2째 자리까지 출력하라. 합을 구한 후에 반올림을 진행해야 한다는 점을 유의하시오.\n",
        "\n",
        "예) 3.16"
      ],
      "metadata": {
        "id": "_ULjnzoxtxNp"
      }
    },
    {
      "cell_type": "code",
      "source": [
        "B + C + D + E"
      ],
      "metadata": {
        "id": "J3TOVwkjKoVQ",
        "colab": {
          "base_uri": "https://localhost:8080/"
        },
        "outputId": "e50faddd-f2ca-4599-8d1a-508d3704ef65"
      },
      "execution_count": 79,
      "outputs": [
        {
          "output_type": "execute_result",
          "data": {
            "text/plain": [
              "5.225403866234686"
            ]
          },
          "metadata": {},
          "execution_count": 79
        }
      ]
    },
    {
      "cell_type": "markdown",
      "source": [
        "# 문제 3"
      ],
      "metadata": {
        "id": "iBpxx56Vu3Hv"
      }
    },
    {
      "cell_type": "markdown",
      "source": [
        "로지스틱회귀모델로 수치형 measurement_0 ~ measurement_17과 loading와 불린형인 na_1, na_2 입력으로 하고, failure를 타깃으로 하는 분류 모델을 제작을 했는데, 제 성능을 내지 못했다.  다른 모델을 사용해보기 전에 효과가 있을 것이라고 생각되는 속성인 loading과 measurement_17으로 시작하여 효과가 있는 조합을 찾고자 한다. 선택되지 않은 속성을 하나 씩만 넣어보고 가장 효과가 큰 속성이 이전 단계보다 좋은 성능 냈다면 해당 속성을 추가 하고 선택 과정을 반복하고 그렇지 않으면 선택을 중단하는 전진선택법을 취하여 속성 조합을 찾기 위해 다음 단계를 진행하라.\n",
        "\n",
        "대상지표는 AUC(Area Under the ROC Curve) 를 사용한다.\n",
        "\n",
        "- sklearn.metrics.roc_auc_score"
      ],
      "metadata": {
        "id": "l7WYhVMbxWDt"
      }
    },
    {
      "cell_type": "code",
      "source": [
        "from sklearn.metrics import roc_auc_score"
      ],
      "metadata": {
        "id": "3WuXFpOl9SaW"
      },
      "execution_count": 80,
      "outputs": []
    },
    {
      "cell_type": "markdown",
      "source": [
        "## 단계 1\n",
        "\n",
        "prob_1 에서 80%는 학습 데이터 prob_3_train과 20%는 테스트 데이터 prob_3_test로  나누고, 표준스케일링 방법으로 학습 데이터의 입력 속성들 중에서 **수치형** 속성을 정규화하고, 학습 데이터에서 사용했던 표준스케일링 설정으로 테스트 데이터의 수치형 입력 속성들을 정규화한다. \n",
        "\n",
        "- sklearn.model_selection.train_test_split 함수 이용, random_state=123로 설정한다.\n",
        "\n",
        "- sklearn.preprocessing.StandardScaler"
      ],
      "metadata": {
        "id": "oD7u-tEPcIja"
      }
    },
    {
      "cell_type": "code",
      "source": [
        "from sklearn.model_selection import train_test_split\n",
        "from sklearn.preprocessing import StandardScaler"
      ],
      "metadata": {
        "id": "HPJEb_-F1dG-"
      },
      "execution_count": 81,
      "outputs": []
    },
    {
      "cell_type": "code",
      "source": [
        "X_cols_cont = ['measurement_{}'.format(i) for i in range(0, 18)] + ['loading']\n",
        "X_cols_bool = ['na_1', 'na_2']\n",
        "X_cols = X_cols_cont + X_cols_bool\n",
        "target = 'failure'\n",
        "\n",
        "df_prob_3_train, df_prob_3_test = train_test_split(df_prob_1, train_size=0.8, random_state=123)\n",
        "df_prob_3_train = df_prob_3_train.copy()\n",
        "df_prob_3_test = df_prob_3_test.copy()\n",
        "df_prob_3_train.shape, df_prob_3_test.shape"
      ],
      "metadata": {
        "colab": {
          "base_uri": "https://localhost:8080/"
        },
        "id": "MG91jzQbx_dF",
        "outputId": "b1cc8ac5-2a18-43b7-a657-3c4f36877469"
      },
      "execution_count": 82,
      "outputs": [
        {
          "output_type": "execute_result",
          "data": {
            "text/plain": [
              "((21256, 28), (5314, 28))"
            ]
          },
          "metadata": {},
          "execution_count": 82
        }
      ]
    },
    {
      "cell_type": "code",
      "source": [
        "std_scaler = StandardScaler()\n",
        "\n",
        "df_prob_3_train[X_cols_cont] = std_scaler.fit_transform(df_prob_3_train[X_cols_cont])\n",
        "df_prob_3_test[X_cols_cont] = std_scaler.transform(df_prob_3_test[X_cols_cont])"
      ],
      "metadata": {
        "id": "a5p0LRZPy4pQ"
      },
      "execution_count": 83,
      "outputs": []
    },
    {
      "cell_type": "markdown",
      "source": [
        "## 단계 2\n",
        "\n"
      ],
      "metadata": {
        "id": "0mO7Y7rNwu0d"
      }
    },
    {
      "cell_type": "markdown",
      "source": [
        "결측치 처리 방법를 모두 0 (표준 정규화를 했으므로 평균값이다) 으로 대체한 것과, KNNImputer를 사용한 것과의 성능차이를 비교하여 성능이 좋은 쪽으로 결측치를 처리한 다음에 진행하고자 한다. 모든 속성을 넣었을 때 로지스틱회귀모델은 제대로 된 결과를 내놓지 못하여, 이 보다 유연하게 구분 영역을 만들 수 있는 Decision Tree Classifier를 사용한다. 입력은 measurement_0 ~ measuremenet_17, loading, na_1, na_2 순으로 한다. \n",
        "최종적으로 좋은 성능을 보인 결측치 처리 방법으로 prob_3_train, prob_3_test를 교정한다. 문제 4에서도 이 데이터 셋을 사용하여 진행할 예정이다.\n",
        "\n",
        "- sklearn.tree.DecisionTreeClassifier random_state=123, max_depth=5 로 한다.\n",
        "\n",
        "- sklearn.impute.KNNImputer\n",
        "\n",
        "- df_prob_3_train, df_prob_3_test는 성능 비교 후에 처리 될 수 있도록 유의하시오"
      ],
      "metadata": {
        "id": "jPmyLgyQZBOK"
      }
    },
    {
      "cell_type": "code",
      "source": [
        "from sklearn.tree import DecisionTreeClassifier\n",
        "from sklearn.impute import KNNImputer"
      ],
      "metadata": {
        "id": "_aF25BEX8Tsu"
      },
      "execution_count": 84,
      "outputs": []
    },
    {
      "cell_type": "code",
      "source": [
        "df_prob_3_train_simple = df_prob_3_train.fillna(0)\n",
        "df_prob_3_test_simple = df_prob_3_test.fillna(0)"
      ],
      "metadata": {
        "id": "HWUZDNosYkWJ"
      },
      "execution_count": 85,
      "outputs": []
    },
    {
      "cell_type": "code",
      "source": [
        "dct = DecisionTreeClassifier(max_depth=5, random_state=123)\n",
        "dct.fit(df_prob_3_train_simple[X_cols], df_prob_3_train_simple['failure'])\n",
        "roc_auc_score(df_prob_3_train_simple['failure'], \n",
        "              dct.predict_proba(df_prob_3_train_simple[X_cols])[:, 1])"
      ],
      "metadata": {
        "colab": {
          "base_uri": "https://localhost:8080/"
        },
        "id": "da-FGrRv9BGm",
        "outputId": "a93b885d-cc58-458b-eaf5-d12c0b645038"
      },
      "execution_count": 86,
      "outputs": [
        {
          "output_type": "execute_result",
          "data": {
            "text/plain": [
              "0.6041446464909006"
            ]
          },
          "metadata": {},
          "execution_count": 86
        }
      ]
    },
    {
      "cell_type": "code",
      "source": [
        "roc_auc_score(df_prob_3_test_simple['failure'], \n",
        "              dct.predict_proba(df_prob_3_test_simple[X_cols])[:, 1])"
      ],
      "metadata": {
        "colab": {
          "base_uri": "https://localhost:8080/"
        },
        "id": "PTshZ5vn9uCt",
        "outputId": "52f1a23d-c7dc-4c21-a348-b7459ba2ecfd"
      },
      "execution_count": 87,
      "outputs": [
        {
          "output_type": "execute_result",
          "data": {
            "text/plain": [
              "0.5756305422120515"
            ]
          },
          "metadata": {},
          "execution_count": 87
        }
      ]
    },
    {
      "cell_type": "code",
      "source": [
        "df_prob_3_train_kni = df_prob_3_train.copy()\n",
        "df_prob_3_test_kni = df_prob_3_test.copy()\n",
        "df_prob_3_train_kni.isna().sum().sum()"
      ],
      "metadata": {
        "colab": {
          "base_uri": "https://localhost:8080/"
        },
        "id": "g2XxtaK499Ve",
        "outputId": "fc247231-623b-4a9d-d963-50ddd49c0371"
      },
      "execution_count": 88,
      "outputs": [
        {
          "output_type": "execute_result",
          "data": {
            "text/plain": [
              "14676"
            ]
          },
          "metadata": {},
          "execution_count": 88
        }
      ]
    },
    {
      "cell_type": "code",
      "source": [
        "knn_imp = KNNImputer()\n",
        "\n",
        "df_prob_3_train_kni[X_cols_cont] = knn_imp.fit_transform(df_prob_3_train_kni[X_cols_cont])\n",
        "df_prob_3_test_kni[X_cols_cont] = knn_imp.transform(df_prob_3_test_kni[X_cols_cont])"
      ],
      "metadata": {
        "id": "QcxmtLI1-D02"
      },
      "execution_count": 89,
      "outputs": []
    },
    {
      "cell_type": "code",
      "source": [
        "dct = DecisionTreeClassifier(max_depth=5, random_state=123)\n",
        "dct.fit(df_prob_3_train_kni[X_cols], df_prob_3_train_kni['failure'])\n",
        "roc_auc_score(df_prob_3_test_kni['failure'], \n",
        "              dct.predict_proba(df_prob_3_test_kni[X_cols])[:, 1])"
      ],
      "metadata": {
        "colab": {
          "base_uri": "https://localhost:8080/"
        },
        "id": "NjqTp4gy-fud",
        "outputId": "7c68e374-89db-4120-dca8-40e345df46f2"
      },
      "execution_count": 90,
      "outputs": [
        {
          "output_type": "execute_result",
          "data": {
            "text/plain": [
              "0.5789652194855709"
            ]
          },
          "metadata": {},
          "execution_count": 90
        }
      ]
    },
    {
      "cell_type": "code",
      "source": [
        "df_prob_3_train = df_prob_3_train_kni\n",
        "df_prob_3_test = df_prob_3_test_kni"
      ],
      "metadata": {
        "id": "dJY5YB9n_Vn1"
      },
      "execution_count": 91,
      "outputs": []
    },
    {
      "cell_type": "markdown",
      "source": [
        "## 단계 3\n",
        "\n"
      ],
      "metadata": {
        "id": "rVQqWMrJz0kW"
      }
    },
    {
      "cell_type": "markdown",
      "source": [
        "로지스틱회귀모델을 사용하여 입력 변수 중에서, loading과 measurement_17 만을 사용하여 학습하고 테스트에 대한 성능을 측정하라. 하고 해당 값을 best_auc 변\n",
        "수에 저장한다.\n",
        "\n",
        "\n",
        "- sklearn.linear_model.LogisticRegression 모든 설정은 기본\n"
      ],
      "metadata": {
        "id": "qP102ndUcPcT"
      }
    },
    {
      "cell_type": "code",
      "source": [
        "from sklearn.linear_model import LogisticRegression\n",
        "from sklearn.metrics import roc_auc_score"
      ],
      "metadata": {
        "id": "wahjsuKu1YhF"
      },
      "execution_count": 92,
      "outputs": []
    },
    {
      "cell_type": "code",
      "source": [
        "clf = LogisticRegression()\n",
        "clf.fit(df_prob_3_train[['loading', 'measurement_17']], df_prob_3_train[target])\n",
        "roc_auc_score(df_prob_3_train[target], clf.predict_proba(df_prob_3_train[['loading', 'measurement_17']])[:, 1])"
      ],
      "metadata": {
        "colab": {
          "base_uri": "https://localhost:8080/"
        },
        "id": "uzDxrayDls3G",
        "outputId": "7320d377-20de-41a8-b712-2a39e297c122"
      },
      "execution_count": 93,
      "outputs": [
        {
          "output_type": "execute_result",
          "data": {
            "text/plain": [
              "0.5901563891548728"
            ]
          },
          "metadata": {},
          "execution_count": 93
        }
      ]
    },
    {
      "cell_type": "code",
      "source": [
        "best_auc = roc_auc_score(df_prob_3_test[target], clf.predict_proba(df_prob_3_test[['loading', 'measurement_17']])[:, 1])\n",
        "best_auc"
      ],
      "metadata": {
        "colab": {
          "base_uri": "https://localhost:8080/"
        },
        "id": "cyPuU_f_l9PL",
        "outputId": "801eb7d1-2f8a-4a73-c094-321bb7a3bdfa"
      },
      "execution_count": 94,
      "outputs": [
        {
          "output_type": "execute_result",
          "data": {
            "text/plain": [
              "0.5896601269797431"
            ]
          },
          "metadata": {},
          "execution_count": 94
        }
      ]
    },
    {
      "cell_type": "markdown",
      "source": [
        "## 단계 4\n",
        "\n",
        "문제 3 서두에서 설명한 속성 선택법으로 속성을 선택하고 best_auc를 갱신하고 이 값을 소수점 넷째 자리에서 반올림하여, 3째 짜리까지 출력하라. 그리고, 테스트 결과에 대한 failure가 1일 확률을 저장하여 prob_3_test에 저장한다.\n",
        "\n",
        "Ex) 0.123"
      ],
      "metadata": {
        "id": "HKdS_gKX1-zM"
      }
    },
    {
      "cell_type": "code",
      "source": [
        "sel_feat = ['loading', 'measurement_17']\n",
        "clf = LogisticRegression()\n",
        "\n",
        "while True:\n",
        "    step_best = 0\n",
        "    step_sel_feat = None\n",
        "    for i in X_cols:\n",
        "        if i in sel_feat:\n",
        "            continue\n",
        "        cur_feat = sel_feat + [i]\n",
        "        clf.fit(df_prob_3_train[cur_feat], df_prob_3_train[target])\n",
        "        cur_auc = roc_auc_score(df_prob_3_test[target], clf.predict_proba(df_prob_3_test[cur_feat])[:, 1])\n",
        "        if step_best < cur_auc:\n",
        "            step_best = cur_auc\n",
        "            step_sel_feat = cur_feat\n",
        "    if step_best <= best_auc:\n",
        "        break\n",
        "    sel_feat = step_sel_feat\n",
        "    best_auc = step_best\n",
        "    print(step_best, step_sel_feat)"
      ],
      "metadata": {
        "colab": {
          "base_uri": "https://localhost:8080/"
        },
        "id": "i7hRWO3n1-T9",
        "outputId": "b8e69b3b-d156-4957-a3d2-ec98df9d7669"
      },
      "execution_count": 95,
      "outputs": [
        {
          "output_type": "stream",
          "name": "stdout",
          "text": [
            "0.5907461703869561 ['loading', 'measurement_17', 'measurement_1']\n",
            "0.5917933751557656 ['loading', 'measurement_17', 'measurement_1', 'na_2']\n",
            "0.592515075145573 ['loading', 'measurement_17', 'measurement_1', 'na_2', 'measurement_2']\n",
            "0.5932803401689337 ['loading', 'measurement_17', 'measurement_1', 'na_2', 'measurement_2', 'measurement_0']\n",
            "0.5938082579576055 ['loading', 'measurement_17', 'measurement_1', 'na_2', 'measurement_2', 'measurement_0', 'measurement_9']\n",
            "0.5941756838066304 ['loading', 'measurement_17', 'measurement_1', 'na_2', 'measurement_2', 'measurement_0', 'measurement_9', 'measurement_4']\n",
            "0.5943904265427775 ['loading', 'measurement_17', 'measurement_1', 'na_2', 'measurement_2', 'measurement_0', 'measurement_9', 'measurement_4', 'measurement_14']\n",
            "0.5944999556129847 ['loading', 'measurement_17', 'measurement_1', 'na_2', 'measurement_2', 'measurement_0', 'measurement_9', 'measurement_4', 'measurement_14', 'measurement_7']\n",
            "0.5945891406345042 ['loading', 'measurement_17', 'measurement_1', 'na_2', 'measurement_2', 'measurement_0', 'measurement_9', 'measurement_4', 'measurement_14', 'measurement_7', 'measurement_11']\n",
            "0.5946386650358548 ['loading', 'measurement_17', 'measurement_1', 'na_2', 'measurement_2', 'measurement_0', 'measurement_9', 'measurement_4', 'measurement_14', 'measurement_7', 'measurement_11', 'measurement_13']\n"
          ]
        }
      ]
    },
    {
      "cell_type": "code",
      "source": [
        "round(best_auc, 3)"
      ],
      "metadata": {
        "colab": {
          "base_uri": "https://localhost:8080/"
        },
        "id": "GD4PeoPmfCsD",
        "outputId": "55c6c51a-acf0-44c3-c84c-82a73183424c"
      },
      "execution_count": 96,
      "outputs": [
        {
          "output_type": "execute_result",
          "data": {
            "text/plain": [
              "0.595"
            ]
          },
          "metadata": {},
          "execution_count": 96
        }
      ]
    },
    {
      "cell_type": "markdown",
      "source": [
        "## 단계 5 (Optional)\n",
        "\n",
        "전처리 단계 3에서 나온 df_optional 데이터프레임으로 KNNImputer를 사용하여 단계 1과 2에서 KNNImputer로 했을 경우와 성능을 비교해보자. 좋은 성능이 나왔다면\n",
        "속성 선택 과정까지 진행해보자."
      ],
      "metadata": {
        "id": "MfljnGbpKFhm"
      }
    },
    {
      "cell_type": "code",
      "source": [
        "X_cols_cont = ['measurement_{}'.format(i) for i in range(0, 18)] + ['loading']\n",
        "X_cols_bool = ['na_1', 'na_2']\n",
        "X_cols = X_cols_cont + X_cols_bool\n",
        "target = 'failure'\n",
        "\n",
        "df_optional['na_1'] = df_optional['measurement_{}'.format(sel_na_feat[0])].isna() * 1\n",
        "df_optional['na_2'] = df_optional['measurement_{}'.format(sel_na_feat[1])].isna() * 1\n",
        "\n",
        "df_optional_train, df_optional_test = train_test_split(df_optional, train_size=0.8, random_state=123)\n",
        "df_optional_train = df_optional_train.copy()\n",
        "df_optional_test = df_optional_test.copy()\n",
        "df_optional_train.shape, df_optional_test.shape"
      ],
      "metadata": {
        "colab": {
          "base_uri": "https://localhost:8080/"
        },
        "id": "HZAAf7m6KkF9",
        "outputId": "d7ec501a-7d33-4b09-d60a-38b4f424dc1f"
      },
      "execution_count": 97,
      "outputs": [
        {
          "output_type": "execute_result",
          "data": {
            "text/plain": [
              "((21256, 28), (5314, 28))"
            ]
          },
          "metadata": {},
          "execution_count": 97
        }
      ]
    },
    {
      "cell_type": "code",
      "source": [
        "std_scaler = StandardScaler()\n",
        "\n",
        "df_optional_train[X_cols_cont] = std_scaler.fit_transform(df_optional_train[X_cols_cont])\n",
        "df_optional_test[X_cols_cont] = std_scaler.transform(df_optional_test[X_cols_cont])"
      ],
      "metadata": {
        "id": "xq08OK5zLT0f"
      },
      "execution_count": 98,
      "outputs": []
    },
    {
      "cell_type": "code",
      "source": [
        "knn_imp = KNNImputer()\n",
        "\n",
        "df_optional_train[X_cols_cont] = knn_imp.fit_transform(df_optional_train[X_cols_cont])\n",
        "df_optional_test[X_cols_cont] = knn_imp.transform(df_optional_test[X_cols_cont])"
      ],
      "metadata": {
        "id": "nlpDNhIbLel2"
      },
      "execution_count": 99,
      "outputs": []
    },
    {
      "cell_type": "code",
      "source": [
        "dct = DecisionTreeClassifier(max_depth=5, random_state=123)\n",
        "dct.fit(df_optional_train[X_cols], df_optional_train['failure'])\n",
        "roc_auc_score(df_optional_test['failure'], \n",
        "              dct.predict_proba(df_optional_test[X_cols])[:, 1])"
      ],
      "metadata": {
        "colab": {
          "base_uri": "https://localhost:8080/"
        },
        "id": "vqKUDIN3LlTz",
        "outputId": "49219874-957b-48ad-dfd8-328880c94e21"
      },
      "execution_count": 100,
      "outputs": [
        {
          "output_type": "execute_result",
          "data": {
            "text/plain": [
              "0.5839618411405162"
            ]
          },
          "metadata": {},
          "execution_count": 100
        }
      ]
    },
    {
      "cell_type": "code",
      "source": [
        "clf = LogisticRegression()\n",
        "clf.fit(df_optional_train[['loading', 'measurement_17']], df_optional_train[target])\n",
        "roc_auc_score(df_optional_train[target], clf.predict_proba(df_optional_train[['loading', 'measurement_17']])[:, 1])\n",
        "\n",
        "best_auc = roc_auc_score(df_optional_test[target], clf.predict_proba(df_optional_test[['loading', 'measurement_17']])[:, 1])\n",
        "best_auc"
      ],
      "metadata": {
        "colab": {
          "base_uri": "https://localhost:8080/"
        },
        "id": "b-tdsNnfMAzH",
        "outputId": "168c9326-d534-4ebc-de55-a2a463039166"
      },
      "execution_count": 101,
      "outputs": [
        {
          "output_type": "execute_result",
          "data": {
            "text/plain": [
              "0.5899887141903644"
            ]
          },
          "metadata": {},
          "execution_count": 101
        }
      ]
    },
    {
      "cell_type": "code",
      "source": [
        "sel_feat = ['loading', 'measurement_17']\n",
        "clf = LogisticRegression()\n",
        "\n",
        "while True:\n",
        "    step_best = 0\n",
        "    step_sel_feat = None\n",
        "    for i in X_cols:\n",
        "        if i in sel_feat:\n",
        "            continue\n",
        "        cur_feat = sel_feat + [i]\n",
        "        clf.fit(df_optional_train[cur_feat], df_optional_train[target])\n",
        "        cur_auc = roc_auc_score(df_optional_test[target], clf.predict_proba(df_optional_test[cur_feat])[:, 1])\n",
        "        if step_best < cur_auc:\n",
        "            step_best = cur_auc\n",
        "            step_sel_feat = cur_feat\n",
        "    if step_best <= best_auc:\n",
        "        break\n",
        "    sel_feat = step_sel_feat\n",
        "    best_auc = step_best\n",
        "    print(step_best, step_sel_feat)"
      ],
      "metadata": {
        "colab": {
          "base_uri": "https://localhost:8080/"
        },
        "id": "UXQ7jbM4MQq_",
        "outputId": "6bd55e45-733b-4e39-c2c3-b101dff4006f"
      },
      "execution_count": 102,
      "outputs": [
        {
          "output_type": "stream",
          "name": "stdout",
          "text": [
            "0.5910702366978691 ['loading', 'measurement_17', 'measurement_1']\n",
            "0.5918985888217057 ['loading', 'measurement_17', 'measurement_1', 'measurement_2']\n",
            "0.5926476197052044 ['loading', 'measurement_17', 'measurement_1', 'measurement_2', 'measurement_0']\n",
            "0.5932495158527403 ['loading', 'measurement_17', 'measurement_1', 'measurement_2', 'measurement_0', 'measurement_9']\n",
            "0.5935676227958558 ['loading', 'measurement_17', 'measurement_1', 'measurement_2', 'measurement_0', 'measurement_9', 'measurement_4']\n",
            "0.5938425756963007 ['loading', 'measurement_17', 'measurement_1', 'measurement_2', 'measurement_0', 'measurement_9', 'measurement_4', 'measurement_14']\n",
            "0.5940320424931693 ['loading', 'measurement_17', 'measurement_1', 'measurement_2', 'measurement_0', 'measurement_9', 'measurement_4', 'measurement_14', 'na_2']\n",
            "0.5941471199402912 ['loading', 'measurement_17', 'measurement_1', 'measurement_2', 'measurement_0', 'measurement_9', 'measurement_4', 'measurement_14', 'na_2', 'measurement_11']\n",
            "0.5942410313569604 ['loading', 'measurement_17', 'measurement_1', 'measurement_2', 'measurement_0', 'measurement_9', 'measurement_4', 'measurement_14', 'na_2', 'measurement_11', 'measurement_7']\n",
            "0.5942825414361008 ['loading', 'measurement_17', 'measurement_1', 'measurement_2', 'measurement_0', 'measurement_9', 'measurement_4', 'measurement_14', 'na_2', 'measurement_11', 'measurement_7', 'measurement_13']\n"
          ]
        }
      ]
    },
    {
      "cell_type": "markdown",
      "source": [
        "# 문제 4\n",
        "\n"
      ],
      "metadata": {
        "id": "tVwd54bDv3TS"
      }
    },
    {
      "cell_type": "markdown",
      "source": [
        "PCA를 사용하여 차원 감소로 어떤 효과를 볼 수 있을 지 검증하고자 한다."
      ],
      "metadata": {
        "id": "OQDau5z-NIKe"
      }
    },
    {
      "cell_type": "markdown",
      "source": [
        "## 단계 1\n",
        "\n",
        "진행하기 전에 loading을 포함하지 포함하지 않을지를 확인하고자 한다. 분석가들 사이에 loading은 흡수력하고는 상관이 없으니 빼고 해야 하는 쪽과 loading에 따라 흡수력 세팅을 달리 했을 테니 포함하는 것이 좋다는 쪽으로 나뉘 었다. 이를 위해 흡수력에 따른 loading과의 상관도를 파악해 보기 위해 LinearDiscriminantAnalysis를 통해 loading을 제외하고 failure를 나누었을 때 나온 투영점과 loading과의 spearman correlation을 구하고, 이 때 pvalue를 F에 저장한다. prob_3_train 데이터프레임을 사용한다.\n",
        "\n",
        "- sklearn.discriminant_analysis.LinearDiscriminatAnalysis\n",
        "- scipy.stats.spearmanr"
      ],
      "metadata": {
        "id": "ljitV1uqtHx6"
      }
    },
    {
      "cell_type": "code",
      "source": [
        "from sklearn.discriminant_analysis import LinearDiscriminantAnalysis\n",
        "from scipy.stats import spearmanr"
      ],
      "metadata": {
        "id": "BGUdlNoqnEUC"
      },
      "execution_count": 103,
      "outputs": []
    },
    {
      "cell_type": "code",
      "source": [
        "lda = LinearDiscriminantAnalysis()\n",
        "all_m_cols = ['measurement_{}'.format(i) for i in range(0, 18)]"
      ],
      "metadata": {
        "id": "UdX_5hFJt913"
      },
      "execution_count": 104,
      "outputs": []
    },
    {
      "cell_type": "code",
      "source": [
        "lda.fit(df_prob_3_train[all_m_cols], df_prob_3_train['failure'])"
      ],
      "metadata": {
        "id": "baC4sgDgBvlw",
        "colab": {
          "base_uri": "https://localhost:8080/"
        },
        "outputId": "3b38d967-2b1b-4f40-8daa-7ba6a9528941"
      },
      "execution_count": 105,
      "outputs": [
        {
          "output_type": "execute_result",
          "data": {
            "text/plain": [
              "LinearDiscriminantAnalysis()"
            ]
          },
          "metadata": {},
          "execution_count": 105
        }
      ]
    },
    {
      "cell_type": "code",
      "source": [
        "roc_auc_score(df_prob_3_train['failure'], lda.predict_proba(df_prob_3_train[all_m_cols])[:, 1])"
      ],
      "metadata": {
        "id": "pzaW6_-mfzVl",
        "colab": {
          "base_uri": "https://localhost:8080/"
        },
        "outputId": "30869508-82e9-4486-b15f-7f42c25577cd"
      },
      "execution_count": 106,
      "outputs": [
        {
          "output_type": "execute_result",
          "data": {
            "text/plain": [
              "0.5335202939418473"
            ]
          },
          "metadata": {},
          "execution_count": 106
        }
      ]
    },
    {
      "cell_type": "code",
      "source": [
        "roc_auc_score(df_prob_3_test['failure'], lda.predict_proba(df_prob_3_test[all_m_cols])[:, 1])"
      ],
      "metadata": {
        "id": "-qMQvkR7dsAN",
        "colab": {
          "base_uri": "https://localhost:8080/"
        },
        "outputId": "f8dc3dee-3116-4b15-90af-c39de0c412e4"
      },
      "execution_count": 107,
      "outputs": [
        {
          "output_type": "execute_result",
          "data": {
            "text/plain": [
              "0.5216738096882059"
            ]
          },
          "metadata": {},
          "execution_count": 107
        }
      ]
    },
    {
      "cell_type": "code",
      "source": [
        "res = spearmanr(lda.transform(df_prob_3_train[all_m_cols])[:, 0],\n",
        "          df_prob_3_train['loading'])\n",
        "F = res.pvalue\n",
        "res, F"
      ],
      "metadata": {
        "id": "CAsz-iGgfj-Z",
        "colab": {
          "base_uri": "https://localhost:8080/"
        },
        "outputId": "ed1ec1f9-0af2-4558-c556-cb889b13762a"
      },
      "execution_count": 108,
      "outputs": [
        {
          "output_type": "execute_result",
          "data": {
            "text/plain": [
              "(SpearmanrResult(correlation=0.0045465663583843, pvalue=0.507440560217586),\n",
              " 0.507440560217586)"
            ]
          },
          "metadata": {},
          "execution_count": 108
        }
      ]
    },
    {
      "cell_type": "code",
      "source": [
        "from scipy.stats import pearsonr"
      ],
      "metadata": {
        "id": "frJBd01rYFxK"
      },
      "execution_count": 109,
      "outputs": []
    },
    {
      "cell_type": "code",
      "source": [
        "pearsonr(lda.transform(df_prob_3_train[all_m_cols])[:, 0],\n",
        "          df_prob_3_train['loading'])"
      ],
      "metadata": {
        "colab": {
          "base_uri": "https://localhost:8080/"
        },
        "id": "H2LrqOyRoaLG",
        "outputId": "40ee1ea3-0138-42f8-b572-6760f26c797f"
      },
      "execution_count": 110,
      "outputs": [
        {
          "output_type": "execute_result",
          "data": {
            "text/plain": [
              "(0.004114160360302859, 0.5486470618570178)"
            ]
          },
          "metadata": {},
          "execution_count": 110
        }
      ]
    },
    {
      "cell_type": "markdown",
      "source": [
        "## 단계 2\n",
        "\n",
        "prob_3_train으로 measurement_0~measurement_17까지 PCA를 진행하고, 50%이상의 분산을 설명할 수 있는 pca의 컴포넌트의 수를 G에 저장한다.\n",
        "\n",
        "- sklearn.decomposition.PCA"
      ],
      "metadata": {
        "id": "AeGoJZLZoLKI"
      }
    },
    {
      "cell_type": "code",
      "source": [
        "from sklearn.decomposition import PCA"
      ],
      "metadata": {
        "id": "9A5qZQegqG6G"
      },
      "execution_count": 111,
      "outputs": []
    },
    {
      "cell_type": "code",
      "source": [
        "pca_cols = ['measurement_{}'.format(i) for i in range(0, 18)]\n",
        "pca = PCA()"
      ],
      "metadata": {
        "id": "rwsFDxsOtXLc"
      },
      "execution_count": 112,
      "outputs": []
    },
    {
      "cell_type": "code",
      "source": [
        "pca.fit(df_prob_3_train[pca_cols])\n",
        "c_var_ratio_ = np.cumsum(pca.explained_variance_ratio_)\n",
        "c_var_ratio_"
      ],
      "metadata": {
        "id": "0fg0N5GIul3M",
        "colab": {
          "base_uri": "https://localhost:8080/"
        },
        "outputId": "7eeb3992-282b-49fc-e322-8a4a9af44bb0"
      },
      "execution_count": 113,
      "outputs": [
        {
          "output_type": "execute_result",
          "data": {
            "text/plain": [
              "array([0.10486835, 0.18159522, 0.24908721, 0.31218862, 0.37189656,\n",
              "       0.42910798, 0.48563414, 0.54171955, 0.59776626, 0.65293746,\n",
              "       0.70778585, 0.76247117, 0.81405106, 0.86378294, 0.90768346,\n",
              "       0.95061148, 0.99097572, 1.        ])"
            ]
          },
          "metadata": {},
          "execution_count": 113
        }
      ]
    },
    {
      "cell_type": "code",
      "source": [
        "G = np.sum(c_var_ratio_ < 0.5) + 1\n",
        "c_var_ratio_[G - 1], G"
      ],
      "metadata": {
        "id": "f2-EoysB2khb",
        "colab": {
          "base_uri": "https://localhost:8080/"
        },
        "outputId": "4410f855-d99b-4b76-95ef-5eb659cef4b1"
      },
      "execution_count": 114,
      "outputs": [
        {
          "output_type": "execute_result",
          "data": {
            "text/plain": [
              "(0.5417195525921475, 8)"
            ]
          },
          "metadata": {},
          "execution_count": 114
        }
      ]
    },
    {
      "cell_type": "markdown",
      "source": [
        "## 단계 3\n",
        "\n",
        "로지스틱회귀 분석을 사용하여 'loading' 속성과 PCA 컴포넌트수를 G부터 증가시켜서 failure에 대한 roc_auc_score에 대한 가장 좋은 prob_4_test에 대한 성능을 보이는 컴포넌트수 H를 구하라"
      ],
      "metadata": {
        "id": "b3bGg5TruP8o"
      }
    },
    {
      "cell_type": "code",
      "source": [
        "pca_train = pca.transform(df_prob_3_train[pca_cols])\n",
        "pca_test = pca.transform(df_prob_3_test[pca_cols])"
      ],
      "metadata": {
        "id": "Kf9OwjTbZvuV"
      },
      "execution_count": 115,
      "outputs": []
    },
    {
      "cell_type": "code",
      "source": [
        "df_pca_train = pd.DataFrame(pca_train,\n",
        "                            index=df_prob_3_train.index,\n",
        "                            columns=['pca_{}'.format(i) for i in range(0, 18)])\n",
        "df_pca_test = pd.DataFrame(pca_test,\n",
        "                            index=df_prob_3_test.index,\n",
        "                            columns=['pca_{}'.format(i) for i in range(0, 18)])\n",
        "\n",
        "df_pca_train[['loading', 'failure']] = df_prob_3_train[['loading', 'failure']]\n",
        "df_pca_test[['loading', 'failure']] = df_prob_3_test[['loading', 'failure']]"
      ],
      "metadata": {
        "id": "RRZ0CA1oMbBv"
      },
      "execution_count": 116,
      "outputs": []
    },
    {
      "cell_type": "code",
      "source": [
        "best_score = 0\n",
        "best_comp = 0\n",
        "lr = LogisticRegression()\n",
        "for i in range(G, 18):\n",
        "    sel_pca = df_pca_train.columns[:i].tolist() + ['loading']\n",
        "    lr.fit(df_pca_train[sel_pca], df_pca_train['failure'])\n",
        "    score_ = roc_auc_score(df_pca_test['failure'], lr.predict_proba(df_pca_test[sel_pca])[:, 1])\n",
        "    if score_ > best_score:\n",
        "        best_score = score_\n",
        "        best_comp = i\n",
        "    print(i, score_, best_score)\n",
        "H = best_comp"
      ],
      "metadata": {
        "id": "BCDGteEZ9213",
        "colab": {
          "base_uri": "https://localhost:8080/"
        },
        "outputId": "973a4b23-9022-473f-8d54-f90f96a188e7"
      },
      "execution_count": 117,
      "outputs": [
        {
          "output_type": "stream",
          "name": "stdout",
          "text": [
            "8 0.5946281847683491 0.5946281847683491\n",
            "9 0.5955888759563758 0.5955888759563758\n",
            "10 0.5949347839667525 0.5955888759563758\n",
            "11 0.5947948415712346 0.5955888759563758\n",
            "12 0.5944444718438366 0.5955888759563758\n",
            "13 0.5940910196848194 0.5955888759563758\n",
            "14 0.5940558799643588 0.5955888759563758\n",
            "15 0.5940392348336145 0.5955888759563758\n",
            "16 0.5941493803901454 0.5955888759563758\n",
            "17 0.5941304748095467 0.5955888759563758\n"
          ]
        }
      ]
    },
    {
      "cell_type": "markdown",
      "source": [
        "F + G + H 를 소수점 셋째 자리에서 반올림하여, 2째 자리까지 구하라."
      ],
      "metadata": {
        "id": "UW8-kzQkyq4w"
      }
    },
    {
      "cell_type": "code",
      "source": [
        "round(F + G + H, 2)"
      ],
      "metadata": {
        "colab": {
          "base_uri": "https://localhost:8080/"
        },
        "id": "smt49ztAykGt",
        "outputId": "00449951-7b46-4d76-b1c3-1b66474fdec5"
      },
      "execution_count": 118,
      "outputs": [
        {
          "output_type": "execute_result",
          "data": {
            "text/plain": [
              "17.51"
            ]
          },
          "metadata": {},
          "execution_count": 118
        }
      ]
    },
    {
      "cell_type": "markdown",
      "source": [
        "# 문제 5\n",
        "\n",
        "[Kaggle 형] train.csv을 학습 데이터로 사용하여, failure를 맞추는 분류 모델을 만들고, test.csv 테스트 데이터에 대한 failure일 확률을 다음과 같은 포맷으로 submission.csv라는 이름으로 만들어라. 측정에 대한 지표는 area under of ROC curve 이다.\n",
        "\n",
        "Id,failure\n",
        "\n",
        "26570, 0.1\n",
        "\n",
        "26571, 0.2\n",
        "\n",
        "....\n",
        "\n",
        "\n"
      ],
      "metadata": {
        "id": "psgkhsagSWX6"
      }
    },
    {
      "cell_type": "code",
      "source": [
        "df_prob_5_train = df_org.copy()\n",
        "df_prob_5_test = df_test.copy()"
      ],
      "metadata": {
        "id": "zgqd3i3m7Hyd"
      },
      "execution_count": 207,
      "outputs": []
    },
    {
      "cell_type": "code",
      "source": [
        "from sklearn.preprocessing import StandardScaler\n",
        "from sklearn.impute import KNNImputer"
      ],
      "metadata": {
        "id": "TAprG-aF8f5x"
      },
      "execution_count": 209,
      "outputs": []
    },
    {
      "cell_type": "code",
      "source": [
        "def preproc(df, std_scaler=None, knn_imputer=None):\n",
        "    # 전처리 단계의 코드를 가져와서 df_test에 대해서도 처리한다.\n",
        "    lr = Lasso()\n",
        "    pc_list = [] # coef 데이터프레임 구성을 위해 처리한 product_code 저장 \n",
        "    coef_list = [] # 마찬가지로 회귀계수 저장\n",
        "    impute_cnt = []\n",
        "    for k, v in df.dropna().groupby('product_code'): # groupby를 이용하여 product_code 별로 구분하여 데이터프레임의 행들을 나누어 가져온다.\n",
        "        lr.fit(v[m_cols],v['measurement_17']) # 학습\n",
        "        print(k, lr.coef_, r2_score(v['measurement_17'], lr.predict(v[m_cols]))) # 결과 확인\n",
        "        coef_ = lr.coef_.copy() # 복사\n",
        "        avail_cols = np.array(m_cols)[coef_ != 0] # 연관성이 있는 속성명을 뽑아 낸다, 작업을 편하게 하기 위해 list를 numpy array로 바꾼다.\n",
        "        pc_list.append(k) # 처리한 product_code를 저장\n",
        "        coef_list.append(coef_) # 도출한 회귀계수 저장 \n",
        "        # 현재 복원 스텝을 진행하는 product_code 에서 연관성이 있는 속성이 결측이 없고 measurement_17은 결측인 행을 뽑기 위한  Boolean 인덱싱 행을  만든다.\n",
        "        target_cond = (df['product_code'] == k) & df[avail_cols].notna().all(axis=1) & df['measurement_17'].isna()\n",
        "        impute_cnt.append(target_cond.sum())\n",
        "        # 결측치를 예측하고 입력한다. loc를 행을 선택후 값을 지정할 때에, 대입하는 값의 수가 일치하면, 인덱스와 상관없이 순서대로 대입이 되게 된다. \n",
        "        df.loc[target_cond, 'measurement_17'] = lr.predict(df.loc[target_cond][m_cols].fillna(0))\n",
        "    df_coef = pd.DataFrame(np.vstack(coef_list), columns=lr.feature_names_in_, index=pc_list) # coef 데이터프레밍 생성\n",
        "    df[['na_1', 'na_2']] = df[['measurement_3', 'measurement_5']].isna() * 1\n",
        "    X_std_cols = ['loading'] + ['measurement_{}'.format(i) for i in range(18)]\n",
        "    if std_scaler is None:\n",
        "        std_scaler = StandardScaler()\n",
        "        knn_imputer = KNNImputer()\n",
        "        df[X_std_cols] = std_scaler.fit_transform(df[X_std_cols])\n",
        "        df[X_std_cols] = knn_imputer.fit_transform(df[X_std_cols])\n",
        "    else:\n",
        "        df[X_std_cols] = std_scaler.transform(df[X_std_cols])\n",
        "        df[X_std_cols] = knn_imputer.transform(df[X_std_cols])\n",
        "    return df, std_scaler, knn_imputer, df_coef"
      ],
      "metadata": {
        "id": "eugA_2lX6x0f"
      },
      "execution_count": 210,
      "outputs": []
    },
    {
      "cell_type": "code",
      "source": [
        "df_prob_5_train_proc, std_scaler, knn_imputer, df_coef = preproc(df_prob_5_train)\n",
        "df_prob_5_test_proc, _, _, _ = preproc(df_prob_5_test, std_scaler, knn_imputer)"
      ],
      "metadata": {
        "colab": {
          "base_uri": "https://localhost:8080/"
        },
        "id": "tZs8Fo4-7umP",
        "outputId": "51b3df4f-6888-4536-8739-d490af455d36"
      },
      "execution_count": 211,
      "outputs": [
        {
          "output_type": "stream",
          "name": "stdout",
          "text": [
            "A [-0.         13.83187198 58.81809297 25.74675741 24.09935052 76.3016922\n",
            "  0.        ] 0.9995187098133933\n",
            "B [17.70043689 43.4580317  33.95620071  0.         86.48501665  0.\n",
            " 25.75857943] 0.9995778604871972\n",
            "C [ 0.          0.         51.38813886  6.16278066 40.71868984 90.19970609\n",
            " 35.5609767 ] 0.9996273421906502\n",
            "D [23.74687005 -0.         62.67768903 92.76582051 47.32698957 56.1575785\n",
            "  0.        ] 0.9997306028113272\n",
            "E [ 0.         57.70894625 65.67813663 76.08679497 -0.         72.16934824\n",
            " 18.93095817] 0.9997401972700377\n",
            "F [-0.         90.16468094 52.85990792 95.44555137 83.58526862  0.\n",
            " -0.        ] 0.9998193750765353\n",
            "G [-0.         63.23214378 18.89469775 78.03443654 -0.         64.65918236\n",
            " 49.00161611] 0.9997141225901649\n",
            "H [ 0.         57.99157424 58.42094608  0.         34.01989317 36.73290873\n",
            " 59.56024093] 0.9996183553658226\n",
            "I [34.8576455  18.57903816 -0.         -0.         32.25403768 73.67412295\n",
            " 19.35946393] 0.999400268363214\n"
          ]
        }
      ]
    },
    {
      "cell_type": "code",
      "source": [
        "from sklearn.linear_model import LogisticRegression\n",
        "\n",
        "clf = LogisticRegression()\n",
        "clf.fit(df_prob_5_train_proc[sel_feat], df_prob_5_train_proc['failure'])\n",
        "roc_auc_score(df_prob_5_train_proc['failure'], clf.predict_proba(df_prob_5_train_proc[sel_feat])[:, 1])"
      ],
      "metadata": {
        "colab": {
          "base_uri": "https://localhost:8080/"
        },
        "id": "d-vMsxBV9Z8g",
        "outputId": "4f32aa22-a2ec-44aa-aef5-bb273f088ccd"
      },
      "execution_count": 215,
      "outputs": [
        {
          "output_type": "execute_result",
          "data": {
            "text/plain": [
              "0.5924246088444954"
            ]
          },
          "metadata": {},
          "execution_count": 215
        }
      ]
    },
    {
      "cell_type": "code",
      "source": [
        "pd.DataFrame({'failure': clf.predict_proba(df_prob_5_test_proc[sel_feat])[:, 1]}, index=df_prob_5_test_proc.index).to_csv('submission.csv', index=True)\n",
        "!head submission.csv"
      ],
      "metadata": {
        "colab": {
          "base_uri": "https://localhost:8080/"
        },
        "id": "az41tZpc_CX3",
        "outputId": "4ae19bdd-118d-4b2f-8e00-d23785be2076"
      },
      "execution_count": 223,
      "outputs": [
        {
          "output_type": "stream",
          "name": "stdout",
          "text": [
            "id,failure\n",
            "26570,0.2024252783178391\n",
            "26571,0.15894565080828824\n",
            "26572,0.18712591195503184\n",
            "26573,0.18905675387948673\n",
            "26574,0.33866672114329643\n",
            "26575,0.16340052766725438\n",
            "26576,0.15571856119140876\n",
            "26577,0.23702050971513688\n",
            "26578,0.13477324581162625\n"
          ]
        }
      ]
    },
    {
      "cell_type": "code",
      "source": [
        "!kaggle competitions submit -c tabular-playground-series-aug-2022 -f submission.csv -m \"Message\""
      ],
      "metadata": {
        "colab": {
          "base_uri": "https://localhost:8080/"
        },
        "id": "iKB_z8y1_ymo",
        "outputId": "8b834069-2512-4cf8-9471-0cb4902d7e1d"
      },
      "execution_count": 224,
      "outputs": [
        {
          "output_type": "stream",
          "name": "stdout",
          "text": [
            "100% 520k/520k [00:00<00:00, 2.05MB/s]\n",
            "Successfully submitted to Tabular Playground Series - Aug 2022"
          ]
        }
      ]
    },
    {
      "cell_type": "markdown",
      "source": [
        "# 문제 6 [Optional]\n",
        "\n",
        "\n",
        "학습 / 검증 분리를 통한 결과 보다 치우침이 없는 교차 검증을 사용하여 최적화된 모델을 탐색하고자 한다. 다음과 같은 과정으로 진행한다."
      ],
      "metadata": {
        "id": "BoVxIqerTz8i"
      }
    },
    {
      "cell_type": "markdown",
      "source": [
        "## 단계 1\n",
        "prob_1 데이터셋을 prob_6 데이터셋으로 복사하고, 문제 3의 2단계에서 수행했던, KNNImputer를 통한 결측치 보간을 진행한다.\n",
        "\n",
        "- sklearn.imputer.KNNImputer"
      ],
      "metadata": {
        "id": "kQZZxUhIo6_Z"
      }
    },
    {
      "cell_type": "code",
      "source": [
        "df_prob_6 = df_prob_1.copy()\n",
        "imputer = KNNImputer()\n",
        "X_cols_impute = ['measurement_{}'.format(i) for i in range(3, 18)] + ['loading']\n",
        "df_prob_6[X_cols_impute] = imputer.fit_transform(df_prob_6[X_cols_impute])"
      ],
      "metadata": {
        "id": "gLjo-PfupRLI"
      },
      "execution_count": 151,
      "outputs": []
    },
    {
      "cell_type": "markdown",
      "source": [
        "## 단계 2\n",
        "\n",
        "loading과, measurement_0~measurement_17은 표준정규화를 수행하고, 학습에  대한 AUC와  테스트에 대한 failure가 1일 확률을 예측한 결과를 넘겨주는 함수를 만들어라.\n",
        "\n",
        "- sklearn.preprocessing.StandardScaler\n",
        "- sklearn.metrics.roc_auc_score"
      ],
      "metadata": {
        "id": "Z3Sg-IqsWtW6"
      }
    },
    {
      "cell_type": "code",
      "source": [
        "from sklearn.preprocessing import StandardScaler\n",
        "from sklearn.linear_model import LogisticRegression\n",
        "from sklearn.metrics import roc_auc_score\n",
        "from sklearn.model_selection import train_test_split"
      ],
      "metadata": {
        "id": "Zo8DxgHvmUXY"
      },
      "execution_count": 152,
      "outputs": []
    },
    {
      "cell_type": "code",
      "source": [
        "def train_n_eval(clf, df_train, df_test):\n",
        "    X_std_cols = ['measurement_{}'.format(i) for i in range(18)] + ['loading']\n",
        "    X_std_cols = [i for i in X_std_cols if i in df_train.columns]\n",
        "    df_train_proc = df_train.copy() # 넘어온 train 데이터를 유지하기 위함\n",
        "    df_test_proc = df_test.copy()\n",
        "    std_scaler = StandardScaler()\n",
        "    df_train_proc[X_std_cols] = std_scaler.fit_transform(df_train_proc[X_std_cols]) # 표준 스케일링\n",
        "    df_test_proc[X_std_cols] = std_scaler.transform(df_test_proc[X_std_cols])\n",
        "    X_cols =[i for i in df_train.columns if i != 'failure']\n",
        "    clf.fit(df_train_proc[X_cols], df_train_proc['failure']) # 학습\n",
        "    y_test_hat = clf.predict_proba(df_test_proc[X_cols])[:, 1]\n",
        "    return roc_auc_score(df_train_proc['failure'], clf.predict_proba(df_train_proc[X_cols])[:, 1]), \\\n",
        "        y_test_hat, roc_auc_score(df_test_proc['failure'], y_test_hat)"
      ],
      "metadata": {
        "id": "KDJBJUX3TzdC"
      },
      "execution_count": 173,
      "outputs": []
    },
    {
      "cell_type": "markdown",
      "source": [
        "## 단계 3\n",
        "\n",
        "product_code에 대한 그룹 5-fold 교차검증을 2단계에서 작성한 함수를 사용하여 LogisticRegression으로 진행한다.\n",
        "\n",
        "- sklearn.model_selection.GroupKFold, random_state=123\n",
        "- loading, measurement_0~measurement_17, na_1, na_2를 입력으로 하라."
      ],
      "metadata": {
        "id": "Aenw-0X3tLMA"
      }
    },
    {
      "cell_type": "code",
      "source": [
        "from sklearn.model_selection import GroupKFold"
      ],
      "metadata": {
        "id": "3BAzzbqGtaf5"
      },
      "execution_count": 174,
      "outputs": []
    },
    {
      "cell_type": "code",
      "source": [
        "kf = GroupKFold(n_splits=5) # GroupKFold 생성\n",
        "X_cols = ['loading'] + ['measurement_{}'.format(i) for i in range(18)] + ['na_1', 'na_2']\n",
        "train_auc_list = []\n",
        "auc_list = []\n",
        "y_hat_list = []\n",
        "for train_index, test_index in kf.split(df_prob_6[X_cols], df_prob_6['failure'], df_prob_6['product_code']): # product에 대한 GroupKFold를 수행\n",
        "    train_auc, y_hat, auc = train_n_eval(LogisticRegression(), \n",
        "                              df_prob_6.loc[train_index, X_cols + ['failure']], \n",
        "                              df_prob_6.loc[test_index, X_cols + ['failure']])\n",
        "    train_auc_list.append(train_auc)\n",
        "    y_hat_list.append(y_hat)\n",
        "    auc_list.append(auc)\n",
        "np.mean(auc_list)"
      ],
      "metadata": {
        "colab": {
          "base_uri": "https://localhost:8080/"
        },
        "id": "EXHJuMr4S-KR",
        "outputId": "f09aff65-ffae-40a4-ab88-97478b5a0a9e"
      },
      "execution_count": 181,
      "outputs": [
        {
          "output_type": "execute_result",
          "data": {
            "text/plain": [
              "0.5875354299791633"
            ]
          },
          "metadata": {},
          "execution_count": 181
        }
      ]
    },
    {
      "cell_type": "markdown",
      "source": [
        "## 단계 4\n",
        "\n",
        "최적의 RandomForestClassifier의 Hyper Parameter Tuning을 진행하고자 한다. \n",
        "\n",
        "탐색할 매개 변수는, \n",
        "\n",
        "n_estimators=[5, 10, 15]와, Decision Tree의 max_depth=[5, 6, 7], 그리고 min_samples_split = [512, 1024] 로 한다.\n",
        "\n",
        "* sklearn.ensemble.RandomForesetClassifier, random_state=123\n",
        "* itertools의 product를 이용\n",
        "* loading, measurement_0~measurement_17, na_1, na_2를 입력으로 순서에 맞춰 진행 하라.\n",
        "\n",
        "교차 검증을 통해 도출된 최적의 auc에 해당하는 \n",
        "n_estimators + max_dpeth + min_samples_split + 최적 AUC를 소수점 셋째 자리에서 반올림하여 둘째 자리까지 출력하라."
      ],
      "metadata": {
        "id": "Fb9JU1_8yvJh"
      }
    },
    {
      "cell_type": "code",
      "source": [
        "import itertools\n",
        "from sklearn.ensemble import RandomForestClassifier"
      ],
      "metadata": {
        "id": "W9-tWT9EtmYh"
      },
      "execution_count": 183,
      "outputs": []
    },
    {
      "cell_type": "code",
      "source": [
        "best_auc = 0\n",
        "best_param = None\n",
        "for n_estimators, max_depth, min_samples_split in itertools.product([5, 10, 15], [5, 6, 7], [512,1024]):\n",
        "    clf = RandomForestClassifier(n_estimators=n_estimators, max_depth=max_depth, min_samples_split=min_samples_split)\n",
        "    train_auc_list = []\n",
        "    auc_list = []\n",
        "    for train_index, test_index in kf.split(df_prob_6[X_cols], df_prob_6['failure'], df_prob_6['product_code']):\n",
        "        train_auc, y_hat, auc = train_n_eval(clf, \n",
        "                                df_prob_6.loc[train_index, X_cols + ['failure']], \n",
        "                                df_prob_6.loc[test_index, X_cols + ['failure']])\n",
        "        train_auc_list.append(train_auc)\n",
        "        auc_list.append(auc)\n",
        "    cur_auc = np.mean(auc_list)\n",
        "    if best_auc < cur_auc:\n",
        "        best_auc = cur_auc\n",
        "        best_param = (n_estimators, max_depth, min_samples_split)\n",
        "    print(n_estimators, max_depth, min_samples_split, np.mean(train_auc_list), cur_auc)"
      ],
      "metadata": {
        "colab": {
          "base_uri": "https://localhost:8080/"
        },
        "id": "MP5xQb-XwWiB",
        "outputId": "70c38e12-4258-4b9a-e5d9-d424bfd3c15d"
      },
      "execution_count": 187,
      "outputs": [
        {
          "output_type": "stream",
          "name": "stdout",
          "text": [
            "5 5 512 0.6055393223318555 0.5737344879912246\n",
            "5 5 1024 0.6039404926463068 0.5777198812341875\n",
            "5 6 512 0.6087399969392931 0.5706951119453634\n",
            "5 6 1024 0.608772945092771 0.5730186130334397\n",
            "5 7 512 0.6202192144761458 0.5653496608739041\n",
            "5 7 1024 0.6101634341816926 0.5694603650855581\n",
            "10 5 512 0.6123923004633928 0.576255440956406\n",
            "10 5 1024 0.6083436799805046 0.5715198121626515\n",
            "10 6 512 0.6251752690506209 0.5763895858256882\n",
            "10 6 1024 0.6142630768745725 0.5736676864383385\n",
            "10 7 512 0.6288665013494796 0.5748929692238216\n",
            "10 7 1024 0.6206602803316887 0.5824068663317374\n",
            "15 5 512 0.6181442508984242 0.5761195983680165\n",
            "15 5 1024 0.6155122936024915 0.5753331265486066\n",
            "15 6 512 0.6274991824829566 0.5763782103897451\n",
            "15 6 1024 0.6206188728709401 0.5806779509805727\n",
            "15 7 512 0.6344697433358247 0.5776206200697062\n",
            "15 7 1024 0.6257432627446502 0.5782384380676955\n"
          ]
        }
      ]
    },
    {
      "cell_type": "code",
      "source": [
        "round(np.sum(best_param) + best_auc, 2)"
      ],
      "metadata": {
        "colab": {
          "base_uri": "https://localhost:8080/"
        },
        "id": "rr391gSA09Q5",
        "outputId": "d77e5c81-79b7-45fb-a712-d140f328fc09"
      },
      "execution_count": 188,
      "outputs": [
        {
          "output_type": "execute_result",
          "data": {
            "text/plain": [
              "1041.58"
            ]
          },
          "metadata": {},
          "execution_count": 188
        }
      ]
    }
  ]
}