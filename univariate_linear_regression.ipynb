{
  "nbformat": 4,
  "nbformat_minor": 0,
  "metadata": {
    "colab": {
      "provenance": [],
      "authorship_tag": "ABX9TyM/R/LfwSvyI+TqDzdx4VPh",
      "include_colab_link": true
    },
    "kernelspec": {
      "name": "python3",
      "display_name": "Python 3"
    },
    "language_info": {
      "name": "python"
    }
  },
  "cells": [
    {
      "cell_type": "markdown",
      "metadata": {
        "id": "view-in-github",
        "colab_type": "text"
      },
      "source": [
        "<a href=\"https://colab.research.google.com/github/sunkusun9/ML2022_1/blob/main/univariate_linear_regression.ipynb\" target=\"_parent\"><img src=\"https://colab.research.google.com/assets/colab-badge.svg\" alt=\"Open In Colab\"/></a>"
      ]
    },
    {
      "cell_type": "markdown",
      "source": [
        "# 단일 변수 선형 회귀 모델\n",
        "\n"
      ],
      "metadata": {
        "id": "Hl9C0vE3V7xx"
      }
    },
    {
      "cell_type": "markdown",
      "source": [
        "$\\hat{y}=\\beta_0 + \\beta_1x$\n",
        "\n"
      ],
      "metadata": {
        "id": "YFUHPqIOWxgV"
      }
    },
    {
      "cell_type": "code",
      "source": [
        "import numpy as np\n",
        "import matplotlib.pyplot as plt"
      ],
      "metadata": {
        "id": "R-GW5N9OWv1w"
      },
      "execution_count": 2,
      "outputs": []
    },
    {
      "cell_type": "markdown",
      "source": [
        "## 선형 회귀 분석을 보이기 위한 임의의 데이터 생성"
      ],
      "metadata": {
        "id": "8Mutpcv7YFXh"
      }
    },
    {
      "cell_type": "code",
      "execution_count": 8,
      "metadata": {
        "id": "dF1Qy2s2V6YU"
      },
      "outputs": [],
      "source": [
        "# 표준정규분포(평균=0, 분산=1인 정규분포)를 따르는 임의의 변수 100개를 생성\n",
        "x = np.random.normal(size=100)"
      ]
    },
    {
      "cell_type": "code",
      "source": [
        "# x의 히스토그램 \n",
        "plt.hist(x, bins=15)\n",
        "plt.xlabel(\"x\")\n",
        "plt.ylabel(\"freq\")\n",
        "plt.show()"
      ],
      "metadata": {
        "colab": {
          "base_uri": "https://localhost:8080/",
          "height": 279
        },
        "id": "MAltMLPjXH9R",
        "outputId": "b35920b3-3256-42b1-82fa-c96d599dded5"
      },
      "execution_count": 17,
      "outputs": [
        {
          "output_type": "display_data",
          "data": {
            "text/plain": [
              "<Figure size 432x288 with 1 Axes>"
            ],
            "image/png": "[encoded data removed]"
          },
          "metadata": {
            "needs_background": "light"
          }
        }
      ]
    },
    {
      "cell_type": "code",
      "source": [
        "# 기울기가 beta_1, 절편이 beta_0 이고 표준편차를 0.2의 노이즈를 주어 y값을 생성\n",
        "beta_0, beta_1, noise = 2.5, 3.2, 1.0\n",
        "y = x * beta_1 + beta_0 + np.random.normal(scale=0.2, size=100)"
      ],
      "metadata": {
        "id": "rtfNWbc8YjvI"
      },
      "execution_count": 22,
      "outputs": []
    },
    {
      "cell_type": "code",
      "source": [
        "# x, y의 산포도 그래프 출력\n",
        "plt.scatter(x, y, s=3)\n",
        "plt.axhline(0, linestyle='dashed')\n",
        "plt.axvline(0, linestyle='dashed')\n",
        "plt.xlabel(\"x\")\n",
        "plt.ylabel(\"y\")\n",
        "plt.show()"
      ],
      "metadata": {
        "colab": {
          "base_uri": "https://localhost:8080/",
          "height": 283
        },
        "id": "sIKuFcUXZcmY",
        "outputId": "cc5cfec1-e002-4426-dc19-6e20b13f01ae"
      },
      "execution_count": 29,
      "outputs": [
        {
          "output_type": "display_data",
          "data": {
            "text/plain": [
              "<Figure size 432x288 with 1 Axes>"
            ],
            "image/png": "[encoded data removed]"
          },
          "metadata": {
            "needs_background": "light"
          }
        }
      ]
    },
    {
      "cell_type": "markdown",
      "source": [
        "임의로 생성한 데이터셋으로 단일변수 선형회귀모델을 학습시켜보자."
      ],
      "metadata": {
        "id": "KCeFqKGZart9"
      }
    },
    {
      "cell_type": "code",
      "source": [],
      "metadata": {
        "id": "daPpCERL1XWL"
      },
      "execution_count": null,
      "outputs": []
    }
  ]
}