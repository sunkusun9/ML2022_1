{
  "nbformat": 4,
  "nbformat_minor": 0,
  "metadata": {
    "colab": {
      "provenance": [],
      "authorship_tag": "ABX9TyP5CU1WfRyC+NmkFbLxxHam",
      "include_colab_link": true
    },
    "kernelspec": {
      "name": "python3",
      "display_name": "Python 3"
    },
    "language_info": {
      "name": "python"
    }
  },
  "cells": [
    {
      "cell_type": "markdown",
      "metadata": {
        "id": "view-in-github",
        "colab_type": "text"
      },
      "source": [
        "<a href=\"https://colab.research.google.com/github/sunkusun9/ML2022_1/blob/main/univariate_linear_regression.ipynb\" target=\"_parent\"><img src=\"https://colab.research.google.com/assets/colab-badge.svg\" alt=\"Open In Colab\"/></a>"
      ]
    },
    {
      "cell_type": "code",
      "source": [
        "# 한글 폰트 설정\n",
        "!apt-get install -y fonts-nanum\n",
        "!fc-cache -fv\n",
        "!rm ~/.cache/matplotlib -rf\n",
        "# 런타임 다시 시작 필요"
      ],
      "metadata": {
        "id": "SMuhQU1t9Nvd",
        "outputId": "19333d33-3393-4724-a127-0634bdbd54e4",
        "colab": {
          "base_uri": "https://localhost:8080/"
        }
      },
      "execution_count": 1,
      "outputs": [
        {
          "output_type": "stream",
          "name": "stdout",
          "text": [
            "Reading package lists... Done\n",
            "Building dependency tree       \n",
            "Reading state information... Done\n",
            "The following package was automatically installed and is no longer required:\n",
            "  libnvidia-common-460\n",
            "Use 'apt autoremove' to remove it.\n",
            "The following NEW packages will be installed:\n",
            "  fonts-nanum\n",
            "0 upgraded, 1 newly installed, 0 to remove and 7 not upgraded.\n",
            "Need to get 9,604 kB of archives.\n",
            "After this operation, 29.5 MB of additional disk space will be used.\n",
            "Get:1 http://archive.ubuntu.com/ubuntu bionic/universe amd64 fonts-nanum all 20170925-1 [9,604 kB]\n",
            "Fetched 9,604 kB in 0s (38.8 MB/s)\n",
            "Selecting previously unselected package fonts-nanum.\n",
            "(Reading database ... 124015 files and directories currently installed.)\n",
            "Preparing to unpack .../fonts-nanum_20170925-1_all.deb ...\n",
            "Unpacking fonts-nanum (20170925-1) ...\n",
            "Setting up fonts-nanum (20170925-1) ...\n",
            "Processing triggers for fontconfig (2.12.6-0ubuntu2) ...\n",
            "/usr/share/fonts: caching, new cache contents: 0 fonts, 1 dirs\n",
            "/usr/share/fonts/truetype: caching, new cache contents: 0 fonts, 3 dirs\n",
            "/usr/share/fonts/truetype/humor-sans: caching, new cache contents: 1 fonts, 0 dirs\n",
            "/usr/share/fonts/truetype/liberation: caching, new cache contents: 16 fonts, 0 dirs\n",
            "/usr/share/fonts/truetype/nanum: caching, new cache contents: 10 fonts, 0 dirs\n",
            "/usr/local/share/fonts: caching, new cache contents: 0 fonts, 0 dirs\n",
            "/root/.local/share/fonts: skipping, no such directory\n",
            "/root/.fonts: skipping, no such directory\n",
            "/var/cache/fontconfig: cleaning cache directory\n",
            "/root/.cache/fontconfig: not cleaning non-existent cache directory\n",
            "/root/.fontconfig: not cleaning non-existent cache directory\n",
            "fc-cache: succeeded\n"
          ]
        }
      ]
    },
    {
      "cell_type": "code",
      "source": [
        "import matplotlib as mpl\n",
        "import matplotlib.pyplot as plt\n",
        "import matplotlib.font_manager as fm"
      ],
      "metadata": {
        "id": "lYE8Tw3a692D"
      },
      "execution_count": 1,
      "outputs": []
    },
    {
      "cell_type": "code",
      "source": [
        "plt.rc('font', family='NanumBarunGothic') \n",
        "mpl.rcParams['axes.unicode_minus'] = False"
      ],
      "metadata": {
        "id": "-_Xnw4wL7UB7"
      },
      "execution_count": 2,
      "outputs": []
    },
    {
      "cell_type": "markdown",
      "source": [
        "# 단일 변수 선형 회귀 모델\n",
        "\n"
      ],
      "metadata": {
        "id": "Hl9C0vE3V7xx"
      }
    },
    {
      "cell_type": "markdown",
      "source": [
        "$\\hat{y}=\\beta_0 + \\beta_1x$\n",
        "\n"
      ],
      "metadata": {
        "id": "YFUHPqIOWxgV"
      }
    },
    {
      "cell_type": "code",
      "source": [
        "import numpy as np"
      ],
      "metadata": {
        "id": "R-GW5N9OWv1w"
      },
      "execution_count": 3,
      "outputs": []
    },
    {
      "cell_type": "markdown",
      "source": [
        "## 선형 회귀 분석을 보이기 위한 임의의 데이터 생성"
      ],
      "metadata": {
        "id": "8Mutpcv7YFXh"
      }
    },
    {
      "cell_type": "code",
      "execution_count": 4,
      "metadata": {
        "id": "dF1Qy2s2V6YU"
      },
      "outputs": [],
      "source": [
        "# 표준정규분포(평균=0, 분산=1인 정규분포)를 따르는 임의의 변수 100개를 생성\n",
        "n = 100\n",
        "np.random.seed(42)\n",
        "x = np.random.normal(size=n)"
      ]
    },
    {
      "cell_type": "code",
      "source": [
        "# x의 히스토그램 \n",
        "plt.hist(x, bins=15)\n",
        "plt.xlabel(\"x\")\n",
        "plt.ylabel(\"freq\")\n",
        "plt.title(\"x 값 분포도\")\n",
        "plt.show()"
      ],
      "metadata": {
        "colab": {
          "base_uri": "https://localhost:8080/",
          "height": 294
        },
        "id": "MAltMLPjXH9R",
        "outputId": "ac1f3963-2497-4bcf-a526-7d7f713062fe"
      },
      "execution_count": 5,
      "outputs": [
        {
          "output_type": "display_data",
          "data": {
            "text/plain": [
              "<Figure size 432x288 with 1 Axes>"
            ],
            "image/png": "[encoded data removed]"
          },
          "metadata": {
            "needs_background": "light"
          }
        }
      ]
    },
    {
      "cell_type": "code",
      "source": [
        "# 기울기가 beta_1, 절편이 beta_0 이고 표준편차를 0.2의 노이즈를 주어 y값을 생성\n",
        "beta_0, beta_1, noise = 2.5, 3.2, 1.0\n",
        "y = x * beta_1 + beta_0 + np.random.normal(scale=0.2, size=n)"
      ],
      "metadata": {
        "id": "rtfNWbc8YjvI"
      },
      "execution_count": 6,
      "outputs": []
    },
    {
      "cell_type": "code",
      "source": [
        "# x, y의 산포도 그래프 출력\n",
        "plt.scatter(x, y, s=3)\n",
        "plt.axhline(0, linestyle='dashed')\n",
        "plt.axvline(0, linestyle='dashed')\n",
        "plt.xlabel(\"x\")\n",
        "plt.ylabel(\"y\")\n",
        "plt.title(\"산포도 그래프\")\n",
        "plt.show()"
      ],
      "metadata": {
        "colab": {
          "base_uri": "https://localhost:8080/",
          "height": 294
        },
        "id": "sIKuFcUXZcmY",
        "outputId": "af6cba6b-7387-406c-c92e-d447ddc223c9"
      },
      "execution_count": 7,
      "outputs": [
        {
          "output_type": "display_data",
          "data": {
            "text/plain": [
              "<Figure size 432x288 with 1 Axes>"
            ],
            "image/png": "[encoded data removed]"
          },
          "metadata": {
            "needs_background": "light"
          }
        }
      ]
    },
    {
      "cell_type": "markdown",
      "source": [
        "# 정규방정식(Ordinary Least Squares) - I"
      ],
      "metadata": {
        "id": "rvf1tBjn-Dgd"
      }
    },
    {
      "cell_type": "markdown",
      "source": [
        "Ordinary Least Squares 방법으로,\n",
        "\n",
        "임의로 생성한 데이터셋으로 단일변수 선형회귀모델을 학습시켜보자."
      ],
      "metadata": {
        "id": "KCeFqKGZart9"
      }
    },
    {
      "cell_type": "markdown",
      "source": [
        "$\\hat{\\beta_1}=\\frac{\\sum\\limits_{i=1}^{n}(x_i-\\bar{x})y_i}{\\sum\\limits_{i=1}^{n}(x_i-\\bar{x})^2}$,  $\\hat{\\beta_0}=\\bar{y} - \\beta_1\\bar{x}$\n",
        "\n",
        "$\\bar{x}=\\frac{\\sum\\limits_{i=1}^{n}x_i}{n}$,  $\\bar{y}=\\frac{\\sum\\limits_{i=1}^{n}y_i}{n}$"
      ],
      "metadata": {
        "id": "v_RaBfzz6aAM"
      }
    },
    {
      "cell_type": "code",
      "source": [
        "x_bar = np.mean(x) # X의 평균을 구한다\n",
        "x_diff = (x - x_bar) # x_i와 x_bar의 차이를 구한다.\n",
        "beta_1 = np.sum(x_diff * y) / np.sum(np.square(x_diff)) # beta_1을 구한다.\n",
        "beta_0 = np.mean(y) - beta_1 * np.mean(x) # beta_0를 구한다.\n",
        "beta_0, beta_1"
      ],
      "metadata": {
        "id": "-ezpd28V8NFF",
        "outputId": "681c05a1-1033-4741-c972-3d19cc6d91ef",
        "colab": {
          "base_uri": "https://localhost:8080/"
        }
      },
      "execution_count": 8,
      "outputs": [
        {
          "output_type": "execute_result",
          "data": {
            "text/plain": [
              "(2.5014855659727933, 3.1713485679457114)"
            ]
          },
          "metadata": {},
          "execution_count": 8
        }
      ]
    },
    {
      "cell_type": "code",
      "source": [
        "# Tip: np.sum(x_diff * y)는 2번의 Vector 연산이 필요이를 dot을 사용하면 한 번으로 줄일 수 있다 .\n",
        "beta_1 = np.dot(x_diff, y) / np.sum(np.square(x_diff)) \n",
        "beta_1"
      ],
      "metadata": {
        "id": "45KLXYka_vHX",
        "outputId": "016ef668-a72e-4752-d018-32ba06936237",
        "colab": {
          "base_uri": "https://localhost:8080/"
        }
      },
      "execution_count": 9,
      "outputs": [
        {
          "output_type": "execute_result",
          "data": {
            "text/plain": [
              "3.171348567945711"
            ]
          },
          "metadata": {},
          "execution_count": 9
        }
      ]
    },
    {
      "cell_type": "code",
      "source": [
        "%%timeit\n",
        "beta_1 = np.sum(x_diff * y) / np.sum(np.square(x_diff)) # beta_1을 구한다."
      ],
      "metadata": {
        "id": "JJUbEdyhDNgv",
        "outputId": "4b95e556-f1cc-4e2e-b3c8-9e55ecb7bb02",
        "colab": {
          "base_uri": "https://localhost:8080/"
        }
      },
      "execution_count": 10,
      "outputs": [
        {
          "output_type": "stream",
          "name": "stdout",
          "text": [
            "22.1 µs ± 3.86 µs per loop (mean ± std. dev. of 7 runs, 10000 loops each)\n"
          ]
        }
      ]
    },
    {
      "cell_type": "code",
      "source": [
        "%%timeit\n",
        "# Tip: np.sum(x_diff * y)는 2번의 Vector 연산이 필요이를 dot을 사용하면 한 번으로 줄일 수 있다 .\n",
        "beta_1 = np.dot(x_diff, y) / np.sum(np.square(x_diff)) "
      ],
      "metadata": {
        "id": "O7-i6PsbCk2_",
        "outputId": "abc047e7-6502-48bf-cf3f-6e179f27b739",
        "colab": {
          "base_uri": "https://localhost:8080/"
        }
      },
      "execution_count": 11,
      "outputs": [
        {
          "output_type": "stream",
          "name": "stdout",
          "text": [
            "7.06 µs ± 1.45 µs per loop (mean ± std. dev. of 7 runs, 100000 loops each)\n"
          ]
        }
      ]
    },
    {
      "cell_type": "code",
      "source": [
        "# x, y의 산포도 그래프 출력\n",
        "plt.scatter(x, y, s=3, label='(x, y)')\n",
        "x_space = np.linspace(-2.5, 2.5, 10)\n",
        "plt.plot(x_space, beta_0 + beta_1 * x_space, c='r', label='회귀선')\n",
        "plt.axhline(0, linestyle='dashed')\n",
        "plt.axvline(0, linestyle='dashed')\n",
        "plt.xlabel(\"x\")\n",
        "plt.ylabel(\"y\")\n",
        "plt.title(\"산포도 그래프와 회귀선\")\n",
        "plt.legend()\n",
        "plt.show()"
      ],
      "metadata": {
        "id": "y4_U_jQp9vZt",
        "outputId": "031d4d42-8698-4189-c18b-eeb619858331",
        "colab": {
          "base_uri": "https://localhost:8080/",
          "height": 294
        }
      },
      "execution_count": 12,
      "outputs": [
        {
          "output_type": "display_data",
          "data": {
            "text/plain": [
              "<Figure size 432x288 with 1 Axes>"
            ],
            "image/png": "[encoded data removed]"
          },
          "metadata": {
            "needs_background": "light"
          }
        }
      ]
    },
    {
      "cell_type": "markdown",
      "source": [
        "$\\hat{\\beta_1}=\\frac{\\sum\\limits_{i=1}^{n}(x_i-\\bar{x})(y_i-\\bar{y})}{\\sum\\limits_{i=1}^{n}(x_i-\\bar{x})^2}$"
      ],
      "metadata": {
        "id": "BXJWX7TFDADF"
      }
    },
    {
      "cell_type": "code",
      "source": [
        "x_bar = np.mean(x)\n",
        "y_bar = np.mean(y)\n",
        "x_diff = (x - x_bar) # x_i와 x_bar의 차이를 구한다.\n",
        "y_diff = (y - y_bar) # x_i와 x_bar의 차이를 구한다.\n",
        "beta_1 = np.sum(x_diff * y_diff) / np.sum(np.square(x_diff)) # beta_1을 구한다.\n",
        "beta_1"
      ],
      "metadata": {
        "id": "dqpamy53DPq0",
        "outputId": "910f4ad2-f677-43fb-eec1-4171bcfc123d",
        "colab": {
          "base_uri": "https://localhost:8080/"
        }
      },
      "execution_count": 14,
      "outputs": [
        {
          "output_type": "execute_result",
          "data": {
            "text/plain": [
              "3.17134856794571"
            ]
          },
          "metadata": {},
          "execution_count": 14
        }
      ]
    },
    {
      "cell_type": "markdown",
      "source": [
        "# 정규방정식(Ordinary Least Squares) - II"
      ],
      "metadata": {
        "id": "hVt9vqUF9jEn"
      }
    },
    {
      "cell_type": "code",
      "source": [
        "X = np.hstack([np.ones((n, 1)), np.expand_dims(x.T, axis= 1)])"
      ],
      "metadata": {
        "id": "wv7m2XdEEv9e"
      },
      "execution_count": null,
      "outputs": []
    },
    {
      "cell_type": "code",
      "source": [
        "X.shape, X[:3]"
      ],
      "metadata": {
        "id": "NZcD4ZMTEmiP",
        "outputId": "bce5c26b-7d8c-4cb1-d6a4-75b5481a75a4",
        "colab": {
          "base_uri": "https://localhost:8080/"
        }
      },
      "execution_count": null,
      "outputs": [
        {
          "output_type": "execute_result",
          "data": {
            "text/plain": [
              "((100, 2), array([[ 1.        ,  0.49671415],\n",
              "        [ 1.        , -0.1382643 ],\n",
              "        [ 1.        ,  0.64768854]]))"
            ]
          },
          "metadata": {},
          "execution_count": 15
        }
      ]
    },
    {
      "cell_type": "markdown",
      "source": [
        "$\\beta=(X^TX)^{-1}X^Ty$"
      ],
      "metadata": {
        "id": "eIcuD8al92CI"
      }
    },
    {
      "cell_type": "code",
      "source": [
        "# Gram Matrix 구하기\n",
        "Xt_by_X = np.matmul(X.T, X)\n",
        "# Gram Matrix의 역행렬 구하기\n",
        "inv_Xt_by_X = np.linalg.inv(Xt_by_X)\n",
        "# XT_by_y 구하기 \n",
        "XT_by_y = np.matmul(X.T, y)\n",
        "# beta_hat 구하기\n",
        "beta_hat = np.matmul(inv_Xt_by_X, XT_by_y)\n",
        "beta_hat"
      ],
      "metadata": {
        "id": "R_wveGEjFlVo",
        "outputId": "0c58b3b6-42a1-4d12-ce6a-eff5b2f0de49",
        "colab": {
          "base_uri": "https://localhost:8080/"
        }
      },
      "execution_count": null,
      "outputs": [
        {
          "output_type": "execute_result",
          "data": {
            "text/plain": [
              "array([2.50148557, 3.17134857])"
            ]
          },
          "metadata": {},
          "execution_count": 16
        }
      ]
    },
    {
      "cell_type": "code",
      "source": [
        "from sklearn.linear_model import LinearRegression\n",
        "lr = LinearRegression()\n",
        "lr.fit(np.expand_dims(x, axis=-1), y)"
      ],
      "metadata": {
        "id": "daPpCERL1XWL",
        "outputId": "2b4d7c28-6379-4f39-97c7-d3c209f2925c",
        "colab": {
          "base_uri": "https://localhost:8080/"
        }
      },
      "execution_count": null,
      "outputs": [
        {
          "output_type": "execute_result",
          "data": {
            "text/plain": [
              "LinearRegression()"
            ]
          },
          "metadata": {},
          "execution_count": 17
        }
      ]
    },
    {
      "cell_type": "code",
      "source": [
        "# x, y의 산포도 그래프 출력\n",
        "plt.scatter(x, y, s=3, label='(x, y)')\n",
        "plt.plot(np.linspace(-2.5, 2.5, 10), lr.predict(np.expand_dims(np.linspace(-2.5, 2.5, 10), -1)), c='r', label='회귀선')\n",
        "plt.axhline(0, linestyle='dashed')\n",
        "plt.axvline(0, linestyle='dashed')\n",
        "plt.xlabel(\"x\")\n",
        "plt.ylabel(\"y\")\n",
        "plt.title(\"산포도 그래프와 회귀선\")\n",
        "plt.legend()\n",
        "plt.show()"
      ],
      "metadata": {
        "id": "ptGfSbe-YIa9",
        "outputId": "0086cc94-f06f-4cbd-a95d-5c6bfc0a971c",
        "colab": {
          "base_uri": "https://localhost:8080/",
          "height": 294
        }
      },
      "execution_count": null,
      "outputs": [
        {
          "output_type": "display_data",
          "data": {
            "text/plain": [
              "<Figure size 432x288 with 1 Axes>"
            ],
            "image/png": "[encoded data removed]"
          },
          "metadata": {
            "needs_background": "light"
          }
        }
      ]
    },
    {
      "cell_type": "code",
      "source": [
        "lr.coef_, lr.intercept_"
      ],
      "metadata": {
        "id": "eN9yQ7weY7Ek",
        "outputId": "2c66738e-a12f-4b31-9299-beaac2dd8cec",
        "colab": {
          "base_uri": "https://localhost:8080/"
        }
      },
      "execution_count": null,
      "outputs": [
        {
          "output_type": "execute_result",
          "data": {
            "text/plain": [
              "(array([3.17134857]), 2.5014855659727933)"
            ]
          },
          "metadata": {},
          "execution_count": 19
        }
      ]
    },
    {
      "cell_type": "code",
      "source": [],
      "metadata": {
        "id": "VSSI7vwcZmCD"
      },
      "execution_count": null,
      "outputs": []
    }
  ]
}