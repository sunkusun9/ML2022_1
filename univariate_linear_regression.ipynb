{
  "nbformat": 4,
  "nbformat_minor": 0,
  "metadata": {
    "colab": {
      "provenance": [],
      "authorship_tag": "ABX9TyOXXEMVp2y57HySLpcU7eOU",
      "include_colab_link": true
    },
    "kernelspec": {
      "name": "python3",
      "display_name": "Python 3"
    },
    "language_info": {
      "name": "python"
    }
  },
  "cells": [
    {
      "cell_type": "markdown",
      "metadata": {
        "id": "view-in-github",
        "colab_type": "text"
      },
      "source": [
        "<a href=\"https://colab.research.google.com/github/sunkusun9/ML2022_1/blob/main/univariate_linear_regression.ipynb\" target=\"_parent\"><img src=\"https://colab.research.google.com/assets/colab-badge.svg\" alt=\"Open In Colab\"/></a>"
      ]
    },
    {
      "cell_type": "code",
      "source": [
        "# 한글 폰트 설정\n",
        "!apt-get install -y fonts-nanum\n",
        "!fc-cache -fv\n",
        "!rm ~/.cache/matplotlib -rf\n",
        "# 런타임 다시 시작 필요"
      ],
      "metadata": {
        "id": "SMuhQU1t9Nvd",
        "outputId": "fd41fdd4-d75b-4c37-fee5-f4371770e2f6",
        "colab": {
          "base_uri": "https://localhost:8080/"
        }
      },
      "execution_count": 2,
      "outputs": [
        {
          "output_type": "stream",
          "name": "stdout",
          "text": [
            "Reading package lists... Done\n",
            "Building dependency tree       \n",
            "Reading state information... Done\n",
            "The following package was automatically installed and is no longer required:\n",
            "  libnvidia-common-460\n",
            "Use 'apt autoremove' to remove it.\n",
            "The following NEW packages will be installed:\n",
            "  fonts-nanum\n",
            "0 upgraded, 1 newly installed, 0 to remove and 11 not upgraded.\n",
            "Need to get 9,604 kB of archives.\n",
            "After this operation, 29.5 MB of additional disk space will be used.\n",
            "Get:1 http://archive.ubuntu.com/ubuntu bionic/universe amd64 fonts-nanum all 20170925-1 [9,604 kB]\n",
            "Fetched 9,604 kB in 1s (8,263 kB/s)\n",
            "Selecting previously unselected package fonts-nanum.\n",
            "(Reading database ... 124013 files and directories currently installed.)\n",
            "Preparing to unpack .../fonts-nanum_20170925-1_all.deb ...\n",
            "Unpacking fonts-nanum (20170925-1) ...\n",
            "Setting up fonts-nanum (20170925-1) ...\n",
            "Processing triggers for fontconfig (2.12.6-0ubuntu2) ...\n",
            "/usr/share/fonts: caching, new cache contents: 0 fonts, 1 dirs\n",
            "/usr/share/fonts/truetype: caching, new cache contents: 0 fonts, 3 dirs\n",
            "/usr/share/fonts/truetype/humor-sans: caching, new cache contents: 1 fonts, 0 dirs\n",
            "/usr/share/fonts/truetype/liberation: caching, new cache contents: 16 fonts, 0 dirs\n",
            "/usr/share/fonts/truetype/nanum: caching, new cache contents: 10 fonts, 0 dirs\n",
            "/usr/local/share/fonts: caching, new cache contents: 0 fonts, 0 dirs\n",
            "/root/.local/share/fonts: skipping, no such directory\n",
            "/root/.fonts: skipping, no such directory\n",
            "/var/cache/fontconfig: cleaning cache directory\n",
            "/root/.cache/fontconfig: not cleaning non-existent cache directory\n",
            "/root/.fontconfig: not cleaning non-existent cache directory\n",
            "fc-cache: succeeded\n"
          ]
        }
      ]
    },
    {
      "cell_type": "code",
      "source": [
        "import matplotlib as mpl\n",
        "import matplotlib.pyplot as plt\n",
        "import matplotlib.font_manager as fm"
      ],
      "metadata": {
        "id": "lYE8Tw3a692D"
      },
      "execution_count": 1,
      "outputs": []
    },
    {
      "cell_type": "code",
      "source": [
        "plt.rc('font', family='NanumBarunGothic') \n",
        "mpl.rcParams['axes.unicode_minus'] = False"
      ],
      "metadata": {
        "id": "-_Xnw4wL7UB7"
      },
      "execution_count": 2,
      "outputs": []
    },
    {
      "cell_type": "markdown",
      "source": [
        "# 단일 변수 선형 회귀 모델\n",
        "\n"
      ],
      "metadata": {
        "id": "Hl9C0vE3V7xx"
      }
    },
    {
      "cell_type": "markdown",
      "source": [
        "$\\hat{y}=\\beta_0 + \\beta_1x$\n",
        "\n"
      ],
      "metadata": {
        "id": "YFUHPqIOWxgV"
      }
    },
    {
      "cell_type": "code",
      "source": [
        "import numpy as np"
      ],
      "metadata": {
        "id": "R-GW5N9OWv1w"
      },
      "execution_count": 3,
      "outputs": []
    },
    {
      "cell_type": "markdown",
      "source": [
        "## 선형 회귀 분석을 보이기 위한 임의의 데이터 생성"
      ],
      "metadata": {
        "id": "8Mutpcv7YFXh"
      }
    },
    {
      "cell_type": "code",
      "execution_count": 4,
      "metadata": {
        "id": "dF1Qy2s2V6YU"
      },
      "outputs": [],
      "source": [
        "# 표준정규분포(평균=0, 분산=1인 정규분포)를 따르는 임의의 변수 100개를 생성\n",
        "n = 100\n",
        "np.random.seed(42)\n",
        "x = np.random.normal(size=n)"
      ]
    },
    {
      "cell_type": "code",
      "source": [
        "# x의 히스토그램 \n",
        "plt.hist(x, bins=15)\n",
        "plt.xlabel(\"x\")\n",
        "plt.ylabel(\"freq\")\n",
        "plt.title(\"x 값 분포도\")\n",
        "plt.show()"
      ],
      "metadata": {
        "colab": {
          "base_uri": "https://localhost:8080/",
          "height": 294
        },
        "id": "MAltMLPjXH9R",
        "outputId": "530512bc-56cc-44ab-ca72-334c317ab007"
      },
      "execution_count": 5,
      "outputs": [
        {
          "output_type": "display_data",
          "data": {
            "text/plain": [
              "<Figure size 432x288 with 1 Axes>"
            ],
            "image/png": "[encoded data removed]"
          },
          "metadata": {
            "needs_background": "light"
          }
        }
      ]
    },
    {
      "cell_type": "code",
      "source": [
        "# 기울기가 beta_1, 절편이 beta_0 이고 표준편차를 0.2의 노이즈를 주어 y값을 생성\n",
        "beta_0, beta_1, noise = 2.5, 3.2, 1.0\n",
        "eps = np.random.normal(scale=0.2, size=n)\n",
        "y = x * beta_1 + beta_0 + eps"
      ],
      "metadata": {
        "id": "rtfNWbc8YjvI"
      },
      "execution_count": 102,
      "outputs": []
    },
    {
      "cell_type": "code",
      "source": [
        "# x, y의 산포도 그래프 출력\n",
        "plt.scatter(x, y, s=3)\n",
        "plt.axhline(0, linestyle='dashed')\n",
        "plt.axvline(0, linestyle='dashed')\n",
        "plt.xlabel(\"x\")\n",
        "plt.ylabel(\"y\")\n",
        "plt.title(\"산포도 그래프\")\n",
        "plt.show()"
      ],
      "metadata": {
        "colab": {
          "base_uri": "https://localhost:8080/",
          "height": 294
        },
        "id": "sIKuFcUXZcmY",
        "outputId": "b21155b9-bf40-440a-e1a5-aeda11f7b0ce"
      },
      "execution_count": 7,
      "outputs": [
        {
          "output_type": "display_data",
          "data": {
            "text/plain": [
              "<Figure size 432x288 with 1 Axes>"
            ],
            "image/png": "[encoded data removed]"
          },
          "metadata": {
            "needs_background": "light"
          }
        }
      ]
    },
    {
      "cell_type": "markdown",
      "source": [
        "# 정규방정식(Ordinary Least Squares) - I"
      ],
      "metadata": {
        "id": "rvf1tBjn-Dgd"
      }
    },
    {
      "cell_type": "markdown",
      "source": [
        "Ordinary Least Squares 방법으로,\n",
        "\n",
        "임의로 생성한 데이터셋으로 단일변수 선형회귀모델을 학습시켜보자."
      ],
      "metadata": {
        "id": "KCeFqKGZart9"
      }
    },
    {
      "cell_type": "markdown",
      "source": [
        "$\\hat{\\beta_1}=\\frac{\\sum\\limits_{i=1}^{n}(x_i-\\bar{x})y_i}{\\sum\\limits_{i=1}^{n}(x_i-\\bar{x})^2}$,  $\\hat{\\beta_0}=\\bar{y} - \\beta_1\\bar{x}$\n",
        "\n",
        "$\\bar{x}=\\frac{\\sum\\limits_{i=1}^{n}x_i}{n}$,  $\\bar{y}=\\frac{\\sum\\limits_{i=1}^{n}y_i}{n}$"
      ],
      "metadata": {
        "id": "v_RaBfzz6aAM"
      }
    },
    {
      "cell_type": "code",
      "source": [
        "x_bar = np.mean(x) # X의 평균을 구한다\n",
        "x_diff = (x - x_bar) # x_i와 x_bar의 차이를 구한다.\n",
        "beta_1 = np.sum(x_diff * y) / np.sum(np.square(x_diff)) # beta_1을 구한다.\n",
        "beta_0 = np.mean(y) - beta_1 * np.mean(x) # beta_0를 구한다.\n",
        "beta_0, beta_1"
      ],
      "metadata": {
        "id": "-ezpd28V8NFF",
        "outputId": "fff7d215-9f60-4ddf-e4cb-abcab7ae5c0f",
        "colab": {
          "base_uri": "https://localhost:8080/"
        }
      },
      "execution_count": 98,
      "outputs": [
        {
          "output_type": "execute_result",
          "data": {
            "text/plain": [
              "(2.5014855659727933, 3.1713485679457114)"
            ]
          },
          "metadata": {},
          "execution_count": 98
        }
      ]
    },
    {
      "cell_type": "code",
      "source": [
        "# Tip: np.sum(x_diff * y)는 2번의 Vector 연산이 필요이를 dot을 사용하면 한 번으로 줄일 수 있다 .\n",
        "beta_1 = np.dot(x_diff, y) / np.sum(np.square(x_diff)) \n",
        "beta_1"
      ],
      "metadata": {
        "id": "45KLXYka_vHX",
        "outputId": "e08e60a9-5eb3-4e22-e045-5b0ced6a2920",
        "colab": {
          "base_uri": "https://localhost:8080/"
        }
      },
      "execution_count": 9,
      "outputs": [
        {
          "output_type": "execute_result",
          "data": {
            "text/plain": [
              "3.171348567945711"
            ]
          },
          "metadata": {},
          "execution_count": 9
        }
      ]
    },
    {
      "cell_type": "code",
      "source": [
        "%%timeit\n",
        "beta_1 = np.sum(x_diff * y) / np.sum(np.square(x_diff)) # beta_1을 구한다."
      ],
      "metadata": {
        "id": "JJUbEdyhDNgv",
        "outputId": "9f84b13b-99a0-4686-af47-2b405459b231",
        "colab": {
          "base_uri": "https://localhost:8080/"
        }
      },
      "execution_count": 10,
      "outputs": [
        {
          "output_type": "stream",
          "name": "stdout",
          "text": [
            "19.8 µs ± 7.36 µs per loop (mean ± std. dev. of 7 runs, 100000 loops each)\n"
          ]
        }
      ]
    },
    {
      "cell_type": "code",
      "source": [
        "%%timeit\n",
        "# Tip: np.sum(x_diff * y)는 2번의 Vector 연산이 필요이를 dot을 사용하면 한 번으로 줄일 수 있다 .\n",
        "beta_1 = np.dot(x_diff, y) / np.sum(np.square(x_diff)) "
      ],
      "metadata": {
        "id": "O7-i6PsbCk2_",
        "outputId": "ed40dfda-1b29-4b38-bfb0-5dfe1172ed38",
        "colab": {
          "base_uri": "https://localhost:8080/"
        }
      },
      "execution_count": 11,
      "outputs": [
        {
          "output_type": "stream",
          "name": "stdout",
          "text": [
            "13.7 µs ± 5.38 µs per loop (mean ± std. dev. of 7 runs, 100000 loops each)\n"
          ]
        }
      ]
    },
    {
      "cell_type": "code",
      "source": [
        "# x, y의 산포도 그래프 출력\n",
        "plt.scatter(x, y, s=3, label='(x, y)')\n",
        "x_space = np.linspace(-2.5, 2.5, 10)\n",
        "plt.plot(x_space, beta_0 + beta_1 * x_space, c='r', label='회귀선')\n",
        "plt.axhline(0, linestyle='dashed')\n",
        "plt.axvline(0, linestyle='dashed')\n",
        "plt.xlabel(\"x\")\n",
        "plt.ylabel(\"y\")\n",
        "plt.title(\"산포도 그래프와 회귀선\")\n",
        "plt.legend()\n",
        "plt.show()"
      ],
      "metadata": {
        "id": "y4_U_jQp9vZt",
        "outputId": "9828b941-c8ed-4ceb-9907-1057942ef9b8",
        "colab": {
          "base_uri": "https://localhost:8080/",
          "height": 294
        }
      },
      "execution_count": 12,
      "outputs": [
        {
          "output_type": "display_data",
          "data": {
            "text/plain": [
              "<Figure size 432x288 with 1 Axes>"
            ],
            "image/png": "[encoded data removed]"
          },
          "metadata": {
            "needs_background": "light"
          }
        }
      ]
    },
    {
      "cell_type": "markdown",
      "source": [
        "$\\hat{\\beta_1}=\\frac{\\sum\\limits_{i=1}^{n}(x_i-\\bar{x})(y_i-\\bar{y})}{\\sum\\limits_{i=1}^{n}(x_i-\\bar{x})^2}$"
      ],
      "metadata": {
        "id": "BXJWX7TFDADF"
      }
    },
    {
      "cell_type": "code",
      "source": [
        "x_bar = np.mean(x)\n",
        "y_bar = np.mean(y)\n",
        "x_diff = (x - x_bar) # x_i와 x_bar의 차이를 구한다.\n",
        "y_diff = (y - y_bar) # y_i와 y_bar의 차이를 구한다.\n",
        "beta_1 = np.sum(x_diff * y_diff) / np.sum(np.square(x_diff)) # beta_1을 구한다.\n",
        "beta_1"
      ],
      "metadata": {
        "colab": {
          "base_uri": "https://localhost:8080/"
        },
        "id": "dqpamy53DPq0",
        "outputId": "da669151-002b-456a-b355-066fec6d600e"
      },
      "execution_count": 100,
      "outputs": [
        {
          "output_type": "execute_result",
          "data": {
            "text/plain": [
              "3.17134856794571"
            ]
          },
          "metadata": {},
          "execution_count": 100
        }
      ]
    },
    {
      "cell_type": "code",
      "source": [
        "y_hat = beta_0 + beta_1 * x\n",
        "np.mean(np.square(y - y_hat)), np.mean(np.square(eps)) # MSE와 Noise의 분산값"
      ],
      "metadata": {
        "id": "WQHzI2g3sA_h",
        "outputId": "20692e09-7280-4979-e3aa-5890b59bd410",
        "colab": {
          "base_uri": "https://localhost:8080/"
        }
      },
      "execution_count": 103,
      "outputs": [
        {
          "output_type": "execute_result",
          "data": {
            "text/plain": [
              "(0.03539044022668102, 0.03539044022668102)"
            ]
          },
          "metadata": {},
          "execution_count": 103
        }
      ]
    },
    {
      "cell_type": "markdown",
      "source": [
        "# 정규방정식(Ordinary Least Squares) - II"
      ],
      "metadata": {
        "id": "hVt9vqUF9jEn"
      }
    },
    {
      "cell_type": "code",
      "source": [
        "# 모두 1일 열을 추가 한다.\n",
        "X = np.hstack([np.ones((n, 1)), np.expand_dims(x.T, axis= 1)])"
      ],
      "metadata": {
        "id": "wv7m2XdEEv9e"
      },
      "execution_count": 14,
      "outputs": []
    },
    {
      "cell_type": "code",
      "source": [
        "X.shape, X[:3]"
      ],
      "metadata": {
        "id": "NZcD4ZMTEmiP",
        "outputId": "38398444-fb0f-4889-f47f-9ea8ef24aad9",
        "colab": {
          "base_uri": "https://localhost:8080/"
        }
      },
      "execution_count": 15,
      "outputs": [
        {
          "output_type": "execute_result",
          "data": {
            "text/plain": [
              "((100, 2), array([[ 1.        ,  0.49671415],\n",
              "        [ 1.        , -0.1382643 ],\n",
              "        [ 1.        ,  0.64768854]]))"
            ]
          },
          "metadata": {},
          "execution_count": 15
        }
      ]
    },
    {
      "cell_type": "markdown",
      "source": [
        "$\\beta=(X^TX)^{-1}X^Ty$"
      ],
      "metadata": {
        "id": "eIcuD8al92CI"
      }
    },
    {
      "cell_type": "code",
      "source": [
        "# Gram Matrix 구하기\n",
        "Xt_by_X = np.matmul(X.T, X)\n",
        "# Gram Matrix의 역행렬 구하기\n",
        "inv_Xt_by_X = np.linalg.inv(Xt_by_X)\n",
        "# XT_by_y 구하기 \n",
        "XT_by_y = np.matmul(X.T, y)\n",
        "# beta_hat 구하기\n",
        "beta_hat = np.matmul(inv_Xt_by_X, XT_by_y)\n",
        "beta_hat"
      ],
      "metadata": {
        "id": "R_wveGEjFlVo",
        "outputId": "2613d1d7-5bef-48da-8bee-7ebfb3486a45",
        "colab": {
          "base_uri": "https://localhost:8080/"
        }
      },
      "execution_count": 16,
      "outputs": [
        {
          "output_type": "execute_result",
          "data": {
            "text/plain": [
              "array([2.50148557, 3.17134857])"
            ]
          },
          "metadata": {},
          "execution_count": 16
        }
      ]
    },
    {
      "cell_type": "code",
      "source": [
        "from sklearn.linear_model import LinearRegression\n",
        "lr = LinearRegression()\n",
        "lr.fit(np.expand_dims(x, axis=-1), y)"
      ],
      "metadata": {
        "id": "daPpCERL1XWL",
        "outputId": "1f0570b8-a7b2-442b-b544-b81122fe452a",
        "colab": {
          "base_uri": "https://localhost:8080/"
        }
      },
      "execution_count": 17,
      "outputs": [
        {
          "output_type": "execute_result",
          "data": {
            "text/plain": [
              "LinearRegression()"
            ]
          },
          "metadata": {},
          "execution_count": 17
        }
      ]
    },
    {
      "cell_type": "code",
      "source": [
        "# x, y의 산포도 그래프 출력\n",
        "plt.scatter(x, y, s=3, label='(x, y)')\n",
        "plt.plot(np.linspace(-2.5, 2.5, 10), lr.predict(np.expand_dims(np.linspace(-2.5, 2.5, 10), -1)), c='r', label='회귀선')\n",
        "plt.axhline(0, linestyle='dashed')\n",
        "plt.axvline(0, linestyle='dashed')\n",
        "plt.xlabel(\"x\")\n",
        "plt.ylabel(\"y\")\n",
        "plt.title(\"산포도 그래프와 회귀선\")\n",
        "plt.legend()\n",
        "plt.show()"
      ],
      "metadata": {
        "id": "ptGfSbe-YIa9",
        "outputId": "c0922bbc-9547-49c3-936d-4c180638d993",
        "colab": {
          "base_uri": "https://localhost:8080/",
          "height": 294
        }
      },
      "execution_count": 18,
      "outputs": [
        {
          "output_type": "display_data",
          "data": {
            "text/plain": [
              "<Figure size 432x288 with 1 Axes>"
            ],
            "image/png": "[encoded data removed]"
          },
          "metadata": {
            "needs_background": "light"
          }
        }
      ]
    },
    {
      "cell_type": "code",
      "source": [
        "lr.coef_, lr.intercept_"
      ],
      "metadata": {
        "id": "eN9yQ7weY7Ek",
        "outputId": "6ba7e008-f98b-433c-e0a7-52c2501eb386",
        "colab": {
          "base_uri": "https://localhost:8080/"
        }
      },
      "execution_count": 19,
      "outputs": [
        {
          "output_type": "execute_result",
          "data": {
            "text/plain": [
              "(array([3.17134857]), 2.5014855659727933)"
            ]
          },
          "metadata": {},
          "execution_count": 19
        }
      ]
    },
    {
      "cell_type": "markdown",
      "source": [
        "# 경사하강법(Gradient Descent)"
      ],
      "metadata": {
        "id": "b4HBP6_NsL2N"
      }
    },
    {
      "cell_type": "markdown",
      "source": [
        "예제)\n",
        "경사하강법으로 $y=(x-2)^2 + 3$의 y를 최소로 하는 x의 값을 구하기"
      ],
      "metadata": {
        "id": "Ia18VBtP6rHR"
      }
    },
    {
      "cell_type": "code",
      "source": [
        "X = np.linspace(-1, 5, 1000)\n",
        "optimal = 3\n",
        "optimal_x = 2\n",
        "Y = np.square(X - optimal_x) + optimal"
      ],
      "metadata": {
        "id": "GBN9kIdqsXhv"
      },
      "execution_count": 20,
      "outputs": []
    },
    {
      "cell_type": "code",
      "source": [
        "#x =np.random.rand(1)[0] * 3 # [-3, 3]에서 임의 값으로 지정\n",
        "x = -1\n",
        "x_hist = [x] # X값의 history\n",
        "epochs = 5 # 반복 횟수\n",
        "rate = 0.3 # 이동 비율\n",
        "for i in range(epochs):\n",
        "    delta_y = 2 * (x - 2) # 미분값을 구한다\n",
        "    x -= rate * delta_y # x값을 업데이트 한다.\n",
        "    x_hist.append(x) # X값 history에 추가"
      ],
      "metadata": {
        "id": "w0dV2fCFK3to"
      },
      "execution_count": 21,
      "outputs": []
    },
    {
      "cell_type": "code",
      "source": [
        "import matplotlib.lines as mlines\n",
        "plt.figure(figsize=(8, 5)) # 표 설정\n",
        "plt.plot(X, Y, label=\"$y=(x-2)^2 + 3$\") # X, Y 그래프 출력\n",
        "# x, y 변화점 출력\n",
        "x_hist = np.array(x_hist)\n",
        "y_hist = np.square(x_hist - 2) + 3\n",
        "plt.scatter(x_hist, y_hist, c='orange')\n",
        "for i, (x_, y_) in enumerate(zip(x_hist, y_hist)):\n",
        "    plt.annotate(str(i), (x_, y_), xytext=(x_ - (0.1 if i < 5 else 0.0), y_ - 0.4))\n",
        "plt.xlabel(\"x\")\n",
        "plt.ylabel(\"y\")\n",
        "plt.legend()\n",
        "plt.show()"
      ],
      "metadata": {
        "id": "371JxZTbsy3M",
        "outputId": "d46f3e74-c152-4156-c4a2-53e7abbf2e12",
        "colab": {
          "base_uri": "https://localhost:8080/",
          "height": 334
        }
      },
      "execution_count": 22,
      "outputs": [
        {
          "output_type": "display_data",
          "data": {
            "text/plain": [
              "<Figure size 576x360 with 1 Axes>"
            ],
            "image/png": "[encoded data removed]"
          },
          "metadata": {
            "needs_background": "light"
          }
        }
      ]
    },
    {
      "cell_type": "markdown",
      "source": [
        "## 이동폭 (step size)"
      ],
      "metadata": {
        "id": "aKto_dX2Z1S2"
      }
    },
    {
      "cell_type": "code",
      "source": [
        "fig, ax = plt.subplots(1, 3, figsize=(16, 4)) # 1x3 표 생성\n",
        "for rate, ax_ in zip([1, 0.3, 0.03], ax): # 이동폭을 [1, 0.3, 0.01]에 대한 반복, 결과 ax도 묶어서 반복한다.\n",
        "    # 경사하강으로 최적화\n",
        "    x = -1\n",
        "    x_hist = [x] \n",
        "    epochs = 5 # 반복 횟수\n",
        "    for i in range(epochs):\n",
        "        delta_y = 2 * (x - 2)\n",
        "        x -= rate * delta_y\n",
        "        x_hist.append(x)\n",
        "    # 표출력\n",
        "    ax_.plot(X, Y, label=\"$y=(x-2)^2 + 3$\")\n",
        "    x_hist = np.array(x_hist)\n",
        "    y_hist = np.square(x_hist - 2) + 3\n",
        "    ax_.scatter(x_hist, y_hist, c='orange')\n",
        "    for i, (x_, y_) in enumerate(zip(x_hist, y_hist)):\n",
        "        ax_.annotate(str(i), (x_, y_), xytext=(x_ - (0.1 if i < 5 else 0.0), y_ - 0.4)) # 단계출력\n",
        "    ax_.set_xlabel(\"x\")\n",
        "    ax_.set_ylabel(\"y\")\n",
        "    ax_.legend()\n",
        "    ax_.set_title(\"$\\gamma={}$\".format(rate))\n",
        "plt.show()"
      ],
      "metadata": {
        "id": "sIwjAHLXV6rI",
        "outputId": "7005b2d0-ae7b-4030-cafc-397857854247",
        "colab": {
          "base_uri": "https://localhost:8080/",
          "height": 296
        }
      },
      "execution_count": 28,
      "outputs": [
        {
          "output_type": "display_data",
          "data": {
            "text/plain": [
              "<Figure size 1152x288 with 3 Axes>"
            ],
            "image/png": "[encoded data removed]"
          },
          "metadata": {
            "needs_background": "light"
          }
        }
      ]
    },
    {
      "cell_type": "markdown",
      "source": [
        "## 반복횟수(epochs)"
      ],
      "metadata": {
        "id": "rYackpu9Z7ea"
      }
    },
    {
      "cell_type": "code",
      "source": [
        "x = -1\n",
        "y = (x - 2) ** 2 + 3\n",
        "x_hist = [x]\n",
        "y_hist = [y]\n",
        "rate = 0.1\n",
        "epochs = 50 # 반복 횟수\n",
        "converge_thres = 1e-2 # 수렴점\n",
        "converge_cnt = 0 # 수렴점이하로 유지된 반복수\n",
        "converge_max_cnt = 5 # 수렴이라 결정할 때의 최대 converge_cnt\n",
        "converge_iter = -1\n",
        "for i in range(epochs):\n",
        "    prev_y = y # y_diff(y의 변화값)을 구하기 위해 저장\n",
        "    delta_y = 2 * (x - 2)\n",
        "    x -= rate * delta_y\n",
        "    y = (x - 2) ** 2 + 3\n",
        "    x_hist.append(x)\n",
        "    y_hist.append(y)\n",
        "    y_diff = prev_y - y\n",
        "    if y_diff < converge_thres:\n",
        "        converge_cnt +=1\n",
        "        if converge_cnt >= converge_max_cnt and converge_iter < 0: # 최초의 수렴시점을 기록\n",
        "            converge_iter = i + 1\n",
        "    else:\n",
        "        converge_cnt = 0\n",
        "\n",
        "plt.figure(figsize=(8, 5)) # 표 설정\n",
        "# epoch에 따른 y값 출력\n",
        "plt.plot(y_hist, label='y')\n",
        "plt.axvline(converge_iter, linestyle='--', color='orange')\n",
        "plt.annotate(\"수렴점\", (20, 8))\n",
        "plt.xlabel(\"단계\")\n",
        "plt.ylabel(\"y\")\n",
        "plt.legend()\n",
        "plt.show()"
      ],
      "metadata": {
        "id": "U9B7q4_mDfqF",
        "outputId": "ca258849-3e89-4023-9268-85e6bbddf821",
        "colab": {
          "base_uri": "https://localhost:8080/",
          "height": 334
        }
      },
      "execution_count": 36,
      "outputs": [
        {
          "output_type": "display_data",
          "data": {
            "text/plain": [
              "<Figure size 576x360 with 1 Axes>"
            ],
            "image/png": "[encoded data removed]"
          },
          "metadata": {
            "needs_background": "light"
          }
        }
      ]
    },
    {
      "cell_type": "markdown",
      "source": [
        "## 경사하강법(Gradient Descent)를 통한 선형 회귀(Linear Regression) 학습"
      ],
      "metadata": {
        "id": "LnwSLmkvjssZ"
      }
    },
    {
      "cell_type": "code",
      "source": [
        "# 위와 동일한 회귀 데이터셋 생성\n",
        "n = 100\n",
        "np.random.seed(42)\n",
        "eps = np.random.normal(size=n)\n",
        "beta_0, beta_1, noise = 2.5, 3.2, 1.0\n",
        "y = x * beta_1 + beta_0 + eps"
      ],
      "metadata": {
        "id": "PbC0geEuktuh"
      },
      "execution_count": 104,
      "outputs": []
    },
    {
      "cell_type": "code",
      "source": [
        "beta_0, beta_1 = np.random.rand(2) * 2 - 1 # 초기값 설정 [-1, 1]\n",
        "loss_hist = []\n",
        "beta_hist = [(beta_0, beta_1)]\n",
        "epochs = 20\n",
        "\n",
        "y_hat = beta_0 + beta_1 * x\n",
        "learning_rate = 0.25\n",
        "mse =  np.mean(np.square(y, y_hat))\n",
        "loss_hist.append(mse)"
      ],
      "metadata": {
        "id": "Cwhx8xaleBOD"
      },
      "execution_count": 114,
      "outputs": []
    },
    {
      "cell_type": "code",
      "source": [
        "for i in range(epochs):\n",
        "    y_delta = y - beta_0 - beta_1 * x\n",
        "    y_delta_by_beta_0 = -np.mean(y_delta) # beta_0의 미분값\n",
        "    y_delta_by_beta_1 = -np.mean(y_delta * x) # beta_1의 미분값\n",
        "    beta_0 -= y_delta_by_beta_0 * learning_rate\n",
        "    beta_1 -= y_delta_by_beta_1 * learning_rate\n",
        "    y_hat = beta_0 + beta_1 * x\n",
        "    mse = np.mean(np.square(y - y_hat))\n",
        "    beta_hist.append((beta_0, beta_1))\n",
        "    loss_hist.append(mse)"
      ],
      "metadata": {
        "id": "BRhVQAY_eCXL"
      },
      "execution_count": 115,
      "outputs": []
    },
    {
      "cell_type": "code",
      "source": [
        "plt.figure(figsize=(8, 5)) # 표 설정\n",
        "# epoch에 따른 y값 출력\n",
        "plt.plot(loss_hist, label='loss')\n",
        "plt.xlabel(\"단계\")\n",
        "plt.ylabel(\"MSE\")\n",
        "plt.legend()\n",
        "plt.title(\"단계별 손실(loss)\")\n",
        "plt.show()"
      ],
      "metadata": {
        "id": "tibdaaOPpVHR",
        "outputId": "5a7ab900-9264-49ce-d8ae-2194224502c0",
        "colab": {
          "base_uri": "https://localhost:8080/",
          "height": 349
        }
      },
      "execution_count": 135,
      "outputs": [
        {
          "output_type": "display_data",
          "data": {
            "text/plain": [
              "<Figure size 576x360 with 1 Axes>"
            ],
            "image/png": "[encoded data removed]"
          },
          "metadata": {
            "needs_background": "light"
          }
        }
      ]
    },
    {
      "cell_type": "code",
      "source": [
        "beta_0, beta_1"
      ],
      "metadata": {
        "id": "zjH7IKB3p3-D",
        "outputId": "66ea2c08-3222-4051-c407-5536e4a9b922",
        "colab": {
          "base_uri": "https://localhost:8080/"
        }
      },
      "execution_count": 118,
      "outputs": [
        {
          "output_type": "execute_result",
          "data": {
            "text/plain": [
              "(2.4687682793703454, 4.135531219944396)"
            ]
          },
          "metadata": {},
          "execution_count": 118
        }
      ]
    },
    {
      "cell_type": "code",
      "source": [
        "plt.figure(figsize=(8, 5)) # 표 설정\n",
        "# x, y의 산포도 그래프 출력\n",
        "plt.scatter(x, y, s=3, label='(x, y)')\n",
        "x_space = np.linspace(-2.5, 2.5, 10)\n",
        "# 단계별 회귀선 출력\n",
        "for i in range(0,16,5): \n",
        "    beta_0, beta_1 = beta_hist[i]\n",
        "    plt.plot(x_space, beta_0 + beta_1 * x_space, label='{}단계'.format(i), linestyle='dotted')\n",
        "plt.axhline(0, linestyle='dashed')\n",
        "plt.axvline(0, linestyle='dashed')\n",
        "plt.xlabel(\"x\")\n",
        "plt.ylabel(\"y\")\n",
        "plt.title(\"산포도 그래프와 회귀선\")\n",
        "plt.legend()\n",
        "plt.show()"
      ],
      "metadata": {
        "id": "BP8O9jwq5ZHd",
        "outputId": "9311a059-a5c2-4707-fe57-974f61101b5b",
        "colab": {
          "base_uri": "https://localhost:8080/",
          "height": 349
        }
      },
      "execution_count": 132,
      "outputs": [
        {
          "output_type": "display_data",
          "data": {
            "text/plain": [
              "<Figure size 576x360 with 1 Axes>"
            ],
            "image/png": "[encoded data removed]"
          },
          "metadata": {
            "needs_background": "light"
          }
        }
      ]
    },
    {
      "cell_type": "code",
      "source": [],
      "metadata": {
        "id": "ioti42kw6WYd"
      },
      "execution_count": null,
      "outputs": []
    }
  ]
}