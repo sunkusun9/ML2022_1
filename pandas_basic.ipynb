{
  "nbformat": 4,
  "nbformat_minor": 0,
  "metadata": {
    "colab": {
      "provenance": [],
      "authorship_tag": "ABX9TyO8+3tPZmbd5Vu/rLKg1Wf8",
      "include_colab_link": true
    },
    "kernelspec": {
      "name": "python3",
      "display_name": "Python 3"
    },
    "language_info": {
      "name": "python"
    }
  },
  "cells": [
    {
      "cell_type": "markdown",
      "metadata": {
        "id": "view-in-github",
        "colab_type": "text"
      },
      "source": [
        "<a href=\"https://colab.research.google.com/github/sunkusun9/ML2022_1/blob/main/pandas_basic.ipynb\" target=\"_parent\"><img src=\"https://colab.research.google.com/assets/colab-badge.svg\" alt=\"Open In Colab\"/></a>"
      ]
    },
    {
      "cell_type": "code",
      "execution_count": 1,
      "metadata": {
        "colab": {
          "base_uri": "https://localhost:8080/",
          "height": 35
        },
        "id": "31ZdL0xKyIwp",
        "outputId": "87bd31ac-c807-4395-ee6e-55dd788e4c05"
      },
      "outputs": [
        {
          "output_type": "execute_result",
          "data": {
            "text/plain": [
              "'1.3.5'"
            ],
            "application/vnd.google.colaboratory.intrinsic+json": {
              "type": "string"
            }
          },
          "metadata": {},
          "execution_count": 1
        }
      ],
      "source": [
        "import pandas as pd\n",
        "pd.__version__"
      ]
    },
    {
      "cell_type": "markdown",
      "source": [
        "# Pandas  테이블 형태(Tabular)의 데이터 위한 툴\n",
        "\n",
        "Pandas의 구성 요소\n",
        "\n",
        "DataFrame, 행(row)와 열(column)으로 구성 된 자료 \n",
        "\n",
        "![image.png](data:image/png;base64,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)\n",
        "\n",
        "Series: DataFrame의 하나의 열 또는 행을 구성하는 요소\n",
        "\n",
        "![image.png](data:image/png;base64,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)"
      ],
      "metadata": {
        "id": "6wSK0aSAzZ2l"
      }
    },
    {
      "cell_type": "markdown",
      "source": [
        "**Pandas는 numpy를 기반으로 구현 되어 서로 긴밀하게 연관되어 있다**"
      ],
      "metadata": {
        "id": "cy0DM08-VtOL"
      }
    },
    {
      "cell_type": "code",
      "source": [
        "import numpy as np\n",
        "np.__version__"
      ],
      "metadata": {
        "colab": {
          "base_uri": "https://localhost:8080/",
          "height": 35
        },
        "id": "_YPhwKMUzRXT",
        "outputId": "b8eb5265-8705-4e1f-df90-8a9fe6b5d8cb"
      },
      "execution_count": 2,
      "outputs": [
        {
          "output_type": "execute_result",
          "data": {
            "text/plain": [
              "'1.21.6'"
            ],
            "application/vnd.google.colaboratory.intrinsic+json": {
              "type": "string"
            }
          },
          "metadata": {},
          "execution_count": 2
        }
      ]
    },
    {
      "cell_type": "markdown",
      "source": [
        "# Pandas의 자료구조\n",
        "\n",
        "[Intro to data structures](https://pandas.pydata.org/docs/user_guide/dsintro.html#dsintro) 을 기반으로 제작"
      ],
      "metadata": {
        "id": "oIDB_txj3vzV"
      }
    },
    {
      "cell_type": "markdown",
      "source": [
        "## [Series](https://pandas.pydata.org/docs/reference/api/pandas.Series.html)\n",
        "\n",
        "- 1차원의 색인화된 저장 구조\n",
        "- 정수(integer), 실수(float), 문자(str), Python 객체(objects)를 다룰 수 있다.\n",
        "\n",
        "s = pd.Series(data, index=index)\n",
        "\n",
        "data - dict, ndarray, scalar\n",
        "\n",
        "index - 색인, 값을 지정하지 않으면 0...(N-1)의 정수로 값이 지정"
      ],
      "metadata": {
        "id": "40__FQHgywj9"
      }
    },
    {
      "cell_type": "code",
      "source": [
        "# 5개의 난수를 생성하여, Series를 생성 \n",
        "s = pd.Series(np.random.randn(5))\n",
        "s"
      ],
      "metadata": {
        "colab": {
          "base_uri": "https://localhost:8080/"
        },
        "id": "FBb1R4UE3aOc",
        "outputId": "b98a2b3c-cb37-4d96-d3af-7c3bd8a7a860"
      },
      "execution_count": 3,
      "outputs": [
        {
          "output_type": "execute_result",
          "data": {
            "text/plain": [
              "0   -0.227469\n",
              "1    1.708344\n",
              "2   -1.598806\n",
              "3   -1.150990\n",
              "4   -0.009439\n",
              "dtype: float64"
            ]
          },
          "metadata": {},
          "execution_count": 3
        }
      ]
    },
    {
      "cell_type": "code",
      "source": [
        "# 5개의 난수를 생성하고, 인덱스를 'a'~'e'까지 지정\n",
        "s = pd.Series(np.random.randn(5), index=[\"a\", \"b\", \"c\", \"d\", \"e\"])\n",
        "s"
      ],
      "metadata": {
        "colab": {
          "base_uri": "https://localhost:8080/"
        },
        "id": "0kuA3wSuJPlX",
        "outputId": "d8b06106-2c2d-4016-ce74-c8af86c586e3"
      },
      "execution_count": 4,
      "outputs": [
        {
          "output_type": "execute_result",
          "data": {
            "text/plain": [
              "a   -0.781861\n",
              "b    1.721937\n",
              "c   -0.037190\n",
              "d   -2.089889\n",
              "e   -1.350272\n",
              "dtype: float64"
            ]
          },
          "metadata": {},
          "execution_count": 4
        }
      ]
    },
    {
      "cell_type": "code",
      "source": [
        "# 인덱스 확인\n",
        "s.index"
      ],
      "metadata": {
        "colab": {
          "base_uri": "https://localhost:8080/"
        },
        "id": "MNCcOX6fJiUp",
        "outputId": "e33985b6-ec6c-49a5-977f-df731b19568b"
      },
      "execution_count": 5,
      "outputs": [
        {
          "output_type": "execute_result",
          "data": {
            "text/plain": [
              "Index(['a', 'b', 'c', 'd', 'e'], dtype='object')"
            ]
          },
          "metadata": {},
          "execution_count": 5
        }
      ]
    },
    {
      "cell_type": "code",
      "source": [
        "# dict 로 Series 생성, key는 index로, value는 Series의 value로 생성\n",
        "d = {\"a\": 0.0, \"b\": 1.0, \"c\": 2.0}\n",
        "\n",
        "pd.Series(d)"
      ],
      "metadata": {
        "colab": {
          "base_uri": "https://localhost:8080/"
        },
        "id": "cdgCcL1dJ9l2",
        "outputId": "0baa4578-24b4-4bad-df98-c5866bdd26ff"
      },
      "execution_count": 6,
      "outputs": [
        {
          "output_type": "execute_result",
          "data": {
            "text/plain": [
              "a    0.0\n",
              "b    1.0\n",
              "c    2.0\n",
              "dtype: float64"
            ]
          },
          "metadata": {},
          "execution_count": 6
        }
      ]
    },
    {
      "cell_type": "code",
      "source": [
        "# dict로 생성시 index를 사용하면 dict에 없는 데이터는 NA가 들어가고 index로 지정하지 않은 값은 제외된다.\n",
        "# 즉 index를 기준으로 \n",
        "pd.Series(d, index=['b', 'd', 'c'])"
      ],
      "metadata": {
        "colab": {
          "base_uri": "https://localhost:8080/"
        },
        "id": "_n_XFxkrLjif",
        "outputId": "c23ab979-da92-4243-d48b-89ee3081f813"
      },
      "execution_count": 7,
      "outputs": [
        {
          "output_type": "execute_result",
          "data": {
            "text/plain": [
              "b    1.0\n",
              "d    NaN\n",
              "c    2.0\n",
              "dtype: float64"
            ]
          },
          "metadata": {},
          "execution_count": 7
        }
      ]
    },
    {
      "cell_type": "code",
      "source": [
        "# 단일 값으로 생성한다면, index를 제공하지 않으면, 길이가 1이고 인덱스가 0인 Series가 생성\n",
        "pd.Series(5.0)"
      ],
      "metadata": {
        "colab": {
          "base_uri": "https://localhost:8080/"
        },
        "id": "MokbJOscMXB4",
        "outputId": "afc3647b-7668-4172-e214-cc76b910a166"
      },
      "execution_count": 8,
      "outputs": [
        {
          "output_type": "execute_result",
          "data": {
            "text/plain": [
              "0    5.0\n",
              "dtype: float64"
            ]
          },
          "metadata": {},
          "execution_count": 8
        }
      ]
    },
    {
      "cell_type": "code",
      "source": [
        "# index를 제공한다면, 해당 값으로 index 만큼의 Series가 생성\n",
        "pd.Series(5.0, index=['a', 'b', 'c', 'd'])"
      ],
      "metadata": {
        "colab": {
          "base_uri": "https://localhost:8080/"
        },
        "id": "51ur_UauNTCZ",
        "outputId": "d4eaeb3d-6552-4d22-a9d2-6d6d29e0cf1d"
      },
      "execution_count": 9,
      "outputs": [
        {
          "output_type": "execute_result",
          "data": {
            "text/plain": [
              "a    5.0\n",
              "b    5.0\n",
              "c    5.0\n",
              "d    5.0\n",
              "dtype: float64"
            ]
          },
          "metadata": {},
          "execution_count": 9
        }
      ]
    },
    {
      "cell_type": "code",
      "source": [
        "# 값은 0~4 색인 은  'a'~'e'를 지는 Series 생성\n",
        "s = pd.Series(np.arange(0, 5), index=[chr(ord('a') + i) for i in range(0, 5)])\n",
        "s"
      ],
      "metadata": {
        "colab": {
          "base_uri": "https://localhost:8080/"
        },
        "id": "gKVEUnB3N3tY",
        "outputId": "21b4fa2e-71a3-4ef9-cdb9-da1fca773c65"
      },
      "execution_count": 10,
      "outputs": [
        {
          "output_type": "execute_result",
          "data": {
            "text/plain": [
              "a    0\n",
              "b    1\n",
              "c    2\n",
              "d    3\n",
              "e    4\n",
              "dtype: int64"
            ]
          },
          "metadata": {},
          "execution_count": 10
        }
      ]
    },
    {
      "cell_type": "markdown",
      "source": [
        "[Practice]\n",
        "\n",
        "1. 0부터 2씩 증가하여 10까지 값을 지닌 Series 생성\n",
        "\n",
        "2. 0부터 10까지 색인으로 하고 0부터 10까지 제곱수 지닌 Series를 생성"
      ],
      "metadata": {
        "id": "pAhya2spQu4A"
      }
    },
    {
      "cell_type": "code",
      "source": [
        "# 1\n",
        "s = pd.Series(np.arange(0, 11, 2))\n",
        "s"
      ],
      "metadata": {
        "colab": {
          "base_uri": "https://localhost:8080/"
        },
        "id": "ZMmIwhJqNtKZ",
        "outputId": "54d9dc18-0117-47a9-fbe0-58692e32404f"
      },
      "execution_count": 11,
      "outputs": [
        {
          "output_type": "execute_result",
          "data": {
            "text/plain": [
              "0     0\n",
              "1     2\n",
              "2     4\n",
              "3     6\n",
              "4     8\n",
              "5    10\n",
              "dtype: int64"
            ]
          },
          "metadata": {},
          "execution_count": 11
        }
      ]
    },
    {
      "cell_type": "code",
      "source": [
        "# 2\n",
        "s = pd.Series(np.arange(0, 5) ** 2, index=np.arange(0, 5))\n",
        "s"
      ],
      "metadata": {
        "colab": {
          "base_uri": "https://localhost:8080/"
        },
        "id": "pdtKhzz_zbnG",
        "outputId": "a9db88af-d7b7-4fe9-c12e-192f0a83ae69"
      },
      "execution_count": 12,
      "outputs": [
        {
          "output_type": "execute_result",
          "data": {
            "text/plain": [
              "0     0\n",
              "1     1\n",
              "2     4\n",
              "3     9\n",
              "4    16\n",
              "dtype: int64"
            ]
          },
          "metadata": {},
          "execution_count": 12
        }
      ]
    },
    {
      "cell_type": "markdown",
      "source": [
        "**Pandas Series는 벡터화 연산와 고차원변환(Broadcasting) 연산을 지원한다.**\n",
        "\n",
        "Series 와 Series \n",
        "- 색인 별로(색인이 같은 수 끼리) 연산이 이루어짐\n",
        "- 색인이 일치 하지 않을 경우 NaN 값이 됨\n",
        "\n",
        "Series 와 Scalar(단일 변수)\n",
        "\n",
        "numpy 함수와 Series 간 연산 => Series로 반환"
      ],
      "metadata": {
        "id": "Uc85NZs1exwT"
      }
    },
    {
      "cell_type": "markdown",
      "source": [
        "* Series, Series간 벡터화 연산"
      ],
      "metadata": {
        "id": "muukzht36UEm"
      }
    },
    {
      "cell_type": "code",
      "source": [
        "s + s"
      ],
      "metadata": {
        "colab": {
          "base_uri": "https://localhost:8080/"
        },
        "id": "9I7H6peeQGGC",
        "outputId": "f3af93fb-cf85-4570-f3ed-6fda064f5dc3"
      },
      "execution_count": 13,
      "outputs": [
        {
          "output_type": "execute_result",
          "data": {
            "text/plain": [
              "0     0\n",
              "1     2\n",
              "2     8\n",
              "3    18\n",
              "4    32\n",
              "dtype: int64"
            ]
          },
          "metadata": {},
          "execution_count": 13
        }
      ]
    },
    {
      "cell_type": "code",
      "source": [
        "# 값에 대한 역순위 정렬을 한다.\n",
        "s.sort_values(ascending=False)"
      ],
      "metadata": {
        "colab": {
          "base_uri": "https://localhost:8080/"
        },
        "id": "8hEelpKOWSg1",
        "outputId": "24eb692b-63f2-4522-fd76-8afec59dd567"
      },
      "execution_count": 14,
      "outputs": [
        {
          "output_type": "execute_result",
          "data": {
            "text/plain": [
              "4    16\n",
              "3     9\n",
              "2     4\n",
              "1     1\n",
              "0     0\n",
              "dtype: int64"
            ]
          },
          "metadata": {},
          "execution_count": 14
        }
      ]
    },
    {
      "cell_type": "code",
      "source": [
        "# 값의 순서로 이루진다고 착각할 수 있다, 같은 인덱스끼리 연산이 이루어 진다 이 점을 유의 하자.\n",
        "s + s.sort_values(ascending=False)"
      ],
      "metadata": {
        "colab": {
          "base_uri": "https://localhost:8080/"
        },
        "id": "G4QY2d36WfIa",
        "outputId": "72c81d7e-d27c-4d51-b8ab-5526725cf45e"
      },
      "execution_count": 15,
      "outputs": [
        {
          "output_type": "execute_result",
          "data": {
            "text/plain": [
              "0     0\n",
              "1     2\n",
              "2     8\n",
              "3    18\n",
              "4    32\n",
              "dtype: int64"
            ]
          },
          "metadata": {},
          "execution_count": 15
        }
      ]
    },
    {
      "cell_type": "code",
      "source": [
        "# index 매칭\n",
        "s[:-1] + s[1:]"
      ],
      "metadata": {
        "colab": {
          "base_uri": "https://localhost:8080/"
        },
        "id": "8vJ3PEP8UN8j",
        "outputId": "c9cf8cc5-1847-450e-a8f4-0a69424262cb"
      },
      "execution_count": 16,
      "outputs": [
        {
          "output_type": "execute_result",
          "data": {
            "text/plain": [
              "0     NaN\n",
              "1     2.0\n",
              "2     8.0\n",
              "3    18.0\n",
              "4     NaN\n",
              "dtype: float64"
            ]
          },
          "metadata": {},
          "execution_count": 16
        }
      ]
    },
    {
      "cell_type": "code",
      "source": [
        "# numpy 함수를 이용한 연산도 pandas 동일, numpy ndarray가 아닌 pandas Series를 넘긴다.\n",
        "np.add(s[:-1], s[1:])"
      ],
      "metadata": {
        "colab": {
          "base_uri": "https://localhost:8080/"
        },
        "id": "m1nc0OWmWkez",
        "outputId": "316e0377-4bb5-4709-8023-0e60f9f219ba"
      },
      "execution_count": 17,
      "outputs": [
        {
          "output_type": "execute_result",
          "data": {
            "text/plain": [
              "0     NaN\n",
              "1     2.0\n",
              "2     8.0\n",
              "3    18.0\n",
              "4     NaN\n",
              "dtype: float64"
            ]
          },
          "metadata": {},
          "execution_count": 17
        }
      ]
    },
    {
      "cell_type": "markdown",
      "source": [
        "* Series 와 scalar 간의 고차원변환(Broadcating) 연산"
      ],
      "metadata": {
        "id": "DAFyx3-x6ELV"
      }
    },
    {
      "cell_type": "code",
      "source": [
        "s + 3"
      ],
      "metadata": {
        "colab": {
          "base_uri": "https://localhost:8080/"
        },
        "id": "82pxRMTw6DvL",
        "outputId": "fcfdb0c1-e9b0-4668-912c-09c31ae0422f"
      },
      "execution_count": 52,
      "outputs": [
        {
          "output_type": "execute_result",
          "data": {
            "text/plain": [
              "0    4\n",
              "1    5\n",
              "2    6\n",
              "3    7\n",
              "4    8\n",
              "dtype: int64"
            ]
          },
          "metadata": {},
          "execution_count": 52
        }
      ]
    },
    {
      "cell_type": "markdown",
      "source": [
        "* numpy array와 비교한다면?"
      ],
      "metadata": {
        "id": "e56ejiaXGR7o"
      }
    },
    {
      "cell_type": "code",
      "source": [
        "a = np.arange(1, 1000)\n",
        "b = np.arange(1, 1000)"
      ],
      "metadata": {
        "id": "2VWxkeY3GJ4-"
      },
      "execution_count": 118,
      "outputs": []
    },
    {
      "cell_type": "code",
      "source": [
        "%%timeit\n",
        "a + b"
      ],
      "metadata": {
        "colab": {
          "base_uri": "https://localhost:8080/"
        },
        "id": "trzQoLOdGdyx",
        "outputId": "c781eca0-fafc-4dbc-cfe1-67fb25520998"
      },
      "execution_count": 119,
      "outputs": [
        {
          "output_type": "stream",
          "name": "stdout",
          "text": [
            "1.03 µs ± 26.3 ns per loop (mean ± std. dev. of 7 runs, 1000000 loops each)\n"
          ]
        }
      ]
    },
    {
      "cell_type": "code",
      "source": [
        "a = pd.Series(np.arange(1, 1000))\n",
        "b = pd.Series(np.arange(1, 1000))"
      ],
      "metadata": {
        "id": "530IkNGOGYg5"
      },
      "execution_count": 125,
      "outputs": []
    },
    {
      "cell_type": "code",
      "source": [
        "%%timeit\n",
        "a + b"
      ],
      "metadata": {
        "colab": {
          "base_uri": "https://localhost:8080/"
        },
        "id": "G4kb2DTmGj9Y",
        "outputId": "1d4ec59d-d653-46ac-ebbd-8e3c46b8f4f2"
      },
      "execution_count": 114,
      "outputs": [
        {
          "output_type": "stream",
          "name": "stdout",
          "text": [
            "114 µs ± 9.26 µs per loop (mean ± std. dev. of 7 runs, 10000 loops each)\n"
          ]
        }
      ]
    },
    {
      "cell_type": "code",
      "source": [
        "%%timeit\n",
        "np.add(a, b)"
      ],
      "metadata": {
        "colab": {
          "base_uri": "https://localhost:8080/"
        },
        "id": "LARYrKRiHfug",
        "outputId": "6d80bf23-17ac-4a61-e3d6-81801a7bb3fc"
      },
      "execution_count": 126,
      "outputs": [
        {
          "output_type": "stream",
          "name": "stdout",
          "text": [
            "142 µs ± 6.63 µs per loop (mean ± std. dev. of 7 runs, 10000 loops each)\n"
          ]
        }
      ]
    },
    {
      "cell_type": "markdown",
      "source": [
        "* 많이 느리다. 많은 연산을 직접할 때에는 numpy를 사용하는 것이 효율적일 수 있다 ."
      ],
      "metadata": {
        "id": "YrmJmAC-G32D"
      }
    },
    {
      "cell_type": "code",
      "source": [
        "%%timeit\n",
        "a.values + b.values"
      ],
      "metadata": {
        "colab": {
          "base_uri": "https://localhost:8080/"
        },
        "id": "mt_R15IaHEzg",
        "outputId": "25e5f982-8739-42f0-ded6-4af85e96928b"
      },
      "execution_count": 116,
      "outputs": [
        {
          "output_type": "stream",
          "name": "stdout",
          "text": [
            "3.21 µs ± 168 ns per loop (mean ± std. dev. of 7 runs, 100000 loops each)\n"
          ]
        }
      ]
    },
    {
      "cell_type": "markdown",
      "source": [
        "Series에 이름을  부여할 수있다."
      ],
      "metadata": {
        "id": "tTTSxmvYRCBA"
      }
    },
    {
      "cell_type": "code",
      "source": [
        "s.name = '1~5' # Series에 이름을  지정\n",
        "s.name"
      ],
      "metadata": {
        "colab": {
          "base_uri": "https://localhost:8080/",
          "height": 35
        },
        "id": "295DelRtRQCC",
        "outputId": "9f6a4002-e751-407f-fc89-0abc8e8542e0"
      },
      "execution_count": 18,
      "outputs": [
        {
          "output_type": "execute_result",
          "data": {
            "text/plain": [
              "'1~5'"
            ],
            "application/vnd.google.colaboratory.intrinsic+json": {
              "type": "string"
            }
          },
          "metadata": {},
          "execution_count": 18
        }
      ]
    },
    {
      "cell_type": "code",
      "source": [
        "# rename은 rename한 Series를 만들어 반환한다.\n",
        "s.rename('1 부터 5')\n",
        "s.name # 이름이 바뀌지 않음을 확인"
      ],
      "metadata": {
        "colab": {
          "base_uri": "https://localhost:8080/",
          "height": 35
        },
        "id": "S7sL4P2pRbih",
        "outputId": "5170e914-88ed-425c-801d-e7a25ab21551"
      },
      "execution_count": 19,
      "outputs": [
        {
          "output_type": "execute_result",
          "data": {
            "text/plain": [
              "'1~5'"
            ],
            "application/vnd.google.colaboratory.intrinsic+json": {
              "type": "string"
            }
          },
          "metadata": {},
          "execution_count": 19
        }
      ]
    },
    {
      "cell_type": "markdown",
      "source": [
        "이러한 함수 구성은 Method Chaining에 활용할 수 있다.\n",
        "\n",
        "**Method Chaining: 객체에 연산 수행 후에 객체를 반환하고 이에 대한 함수 호출을 연속적으로 이어갈 수 있게하여 구현의 편의성과 가독성을 제공하는 기법**"
      ],
      "metadata": {
        "id": "_2YpfFxzS4qz"
      }
    },
    {
      "cell_type": "code",
      "source": [
        "s2 = s.rename('1 부터 5')\n",
        "s2.name"
      ],
      "metadata": {
        "colab": {
          "base_uri": "https://localhost:8080/",
          "height": 35
        },
        "id": "00p5WLjjR0DG",
        "outputId": "8f6f275e-535c-4f2d-a88f-95626bc37082"
      },
      "execution_count": 20,
      "outputs": [
        {
          "output_type": "execute_result",
          "data": {
            "text/plain": [
              "'1 부터 5'"
            ],
            "application/vnd.google.colaboratory.intrinsic+json": {
              "type": "string"
            }
          },
          "metadata": {},
          "execution_count": 20
        }
      ]
    },
    {
      "cell_type": "markdown",
      "source": [
        "## [DataFrame](https://pandas.pydata.org/docs/reference/api/pandas.DataFrame.html)\n",
        "\n",
        "- **행(row)**과 **열(column)**로 구성된 2차원의 색인화된 저장 구조"
      ],
      "metadata": {
        "id": "u6S3FAcWK3En"
      }
    },
    {
      "cell_type": "code",
      "source": [
        "# dict를 통한 생성\n",
        "# dict의 key는 열의 이름이 된다.\n",
        "df = pd.DataFrame({\n",
        "    \"one\": [1, 11, 21, 31, 41],\n",
        "    \"two\": np.array([2, 12, 22, 32, 42]), # ndarray로 생성이 가능\n",
        "    \"three\": range(3, 44, 10), # iterable로도 가능,\n",
        "    'four': pd.Series(np.arange(4, 45, 10), index=[0, 10, 20, 30, 41]) # Series로도 가능하다. DataFrame에서 지정한 index만을 가져온다\n",
        "}, index=[0, 10, 20, 30,40])\n",
        "df"
      ],
      "metadata": {
        "colab": {
          "base_uri": "https://localhost:8080/",
          "height": 206
        },
        "id": "PVHetsv3UsBc",
        "outputId": "b4bab660-5af3-49a9-e1b0-8c594787af2b"
      },
      "execution_count": 39,
      "outputs": [
        {
          "output_type": "execute_result",
          "data": {
            "text/plain": [
              "    one  two  three  four\n",
              "0     1    2      3   4.0\n",
              "10   11   12     13  14.0\n",
              "20   21   22     23  24.0\n",
              "30   31   32     33  34.0\n",
              "40   41   42     43   NaN"
            ],
            "text/html": [
              "\n",
              "  <div id=\"df-360eded2-3bf2-4ae3-aa1c-25f71746dad9\">\n",
              "    <div class=\"colab-df-container\">\n",
              "      <div>\n",
              "<style scoped>\n",
              "    .dataframe tbody tr th:only-of-type {\n",
              "        vertical-align: middle;\n",
              "    }\n",
              "\n",
              "    .dataframe tbody tr th {\n",
              "        vertical-align: top;\n",
              "    }\n",
              "\n",
              "    .dataframe thead th {\n",
              "        text-align: right;\n",
              "    }\n",
              "</style>\n",
              "<table border=\"1\" class=\"dataframe\">\n",
              "  <thead>\n",
              "    <tr style=\"text-align: right;\">\n",
              "      <th></th>\n",
              "      <th>one</th>\n",
              "      <th>two</th>\n",
              "      <th>three</th>\n",
              "      <th>four</th>\n",
              "    </tr>\n",
              "  </thead>\n",
              "  <tbody>\n",
              "    <tr>\n",
              "      <th>0</th>\n",
              "      <td>1</td>\n",
              "      <td>2</td>\n",
              "      <td>3</td>\n",
              "      <td>4.0</td>\n",
              "    </tr>\n",
              "    <tr>\n",
              "      <th>10</th>\n",
              "      <td>11</td>\n",
              "      <td>12</td>\n",
              "      <td>13</td>\n",
              "      <td>14.0</td>\n",
              "    </tr>\n",
              "    <tr>\n",
              "      <th>20</th>\n",
              "      <td>21</td>\n",
              "      <td>22</td>\n",
              "      <td>23</td>\n",
              "      <td>24.0</td>\n",
              "    </tr>\n",
              "    <tr>\n",
              "      <th>30</th>\n",
              "      <td>31</td>\n",
              "      <td>32</td>\n",
              "      <td>33</td>\n",
              "      <td>34.0</td>\n",
              "    </tr>\n",
              "    <tr>\n",
              "      <th>40</th>\n",
              "      <td>41</td>\n",
              "      <td>42</td>\n",
              "      <td>43</td>\n",
              "      <td>NaN</td>\n",
              "    </tr>\n",
              "  </tbody>\n",
              "</table>\n",
              "</div>\n",
              "      <button class=\"colab-df-convert\" onclick=\"convertToInteractive('df-360eded2-3bf2-4ae3-aa1c-25f71746dad9')\"\n",
              "              title=\"Convert this dataframe to an interactive table.\"\n",
              "              style=\"display:none;\">\n",
              "        \n",
              "  <svg xmlns=\"http://www.w3.org/2000/svg\" height=\"24px\"viewBox=\"0 0 24 24\"\n",
              "       width=\"24px\">\n",
              "    <path d=\"M0 0h24v24H0V0z\" fill=\"none\"/>\n",
              "    <path d=\"M18.56 5.44l.94 2.06.94-2.06 2.06-.94-2.06-.94-.94-2.06-.94 2.06-2.06.94zm-11 1L8.5 8.5l.94-2.06 2.06-.94-2.06-.94L8.5 2.5l-.94 2.06-2.06.94zm10 10l.94 2.06.94-2.06 2.06-.94-2.06-.94-.94-2.06-.94 2.06-2.06.94z\"/><path d=\"M17.41 7.96l-1.37-1.37c-.4-.4-.92-.59-1.43-.59-.52 0-1.04.2-1.43.59L10.3 9.45l-7.72 7.72c-.78.78-.78 2.05 0 2.83L4 21.41c.39.39.9.59 1.41.59.51 0 1.02-.2 1.41-.59l7.78-7.78 2.81-2.81c.8-.78.8-2.07 0-2.86zM5.41 20L4 18.59l7.72-7.72 1.47 1.35L5.41 20z\"/>\n",
              "  </svg>\n",
              "      </button>\n",
              "      \n",
              "  <style>\n",
              "    .colab-df-container {\n",
              "      display:flex;\n",
              "      flex-wrap:wrap;\n",
              "      gap: 12px;\n",
              "    }\n",
              "\n",
              "    .colab-df-convert {\n",
              "      background-color: #E8F0FE;\n",
              "      border: none;\n",
              "      border-radius: 50%;\n",
              "      cursor: pointer;\n",
              "      display: none;\n",
              "      fill: #1967D2;\n",
              "      height: 32px;\n",
              "      padding: 0 0 0 0;\n",
              "      width: 32px;\n",
              "    }\n",
              "\n",
              "    .colab-df-convert:hover {\n",
              "      background-color: #E2EBFA;\n",
              "      box-shadow: 0px 1px 2px rgba(60, 64, 67, 0.3), 0px 1px 3px 1px rgba(60, 64, 67, 0.15);\n",
              "      fill: #174EA6;\n",
              "    }\n",
              "\n",
              "    [theme=dark] .colab-df-convert {\n",
              "      background-color: #3B4455;\n",
              "      fill: #D2E3FC;\n",
              "    }\n",
              "\n",
              "    [theme=dark] .colab-df-convert:hover {\n",
              "      background-color: #434B5C;\n",
              "      box-shadow: 0px 1px 3px 1px rgba(0, 0, 0, 0.15);\n",
              "      filter: drop-shadow(0px 1px 2px rgba(0, 0, 0, 0.3));\n",
              "      fill: #FFFFFF;\n",
              "    }\n",
              "  </style>\n",
              "\n",
              "      <script>\n",
              "        const buttonEl =\n",
              "          document.querySelector('#df-360eded2-3bf2-4ae3-aa1c-25f71746dad9 button.colab-df-convert');\n",
              "        buttonEl.style.display =\n",
              "          google.colab.kernel.accessAllowed ? 'block' : 'none';\n",
              "\n",
              "        async function convertToInteractive(key) {\n",
              "          const element = document.querySelector('#df-360eded2-3bf2-4ae3-aa1c-25f71746dad9');\n",
              "          const dataTable =\n",
              "            await google.colab.kernel.invokeFunction('convertToInteractive',\n",
              "                                                     [key], {});\n",
              "          if (!dataTable) return;\n",
              "\n",
              "          const docLinkHtml = 'Like what you see? Visit the ' +\n",
              "            '<a target=\"_blank\" href=https://colab.research.google.com/notebooks/data_table.ipynb>data table notebook</a>'\n",
              "            + ' to learn more about interactive tables.';\n",
              "          element.innerHTML = '';\n",
              "          dataTable['output_type'] = 'display_data';\n",
              "          await google.colab.output.renderOutput(dataTable, element);\n",
              "          const docLink = document.createElement('div');\n",
              "          docLink.innerHTML = docLinkHtml;\n",
              "          element.appendChild(docLink);\n",
              "        }\n",
              "      </script>\n",
              "    </div>\n",
              "  </div>\n",
              "  "
            ]
          },
          "metadata": {},
          "execution_count": 39
        }
      ]
    },
    {
      "cell_type": "code",
      "source": [
        "df = pd.DataFrame({\n",
        "    \"one\": [1, 11, 21, 31, 41],\n",
        "    \"two\": np.array([2, 12, 22, 32, 42]),\n",
        "    \"three\": pd.Series(np.arange(3, 45, 10)),\n",
        "    'four': pd.Series(np.arange(4, 45, 10), index=[0, 10, 20, 30, 41]) \n",
        "})\n",
        "df"
      ],
      "metadata": {
        "colab": {
          "base_uri": "https://localhost:8080/",
          "height": 206
        },
        "id": "DAWJN2Rcl2yW",
        "outputId": "b6847194-74bc-4baf-c6da-983e1e7f8b80"
      },
      "execution_count": 49,
      "outputs": [
        {
          "output_type": "execute_result",
          "data": {
            "text/plain": [
              "   one  two  three  four\n",
              "0    1    2      3     4\n",
              "1   11   12     13    14\n",
              "2   21   22     23    24\n",
              "3   31   32     33    34\n",
              "4   41   42     43    44"
            ],
            "text/html": [
              "\n",
              "  <div id=\"df-9f10f7dd-2aa2-459b-9350-8f209a057c39\">\n",
              "    <div class=\"colab-df-container\">\n",
              "      <div>\n",
              "<style scoped>\n",
              "    .dataframe tbody tr th:only-of-type {\n",
              "        vertical-align: middle;\n",
              "    }\n",
              "\n",
              "    .dataframe tbody tr th {\n",
              "        vertical-align: top;\n",
              "    }\n",
              "\n",
              "    .dataframe thead th {\n",
              "        text-align: right;\n",
              "    }\n",
              "</style>\n",
              "<table border=\"1\" class=\"dataframe\">\n",
              "  <thead>\n",
              "    <tr style=\"text-align: right;\">\n",
              "      <th></th>\n",
              "      <th>one</th>\n",
              "      <th>two</th>\n",
              "      <th>three</th>\n",
              "      <th>four</th>\n",
              "    </tr>\n",
              "  </thead>\n",
              "  <tbody>\n",
              "    <tr>\n",
              "      <th>0</th>\n",
              "      <td>1</td>\n",
              "      <td>2</td>\n",
              "      <td>3</td>\n",
              "      <td>4</td>\n",
              "    </tr>\n",
              "    <tr>\n",
              "      <th>1</th>\n",
              "      <td>11</td>\n",
              "      <td>12</td>\n",
              "      <td>13</td>\n",
              "      <td>14</td>\n",
              "    </tr>\n",
              "    <tr>\n",
              "      <th>2</th>\n",
              "      <td>21</td>\n",
              "      <td>22</td>\n",
              "      <td>23</td>\n",
              "      <td>24</td>\n",
              "    </tr>\n",
              "    <tr>\n",
              "      <th>3</th>\n",
              "      <td>31</td>\n",
              "      <td>32</td>\n",
              "      <td>33</td>\n",
              "      <td>34</td>\n",
              "    </tr>\n",
              "    <tr>\n",
              "      <th>4</th>\n",
              "      <td>41</td>\n",
              "      <td>42</td>\n",
              "      <td>43</td>\n",
              "      <td>44</td>\n",
              "    </tr>\n",
              "  </tbody>\n",
              "</table>\n",
              "</div>\n",
              "      <button class=\"colab-df-convert\" onclick=\"convertToInteractive('df-9f10f7dd-2aa2-459b-9350-8f209a057c39')\"\n",
              "              title=\"Convert this dataframe to an interactive table.\"\n",
              "              style=\"display:none;\">\n",
              "        \n",
              "  <svg xmlns=\"http://www.w3.org/2000/svg\" height=\"24px\"viewBox=\"0 0 24 24\"\n",
              "       width=\"24px\">\n",
              "    <path d=\"M0 0h24v24H0V0z\" fill=\"none\"/>\n",
              "    <path d=\"M18.56 5.44l.94 2.06.94-2.06 2.06-.94-2.06-.94-.94-2.06-.94 2.06-2.06.94zm-11 1L8.5 8.5l.94-2.06 2.06-.94-2.06-.94L8.5 2.5l-.94 2.06-2.06.94zm10 10l.94 2.06.94-2.06 2.06-.94-2.06-.94-.94-2.06-.94 2.06-2.06.94z\"/><path d=\"M17.41 7.96l-1.37-1.37c-.4-.4-.92-.59-1.43-.59-.52 0-1.04.2-1.43.59L10.3 9.45l-7.72 7.72c-.78.78-.78 2.05 0 2.83L4 21.41c.39.39.9.59 1.41.59.51 0 1.02-.2 1.41-.59l7.78-7.78 2.81-2.81c.8-.78.8-2.07 0-2.86zM5.41 20L4 18.59l7.72-7.72 1.47 1.35L5.41 20z\"/>\n",
              "  </svg>\n",
              "      </button>\n",
              "      \n",
              "  <style>\n",
              "    .colab-df-container {\n",
              "      display:flex;\n",
              "      flex-wrap:wrap;\n",
              "      gap: 12px;\n",
              "    }\n",
              "\n",
              "    .colab-df-convert {\n",
              "      background-color: #E8F0FE;\n",
              "      border: none;\n",
              "      border-radius: 50%;\n",
              "      cursor: pointer;\n",
              "      display: none;\n",
              "      fill: #1967D2;\n",
              "      height: 32px;\n",
              "      padding: 0 0 0 0;\n",
              "      width: 32px;\n",
              "    }\n",
              "\n",
              "    .colab-df-convert:hover {\n",
              "      background-color: #E2EBFA;\n",
              "      box-shadow: 0px 1px 2px rgba(60, 64, 67, 0.3), 0px 1px 3px 1px rgba(60, 64, 67, 0.15);\n",
              "      fill: #174EA6;\n",
              "    }\n",
              "\n",
              "    [theme=dark] .colab-df-convert {\n",
              "      background-color: #3B4455;\n",
              "      fill: #D2E3FC;\n",
              "    }\n",
              "\n",
              "    [theme=dark] .colab-df-convert:hover {\n",
              "      background-color: #434B5C;\n",
              "      box-shadow: 0px 1px 3px 1px rgba(0, 0, 0, 0.15);\n",
              "      filter: drop-shadow(0px 1px 2px rgba(0, 0, 0, 0.3));\n",
              "      fill: #FFFFFF;\n",
              "    }\n",
              "  </style>\n",
              "\n",
              "      <script>\n",
              "        const buttonEl =\n",
              "          document.querySelector('#df-9f10f7dd-2aa2-459b-9350-8f209a057c39 button.colab-df-convert');\n",
              "        buttonEl.style.display =\n",
              "          google.colab.kernel.accessAllowed ? 'block' : 'none';\n",
              "\n",
              "        async function convertToInteractive(key) {\n",
              "          const element = document.querySelector('#df-9f10f7dd-2aa2-459b-9350-8f209a057c39');\n",
              "          const dataTable =\n",
              "            await google.colab.kernel.invokeFunction('convertToInteractive',\n",
              "                                                     [key], {});\n",
              "          if (!dataTable) return;\n",
              "\n",
              "          const docLinkHtml = 'Like what you see? Visit the ' +\n",
              "            '<a target=\"_blank\" href=https://colab.research.google.com/notebooks/data_table.ipynb>data table notebook</a>'\n",
              "            + ' to learn more about interactive tables.';\n",
              "          element.innerHTML = '';\n",
              "          dataTable['output_type'] = 'display_data';\n",
              "          await google.colab.output.renderOutput(dataTable, element);\n",
              "          const docLink = document.createElement('div');\n",
              "          docLink.innerHTML = docLinkHtml;\n",
              "          element.appendChild(docLink);\n",
              "        }\n",
              "      </script>\n",
              "    </div>\n",
              "  </div>\n",
              "  "
            ]
          },
          "metadata": {},
          "execution_count": 49
        }
      ]
    },
    {
      "cell_type": "code",
      "source": [
        "# 2차원 리스트\n",
        "df = pd.DataFrame([\n",
        "    [1, 2, 3],\n",
        "    [11, 12, 13],\n",
        "    [21, 22, 23],\n",
        "    [31, 32, 33],\n",
        "    [41, 42, 43],\n",
        "], index=[0, 10, 20, 30,40], columns=[\"one\", \"two\", \"three\"])\n",
        "df"
      ],
      "metadata": {
        "colab": {
          "base_uri": "https://localhost:8080/",
          "height": 206
        },
        "id": "Mbwr8z1uhYXC",
        "outputId": "cea6ebc1-a35f-4605-9c34-f6154830254d"
      },
      "execution_count": 34,
      "outputs": [
        {
          "output_type": "execute_result",
          "data": {
            "text/plain": [
              "    one  two  three\n",
              "0     1    2      3\n",
              "10   11   12     13\n",
              "20   21   22     23\n",
              "30   31   32     33\n",
              "40   41   42     43"
            ],
            "text/html": [
              "\n",
              "  <div id=\"df-9b217039-b5fa-4ef4-be65-eceb13cbe682\">\n",
              "    <div class=\"colab-df-container\">\n",
              "      <div>\n",
              "<style scoped>\n",
              "    .dataframe tbody tr th:only-of-type {\n",
              "        vertical-align: middle;\n",
              "    }\n",
              "\n",
              "    .dataframe tbody tr th {\n",
              "        vertical-align: top;\n",
              "    }\n",
              "\n",
              "    .dataframe thead th {\n",
              "        text-align: right;\n",
              "    }\n",
              "</style>\n",
              "<table border=\"1\" class=\"dataframe\">\n",
              "  <thead>\n",
              "    <tr style=\"text-align: right;\">\n",
              "      <th></th>\n",
              "      <th>one</th>\n",
              "      <th>two</th>\n",
              "      <th>three</th>\n",
              "    </tr>\n",
              "  </thead>\n",
              "  <tbody>\n",
              "    <tr>\n",
              "      <th>0</th>\n",
              "      <td>1</td>\n",
              "      <td>2</td>\n",
              "      <td>3</td>\n",
              "    </tr>\n",
              "    <tr>\n",
              "      <th>10</th>\n",
              "      <td>11</td>\n",
              "      <td>12</td>\n",
              "      <td>13</td>\n",
              "    </tr>\n",
              "    <tr>\n",
              "      <th>20</th>\n",
              "      <td>21</td>\n",
              "      <td>22</td>\n",
              "      <td>23</td>\n",
              "    </tr>\n",
              "    <tr>\n",
              "      <th>30</th>\n",
              "      <td>31</td>\n",
              "      <td>32</td>\n",
              "      <td>33</td>\n",
              "    </tr>\n",
              "    <tr>\n",
              "      <th>40</th>\n",
              "      <td>41</td>\n",
              "      <td>42</td>\n",
              "      <td>43</td>\n",
              "    </tr>\n",
              "  </tbody>\n",
              "</table>\n",
              "</div>\n",
              "      <button class=\"colab-df-convert\" onclick=\"convertToInteractive('df-9b217039-b5fa-4ef4-be65-eceb13cbe682')\"\n",
              "              title=\"Convert this dataframe to an interactive table.\"\n",
              "              style=\"display:none;\">\n",
              "        \n",
              "  <svg xmlns=\"http://www.w3.org/2000/svg\" height=\"24px\"viewBox=\"0 0 24 24\"\n",
              "       width=\"24px\">\n",
              "    <path d=\"M0 0h24v24H0V0z\" fill=\"none\"/>\n",
              "    <path d=\"M18.56 5.44l.94 2.06.94-2.06 2.06-.94-2.06-.94-.94-2.06-.94 2.06-2.06.94zm-11 1L8.5 8.5l.94-2.06 2.06-.94-2.06-.94L8.5 2.5l-.94 2.06-2.06.94zm10 10l.94 2.06.94-2.06 2.06-.94-2.06-.94-.94-2.06-.94 2.06-2.06.94z\"/><path d=\"M17.41 7.96l-1.37-1.37c-.4-.4-.92-.59-1.43-.59-.52 0-1.04.2-1.43.59L10.3 9.45l-7.72 7.72c-.78.78-.78 2.05 0 2.83L4 21.41c.39.39.9.59 1.41.59.51 0 1.02-.2 1.41-.59l7.78-7.78 2.81-2.81c.8-.78.8-2.07 0-2.86zM5.41 20L4 18.59l7.72-7.72 1.47 1.35L5.41 20z\"/>\n",
              "  </svg>\n",
              "      </button>\n",
              "      \n",
              "  <style>\n",
              "    .colab-df-container {\n",
              "      display:flex;\n",
              "      flex-wrap:wrap;\n",
              "      gap: 12px;\n",
              "    }\n",
              "\n",
              "    .colab-df-convert {\n",
              "      background-color: #E8F0FE;\n",
              "      border: none;\n",
              "      border-radius: 50%;\n",
              "      cursor: pointer;\n",
              "      display: none;\n",
              "      fill: #1967D2;\n",
              "      height: 32px;\n",
              "      padding: 0 0 0 0;\n",
              "      width: 32px;\n",
              "    }\n",
              "\n",
              "    .colab-df-convert:hover {\n",
              "      background-color: #E2EBFA;\n",
              "      box-shadow: 0px 1px 2px rgba(60, 64, 67, 0.3), 0px 1px 3px 1px rgba(60, 64, 67, 0.15);\n",
              "      fill: #174EA6;\n",
              "    }\n",
              "\n",
              "    [theme=dark] .colab-df-convert {\n",
              "      background-color: #3B4455;\n",
              "      fill: #D2E3FC;\n",
              "    }\n",
              "\n",
              "    [theme=dark] .colab-df-convert:hover {\n",
              "      background-color: #434B5C;\n",
              "      box-shadow: 0px 1px 3px 1px rgba(0, 0, 0, 0.15);\n",
              "      filter: drop-shadow(0px 1px 2px rgba(0, 0, 0, 0.3));\n",
              "      fill: #FFFFFF;\n",
              "    }\n",
              "  </style>\n",
              "\n",
              "      <script>\n",
              "        const buttonEl =\n",
              "          document.querySelector('#df-9b217039-b5fa-4ef4-be65-eceb13cbe682 button.colab-df-convert');\n",
              "        buttonEl.style.display =\n",
              "          google.colab.kernel.accessAllowed ? 'block' : 'none';\n",
              "\n",
              "        async function convertToInteractive(key) {\n",
              "          const element = document.querySelector('#df-9b217039-b5fa-4ef4-be65-eceb13cbe682');\n",
              "          const dataTable =\n",
              "            await google.colab.kernel.invokeFunction('convertToInteractive',\n",
              "                                                     [key], {});\n",
              "          if (!dataTable) return;\n",
              "\n",
              "          const docLinkHtml = 'Like what you see? Visit the ' +\n",
              "            '<a target=\"_blank\" href=https://colab.research.google.com/notebooks/data_table.ipynb>data table notebook</a>'\n",
              "            + ' to learn more about interactive tables.';\n",
              "          element.innerHTML = '';\n",
              "          dataTable['output_type'] = 'display_data';\n",
              "          await google.colab.output.renderOutput(dataTable, element);\n",
              "          const docLink = document.createElement('div');\n",
              "          docLink.innerHTML = docLinkHtml;\n",
              "          element.appendChild(docLink);\n",
              "        }\n",
              "      </script>\n",
              "    </div>\n",
              "  </div>\n",
              "  "
            ]
          },
          "metadata": {},
          "execution_count": 34
        }
      ]
    },
    {
      "cell_type": "code",
      "source": [
        "# 2차원 ndarray\n",
        "df = pd.DataFrame(np.array([\n",
        "    [1, 2, 3],\n",
        "    [11, 12, 13],\n",
        "    [21, 22, 23],\n",
        "    [31, 32, 33],\n",
        "    [41, 42, 43],\n",
        "]), index=[0, 10, 20, 30, 40], columns=[\"one\", \"two\", \"three\"])\n",
        "df"
      ],
      "metadata": {
        "colab": {
          "base_uri": "https://localhost:8080/",
          "height": 206
        },
        "id": "LDIiu-EKka3M",
        "outputId": "854c4507-1422-4453-e61d-fcd9981ab349"
      },
      "execution_count": 35,
      "outputs": [
        {
          "output_type": "execute_result",
          "data": {
            "text/plain": [
              "    one  two  three\n",
              "0     1    2      3\n",
              "10   11   12     13\n",
              "20   21   22     23\n",
              "30   31   32     33\n",
              "40   41   42     43"
            ],
            "text/html": [
              "\n",
              "  <div id=\"df-30c79173-a100-4068-8a63-ac305b0dc2ff\">\n",
              "    <div class=\"colab-df-container\">\n",
              "      <div>\n",
              "<style scoped>\n",
              "    .dataframe tbody tr th:only-of-type {\n",
              "        vertical-align: middle;\n",
              "    }\n",
              "\n",
              "    .dataframe tbody tr th {\n",
              "        vertical-align: top;\n",
              "    }\n",
              "\n",
              "    .dataframe thead th {\n",
              "        text-align: right;\n",
              "    }\n",
              "</style>\n",
              "<table border=\"1\" class=\"dataframe\">\n",
              "  <thead>\n",
              "    <tr style=\"text-align: right;\">\n",
              "      <th></th>\n",
              "      <th>one</th>\n",
              "      <th>two</th>\n",
              "      <th>three</th>\n",
              "    </tr>\n",
              "  </thead>\n",
              "  <tbody>\n",
              "    <tr>\n",
              "      <th>0</th>\n",
              "      <td>1</td>\n",
              "      <td>2</td>\n",
              "      <td>3</td>\n",
              "    </tr>\n",
              "    <tr>\n",
              "      <th>10</th>\n",
              "      <td>11</td>\n",
              "      <td>12</td>\n",
              "      <td>13</td>\n",
              "    </tr>\n",
              "    <tr>\n",
              "      <th>20</th>\n",
              "      <td>21</td>\n",
              "      <td>22</td>\n",
              "      <td>23</td>\n",
              "    </tr>\n",
              "    <tr>\n",
              "      <th>30</th>\n",
              "      <td>31</td>\n",
              "      <td>32</td>\n",
              "      <td>33</td>\n",
              "    </tr>\n",
              "    <tr>\n",
              "      <th>40</th>\n",
              "      <td>41</td>\n",
              "      <td>42</td>\n",
              "      <td>43</td>\n",
              "    </tr>\n",
              "  </tbody>\n",
              "</table>\n",
              "</div>\n",
              "      <button class=\"colab-df-convert\" onclick=\"convertToInteractive('df-30c79173-a100-4068-8a63-ac305b0dc2ff')\"\n",
              "              title=\"Convert this dataframe to an interactive table.\"\n",
              "              style=\"display:none;\">\n",
              "        \n",
              "  <svg xmlns=\"http://www.w3.org/2000/svg\" height=\"24px\"viewBox=\"0 0 24 24\"\n",
              "       width=\"24px\">\n",
              "    <path d=\"M0 0h24v24H0V0z\" fill=\"none\"/>\n",
              "    <path d=\"M18.56 5.44l.94 2.06.94-2.06 2.06-.94-2.06-.94-.94-2.06-.94 2.06-2.06.94zm-11 1L8.5 8.5l.94-2.06 2.06-.94-2.06-.94L8.5 2.5l-.94 2.06-2.06.94zm10 10l.94 2.06.94-2.06 2.06-.94-2.06-.94-.94-2.06-.94 2.06-2.06.94z\"/><path d=\"M17.41 7.96l-1.37-1.37c-.4-.4-.92-.59-1.43-.59-.52 0-1.04.2-1.43.59L10.3 9.45l-7.72 7.72c-.78.78-.78 2.05 0 2.83L4 21.41c.39.39.9.59 1.41.59.51 0 1.02-.2 1.41-.59l7.78-7.78 2.81-2.81c.8-.78.8-2.07 0-2.86zM5.41 20L4 18.59l7.72-7.72 1.47 1.35L5.41 20z\"/>\n",
              "  </svg>\n",
              "      </button>\n",
              "      \n",
              "  <style>\n",
              "    .colab-df-container {\n",
              "      display:flex;\n",
              "      flex-wrap:wrap;\n",
              "      gap: 12px;\n",
              "    }\n",
              "\n",
              "    .colab-df-convert {\n",
              "      background-color: #E8F0FE;\n",
              "      border: none;\n",
              "      border-radius: 50%;\n",
              "      cursor: pointer;\n",
              "      display: none;\n",
              "      fill: #1967D2;\n",
              "      height: 32px;\n",
              "      padding: 0 0 0 0;\n",
              "      width: 32px;\n",
              "    }\n",
              "\n",
              "    .colab-df-convert:hover {\n",
              "      background-color: #E2EBFA;\n",
              "      box-shadow: 0px 1px 2px rgba(60, 64, 67, 0.3), 0px 1px 3px 1px rgba(60, 64, 67, 0.15);\n",
              "      fill: #174EA6;\n",
              "    }\n",
              "\n",
              "    [theme=dark] .colab-df-convert {\n",
              "      background-color: #3B4455;\n",
              "      fill: #D2E3FC;\n",
              "    }\n",
              "\n",
              "    [theme=dark] .colab-df-convert:hover {\n",
              "      background-color: #434B5C;\n",
              "      box-shadow: 0px 1px 3px 1px rgba(0, 0, 0, 0.15);\n",
              "      filter: drop-shadow(0px 1px 2px rgba(0, 0, 0, 0.3));\n",
              "      fill: #FFFFFF;\n",
              "    }\n",
              "  </style>\n",
              "\n",
              "      <script>\n",
              "        const buttonEl =\n",
              "          document.querySelector('#df-30c79173-a100-4068-8a63-ac305b0dc2ff button.colab-df-convert');\n",
              "        buttonEl.style.display =\n",
              "          google.colab.kernel.accessAllowed ? 'block' : 'none';\n",
              "\n",
              "        async function convertToInteractive(key) {\n",
              "          const element = document.querySelector('#df-30c79173-a100-4068-8a63-ac305b0dc2ff');\n",
              "          const dataTable =\n",
              "            await google.colab.kernel.invokeFunction('convertToInteractive',\n",
              "                                                     [key], {});\n",
              "          if (!dataTable) return;\n",
              "\n",
              "          const docLinkHtml = 'Like what you see? Visit the ' +\n",
              "            '<a target=\"_blank\" href=https://colab.research.google.com/notebooks/data_table.ipynb>data table notebook</a>'\n",
              "            + ' to learn more about interactive tables.';\n",
              "          element.innerHTML = '';\n",
              "          dataTable['output_type'] = 'display_data';\n",
              "          await google.colab.output.renderOutput(dataTable, element);\n",
              "          const docLink = document.createElement('div');\n",
              "          docLink.innerHTML = docLinkHtml;\n",
              "          element.appendChild(docLink);\n",
              "        }\n",
              "      </script>\n",
              "    </div>\n",
              "  </div>\n",
              "  "
            ]
          },
          "metadata": {},
          "execution_count": 35
        }
      ]
    },
    {
      "cell_type": "code",
      "source": [
        "# 하나의 열은 Series\n",
        "df['one'], type(df['one']) # DataFrame의 index를 가져간다"
      ],
      "metadata": {
        "colab": {
          "base_uri": "https://localhost:8080/"
        },
        "id": "KHSW3NEAdNhK",
        "outputId": "1ec9c4da-128a-4234-ffd2-690b13aa3606"
      },
      "execution_count": 27,
      "outputs": [
        {
          "output_type": "execute_result",
          "data": {
            "text/plain": [
              "(0      1\n",
              " 10    11\n",
              " 20    21\n",
              " 30    31\n",
              " 40    41\n",
              " Name: one, dtype: int64, pandas.core.series.Series)"
            ]
          },
          "metadata": {},
          "execution_count": 27
        }
      ]
    },
    {
      "cell_type": "code",
      "source": [
        "# 하나의 행은 Series\n",
        "df.loc[10], type(df.loc[10]) # Columns 명이 index가 된다"
      ],
      "metadata": {
        "colab": {
          "base_uri": "https://localhost:8080/"
        },
        "id": "SiA_HXlJeH2T",
        "outputId": "f5b333ba-669f-4087-fa61-48563b7a5556"
      },
      "execution_count": 32,
      "outputs": [
        {
          "output_type": "execute_result",
          "data": {
            "text/plain": [
              "(one      11\n",
              " two      12\n",
              " three    13\n",
              " Name: 10, dtype: int64, pandas.core.series.Series)"
            ]
          },
          "metadata": {},
          "execution_count": 32
        }
      ]
    },
    {
      "cell_type": "markdown",
      "source": [
        "**Pandas Series의 연산 또한 벡터화 연산와 고차원변환(Broadcasting) 연산을 지원한다.**\n",
        "\n",
        "Series 와 Series \n",
        "- 색인 별로(색인이 같은 수 끼리) 연산이 이루어짐\n",
        "- 색인이 일치 하지 않을 경우 NaN 값이 됨\n",
        "\n",
        "Series 와 Scalar(단일 변수)\n",
        "\n",
        "numpy 함수와 Series 간 연산 => Series로 반환"
      ],
      "metadata": {
        "id": "1NKeUjDdyO97"
      }
    },
    {
      "cell_type": "markdown",
      "source": [
        "# 참고"
      ],
      "metadata": {
        "id": "Sf1C95BNHa3P"
      }
    },
    {
      "cell_type": "markdown",
      "source": [
        "## 벡터화 연산(Vectorized operations)\n",
        "\n"
      ],
      "metadata": {
        "id": "_YWaGDUyRwXA"
      }
    },
    {
      "cell_type": "markdown",
      "source": [
        "**벡터화 연산(Vectorized operation) 이란?**\n",
        "\n",
        "array의 단위(1차원, 2차원, ... n차원)의 연산을 할 때, 한 번에 많은 양의 수를 연산하여 연산 효율을 높인다. 이와 함께 구현을 간단하게 할 수 있다. > 이를 최대한 잘 활용해야, **개발/연산 시간**과 **에너지**를 아낄 수 있다."
      ],
      "metadata": {
        "id": "-pA3SL27YwLE"
      }
    },
    {
      "cell_type": "markdown",
      "source": [
        "ex) 0 ~ 1000 까지의 수열과,\n",
        "1000 ~ 0 까지의 수열 각각을 더해보자."
      ],
      "metadata": {
        "id": "uHTcbFL5fB8a"
      }
    },
    {
      "cell_type": "code",
      "source": [
        "a = [i for i in range(0, 1001)]\n",
        "b = [i for i in range(1000, -1, -1)]"
      ],
      "metadata": {
        "id": "E8RG6tuYfAjD"
      },
      "execution_count": 56,
      "outputs": []
    },
    {
      "cell_type": "code",
      "source": [
        "# list에서 a + b 는 두 리스트가 값이 더 해져서 나오는 것이 아니라, 요소들이 합쳐진다.\n",
        "# 즉, 벡터화 연산을 지원하지 않는다.\n",
        "c = a + b\n",
        "# 확인하기 위해 c는 길이가 길어 처음 5개 끝 5개와 길이를 보자\n",
        "c[:5], c[-5:], len(c)"
      ],
      "metadata": {
        "colab": {
          "base_uri": "https://localhost:8080/"
        },
        "id": "DUcQUs5bgmab",
        "outputId": "1485af8f-9796-4b9c-947f-33231944f678"
      },
      "execution_count": 57,
      "outputs": [
        {
          "output_type": "execute_result",
          "data": {
            "text/plain": [
              "([0, 1, 2, 3, 4], [4, 3, 2, 1, 0], 2002)"
            ]
          },
          "metadata": {},
          "execution_count": 57
        }
      ]
    },
    {
      "cell_type": "code",
      "source": [
        "# 이 둘을 더 하려면, 요소별로 덧셈을 해주어야 한다.\n",
        "\n",
        "c = []\n",
        "for i, j in zip(a, b):\n",
        "    c.append(i + j)\n",
        "\n",
        "#처음 5개와 길이만 보자\n",
        "c[:5], len(c)"
      ],
      "metadata": {
        "colab": {
          "base_uri": "https://localhost:8080/"
        },
        "id": "l3AubB8GhLhs",
        "outputId": "023d830d-04bc-41f7-fe9c-63f17297b5b0"
      },
      "execution_count": 59,
      "outputs": [
        {
          "output_type": "execute_result",
          "data": {
            "text/plain": [
              "([1000, 1000, 1000, 1000, 1000], 1001)"
            ]
          },
          "metadata": {},
          "execution_count": 59
        }
      ]
    },
    {
      "cell_type": "code",
      "source": [
        "# Numpy ndarray는 벡터화 연산을 지원한다.\n",
        "np_a = np.array(a)\n",
        "np_b = np.array(b)\n",
        "\n",
        "# 각각의 array 인덱스에 대응하여 덧셈이 이루어 진다\n",
        "np_c = np_a + np_b\n",
        "\n",
        "np_c[:5], len(np_c)"
      ],
      "metadata": {
        "colab": {
          "base_uri": "https://localhost:8080/"
        },
        "id": "-sUaI-9zibUF",
        "outputId": "960f75cc-cf67-4b47-e30a-20df62b2ad07"
      },
      "execution_count": 60,
      "outputs": [
        {
          "output_type": "execute_result",
          "data": {
            "text/plain": [
              "(array([1000, 1000, 1000, 1000, 1000]), 1001)"
            ]
          },
          "metadata": {},
          "execution_count": 60
        }
      ]
    },
    {
      "cell_type": "markdown",
      "source": [
        "numpy ndarray는 벡터화 연산을 통해 수행 속도를 줄일 수 있다.\n",
        "\n",
        "동일한 numpy ndarray를 이용하여 벡터를 이용했을 때와\n",
        "\n",
        "단일 연산의 반복으로 처리했을 때를 비교해보자."
      ],
      "metadata": {
        "id": "Jau8mDBoi9i6"
      }
    },
    {
      "cell_type": "code",
      "source": [
        "# 동일한 numpy ndarray를 이용하여 벡터\n",
        "%%timeit\n",
        "\n",
        "np_c = np_a + np_b"
      ],
      "metadata": {
        "colab": {
          "base_uri": "https://localhost:8080/"
        },
        "id": "v0e7J5V4jIXj",
        "outputId": "bcf67080-9fbf-4582-bf6d-f75a029f5abb"
      },
      "execution_count": 65,
      "outputs": [
        {
          "output_type": "stream",
          "name": "stdout",
          "text": [
            "1.12 µs ± 61.3 ns per loop (mean ± std. dev. of 7 runs, 1000000 loops each)\n"
          ]
        }
      ]
    },
    {
      "cell_type": "code",
      "source": [
        "# 단일 연산의 반복으로 처리했을 때\n",
        "%%timeit\n",
        "\n",
        "np_c_v = np.zeros(len(np_a))\n",
        "for i, (a, b) in enumerate(zip(np_a, np_b)):\n",
        "    np_c_v[i] = a + b"
      ],
      "metadata": {
        "colab": {
          "base_uri": "https://localhost:8080/"
        },
        "id": "03pmOOw0wdl-",
        "outputId": "cc9e4a98-c91a-4421-aca0-07cc71c5d0c4"
      },
      "execution_count": 71,
      "outputs": [
        {
          "output_type": "stream",
          "name": "stdout",
          "text": [
            "444 µs ± 8.02 µs per loop (mean ± std. dev. of 7 runs, 1000 loops each)\n"
          ]
        }
      ]
    },
    {
      "cell_type": "code",
      "source": [
        "# a의 합을 구해보자\n",
        "%%timeit\n",
        "\n",
        "s_a = 0\n",
        "for a in np_a:\n",
        "    s_a += a"
      ],
      "metadata": {
        "colab": {
          "base_uri": "https://localhost:8080/"
        },
        "id": "X2mZ6yrl_-SQ",
        "outputId": "0ed20794-76a5-4782-d34f-d3c1197f19e6"
      },
      "execution_count": 77,
      "outputs": [
        {
          "output_type": "stream",
          "name": "stdout",
          "text": [
            "137 µs ± 4.88 µs per loop (mean ± std. dev. of 7 runs, 10000 loops each)\n"
          ]
        }
      ]
    },
    {
      "cell_type": "code",
      "source": [
        "%%timeit\n",
        "\n",
        "s_a = np.sum(np_a)"
      ],
      "metadata": {
        "colab": {
          "base_uri": "https://localhost:8080/"
        },
        "id": "ONuoWL3fAQHP",
        "outputId": "6fa7eda8-d3a4-4695-fbdc-1634788d0c92"
      },
      "execution_count": 79,
      "outputs": [
        {
          "output_type": "stream",
          "name": "stdout",
          "text": [
            "5.4 µs ± 713 ns per loop (mean ± std. dev. of 7 runs, 100000 loops each)\n"
          ]
        }
      ]
    },
    {
      "cell_type": "markdown",
      "source": [
        "[Practice]\n",
        "\n",
        "np_c와 np_c_v가 같은지 확인"
      ],
      "metadata": {
        "id": "Jedw1dpvzI1N"
      }
    },
    {
      "cell_type": "code",
      "source": [
        "np_c = np_a + np_b\n",
        "\n",
        "np_c_v = np.zeros_like(np_a) # np_a와 동일한 형태로 모두 0으로 된 ndarray 생성\n",
        "for i, (a, b) in enumerate(zip(np_a, np_b)):\n",
        "    np_c_v[i] = a+ b\n",
        "\n",
        "np.sum(np_c == np_c_v) == len(np_c)"
      ],
      "metadata": {
        "colab": {
          "base_uri": "https://localhost:8080/"
        },
        "id": "Srv-iLMkw2i9",
        "outputId": "53a10e96-4d82-4f72-efdd-a6a3984a924e"
      },
      "execution_count": 88,
      "outputs": [
        {
          "output_type": "execute_result",
          "data": {
            "text/plain": [
              "True"
            ]
          },
          "metadata": {},
          "execution_count": 88
        }
      ]
    },
    {
      "cell_type": "markdown",
      "source": [
        "a = np.array([1, 2, 3, 4, 5])\n",
        "b = np.array([5, 4, 3, 2, 1]) 일 때, 다음을 구하라\n",
        "\n",
        "$s=\\sum\\limits_{i=1}^{n}a_ib_i$"
      ],
      "metadata": {
        "id": "KReJG-OjDMXV"
      }
    },
    {
      "cell_type": "code",
      "source": [
        "a = np.array([1, 2, 3, 4, 5])\n",
        "b = np.array([5, 4, 3, 2, 1])\n",
        "np.sum(a * b)"
      ],
      "metadata": {
        "colab": {
          "base_uri": "https://localhost:8080/"
        },
        "id": "oWwBEZcIFP5C",
        "outputId": "1e2b614a-cb2b-4e16-d6f4-7395ea85b219"
      },
      "execution_count": 84,
      "outputs": [
        {
          "output_type": "execute_result",
          "data": {
            "text/plain": [
              "35"
            ]
          },
          "metadata": {},
          "execution_count": 84
        }
      ]
    },
    {
      "cell_type": "code",
      "source": [
        "np.dot(a, b)"
      ],
      "metadata": {
        "colab": {
          "base_uri": "https://localhost:8080/"
        },
        "id": "nMGrQDweFuRZ",
        "outputId": "5a8cf092-02c2-47d8-d8fd-591c0ecbe0b3"
      },
      "execution_count": 83,
      "outputs": [
        {
          "output_type": "execute_result",
          "data": {
            "text/plain": [
              "35"
            ]
          },
          "metadata": {},
          "execution_count": 83
        }
      ]
    },
    {
      "cell_type": "code",
      "source": [
        "%%timeit\n",
        "np.sum(a * b) # a * b => np.sum 2번"
      ],
      "metadata": {
        "colab": {
          "base_uri": "https://localhost:8080/"
        },
        "id": "_fFMS9nbF31u",
        "outputId": "35b95617-6749-48f1-84ff-db9881841e76"
      },
      "execution_count": 85,
      "outputs": [
        {
          "output_type": "stream",
          "name": "stdout",
          "text": [
            "4.92 µs ± 67.7 ns per loop (mean ± std. dev. of 7 runs, 100000 loops each)\n"
          ]
        }
      ]
    },
    {
      "cell_type": "code",
      "source": [
        "%%timeit\n",
        "np.dot(a, b) # np.dot => 1번"
      ],
      "metadata": {
        "colab": {
          "base_uri": "https://localhost:8080/"
        },
        "id": "rtd-HG3ZF9gn",
        "outputId": "8e761940-48f6-42d3-e15b-3d803b2d2efe"
      },
      "execution_count": 86,
      "outputs": [
        {
          "output_type": "stream",
          "name": "stdout",
          "text": [
            "1.37 µs ± 15.8 ns per loop (mean ± std. dev. of 7 runs, 1000000 loops each)\n"
          ]
        }
      ]
    },
    {
      "cell_type": "markdown",
      "source": [
        "## 고차원변환(Broadcasting) 연산\n",
        "\n",
        "서로 다른 차원의 배열의 연산에서, 낮은 차원의 배열이 높은 차원의 배열로 차원 변환(Casting)되어 연산을 하는 것\n",
        "\n",
        "numpy는 고차원변환(broadcasting)을 지원한다. [Numpy Broadcating](https://numpy.org/doc/stable/user/basics.broadcasting.html)"
      ],
      "metadata": {
        "id": "M80_VBswxcKz"
      }
    },
    {
      "cell_type": "code",
      "source": [
        "s = np.array([1, 2, 3, 4, 5])\n",
        "s * 3 # s는 1차원이고 3은 단일 변수(scalar)이다. 단일 변수(scalar)가 s의 차원과 형태(shape, (5, ))에 맞춰 변환되여 * 연산을 수행한다."
      ],
      "metadata": {
        "colab": {
          "base_uri": "https://localhost:8080/"
        },
        "id": "sWfoOLib3u87",
        "outputId": "0a3982a1-4aef-4487-f876-e05895079a0d"
      },
      "execution_count": 50,
      "outputs": [
        {
          "output_type": "execute_result",
          "data": {
            "text/plain": [
              "0     3\n",
              "1     6\n",
              "2     9\n",
              "3    12\n",
              "4    15\n",
              "dtype: int64"
            ]
          },
          "metadata": {},
          "execution_count": 50
        }
      ]
    },
    {
      "cell_type": "code",
      "source": [
        "# broadcating이 지원 안 된다면, 다음과 같이 연산을 수행해야 한다.\n",
        "s1 = np.array([1, 2, 3, 4, 5])\n",
        "s2 = np.array([3, 3, 3, 3, 3])\n",
        "\n",
        "s1 * s2"
      ],
      "metadata": {
        "colab": {
          "base_uri": "https://localhost:8080/"
        },
        "id": "tuQwQSQl4PKV",
        "outputId": "bbb4172a-911d-482a-9fd3-5fe56db6bbb9"
      },
      "execution_count": 51,
      "outputs": [
        {
          "output_type": "execute_result",
          "data": {
            "text/plain": [
              "0     3\n",
              "1     6\n",
              "2     9\n",
              "3    12\n",
              "4    15\n",
              "dtype: int64"
            ]
          },
          "metadata": {},
          "execution_count": 51
        }
      ]
    },
    {
      "cell_type": "markdown",
      "source": [
        "이러한 점에서 고차원변환(Broadcasting)은 연산에 엄청난 편리성을 제공"
      ],
      "metadata": {
        "id": "GfUu3Qes4yV-"
      }
    },
    {
      "cell_type": "code",
      "source": [
        "# 2차원 배열과 1차원 배열\n",
        "a = np.arange(1, 21).reshape((4, 5))\n",
        "a"
      ],
      "metadata": {
        "colab": {
          "base_uri": "https://localhost:8080/"
        },
        "id": "iLmCdAWG4xP0",
        "outputId": "223319be-c21c-45b6-8ff1-9d506efca445"
      },
      "execution_count": 64,
      "outputs": [
        {
          "output_type": "execute_result",
          "data": {
            "text/plain": [
              "array([[ 1,  2,  3,  4,  5],\n",
              "       [ 6,  7,  8,  9, 10],\n",
              "       [11, 12, 13, 14, 15],\n",
              "       [16, 17, 18, 19, 20]])"
            ]
          },
          "metadata": {},
          "execution_count": 64
        }
      ]
    },
    {
      "cell_type": "code",
      "source": [
        "b = np.arange(1, 6)\n",
        "b"
      ],
      "metadata": {
        "colab": {
          "base_uri": "https://localhost:8080/"
        },
        "id": "g9u0wF3A7qB_",
        "outputId": "fbe9f0c8-2251-4dc6-e4fb-8926e7ca880f"
      },
      "execution_count": 65,
      "outputs": [
        {
          "output_type": "execute_result",
          "data": {
            "text/plain": [
              "array([1, 2, 3, 4, 5])"
            ]
          },
          "metadata": {},
          "execution_count": 65
        }
      ]
    },
    {
      "cell_type": "code",
      "source": [
        "a / b # a와 같은 row수로 [1, 2, 3, 4 ,5] 반복적으로 확장이 되어  연산이 된다"
      ],
      "metadata": {
        "colab": {
          "base_uri": "https://localhost:8080/"
        },
        "id": "Ck8t84qe8ByE",
        "outputId": "f7524ddd-c636-4566-aec5-160d0f095671"
      },
      "execution_count": 66,
      "outputs": [
        {
          "output_type": "execute_result",
          "data": {
            "text/plain": [
              "array([[ 1.        ,  1.        ,  1.        ,  1.        ,  1.        ],\n",
              "       [ 6.        ,  3.5       ,  2.66666667,  2.25      ,  2.        ],\n",
              "       [11.        ,  6.        ,  4.33333333,  3.5       ,  3.        ],\n",
              "       [16.        ,  8.5       ,  6.        ,  4.75      ,  4.        ]])"
            ]
          },
          "metadata": {},
          "execution_count": 66
        }
      ]
    },
    {
      "cell_type": "code",
      "source": [
        "# 고차원확장이 없다면, 다음과 같이 연산을 진행\n",
        "c = a.copy().astype(np.float32)\n",
        "for i in range(a.shape[0]):\n",
        "    c[i] = c[i] /  b\n",
        "c"
      ],
      "metadata": {
        "colab": {
          "base_uri": "https://localhost:8080/"
        },
        "id": "M5xBQb_H8h7q",
        "outputId": "0e788bf5-b9b1-43b2-99cc-8f5d868946cd"
      },
      "execution_count": 75,
      "outputs": [
        {
          "output_type": "execute_result",
          "data": {
            "text/plain": [
              "array([[ 1.       ,  1.       ,  1.       ,  1.       ,  1.       ],\n",
              "       [ 6.       ,  3.5      ,  2.6666667,  2.25     ,  2.       ],\n",
              "       [11.       ,  6.       ,  4.3333335,  3.5      ,  3.       ],\n",
              "       [16.       ,  8.5      ,  6.       ,  4.75     ,  4.       ]],\n",
              "      dtype=float32)"
            ]
          },
          "metadata": {},
          "execution_count": 75
        }
      ]
    },
    {
      "cell_type": "code",
      "source": [
        "b = np.arange(1, 5)\n",
        "a / b # 낮은 차원일 때는, 열(마지막 차원) 수와 일치해야한다."
      ],
      "metadata": {
        "colab": {
          "base_uri": "https://localhost:8080/",
          "height": 193
        },
        "id": "liuedsEO9jmu",
        "outputId": "9937fb76-8e48-4658-c930-7b4dc1919299"
      },
      "execution_count": 77,
      "outputs": [
        {
          "output_type": "error",
          "ename": "ValueError",
          "evalue": "ignored",
          "traceback": [
            "\u001b[0;31m---------------------------------------------------------------------------\u001b[0m",
            "\u001b[0;31mValueError\u001b[0m                                Traceback (most recent call last)",
            "\u001b[0;32m<ipython-input-77-4c0015381e14>\u001b[0m in \u001b[0;36m<module>\u001b[0;34m\u001b[0m\n\u001b[1;32m      1\u001b[0m \u001b[0mb\u001b[0m \u001b[0;34m=\u001b[0m \u001b[0mnp\u001b[0m\u001b[0;34m.\u001b[0m\u001b[0marange\u001b[0m\u001b[0;34m(\u001b[0m\u001b[0;36m1\u001b[0m\u001b[0;34m,\u001b[0m \u001b[0;36m5\u001b[0m\u001b[0;34m)\u001b[0m\u001b[0;34m\u001b[0m\u001b[0;34m\u001b[0m\u001b[0m\n\u001b[0;32m----> 2\u001b[0;31m \u001b[0ma\u001b[0m \u001b[0;34m/\u001b[0m \u001b[0mb\u001b[0m \u001b[0;31m# 낮은 차원일 때는, columns(마지막 차원) 수와 일치해야한다.\u001b[0m\u001b[0;34m\u001b[0m\u001b[0;34m\u001b[0m\u001b[0m\n\u001b[0m",
            "\u001b[0;31mValueError\u001b[0m: operands could not be broadcast together with shapes (4,5) (4,) "
          ]
        }
      ]
    },
    {
      "cell_type": "code",
      "source": [
        "b = np.arange(1, 5) # 열에 대한 직접적인 고차원 변환은 지원하지 않지만,\n",
        "a / b[:, np.newaxis] # 동일한 차원이고, 형태가 1인 것만 제외하고 나머지는 같다면, 형태가 1인 차원에 대해서 반복을 통해 형태를 맞추어 연산이 된다."
      ],
      "metadata": {
        "colab": {
          "base_uri": "https://localhost:8080/"
        },
        "id": "V_6_mZPF9ozW",
        "outputId": "83c7fbe2-3b7a-439e-e658-59340376cee1"
      },
      "execution_count": 93,
      "outputs": [
        {
          "output_type": "execute_result",
          "data": {
            "text/plain": [
              "array([[1.        , 2.        , 3.        , 4.        , 5.        ],\n",
              "       [3.        , 3.5       , 4.        , 4.5       , 5.        ],\n",
              "       [3.66666667, 4.        , 4.33333333, 4.66666667, 5.        ],\n",
              "       [4.        , 4.25      , 4.5       , 4.75      , 5.        ]])"
            ]
          },
          "metadata": {},
          "execution_count": 93
        }
      ]
    },
    {
      "cell_type": "code",
      "source": [
        "b[:, np.newaxis ], b[:, np.newaxis ].shape # 즉 열에 대한 형태가 반복을 통해 맞추어져서 열단위 고차원 변환과 같은 효과를 낸 것이다."
      ],
      "metadata": {
        "colab": {
          "base_uri": "https://localhost:8080/"
        },
        "id": "2DbpdjjZB1MH",
        "outputId": "561c6583-1d97-4cfa-b0c7-cf89363bdcde"
      },
      "execution_count": 95,
      "outputs": [
        {
          "output_type": "execute_result",
          "data": {
            "text/plain": [
              "(array([[1],\n",
              "        [2],\n",
              "        [3],\n",
              "        [4]]), (4, 1))"
            ]
          },
          "metadata": {},
          "execution_count": 95
        }
      ]
    },
    {
      "cell_type": "code",
      "source": [
        "# 위의 연산은 다음과 같다.\n",
        "c = a.copy().astype(np.float32)\n",
        "for i in range(a.shape[1]):\n",
        "    c[:, i] = c[:, i] /  b\n",
        "c"
      ],
      "metadata": {
        "colab": {
          "base_uri": "https://localhost:8080/"
        },
        "id": "4HPszcRLB66f",
        "outputId": "67f4225b-56a9-4272-d066-bc2293103551"
      },
      "execution_count": 96,
      "outputs": [
        {
          "output_type": "execute_result",
          "data": {
            "text/plain": [
              "array([[1.       , 2.       , 3.       , 4.       , 5.       ],\n",
              "       [3.       , 3.5      , 4.       , 4.5      , 5.       ],\n",
              "       [3.6666667, 4.       , 4.3333335, 4.6666665, 5.       ],\n",
              "       [4.       , 4.25     , 4.5      , 4.75     , 5.       ]],\n",
              "      dtype=float32)"
            ]
          },
          "metadata": {},
          "execution_count": 96
        }
      ]
    },
    {
      "cell_type": "markdown",
      "source": [
        "고차원변환과 벡터화까지 적용되어 있다면, \n",
        "numpy에서는 연산속도에 향상이 있다."
      ],
      "metadata": {
        "id": "AyDJjoWDDoMf"
      }
    },
    {
      "cell_type": "code",
      "source": [
        "s1 = np.arange(1, 10001).astype(np.float32).reshape(100, 100)\n",
        "s2 = np.arange(1, 101)"
      ],
      "metadata": {
        "id": "3lwwz1GzDcqf"
      },
      "execution_count": 108,
      "outputs": []
    },
    {
      "cell_type": "code",
      "source": [
        "%%timeit\n",
        "s1 / s2"
      ],
      "metadata": {
        "colab": {
          "base_uri": "https://localhost:8080/"
        },
        "id": "EqlxuaILEJqB",
        "outputId": "c6afaa03-b6de-4a5b-ff06-ed9f09d1412b"
      },
      "execution_count": 109,
      "outputs": [
        {
          "output_type": "stream",
          "name": "stdout",
          "text": [
            "24.9 µs ± 1.54 µs per loop (mean ± std. dev. of 7 runs, 10000 loops each)\n"
          ]
        }
      ]
    },
    {
      "cell_type": "code",
      "source": [
        "%%timeit\n",
        "for i in range(100):\n",
        "    s1[i] /= s2"
      ],
      "metadata": {
        "colab": {
          "base_uri": "https://localhost:8080/"
        },
        "id": "Sm5joWpzEMQJ",
        "outputId": "6e8d16ec-7fe1-4324-8ca9-85d1bd0933df"
      },
      "execution_count": 110,
      "outputs": [
        {
          "output_type": "stream",
          "name": "stdout",
          "text": [
            "303 µs ± 28.7 µs per loop (mean ± std. dev. of 7 runs, 1000 loops each)\n"
          ]
        }
      ]
    },
    {
      "cell_type": "code",
      "source": [],
      "metadata": {
        "id": "0yTxsgTfEVZg"
      },
      "execution_count": null,
      "outputs": []
    }
  ]
}