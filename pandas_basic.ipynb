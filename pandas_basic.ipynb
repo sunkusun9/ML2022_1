{
  "nbformat": 4,
  "nbformat_minor": 0,
  "metadata": {
    "colab": {
      "provenance": [],
      "toc_visible": true,
      "authorship_tag": "ABX9TyPyREVd84qLCiqUhlLqpzaN",
      "include_colab_link": true
    },
    "kernelspec": {
      "name": "python3",
      "display_name": "Python 3"
    },
    "language_info": {
      "name": "python"
    }
  },
  "cells": [
    {
      "cell_type": "markdown",
      "metadata": {
        "id": "view-in-github",
        "colab_type": "text"
      },
      "source": [
        "<a href=\"https://colab.research.google.com/github/sunkusun9/ML2022_1/blob/main/pandas_basic.ipynb\" target=\"_parent\"><img src=\"https://colab.research.google.com/assets/colab-badge.svg\" alt=\"Open In Colab\"/></a>"
      ]
    },
    {
      "cell_type": "code",
      "execution_count": 1,
      "metadata": {
        "colab": {
          "base_uri": "https://localhost:8080/",
          "height": 35
        },
        "id": "31ZdL0xKyIwp",
        "outputId": "117645e1-0c43-4a24-9079-d5f9fe20c362"
      },
      "outputs": [
        {
          "output_type": "execute_result",
          "data": {
            "text/plain": [
              "'1.3.5'"
            ],
            "application/vnd.google.colaboratory.intrinsic+json": {
              "type": "string"
            }
          },
          "metadata": {},
          "execution_count": 1
        }
      ],
      "source": [
        "import pandas as pd\n",
        "pd.__version__"
      ]
    },
    {
      "cell_type": "markdown",
      "source": [
        "# Pandas  테이블 형태(Tabular)의 데이터 위한 툴\n",
        "\n",
        "Pandas의 구성 요소\n",
        "\n",
        "DataFrame, 행(row)와 열(column)으로 구성 된 자료 \n",
        "\n",
        "![image.png](data:image/png;base64,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)\n",
        "\n",
        "Series: DataFrame의 하나의 열 또는 행을 구성하는 요소\n",
        "\n",
        "![image.png](data:image/png;base64,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)"
      ],
      "metadata": {
        "id": "6wSK0aSAzZ2l"
      }
    },
    {
      "cell_type": "markdown",
      "source": [
        "**Pandas는 numpy를 기반으로 구현 되어 서로 긴밀하게 연관되어 있다**"
      ],
      "metadata": {
        "id": "cy0DM08-VtOL"
      }
    },
    {
      "cell_type": "code",
      "source": [
        "import numpy as np\n",
        "np.__version__"
      ],
      "metadata": {
        "colab": {
          "base_uri": "https://localhost:8080/",
          "height": 35
        },
        "id": "_YPhwKMUzRXT",
        "outputId": "d09ae900-69cf-4f14-a2a0-2182a479c134"
      },
      "execution_count": 2,
      "outputs": [
        {
          "output_type": "execute_result",
          "data": {
            "text/plain": [
              "'1.21.6'"
            ],
            "application/vnd.google.colaboratory.intrinsic+json": {
              "type": "string"
            }
          },
          "metadata": {},
          "execution_count": 2
        }
      ]
    },
    {
      "cell_type": "markdown",
      "source": [
        "# Pandas의 자료구조\n",
        "\n",
        "[Intro to data structures](https://pandas.pydata.org/docs/user_guide/dsintro.html#dsintro) 을 기반으로 제작"
      ],
      "metadata": {
        "id": "oIDB_txj3vzV"
      }
    },
    {
      "cell_type": "markdown",
      "source": [
        "## [Series](https://pandas.pydata.org/docs/reference/api/pandas.Series.html)\n",
        "\n",
        "- 1차원의 색인화된 저장 구조\n",
        "- 정수(integer), 실수(float), 문자(str), Python 객체(objects)를 다룰 수 있다.\n",
        "\n",
        "s = pd.Series(data, index=index)\n",
        "\n",
        "data - dict, ndarray, scalar\n",
        "\n",
        "index - 색인, 값을 지정하지 않으면 0...(N-1)의 정수로 값이 지정"
      ],
      "metadata": {
        "id": "40__FQHgywj9"
      }
    },
    {
      "cell_type": "code",
      "source": [
        "# 5개의 난수를 생성하여, Series를 생성 \n",
        "s = pd.Series(np.random.randn(5))\n",
        "s"
      ],
      "metadata": {
        "colab": {
          "base_uri": "https://localhost:8080/"
        },
        "id": "FBb1R4UE3aOc",
        "outputId": "fa524b82-de06-4102-9e3e-7d46a955c1df"
      },
      "execution_count": 3,
      "outputs": [
        {
          "output_type": "execute_result",
          "data": {
            "text/plain": [
              "0   -1.823076\n",
              "1    0.365475\n",
              "2   -1.743775\n",
              "3    0.446659\n",
              "4    0.221464\n",
              "dtype: float64"
            ]
          },
          "metadata": {},
          "execution_count": 3
        }
      ]
    },
    {
      "cell_type": "code",
      "source": [
        "# 5개의 난수를 생성하고, 인덱스를 'a'~'e'까지 지정\n",
        "s = pd.Series(np.random.randn(5), index=[\"a\", \"b\", \"c\", \"d\", \"e\"])\n",
        "s"
      ],
      "metadata": {
        "colab": {
          "base_uri": "https://localhost:8080/"
        },
        "id": "0kuA3wSuJPlX",
        "outputId": "faaee176-8d30-4b61-a39b-0867f45321c8"
      },
      "execution_count": 4,
      "outputs": [
        {
          "output_type": "execute_result",
          "data": {
            "text/plain": [
              "a    0.733732\n",
              "b    0.699924\n",
              "c    1.074581\n",
              "d   -1.241842\n",
              "e   -1.317294\n",
              "dtype: float64"
            ]
          },
          "metadata": {},
          "execution_count": 4
        }
      ]
    },
    {
      "cell_type": "code",
      "source": [
        "# 인덱스 확인\n",
        "s.index"
      ],
      "metadata": {
        "colab": {
          "base_uri": "https://localhost:8080/"
        },
        "id": "MNCcOX6fJiUp",
        "outputId": "202d382d-901d-432c-b486-3079a134250e"
      },
      "execution_count": 5,
      "outputs": [
        {
          "output_type": "execute_result",
          "data": {
            "text/plain": [
              "Index(['a', 'b', 'c', 'd', 'e'], dtype='object')"
            ]
          },
          "metadata": {},
          "execution_count": 5
        }
      ]
    },
    {
      "cell_type": "code",
      "source": [
        "# dict 로 Series 생성, key는 index로, value는 Series의 value로 생성\n",
        "d = {\"a\": 0.0, \"b\": 1.0, \"c\": 2.0}\n",
        "\n",
        "pd.Series(d)"
      ],
      "metadata": {
        "colab": {
          "base_uri": "https://localhost:8080/"
        },
        "id": "cdgCcL1dJ9l2",
        "outputId": "3f2bd7d0-db80-48d4-d70e-148610595a9d"
      },
      "execution_count": 6,
      "outputs": [
        {
          "output_type": "execute_result",
          "data": {
            "text/plain": [
              "a    0.0\n",
              "b    1.0\n",
              "c    2.0\n",
              "dtype: float64"
            ]
          },
          "metadata": {},
          "execution_count": 6
        }
      ]
    },
    {
      "cell_type": "code",
      "source": [
        "# dict로 생성시 index를 사용하면 dict에 없는 데이터는 NA가 들어가고 index로 지정하지 않은 값은 제외된다.\n",
        "# 즉 index를 기준으로 \n",
        "pd.Series(d, index=['b', 'd', 'c'])"
      ],
      "metadata": {
        "colab": {
          "base_uri": "https://localhost:8080/"
        },
        "id": "_n_XFxkrLjif",
        "outputId": "780bc138-fcfc-4eda-bd16-444494beee6e"
      },
      "execution_count": 7,
      "outputs": [
        {
          "output_type": "execute_result",
          "data": {
            "text/plain": [
              "b    1.0\n",
              "d    NaN\n",
              "c    2.0\n",
              "dtype: float64"
            ]
          },
          "metadata": {},
          "execution_count": 7
        }
      ]
    },
    {
      "cell_type": "code",
      "source": [
        "# 단일 값으로 생성한다면, index를 제공하지 않으면, 길이가 1이고 인덱스가 0인 Series가 생성\n",
        "pd.Series(5.0)"
      ],
      "metadata": {
        "colab": {
          "base_uri": "https://localhost:8080/"
        },
        "id": "MokbJOscMXB4",
        "outputId": "aa3ced57-0f63-40c0-ded2-e463398b0d05"
      },
      "execution_count": 8,
      "outputs": [
        {
          "output_type": "execute_result",
          "data": {
            "text/plain": [
              "0    5.0\n",
              "dtype: float64"
            ]
          },
          "metadata": {},
          "execution_count": 8
        }
      ]
    },
    {
      "cell_type": "code",
      "source": [
        "# index를 제공한다면, 해당 값으로 index 만큼의 Series가 생성\n",
        "pd.Series(5.0, index=['a', 'b', 'c', 'd'])"
      ],
      "metadata": {
        "colab": {
          "base_uri": "https://localhost:8080/"
        },
        "id": "51ur_UauNTCZ",
        "outputId": "dd928764-8761-4334-c135-4915395a57e3"
      },
      "execution_count": 9,
      "outputs": [
        {
          "output_type": "execute_result",
          "data": {
            "text/plain": [
              "a    5.0\n",
              "b    5.0\n",
              "c    5.0\n",
              "d    5.0\n",
              "dtype: float64"
            ]
          },
          "metadata": {},
          "execution_count": 9
        }
      ]
    },
    {
      "cell_type": "code",
      "source": [
        "# 값은 0~4 색인 은  'a'~'e'를 지는 Series 생성\n",
        "s = pd.Series(np.arange(0, 5), index=[chr(ord('a') + i) for i in range(0, 5)])\n",
        "s"
      ],
      "metadata": {
        "colab": {
          "base_uri": "https://localhost:8080/"
        },
        "id": "gKVEUnB3N3tY",
        "outputId": "19f2920a-9013-4e9f-acd2-baa3ccebe9bf"
      },
      "execution_count": 10,
      "outputs": [
        {
          "output_type": "execute_result",
          "data": {
            "text/plain": [
              "a    0\n",
              "b    1\n",
              "c    2\n",
              "d    3\n",
              "e    4\n",
              "dtype: int64"
            ]
          },
          "metadata": {},
          "execution_count": 10
        }
      ]
    },
    {
      "cell_type": "markdown",
      "source": [
        "[Practice]\n",
        "\n",
        "1. 0부터 2씩 증가하여 10까지 값을 지닌 Series 생성\n",
        "\n",
        "2. 0부터 10까지 색인으로 하고 0부터 10까지 제곱수 지닌 Series를 생성"
      ],
      "metadata": {
        "id": "pAhya2spQu4A"
      }
    },
    {
      "cell_type": "code",
      "source": [
        "# 1\n",
        "s = pd.Series(np.arange(0, 11, 2))\n",
        "s"
      ],
      "metadata": {
        "colab": {
          "base_uri": "https://localhost:8080/"
        },
        "id": "ZMmIwhJqNtKZ",
        "outputId": "e5573816-5c28-4aaa-db67-028d041c990a"
      },
      "execution_count": 11,
      "outputs": [
        {
          "output_type": "execute_result",
          "data": {
            "text/plain": [
              "0     0\n",
              "1     2\n",
              "2     4\n",
              "3     6\n",
              "4     8\n",
              "5    10\n",
              "dtype: int64"
            ]
          },
          "metadata": {},
          "execution_count": 11
        }
      ]
    },
    {
      "cell_type": "code",
      "source": [
        "# 2\n",
        "s = pd.Series(np.arange(0, 5) ** 2, index=np.arange(0, 5))\n",
        "s"
      ],
      "metadata": {
        "colab": {
          "base_uri": "https://localhost:8080/"
        },
        "id": "pdtKhzz_zbnG",
        "outputId": "02270d00-9f44-4be0-a18b-10243d59da97"
      },
      "execution_count": 12,
      "outputs": [
        {
          "output_type": "execute_result",
          "data": {
            "text/plain": [
              "0     0\n",
              "1     1\n",
              "2     4\n",
              "3     9\n",
              "4    16\n",
              "dtype: int64"
            ]
          },
          "metadata": {},
          "execution_count": 12
        }
      ]
    },
    {
      "cell_type": "markdown",
      "source": [
        "**Pandas Series는 벡터화 연산와 고차원변환(Broadcasting)을 지원한다.**\n",
        "\n",
        "Series 와 Series \n",
        "- 색인 별로(색인이 같은 수 끼리) 연산이 이루어짐\n",
        "- 색인이 일치 하지 않을 경우 NaN 값이 됨\n",
        "- numpy array를 가지고 numpy 연산으로 처리하는 것보다 느리니, 보다 빠른 연산을 하려면, 인덱스 없이 numpy array와 함수로 처리할 것을 권장한다.\n",
        "\n",
        "Series 와 Scalar(단일 변수)\n",
        "\n",
        "numpy 함수와 Series 간 연산 => Series로 반환\n"
      ],
      "metadata": {
        "id": "Uc85NZs1exwT"
      }
    },
    {
      "cell_type": "markdown",
      "source": [
        "* Series, Series간 벡터화 연산"
      ],
      "metadata": {
        "id": "muukzht36UEm"
      }
    },
    {
      "cell_type": "code",
      "source": [
        "s + s"
      ],
      "metadata": {
        "colab": {
          "base_uri": "https://localhost:8080/"
        },
        "id": "9I7H6peeQGGC",
        "outputId": "7143a7be-dfba-4818-d782-7173da6594db"
      },
      "execution_count": 13,
      "outputs": [
        {
          "output_type": "execute_result",
          "data": {
            "text/plain": [
              "0     0\n",
              "1     2\n",
              "2     8\n",
              "3    18\n",
              "4    32\n",
              "dtype: int64"
            ]
          },
          "metadata": {},
          "execution_count": 13
        }
      ]
    },
    {
      "cell_type": "code",
      "source": [
        "# 값에 대한 역순위 정렬을 한다.\n",
        "s.sort_values(ascending=False)"
      ],
      "metadata": {
        "colab": {
          "base_uri": "https://localhost:8080/"
        },
        "id": "8hEelpKOWSg1",
        "outputId": "bf927707-483b-4fba-f945-1b405f1231d0"
      },
      "execution_count": 14,
      "outputs": [
        {
          "output_type": "execute_result",
          "data": {
            "text/plain": [
              "4    16\n",
              "3     9\n",
              "2     4\n",
              "1     1\n",
              "0     0\n",
              "dtype: int64"
            ]
          },
          "metadata": {},
          "execution_count": 14
        }
      ]
    },
    {
      "cell_type": "code",
      "source": [
        "# 값의 순서로 이루진다고 착각할 수 있다, 같은 인덱스끼리 연산이 이루어 진다 이 점을 유의 하자.\n",
        "s + s.sort_values(ascending=False)"
      ],
      "metadata": {
        "colab": {
          "base_uri": "https://localhost:8080/"
        },
        "id": "G4QY2d36WfIa",
        "outputId": "38ce0c30-a4a1-404a-ba6d-301637b0310d"
      },
      "execution_count": 15,
      "outputs": [
        {
          "output_type": "execute_result",
          "data": {
            "text/plain": [
              "0     0\n",
              "1     2\n",
              "2     8\n",
              "3    18\n",
              "4    32\n",
              "dtype: int64"
            ]
          },
          "metadata": {},
          "execution_count": 15
        }
      ]
    },
    {
      "cell_type": "code",
      "source": [
        "# index 매칭\n",
        "s[:-1] + s[1:]"
      ],
      "metadata": {
        "colab": {
          "base_uri": "https://localhost:8080/"
        },
        "id": "8vJ3PEP8UN8j",
        "outputId": "18d07e5f-846b-4add-f919-239319e17e7e"
      },
      "execution_count": 16,
      "outputs": [
        {
          "output_type": "execute_result",
          "data": {
            "text/plain": [
              "0     NaN\n",
              "1     2.0\n",
              "2     8.0\n",
              "3    18.0\n",
              "4     NaN\n",
              "dtype: float64"
            ]
          },
          "metadata": {},
          "execution_count": 16
        }
      ]
    },
    {
      "cell_type": "code",
      "source": [
        "# numpy 함수를 이용한 연산도 pandas 동일, numpy ndarray가 아닌 pandas Series를 넘긴다.\n",
        "np.add(s[:-1], s[1:])"
      ],
      "metadata": {
        "colab": {
          "base_uri": "https://localhost:8080/"
        },
        "id": "m1nc0OWmWkez",
        "outputId": "97824e35-d536-4608-9451-02302d891ca5"
      },
      "execution_count": 17,
      "outputs": [
        {
          "output_type": "execute_result",
          "data": {
            "text/plain": [
              "0     NaN\n",
              "1     2.0\n",
              "2     8.0\n",
              "3    18.0\n",
              "4     NaN\n",
              "dtype: float64"
            ]
          },
          "metadata": {},
          "execution_count": 17
        }
      ]
    },
    {
      "cell_type": "markdown",
      "source": [
        "* Series 와 scalar 간의 고차원변환(Broadcating) 연산"
      ],
      "metadata": {
        "id": "DAFyx3-x6ELV"
      }
    },
    {
      "cell_type": "code",
      "source": [
        "s + 3"
      ],
      "metadata": {
        "colab": {
          "base_uri": "https://localhost:8080/"
        },
        "id": "82pxRMTw6DvL",
        "outputId": "37ddc34b-5b94-42a3-e259-16be50556776"
      },
      "execution_count": 18,
      "outputs": [
        {
          "output_type": "execute_result",
          "data": {
            "text/plain": [
              "0     3\n",
              "1     4\n",
              "2     7\n",
              "3    12\n",
              "4    19\n",
              "dtype: int64"
            ]
          },
          "metadata": {},
          "execution_count": 18
        }
      ]
    },
    {
      "cell_type": "markdown",
      "source": [
        "* numpy array와 비교한다면?"
      ],
      "metadata": {
        "id": "e56ejiaXGR7o"
      }
    },
    {
      "cell_type": "code",
      "source": [
        "a = np.arange(1, 1000)\n",
        "b = np.arange(1, 1000)"
      ],
      "metadata": {
        "id": "2VWxkeY3GJ4-"
      },
      "execution_count": 19,
      "outputs": []
    },
    {
      "cell_type": "code",
      "source": [
        "%%timeit\n",
        "a + b"
      ],
      "metadata": {
        "colab": {
          "base_uri": "https://localhost:8080/"
        },
        "id": "trzQoLOdGdyx",
        "outputId": "87be9124-5876-462f-a91b-511a63ae4c72"
      },
      "execution_count": 20,
      "outputs": [
        {
          "output_type": "stream",
          "name": "stdout",
          "text": [
            "1.04 µs ± 11.3 ns per loop (mean ± std. dev. of 7 runs, 1000000 loops each)\n"
          ]
        }
      ]
    },
    {
      "cell_type": "code",
      "source": [
        "a = pd.Series(np.arange(1, 1000))\n",
        "b = pd.Series(np.arange(1, 1000))"
      ],
      "metadata": {
        "id": "530IkNGOGYg5"
      },
      "execution_count": 21,
      "outputs": []
    },
    {
      "cell_type": "code",
      "source": [
        "%%timeit\n",
        "a + b"
      ],
      "metadata": {
        "colab": {
          "base_uri": "https://localhost:8080/"
        },
        "id": "G4kb2DTmGj9Y",
        "outputId": "cb2f69a4-e926-4eaa-a2dc-56d5e9101e20"
      },
      "execution_count": 22,
      "outputs": [
        {
          "output_type": "stream",
          "name": "stdout",
          "text": [
            "118 µs ± 10.6 µs per loop (mean ± std. dev. of 7 runs, 10000 loops each)\n"
          ]
        }
      ]
    },
    {
      "cell_type": "code",
      "source": [
        "%%timeit\n",
        "np.add(a, b)"
      ],
      "metadata": {
        "colab": {
          "base_uri": "https://localhost:8080/"
        },
        "id": "LARYrKRiHfug",
        "outputId": "077d74a5-aead-4847-e5c6-82a485f34a78"
      },
      "execution_count": 23,
      "outputs": [
        {
          "output_type": "stream",
          "name": "stdout",
          "text": [
            "143 µs ± 11.7 µs per loop (mean ± std. dev. of 7 runs, 10000 loops each)\n"
          ]
        }
      ]
    },
    {
      "cell_type": "markdown",
      "source": [
        "* 많이 느리다. 동일한 인덱스로 연산을 한다면, \n",
        "많은 연산을 직접할 때에는 numpy를 사용하는 것이 효율적일 수 있다."
      ],
      "metadata": {
        "id": "YrmJmAC-G32D"
      }
    },
    {
      "cell_type": "code",
      "source": [
        "%%timeit\n",
        "a.values + b.values"
      ],
      "metadata": {
        "colab": {
          "base_uri": "https://localhost:8080/"
        },
        "id": "mt_R15IaHEzg",
        "outputId": "9061e433-fd92-4707-96c6-c6d6c5b41fd7"
      },
      "execution_count": 24,
      "outputs": [
        {
          "output_type": "stream",
          "name": "stdout",
          "text": [
            "3.24 µs ± 57 ns per loop (mean ± std. dev. of 7 runs, 100000 loops each)\n"
          ]
        }
      ]
    },
    {
      "cell_type": "markdown",
      "source": [
        "Series에 이름을  부여할 수있다."
      ],
      "metadata": {
        "id": "tTTSxmvYRCBA"
      }
    },
    {
      "cell_type": "code",
      "source": [
        "s.name = '1~5' # Series에 이름을  지정\n",
        "s.name"
      ],
      "metadata": {
        "colab": {
          "base_uri": "https://localhost:8080/",
          "height": 35
        },
        "id": "295DelRtRQCC",
        "outputId": "a9c27a88-cdee-44ad-a4c7-28a07effbb67"
      },
      "execution_count": 25,
      "outputs": [
        {
          "output_type": "execute_result",
          "data": {
            "text/plain": [
              "'1~5'"
            ],
            "application/vnd.google.colaboratory.intrinsic+json": {
              "type": "string"
            }
          },
          "metadata": {},
          "execution_count": 25
        }
      ]
    },
    {
      "cell_type": "code",
      "source": [
        "# rename은 rename한 Series를 만들어 반환한다.\n",
        "s.rename('1 부터 5')\n",
        "s.name # 이름이 바뀌지 않음을 확인"
      ],
      "metadata": {
        "colab": {
          "base_uri": "https://localhost:8080/",
          "height": 35
        },
        "id": "S7sL4P2pRbih",
        "outputId": "71e51936-116c-4246-e6df-df8ad850925e"
      },
      "execution_count": 26,
      "outputs": [
        {
          "output_type": "execute_result",
          "data": {
            "text/plain": [
              "'1~5'"
            ],
            "application/vnd.google.colaboratory.intrinsic+json": {
              "type": "string"
            }
          },
          "metadata": {},
          "execution_count": 26
        }
      ]
    },
    {
      "cell_type": "markdown",
      "source": [
        "이러한 함수 구성은 Method Chaining에 활용할 수 있다.\n",
        "\n",
        "**Method Chaining: 객체에 연산 수행 후에 객체를 반환하고 이에 대한 함수 호출을 연속적으로 이어갈 수 있게하여 구현의 편의성과 가독성을 제공하는 기법**"
      ],
      "metadata": {
        "id": "_2YpfFxzS4qz"
      }
    },
    {
      "cell_type": "code",
      "source": [
        "s2 = s.rename('1 부터 5')\n",
        "s2.name"
      ],
      "metadata": {
        "colab": {
          "base_uri": "https://localhost:8080/",
          "height": 35
        },
        "id": "00p5WLjjR0DG",
        "outputId": "1b5d905c-b58f-42e1-8196-7e41868d1f01"
      },
      "execution_count": 27,
      "outputs": [
        {
          "output_type": "execute_result",
          "data": {
            "text/plain": [
              "'1 부터 5'"
            ],
            "application/vnd.google.colaboratory.intrinsic+json": {
              "type": "string"
            }
          },
          "metadata": {},
          "execution_count": 27
        }
      ]
    },
    {
      "cell_type": "markdown",
      "source": [
        "## [DataFrame](https://pandas.pydata.org/docs/reference/api/pandas.DataFrame.html)\n",
        "\n",
        "- **행(row)**과 **열(column)**로 구성된 2차원의 색인화된 저장 구조"
      ],
      "metadata": {
        "id": "u6S3FAcWK3En"
      }
    },
    {
      "cell_type": "code",
      "source": [
        "# dict를 통한 생성\n",
        "# dict의 key는 열의 이름이 된다.\n",
        "df = pd.DataFrame({\n",
        "    \"one\": [1, 11, 21, 31, 41],\n",
        "    \"two\": np.array([2, 12, 22, 32, 42]), # ndarray로 생성이 가능\n",
        "    \"three\": range(3, 44, 10), # iterable로도 가능,\n",
        "    'four': pd.Series(np.arange(4, 45, 10), index=[0, 10, 20, 30, 41]) # Series로도 가능하다. DataFrame에서 지정한 index만을 가져온다\n",
        "}, index=[0, 10, 20, 30,40])\n",
        "df"
      ],
      "metadata": {
        "colab": {
          "base_uri": "https://localhost:8080/",
          "height": 206
        },
        "id": "PVHetsv3UsBc",
        "outputId": "0bb093e0-7910-4614-b146-cf90250bb7a5"
      },
      "execution_count": 28,
      "outputs": [
        {
          "output_type": "execute_result",
          "data": {
            "text/plain": [
              "    one  two  three  four\n",
              "0     1    2      3   4.0\n",
              "10   11   12     13  14.0\n",
              "20   21   22     23  24.0\n",
              "30   31   32     33  34.0\n",
              "40   41   42     43   NaN"
            ],
            "text/html": [
              "\n",
              "  <div id=\"df-4f3b70cb-eaa3-4104-92cb-debfcee7ace6\">\n",
              "    <div class=\"colab-df-container\">\n",
              "      <div>\n",
              "<style scoped>\n",
              "    .dataframe tbody tr th:only-of-type {\n",
              "        vertical-align: middle;\n",
              "    }\n",
              "\n",
              "    .dataframe tbody tr th {\n",
              "        vertical-align: top;\n",
              "    }\n",
              "\n",
              "    .dataframe thead th {\n",
              "        text-align: right;\n",
              "    }\n",
              "</style>\n",
              "<table border=\"1\" class=\"dataframe\">\n",
              "  <thead>\n",
              "    <tr style=\"text-align: right;\">\n",
              "      <th></th>\n",
              "      <th>one</th>\n",
              "      <th>two</th>\n",
              "      <th>three</th>\n",
              "      <th>four</th>\n",
              "    </tr>\n",
              "  </thead>\n",
              "  <tbody>\n",
              "    <tr>\n",
              "      <th>0</th>\n",
              "      <td>1</td>\n",
              "      <td>2</td>\n",
              "      <td>3</td>\n",
              "      <td>4.0</td>\n",
              "    </tr>\n",
              "    <tr>\n",
              "      <th>10</th>\n",
              "      <td>11</td>\n",
              "      <td>12</td>\n",
              "      <td>13</td>\n",
              "      <td>14.0</td>\n",
              "    </tr>\n",
              "    <tr>\n",
              "      <th>20</th>\n",
              "      <td>21</td>\n",
              "      <td>22</td>\n",
              "      <td>23</td>\n",
              "      <td>24.0</td>\n",
              "    </tr>\n",
              "    <tr>\n",
              "      <th>30</th>\n",
              "      <td>31</td>\n",
              "      <td>32</td>\n",
              "      <td>33</td>\n",
              "      <td>34.0</td>\n",
              "    </tr>\n",
              "    <tr>\n",
              "      <th>40</th>\n",
              "      <td>41</td>\n",
              "      <td>42</td>\n",
              "      <td>43</td>\n",
              "      <td>NaN</td>\n",
              "    </tr>\n",
              "  </tbody>\n",
              "</table>\n",
              "</div>\n",
              "      <button class=\"colab-df-convert\" onclick=\"convertToInteractive('df-4f3b70cb-eaa3-4104-92cb-debfcee7ace6')\"\n",
              "              title=\"Convert this dataframe to an interactive table.\"\n",
              "              style=\"display:none;\">\n",
              "        \n",
              "  <svg xmlns=\"http://www.w3.org/2000/svg\" height=\"24px\"viewBox=\"0 0 24 24\"\n",
              "       width=\"24px\">\n",
              "    <path d=\"M0 0h24v24H0V0z\" fill=\"none\"/>\n",
              "    <path d=\"M18.56 5.44l.94 2.06.94-2.06 2.06-.94-2.06-.94-.94-2.06-.94 2.06-2.06.94zm-11 1L8.5 8.5l.94-2.06 2.06-.94-2.06-.94L8.5 2.5l-.94 2.06-2.06.94zm10 10l.94 2.06.94-2.06 2.06-.94-2.06-.94-.94-2.06-.94 2.06-2.06.94z\"/><path d=\"M17.41 7.96l-1.37-1.37c-.4-.4-.92-.59-1.43-.59-.52 0-1.04.2-1.43.59L10.3 9.45l-7.72 7.72c-.78.78-.78 2.05 0 2.83L4 21.41c.39.39.9.59 1.41.59.51 0 1.02-.2 1.41-.59l7.78-7.78 2.81-2.81c.8-.78.8-2.07 0-2.86zM5.41 20L4 18.59l7.72-7.72 1.47 1.35L5.41 20z\"/>\n",
              "  </svg>\n",
              "      </button>\n",
              "      \n",
              "  <style>\n",
              "    .colab-df-container {\n",
              "      display:flex;\n",
              "      flex-wrap:wrap;\n",
              "      gap: 12px;\n",
              "    }\n",
              "\n",
              "    .colab-df-convert {\n",
              "      background-color: #E8F0FE;\n",
              "      border: none;\n",
              "      border-radius: 50%;\n",
              "      cursor: pointer;\n",
              "      display: none;\n",
              "      fill: #1967D2;\n",
              "      height: 32px;\n",
              "      padding: 0 0 0 0;\n",
              "      width: 32px;\n",
              "    }\n",
              "\n",
              "    .colab-df-convert:hover {\n",
              "      background-color: #E2EBFA;\n",
              "      box-shadow: 0px 1px 2px rgba(60, 64, 67, 0.3), 0px 1px 3px 1px rgba(60, 64, 67, 0.15);\n",
              "      fill: #174EA6;\n",
              "    }\n",
              "\n",
              "    [theme=dark] .colab-df-convert {\n",
              "      background-color: #3B4455;\n",
              "      fill: #D2E3FC;\n",
              "    }\n",
              "\n",
              "    [theme=dark] .colab-df-convert:hover {\n",
              "      background-color: #434B5C;\n",
              "      box-shadow: 0px 1px 3px 1px rgba(0, 0, 0, 0.15);\n",
              "      filter: drop-shadow(0px 1px 2px rgba(0, 0, 0, 0.3));\n",
              "      fill: #FFFFFF;\n",
              "    }\n",
              "  </style>\n",
              "\n",
              "      <script>\n",
              "        const buttonEl =\n",
              "          document.querySelector('#df-4f3b70cb-eaa3-4104-92cb-debfcee7ace6 button.colab-df-convert');\n",
              "        buttonEl.style.display =\n",
              "          google.colab.kernel.accessAllowed ? 'block' : 'none';\n",
              "\n",
              "        async function convertToInteractive(key) {\n",
              "          const element = document.querySelector('#df-4f3b70cb-eaa3-4104-92cb-debfcee7ace6');\n",
              "          const dataTable =\n",
              "            await google.colab.kernel.invokeFunction('convertToInteractive',\n",
              "                                                     [key], {});\n",
              "          if (!dataTable) return;\n",
              "\n",
              "          const docLinkHtml = 'Like what you see? Visit the ' +\n",
              "            '<a target=\"_blank\" href=https://colab.research.google.com/notebooks/data_table.ipynb>data table notebook</a>'\n",
              "            + ' to learn more about interactive tables.';\n",
              "          element.innerHTML = '';\n",
              "          dataTable['output_type'] = 'display_data';\n",
              "          await google.colab.output.renderOutput(dataTable, element);\n",
              "          const docLink = document.createElement('div');\n",
              "          docLink.innerHTML = docLinkHtml;\n",
              "          element.appendChild(docLink);\n",
              "        }\n",
              "      </script>\n",
              "    </div>\n",
              "  </div>\n",
              "  "
            ]
          },
          "metadata": {},
          "execution_count": 28
        }
      ]
    },
    {
      "cell_type": "code",
      "source": [
        "df = pd.DataFrame({\n",
        "    \"one\": [1, 11, 21, 31, 41],\n",
        "    \"two\": np.array([2, 12, 22, 32, 42]),\n",
        "    \"three\": pd.Series(np.arange(3, 45, 10)),\n",
        "    'four': pd.Series(np.arange(4, 45, 10))\n",
        "}, index=[0, 10, 20, 30, 41])\n",
        "df"
      ],
      "metadata": {
        "colab": {
          "base_uri": "https://localhost:8080/",
          "height": 206
        },
        "id": "DAWJN2Rcl2yW",
        "outputId": "89232f7e-b6c4-43dc-df68-c53e52c7ba94"
      },
      "execution_count": 29,
      "outputs": [
        {
          "output_type": "execute_result",
          "data": {
            "text/plain": [
              "    one  two  three  four\n",
              "0     1    2    3.0   4.0\n",
              "10   11   12    NaN   NaN\n",
              "20   21   22    NaN   NaN\n",
              "30   31   32    NaN   NaN\n",
              "41   41   42    NaN   NaN"
            ],
            "text/html": [
              "\n",
              "  <div id=\"df-7097657d-f460-4596-bfc0-9066367c42e8\">\n",
              "    <div class=\"colab-df-container\">\n",
              "      <div>\n",
              "<style scoped>\n",
              "    .dataframe tbody tr th:only-of-type {\n",
              "        vertical-align: middle;\n",
              "    }\n",
              "\n",
              "    .dataframe tbody tr th {\n",
              "        vertical-align: top;\n",
              "    }\n",
              "\n",
              "    .dataframe thead th {\n",
              "        text-align: right;\n",
              "    }\n",
              "</style>\n",
              "<table border=\"1\" class=\"dataframe\">\n",
              "  <thead>\n",
              "    <tr style=\"text-align: right;\">\n",
              "      <th></th>\n",
              "      <th>one</th>\n",
              "      <th>two</th>\n",
              "      <th>three</th>\n",
              "      <th>four</th>\n",
              "    </tr>\n",
              "  </thead>\n",
              "  <tbody>\n",
              "    <tr>\n",
              "      <th>0</th>\n",
              "      <td>1</td>\n",
              "      <td>2</td>\n",
              "      <td>3.0</td>\n",
              "      <td>4.0</td>\n",
              "    </tr>\n",
              "    <tr>\n",
              "      <th>10</th>\n",
              "      <td>11</td>\n",
              "      <td>12</td>\n",
              "      <td>NaN</td>\n",
              "      <td>NaN</td>\n",
              "    </tr>\n",
              "    <tr>\n",
              "      <th>20</th>\n",
              "      <td>21</td>\n",
              "      <td>22</td>\n",
              "      <td>NaN</td>\n",
              "      <td>NaN</td>\n",
              "    </tr>\n",
              "    <tr>\n",
              "      <th>30</th>\n",
              "      <td>31</td>\n",
              "      <td>32</td>\n",
              "      <td>NaN</td>\n",
              "      <td>NaN</td>\n",
              "    </tr>\n",
              "    <tr>\n",
              "      <th>41</th>\n",
              "      <td>41</td>\n",
              "      <td>42</td>\n",
              "      <td>NaN</td>\n",
              "      <td>NaN</td>\n",
              "    </tr>\n",
              "  </tbody>\n",
              "</table>\n",
              "</div>\n",
              "      <button class=\"colab-df-convert\" onclick=\"convertToInteractive('df-7097657d-f460-4596-bfc0-9066367c42e8')\"\n",
              "              title=\"Convert this dataframe to an interactive table.\"\n",
              "              style=\"display:none;\">\n",
              "        \n",
              "  <svg xmlns=\"http://www.w3.org/2000/svg\" height=\"24px\"viewBox=\"0 0 24 24\"\n",
              "       width=\"24px\">\n",
              "    <path d=\"M0 0h24v24H0V0z\" fill=\"none\"/>\n",
              "    <path d=\"M18.56 5.44l.94 2.06.94-2.06 2.06-.94-2.06-.94-.94-2.06-.94 2.06-2.06.94zm-11 1L8.5 8.5l.94-2.06 2.06-.94-2.06-.94L8.5 2.5l-.94 2.06-2.06.94zm10 10l.94 2.06.94-2.06 2.06-.94-2.06-.94-.94-2.06-.94 2.06-2.06.94z\"/><path d=\"M17.41 7.96l-1.37-1.37c-.4-.4-.92-.59-1.43-.59-.52 0-1.04.2-1.43.59L10.3 9.45l-7.72 7.72c-.78.78-.78 2.05 0 2.83L4 21.41c.39.39.9.59 1.41.59.51 0 1.02-.2 1.41-.59l7.78-7.78 2.81-2.81c.8-.78.8-2.07 0-2.86zM5.41 20L4 18.59l7.72-7.72 1.47 1.35L5.41 20z\"/>\n",
              "  </svg>\n",
              "      </button>\n",
              "      \n",
              "  <style>\n",
              "    .colab-df-container {\n",
              "      display:flex;\n",
              "      flex-wrap:wrap;\n",
              "      gap: 12px;\n",
              "    }\n",
              "\n",
              "    .colab-df-convert {\n",
              "      background-color: #E8F0FE;\n",
              "      border: none;\n",
              "      border-radius: 50%;\n",
              "      cursor: pointer;\n",
              "      display: none;\n",
              "      fill: #1967D2;\n",
              "      height: 32px;\n",
              "      padding: 0 0 0 0;\n",
              "      width: 32px;\n",
              "    }\n",
              "\n",
              "    .colab-df-convert:hover {\n",
              "      background-color: #E2EBFA;\n",
              "      box-shadow: 0px 1px 2px rgba(60, 64, 67, 0.3), 0px 1px 3px 1px rgba(60, 64, 67, 0.15);\n",
              "      fill: #174EA6;\n",
              "    }\n",
              "\n",
              "    [theme=dark] .colab-df-convert {\n",
              "      background-color: #3B4455;\n",
              "      fill: #D2E3FC;\n",
              "    }\n",
              "\n",
              "    [theme=dark] .colab-df-convert:hover {\n",
              "      background-color: #434B5C;\n",
              "      box-shadow: 0px 1px 3px 1px rgba(0, 0, 0, 0.15);\n",
              "      filter: drop-shadow(0px 1px 2px rgba(0, 0, 0, 0.3));\n",
              "      fill: #FFFFFF;\n",
              "    }\n",
              "  </style>\n",
              "\n",
              "      <script>\n",
              "        const buttonEl =\n",
              "          document.querySelector('#df-7097657d-f460-4596-bfc0-9066367c42e8 button.colab-df-convert');\n",
              "        buttonEl.style.display =\n",
              "          google.colab.kernel.accessAllowed ? 'block' : 'none';\n",
              "\n",
              "        async function convertToInteractive(key) {\n",
              "          const element = document.querySelector('#df-7097657d-f460-4596-bfc0-9066367c42e8');\n",
              "          const dataTable =\n",
              "            await google.colab.kernel.invokeFunction('convertToInteractive',\n",
              "                                                     [key], {});\n",
              "          if (!dataTable) return;\n",
              "\n",
              "          const docLinkHtml = 'Like what you see? Visit the ' +\n",
              "            '<a target=\"_blank\" href=https://colab.research.google.com/notebooks/data_table.ipynb>data table notebook</a>'\n",
              "            + ' to learn more about interactive tables.';\n",
              "          element.innerHTML = '';\n",
              "          dataTable['output_type'] = 'display_data';\n",
              "          await google.colab.output.renderOutput(dataTable, element);\n",
              "          const docLink = document.createElement('div');\n",
              "          docLink.innerHTML = docLinkHtml;\n",
              "          element.appendChild(docLink);\n",
              "        }\n",
              "      </script>\n",
              "    </div>\n",
              "  </div>\n",
              "  "
            ]
          },
          "metadata": {},
          "execution_count": 29
        }
      ]
    },
    {
      "cell_type": "code",
      "source": [
        "# 2차원 리스트\n",
        "df = pd.DataFrame([\n",
        "    [1, 2, 3],\n",
        "    [11, 12, 13],\n",
        "    [21, 22, 23],\n",
        "    [31, 32, 33],\n",
        "    [41, 42, 43],\n",
        "], index=[0, 10, 20, 30,40], columns=[\"one\", \"two\", \"three\"])\n",
        "df"
      ],
      "metadata": {
        "colab": {
          "base_uri": "https://localhost:8080/",
          "height": 206
        },
        "id": "Mbwr8z1uhYXC",
        "outputId": "d4071610-b6e5-49b9-d67d-c109271acc12"
      },
      "execution_count": 30,
      "outputs": [
        {
          "output_type": "execute_result",
          "data": {
            "text/plain": [
              "    one  two  three\n",
              "0     1    2      3\n",
              "10   11   12     13\n",
              "20   21   22     23\n",
              "30   31   32     33\n",
              "40   41   42     43"
            ],
            "text/html": [
              "\n",
              "  <div id=\"df-971ad1d7-40e6-4095-91a1-80747ff7932a\">\n",
              "    <div class=\"colab-df-container\">\n",
              "      <div>\n",
              "<style scoped>\n",
              "    .dataframe tbody tr th:only-of-type {\n",
              "        vertical-align: middle;\n",
              "    }\n",
              "\n",
              "    .dataframe tbody tr th {\n",
              "        vertical-align: top;\n",
              "    }\n",
              "\n",
              "    .dataframe thead th {\n",
              "        text-align: right;\n",
              "    }\n",
              "</style>\n",
              "<table border=\"1\" class=\"dataframe\">\n",
              "  <thead>\n",
              "    <tr style=\"text-align: right;\">\n",
              "      <th></th>\n",
              "      <th>one</th>\n",
              "      <th>two</th>\n",
              "      <th>three</th>\n",
              "    </tr>\n",
              "  </thead>\n",
              "  <tbody>\n",
              "    <tr>\n",
              "      <th>0</th>\n",
              "      <td>1</td>\n",
              "      <td>2</td>\n",
              "      <td>3</td>\n",
              "    </tr>\n",
              "    <tr>\n",
              "      <th>10</th>\n",
              "      <td>11</td>\n",
              "      <td>12</td>\n",
              "      <td>13</td>\n",
              "    </tr>\n",
              "    <tr>\n",
              "      <th>20</th>\n",
              "      <td>21</td>\n",
              "      <td>22</td>\n",
              "      <td>23</td>\n",
              "    </tr>\n",
              "    <tr>\n",
              "      <th>30</th>\n",
              "      <td>31</td>\n",
              "      <td>32</td>\n",
              "      <td>33</td>\n",
              "    </tr>\n",
              "    <tr>\n",
              "      <th>40</th>\n",
              "      <td>41</td>\n",
              "      <td>42</td>\n",
              "      <td>43</td>\n",
              "    </tr>\n",
              "  </tbody>\n",
              "</table>\n",
              "</div>\n",
              "      <button class=\"colab-df-convert\" onclick=\"convertToInteractive('df-971ad1d7-40e6-4095-91a1-80747ff7932a')\"\n",
              "              title=\"Convert this dataframe to an interactive table.\"\n",
              "              style=\"display:none;\">\n",
              "        \n",
              "  <svg xmlns=\"http://www.w3.org/2000/svg\" height=\"24px\"viewBox=\"0 0 24 24\"\n",
              "       width=\"24px\">\n",
              "    <path d=\"M0 0h24v24H0V0z\" fill=\"none\"/>\n",
              "    <path d=\"M18.56 5.44l.94 2.06.94-2.06 2.06-.94-2.06-.94-.94-2.06-.94 2.06-2.06.94zm-11 1L8.5 8.5l.94-2.06 2.06-.94-2.06-.94L8.5 2.5l-.94 2.06-2.06.94zm10 10l.94 2.06.94-2.06 2.06-.94-2.06-.94-.94-2.06-.94 2.06-2.06.94z\"/><path d=\"M17.41 7.96l-1.37-1.37c-.4-.4-.92-.59-1.43-.59-.52 0-1.04.2-1.43.59L10.3 9.45l-7.72 7.72c-.78.78-.78 2.05 0 2.83L4 21.41c.39.39.9.59 1.41.59.51 0 1.02-.2 1.41-.59l7.78-7.78 2.81-2.81c.8-.78.8-2.07 0-2.86zM5.41 20L4 18.59l7.72-7.72 1.47 1.35L5.41 20z\"/>\n",
              "  </svg>\n",
              "      </button>\n",
              "      \n",
              "  <style>\n",
              "    .colab-df-container {\n",
              "      display:flex;\n",
              "      flex-wrap:wrap;\n",
              "      gap: 12px;\n",
              "    }\n",
              "\n",
              "    .colab-df-convert {\n",
              "      background-color: #E8F0FE;\n",
              "      border: none;\n",
              "      border-radius: 50%;\n",
              "      cursor: pointer;\n",
              "      display: none;\n",
              "      fill: #1967D2;\n",
              "      height: 32px;\n",
              "      padding: 0 0 0 0;\n",
              "      width: 32px;\n",
              "    }\n",
              "\n",
              "    .colab-df-convert:hover {\n",
              "      background-color: #E2EBFA;\n",
              "      box-shadow: 0px 1px 2px rgba(60, 64, 67, 0.3), 0px 1px 3px 1px rgba(60, 64, 67, 0.15);\n",
              "      fill: #174EA6;\n",
              "    }\n",
              "\n",
              "    [theme=dark] .colab-df-convert {\n",
              "      background-color: #3B4455;\n",
              "      fill: #D2E3FC;\n",
              "    }\n",
              "\n",
              "    [theme=dark] .colab-df-convert:hover {\n",
              "      background-color: #434B5C;\n",
              "      box-shadow: 0px 1px 3px 1px rgba(0, 0, 0, 0.15);\n",
              "      filter: drop-shadow(0px 1px 2px rgba(0, 0, 0, 0.3));\n",
              "      fill: #FFFFFF;\n",
              "    }\n",
              "  </style>\n",
              "\n",
              "      <script>\n",
              "        const buttonEl =\n",
              "          document.querySelector('#df-971ad1d7-40e6-4095-91a1-80747ff7932a button.colab-df-convert');\n",
              "        buttonEl.style.display =\n",
              "          google.colab.kernel.accessAllowed ? 'block' : 'none';\n",
              "\n",
              "        async function convertToInteractive(key) {\n",
              "          const element = document.querySelector('#df-971ad1d7-40e6-4095-91a1-80747ff7932a');\n",
              "          const dataTable =\n",
              "            await google.colab.kernel.invokeFunction('convertToInteractive',\n",
              "                                                     [key], {});\n",
              "          if (!dataTable) return;\n",
              "\n",
              "          const docLinkHtml = 'Like what you see? Visit the ' +\n",
              "            '<a target=\"_blank\" href=https://colab.research.google.com/notebooks/data_table.ipynb>data table notebook</a>'\n",
              "            + ' to learn more about interactive tables.';\n",
              "          element.innerHTML = '';\n",
              "          dataTable['output_type'] = 'display_data';\n",
              "          await google.colab.output.renderOutput(dataTable, element);\n",
              "          const docLink = document.createElement('div');\n",
              "          docLink.innerHTML = docLinkHtml;\n",
              "          element.appendChild(docLink);\n",
              "        }\n",
              "      </script>\n",
              "    </div>\n",
              "  </div>\n",
              "  "
            ]
          },
          "metadata": {},
          "execution_count": 30
        }
      ]
    },
    {
      "cell_type": "code",
      "source": [
        "# 2차원 ndarray\n",
        "df = pd.DataFrame(np.array([\n",
        "    [1, 2, 3],\n",
        "    [11, 12, 13],\n",
        "    [21, 22, 23],\n",
        "    [31, 32, 33],\n",
        "    [41, 42, 43],\n",
        "]), index=[0, 10, 20, 30, 40], columns=[\"one\", \"two\", \"three\"])\n",
        "df"
      ],
      "metadata": {
        "colab": {
          "base_uri": "https://localhost:8080/",
          "height": 206
        },
        "id": "LDIiu-EKka3M",
        "outputId": "809a807f-be1c-4a74-8559-cbae3966d191"
      },
      "execution_count": 31,
      "outputs": [
        {
          "output_type": "execute_result",
          "data": {
            "text/plain": [
              "    one  two  three\n",
              "0     1    2      3\n",
              "10   11   12     13\n",
              "20   21   22     23\n",
              "30   31   32     33\n",
              "40   41   42     43"
            ],
            "text/html": [
              "\n",
              "  <div id=\"df-15c92b58-9351-4478-a7b7-892ea8d3b1a0\">\n",
              "    <div class=\"colab-df-container\">\n",
              "      <div>\n",
              "<style scoped>\n",
              "    .dataframe tbody tr th:only-of-type {\n",
              "        vertical-align: middle;\n",
              "    }\n",
              "\n",
              "    .dataframe tbody tr th {\n",
              "        vertical-align: top;\n",
              "    }\n",
              "\n",
              "    .dataframe thead th {\n",
              "        text-align: right;\n",
              "    }\n",
              "</style>\n",
              "<table border=\"1\" class=\"dataframe\">\n",
              "  <thead>\n",
              "    <tr style=\"text-align: right;\">\n",
              "      <th></th>\n",
              "      <th>one</th>\n",
              "      <th>two</th>\n",
              "      <th>three</th>\n",
              "    </tr>\n",
              "  </thead>\n",
              "  <tbody>\n",
              "    <tr>\n",
              "      <th>0</th>\n",
              "      <td>1</td>\n",
              "      <td>2</td>\n",
              "      <td>3</td>\n",
              "    </tr>\n",
              "    <tr>\n",
              "      <th>10</th>\n",
              "      <td>11</td>\n",
              "      <td>12</td>\n",
              "      <td>13</td>\n",
              "    </tr>\n",
              "    <tr>\n",
              "      <th>20</th>\n",
              "      <td>21</td>\n",
              "      <td>22</td>\n",
              "      <td>23</td>\n",
              "    </tr>\n",
              "    <tr>\n",
              "      <th>30</th>\n",
              "      <td>31</td>\n",
              "      <td>32</td>\n",
              "      <td>33</td>\n",
              "    </tr>\n",
              "    <tr>\n",
              "      <th>40</th>\n",
              "      <td>41</td>\n",
              "      <td>42</td>\n",
              "      <td>43</td>\n",
              "    </tr>\n",
              "  </tbody>\n",
              "</table>\n",
              "</div>\n",
              "      <button class=\"colab-df-convert\" onclick=\"convertToInteractive('df-15c92b58-9351-4478-a7b7-892ea8d3b1a0')\"\n",
              "              title=\"Convert this dataframe to an interactive table.\"\n",
              "              style=\"display:none;\">\n",
              "        \n",
              "  <svg xmlns=\"http://www.w3.org/2000/svg\" height=\"24px\"viewBox=\"0 0 24 24\"\n",
              "       width=\"24px\">\n",
              "    <path d=\"M0 0h24v24H0V0z\" fill=\"none\"/>\n",
              "    <path d=\"M18.56 5.44l.94 2.06.94-2.06 2.06-.94-2.06-.94-.94-2.06-.94 2.06-2.06.94zm-11 1L8.5 8.5l.94-2.06 2.06-.94-2.06-.94L8.5 2.5l-.94 2.06-2.06.94zm10 10l.94 2.06.94-2.06 2.06-.94-2.06-.94-.94-2.06-.94 2.06-2.06.94z\"/><path d=\"M17.41 7.96l-1.37-1.37c-.4-.4-.92-.59-1.43-.59-.52 0-1.04.2-1.43.59L10.3 9.45l-7.72 7.72c-.78.78-.78 2.05 0 2.83L4 21.41c.39.39.9.59 1.41.59.51 0 1.02-.2 1.41-.59l7.78-7.78 2.81-2.81c.8-.78.8-2.07 0-2.86zM5.41 20L4 18.59l7.72-7.72 1.47 1.35L5.41 20z\"/>\n",
              "  </svg>\n",
              "      </button>\n",
              "      \n",
              "  <style>\n",
              "    .colab-df-container {\n",
              "      display:flex;\n",
              "      flex-wrap:wrap;\n",
              "      gap: 12px;\n",
              "    }\n",
              "\n",
              "    .colab-df-convert {\n",
              "      background-color: #E8F0FE;\n",
              "      border: none;\n",
              "      border-radius: 50%;\n",
              "      cursor: pointer;\n",
              "      display: none;\n",
              "      fill: #1967D2;\n",
              "      height: 32px;\n",
              "      padding: 0 0 0 0;\n",
              "      width: 32px;\n",
              "    }\n",
              "\n",
              "    .colab-df-convert:hover {\n",
              "      background-color: #E2EBFA;\n",
              "      box-shadow: 0px 1px 2px rgba(60, 64, 67, 0.3), 0px 1px 3px 1px rgba(60, 64, 67, 0.15);\n",
              "      fill: #174EA6;\n",
              "    }\n",
              "\n",
              "    [theme=dark] .colab-df-convert {\n",
              "      background-color: #3B4455;\n",
              "      fill: #D2E3FC;\n",
              "    }\n",
              "\n",
              "    [theme=dark] .colab-df-convert:hover {\n",
              "      background-color: #434B5C;\n",
              "      box-shadow: 0px 1px 3px 1px rgba(0, 0, 0, 0.15);\n",
              "      filter: drop-shadow(0px 1px 2px rgba(0, 0, 0, 0.3));\n",
              "      fill: #FFFFFF;\n",
              "    }\n",
              "  </style>\n",
              "\n",
              "      <script>\n",
              "        const buttonEl =\n",
              "          document.querySelector('#df-15c92b58-9351-4478-a7b7-892ea8d3b1a0 button.colab-df-convert');\n",
              "        buttonEl.style.display =\n",
              "          google.colab.kernel.accessAllowed ? 'block' : 'none';\n",
              "\n",
              "        async function convertToInteractive(key) {\n",
              "          const element = document.querySelector('#df-15c92b58-9351-4478-a7b7-892ea8d3b1a0');\n",
              "          const dataTable =\n",
              "            await google.colab.kernel.invokeFunction('convertToInteractive',\n",
              "                                                     [key], {});\n",
              "          if (!dataTable) return;\n",
              "\n",
              "          const docLinkHtml = 'Like what you see? Visit the ' +\n",
              "            '<a target=\"_blank\" href=https://colab.research.google.com/notebooks/data_table.ipynb>data table notebook</a>'\n",
              "            + ' to learn more about interactive tables.';\n",
              "          element.innerHTML = '';\n",
              "          dataTable['output_type'] = 'display_data';\n",
              "          await google.colab.output.renderOutput(dataTable, element);\n",
              "          const docLink = document.createElement('div');\n",
              "          docLink.innerHTML = docLinkHtml;\n",
              "          element.appendChild(docLink);\n",
              "        }\n",
              "      </script>\n",
              "    </div>\n",
              "  </div>\n",
              "  "
            ]
          },
          "metadata": {},
          "execution_count": 31
        }
      ]
    },
    {
      "cell_type": "code",
      "source": [
        "# 하나의 열은 Series\n",
        "df['one'], type(df['one']) # DataFrame의 index를 가져간다"
      ],
      "metadata": {
        "colab": {
          "base_uri": "https://localhost:8080/"
        },
        "id": "KHSW3NEAdNhK",
        "outputId": "fc726c2e-5449-4896-9a8b-37d0537c6a44"
      },
      "execution_count": 32,
      "outputs": [
        {
          "output_type": "execute_result",
          "data": {
            "text/plain": [
              "(0      1\n",
              " 10    11\n",
              " 20    21\n",
              " 30    31\n",
              " 40    41\n",
              " Name: one, dtype: int64, pandas.core.series.Series)"
            ]
          },
          "metadata": {},
          "execution_count": 32
        }
      ]
    },
    {
      "cell_type": "code",
      "source": [
        "# 하나의 행은 Series\n",
        "df.loc[10], type(df.loc[10]) # Columns 명이 index가 된다"
      ],
      "metadata": {
        "colab": {
          "base_uri": "https://localhost:8080/"
        },
        "id": "SiA_HXlJeH2T",
        "outputId": "152d3d91-1b9c-4f51-8c73-d43d842505d0"
      },
      "execution_count": 33,
      "outputs": [
        {
          "output_type": "execute_result",
          "data": {
            "text/plain": [
              "(one      11\n",
              " two      12\n",
              " three    13\n",
              " Name: 10, dtype: int64, pandas.core.series.Series)"
            ]
          },
          "metadata": {},
          "execution_count": 33
        }
      ]
    },
    {
      "cell_type": "markdown",
      "source": [
        "열 선택, 추가, 삭제"
      ],
      "metadata": {
        "id": "HjPlZlk18t-5"
      }
    },
    {
      "cell_type": "code",
      "source": [
        "df = pd.DataFrame(np.array([\n",
        "    [1, 2, 3],\n",
        "    [11, 12, 13],\n",
        "    [21, 22, 23],\n",
        "    [31, 32, 33],\n",
        "    [41, 42, 43],\n",
        "]), index=[0, 10, 20, 30, 40], columns=[\"one\", \"two\", \"three\"])\n",
        "df"
      ],
      "metadata": {
        "id": "recIIW1F8-4e",
        "outputId": "3fddd6d3-b069-4fe9-e013-40f5f87ae9d8",
        "colab": {
          "base_uri": "https://localhost:8080/",
          "height": 206
        }
      },
      "execution_count": 34,
      "outputs": [
        {
          "output_type": "execute_result",
          "data": {
            "text/plain": [
              "    one  two  three\n",
              "0     1    2      3\n",
              "10   11   12     13\n",
              "20   21   22     23\n",
              "30   31   32     33\n",
              "40   41   42     43"
            ],
            "text/html": [
              "\n",
              "  <div id=\"df-a35f8229-1be6-42e0-88f9-50b4b6814a2b\">\n",
              "    <div class=\"colab-df-container\">\n",
              "      <div>\n",
              "<style scoped>\n",
              "    .dataframe tbody tr th:only-of-type {\n",
              "        vertical-align: middle;\n",
              "    }\n",
              "\n",
              "    .dataframe tbody tr th {\n",
              "        vertical-align: top;\n",
              "    }\n",
              "\n",
              "    .dataframe thead th {\n",
              "        text-align: right;\n",
              "    }\n",
              "</style>\n",
              "<table border=\"1\" class=\"dataframe\">\n",
              "  <thead>\n",
              "    <tr style=\"text-align: right;\">\n",
              "      <th></th>\n",
              "      <th>one</th>\n",
              "      <th>two</th>\n",
              "      <th>three</th>\n",
              "    </tr>\n",
              "  </thead>\n",
              "  <tbody>\n",
              "    <tr>\n",
              "      <th>0</th>\n",
              "      <td>1</td>\n",
              "      <td>2</td>\n",
              "      <td>3</td>\n",
              "    </tr>\n",
              "    <tr>\n",
              "      <th>10</th>\n",
              "      <td>11</td>\n",
              "      <td>12</td>\n",
              "      <td>13</td>\n",
              "    </tr>\n",
              "    <tr>\n",
              "      <th>20</th>\n",
              "      <td>21</td>\n",
              "      <td>22</td>\n",
              "      <td>23</td>\n",
              "    </tr>\n",
              "    <tr>\n",
              "      <th>30</th>\n",
              "      <td>31</td>\n",
              "      <td>32</td>\n",
              "      <td>33</td>\n",
              "    </tr>\n",
              "    <tr>\n",
              "      <th>40</th>\n",
              "      <td>41</td>\n",
              "      <td>42</td>\n",
              "      <td>43</td>\n",
              "    </tr>\n",
              "  </tbody>\n",
              "</table>\n",
              "</div>\n",
              "      <button class=\"colab-df-convert\" onclick=\"convertToInteractive('df-a35f8229-1be6-42e0-88f9-50b4b6814a2b')\"\n",
              "              title=\"Convert this dataframe to an interactive table.\"\n",
              "              style=\"display:none;\">\n",
              "        \n",
              "  <svg xmlns=\"http://www.w3.org/2000/svg\" height=\"24px\"viewBox=\"0 0 24 24\"\n",
              "       width=\"24px\">\n",
              "    <path d=\"M0 0h24v24H0V0z\" fill=\"none\"/>\n",
              "    <path d=\"M18.56 5.44l.94 2.06.94-2.06 2.06-.94-2.06-.94-.94-2.06-.94 2.06-2.06.94zm-11 1L8.5 8.5l.94-2.06 2.06-.94-2.06-.94L8.5 2.5l-.94 2.06-2.06.94zm10 10l.94 2.06.94-2.06 2.06-.94-2.06-.94-.94-2.06-.94 2.06-2.06.94z\"/><path d=\"M17.41 7.96l-1.37-1.37c-.4-.4-.92-.59-1.43-.59-.52 0-1.04.2-1.43.59L10.3 9.45l-7.72 7.72c-.78.78-.78 2.05 0 2.83L4 21.41c.39.39.9.59 1.41.59.51 0 1.02-.2 1.41-.59l7.78-7.78 2.81-2.81c.8-.78.8-2.07 0-2.86zM5.41 20L4 18.59l7.72-7.72 1.47 1.35L5.41 20z\"/>\n",
              "  </svg>\n",
              "      </button>\n",
              "      \n",
              "  <style>\n",
              "    .colab-df-container {\n",
              "      display:flex;\n",
              "      flex-wrap:wrap;\n",
              "      gap: 12px;\n",
              "    }\n",
              "\n",
              "    .colab-df-convert {\n",
              "      background-color: #E8F0FE;\n",
              "      border: none;\n",
              "      border-radius: 50%;\n",
              "      cursor: pointer;\n",
              "      display: none;\n",
              "      fill: #1967D2;\n",
              "      height: 32px;\n",
              "      padding: 0 0 0 0;\n",
              "      width: 32px;\n",
              "    }\n",
              "\n",
              "    .colab-df-convert:hover {\n",
              "      background-color: #E2EBFA;\n",
              "      box-shadow: 0px 1px 2px rgba(60, 64, 67, 0.3), 0px 1px 3px 1px rgba(60, 64, 67, 0.15);\n",
              "      fill: #174EA6;\n",
              "    }\n",
              "\n",
              "    [theme=dark] .colab-df-convert {\n",
              "      background-color: #3B4455;\n",
              "      fill: #D2E3FC;\n",
              "    }\n",
              "\n",
              "    [theme=dark] .colab-df-convert:hover {\n",
              "      background-color: #434B5C;\n",
              "      box-shadow: 0px 1px 3px 1px rgba(0, 0, 0, 0.15);\n",
              "      filter: drop-shadow(0px 1px 2px rgba(0, 0, 0, 0.3));\n",
              "      fill: #FFFFFF;\n",
              "    }\n",
              "  </style>\n",
              "\n",
              "      <script>\n",
              "        const buttonEl =\n",
              "          document.querySelector('#df-a35f8229-1be6-42e0-88f9-50b4b6814a2b button.colab-df-convert');\n",
              "        buttonEl.style.display =\n",
              "          google.colab.kernel.accessAllowed ? 'block' : 'none';\n",
              "\n",
              "        async function convertToInteractive(key) {\n",
              "          const element = document.querySelector('#df-a35f8229-1be6-42e0-88f9-50b4b6814a2b');\n",
              "          const dataTable =\n",
              "            await google.colab.kernel.invokeFunction('convertToInteractive',\n",
              "                                                     [key], {});\n",
              "          if (!dataTable) return;\n",
              "\n",
              "          const docLinkHtml = 'Like what you see? Visit the ' +\n",
              "            '<a target=\"_blank\" href=https://colab.research.google.com/notebooks/data_table.ipynb>data table notebook</a>'\n",
              "            + ' to learn more about interactive tables.';\n",
              "          element.innerHTML = '';\n",
              "          dataTable['output_type'] = 'display_data';\n",
              "          await google.colab.output.renderOutput(dataTable, element);\n",
              "          const docLink = document.createElement('div');\n",
              "          docLink.innerHTML = docLinkHtml;\n",
              "          element.appendChild(docLink);\n",
              "        }\n",
              "      </script>\n",
              "    </div>\n",
              "  </div>\n",
              "  "
            ]
          },
          "metadata": {},
          "execution_count": 34
        }
      ]
    },
    {
      "cell_type": "code",
      "source": [
        "df[\"four\"] = df[\"one\"] + 1 # = 를 통해 직접 생성\n",
        "df"
      ],
      "metadata": {
        "id": "2YFa5QtT9Ddw",
        "outputId": "23574fc5-d6a9-43ea-b839-d14228cad07c",
        "colab": {
          "base_uri": "https://localhost:8080/",
          "height": 206
        }
      },
      "execution_count": 35,
      "outputs": [
        {
          "output_type": "execute_result",
          "data": {
            "text/plain": [
              "    one  two  three  four\n",
              "0     1    2      3     2\n",
              "10   11   12     13    12\n",
              "20   21   22     23    22\n",
              "30   31   32     33    32\n",
              "40   41   42     43    42"
            ],
            "text/html": [
              "\n",
              "  <div id=\"df-1eddb0d1-7ec4-41eb-bf5c-a2591c0c030d\">\n",
              "    <div class=\"colab-df-container\">\n",
              "      <div>\n",
              "<style scoped>\n",
              "    .dataframe tbody tr th:only-of-type {\n",
              "        vertical-align: middle;\n",
              "    }\n",
              "\n",
              "    .dataframe tbody tr th {\n",
              "        vertical-align: top;\n",
              "    }\n",
              "\n",
              "    .dataframe thead th {\n",
              "        text-align: right;\n",
              "    }\n",
              "</style>\n",
              "<table border=\"1\" class=\"dataframe\">\n",
              "  <thead>\n",
              "    <tr style=\"text-align: right;\">\n",
              "      <th></th>\n",
              "      <th>one</th>\n",
              "      <th>two</th>\n",
              "      <th>three</th>\n",
              "      <th>four</th>\n",
              "    </tr>\n",
              "  </thead>\n",
              "  <tbody>\n",
              "    <tr>\n",
              "      <th>0</th>\n",
              "      <td>1</td>\n",
              "      <td>2</td>\n",
              "      <td>3</td>\n",
              "      <td>2</td>\n",
              "    </tr>\n",
              "    <tr>\n",
              "      <th>10</th>\n",
              "      <td>11</td>\n",
              "      <td>12</td>\n",
              "      <td>13</td>\n",
              "      <td>12</td>\n",
              "    </tr>\n",
              "    <tr>\n",
              "      <th>20</th>\n",
              "      <td>21</td>\n",
              "      <td>22</td>\n",
              "      <td>23</td>\n",
              "      <td>22</td>\n",
              "    </tr>\n",
              "    <tr>\n",
              "      <th>30</th>\n",
              "      <td>31</td>\n",
              "      <td>32</td>\n",
              "      <td>33</td>\n",
              "      <td>32</td>\n",
              "    </tr>\n",
              "    <tr>\n",
              "      <th>40</th>\n",
              "      <td>41</td>\n",
              "      <td>42</td>\n",
              "      <td>43</td>\n",
              "      <td>42</td>\n",
              "    </tr>\n",
              "  </tbody>\n",
              "</table>\n",
              "</div>\n",
              "      <button class=\"colab-df-convert\" onclick=\"convertToInteractive('df-1eddb0d1-7ec4-41eb-bf5c-a2591c0c030d')\"\n",
              "              title=\"Convert this dataframe to an interactive table.\"\n",
              "              style=\"display:none;\">\n",
              "        \n",
              "  <svg xmlns=\"http://www.w3.org/2000/svg\" height=\"24px\"viewBox=\"0 0 24 24\"\n",
              "       width=\"24px\">\n",
              "    <path d=\"M0 0h24v24H0V0z\" fill=\"none\"/>\n",
              "    <path d=\"M18.56 5.44l.94 2.06.94-2.06 2.06-.94-2.06-.94-.94-2.06-.94 2.06-2.06.94zm-11 1L8.5 8.5l.94-2.06 2.06-.94-2.06-.94L8.5 2.5l-.94 2.06-2.06.94zm10 10l.94 2.06.94-2.06 2.06-.94-2.06-.94-.94-2.06-.94 2.06-2.06.94z\"/><path d=\"M17.41 7.96l-1.37-1.37c-.4-.4-.92-.59-1.43-.59-.52 0-1.04.2-1.43.59L10.3 9.45l-7.72 7.72c-.78.78-.78 2.05 0 2.83L4 21.41c.39.39.9.59 1.41.59.51 0 1.02-.2 1.41-.59l7.78-7.78 2.81-2.81c.8-.78.8-2.07 0-2.86zM5.41 20L4 18.59l7.72-7.72 1.47 1.35L5.41 20z\"/>\n",
              "  </svg>\n",
              "      </button>\n",
              "      \n",
              "  <style>\n",
              "    .colab-df-container {\n",
              "      display:flex;\n",
              "      flex-wrap:wrap;\n",
              "      gap: 12px;\n",
              "    }\n",
              "\n",
              "    .colab-df-convert {\n",
              "      background-color: #E8F0FE;\n",
              "      border: none;\n",
              "      border-radius: 50%;\n",
              "      cursor: pointer;\n",
              "      display: none;\n",
              "      fill: #1967D2;\n",
              "      height: 32px;\n",
              "      padding: 0 0 0 0;\n",
              "      width: 32px;\n",
              "    }\n",
              "\n",
              "    .colab-df-convert:hover {\n",
              "      background-color: #E2EBFA;\n",
              "      box-shadow: 0px 1px 2px rgba(60, 64, 67, 0.3), 0px 1px 3px 1px rgba(60, 64, 67, 0.15);\n",
              "      fill: #174EA6;\n",
              "    }\n",
              "\n",
              "    [theme=dark] .colab-df-convert {\n",
              "      background-color: #3B4455;\n",
              "      fill: #D2E3FC;\n",
              "    }\n",
              "\n",
              "    [theme=dark] .colab-df-convert:hover {\n",
              "      background-color: #434B5C;\n",
              "      box-shadow: 0px 1px 3px 1px rgba(0, 0, 0, 0.15);\n",
              "      filter: drop-shadow(0px 1px 2px rgba(0, 0, 0, 0.3));\n",
              "      fill: #FFFFFF;\n",
              "    }\n",
              "  </style>\n",
              "\n",
              "      <script>\n",
              "        const buttonEl =\n",
              "          document.querySelector('#df-1eddb0d1-7ec4-41eb-bf5c-a2591c0c030d button.colab-df-convert');\n",
              "        buttonEl.style.display =\n",
              "          google.colab.kernel.accessAllowed ? 'block' : 'none';\n",
              "\n",
              "        async function convertToInteractive(key) {\n",
              "          const element = document.querySelector('#df-1eddb0d1-7ec4-41eb-bf5c-a2591c0c030d');\n",
              "          const dataTable =\n",
              "            await google.colab.kernel.invokeFunction('convertToInteractive',\n",
              "                                                     [key], {});\n",
              "          if (!dataTable) return;\n",
              "\n",
              "          const docLinkHtml = 'Like what you see? Visit the ' +\n",
              "            '<a target=\"_blank\" href=https://colab.research.google.com/notebooks/data_table.ipynb>data table notebook</a>'\n",
              "            + ' to learn more about interactive tables.';\n",
              "          element.innerHTML = '';\n",
              "          dataTable['output_type'] = 'display_data';\n",
              "          await google.colab.output.renderOutput(dataTable, element);\n",
              "          const docLink = document.createElement('div');\n",
              "          docLink.innerHTML = docLinkHtml;\n",
              "          element.appendChild(docLink);\n",
              "        }\n",
              "      </script>\n",
              "    </div>\n",
              "  </div>\n",
              "  "
            ]
          },
          "metadata": {},
          "execution_count": 35
        }
      ]
    },
    {
      "cell_type": "code",
      "source": [
        "df[\"four\"] = df[\"one\"][:2] + 1 # 역시 인덱스를 매칭한다. 매칭되지 않는 것은 NaN으로 채워진다.\n",
        "df"
      ],
      "metadata": {
        "id": "Yyb3AhZe9Orf",
        "outputId": "8208d909-29ff-4e33-b1eb-eb434abb5839",
        "colab": {
          "base_uri": "https://localhost:8080/",
          "height": 206
        }
      },
      "execution_count": 36,
      "outputs": [
        {
          "output_type": "execute_result",
          "data": {
            "text/plain": [
              "    one  two  three  four\n",
              "0     1    2      3   2.0\n",
              "10   11   12     13  12.0\n",
              "20   21   22     23   NaN\n",
              "30   31   32     33   NaN\n",
              "40   41   42     43   NaN"
            ],
            "text/html": [
              "\n",
              "  <div id=\"df-4876451e-870b-450c-b050-1a74f4c7386d\">\n",
              "    <div class=\"colab-df-container\">\n",
              "      <div>\n",
              "<style scoped>\n",
              "    .dataframe tbody tr th:only-of-type {\n",
              "        vertical-align: middle;\n",
              "    }\n",
              "\n",
              "    .dataframe tbody tr th {\n",
              "        vertical-align: top;\n",
              "    }\n",
              "\n",
              "    .dataframe thead th {\n",
              "        text-align: right;\n",
              "    }\n",
              "</style>\n",
              "<table border=\"1\" class=\"dataframe\">\n",
              "  <thead>\n",
              "    <tr style=\"text-align: right;\">\n",
              "      <th></th>\n",
              "      <th>one</th>\n",
              "      <th>two</th>\n",
              "      <th>three</th>\n",
              "      <th>four</th>\n",
              "    </tr>\n",
              "  </thead>\n",
              "  <tbody>\n",
              "    <tr>\n",
              "      <th>0</th>\n",
              "      <td>1</td>\n",
              "      <td>2</td>\n",
              "      <td>3</td>\n",
              "      <td>2.0</td>\n",
              "    </tr>\n",
              "    <tr>\n",
              "      <th>10</th>\n",
              "      <td>11</td>\n",
              "      <td>12</td>\n",
              "      <td>13</td>\n",
              "      <td>12.0</td>\n",
              "    </tr>\n",
              "    <tr>\n",
              "      <th>20</th>\n",
              "      <td>21</td>\n",
              "      <td>22</td>\n",
              "      <td>23</td>\n",
              "      <td>NaN</td>\n",
              "    </tr>\n",
              "    <tr>\n",
              "      <th>30</th>\n",
              "      <td>31</td>\n",
              "      <td>32</td>\n",
              "      <td>33</td>\n",
              "      <td>NaN</td>\n",
              "    </tr>\n",
              "    <tr>\n",
              "      <th>40</th>\n",
              "      <td>41</td>\n",
              "      <td>42</td>\n",
              "      <td>43</td>\n",
              "      <td>NaN</td>\n",
              "    </tr>\n",
              "  </tbody>\n",
              "</table>\n",
              "</div>\n",
              "      <button class=\"colab-df-convert\" onclick=\"convertToInteractive('df-4876451e-870b-450c-b050-1a74f4c7386d')\"\n",
              "              title=\"Convert this dataframe to an interactive table.\"\n",
              "              style=\"display:none;\">\n",
              "        \n",
              "  <svg xmlns=\"http://www.w3.org/2000/svg\" height=\"24px\"viewBox=\"0 0 24 24\"\n",
              "       width=\"24px\">\n",
              "    <path d=\"M0 0h24v24H0V0z\" fill=\"none\"/>\n",
              "    <path d=\"M18.56 5.44l.94 2.06.94-2.06 2.06-.94-2.06-.94-.94-2.06-.94 2.06-2.06.94zm-11 1L8.5 8.5l.94-2.06 2.06-.94-2.06-.94L8.5 2.5l-.94 2.06-2.06.94zm10 10l.94 2.06.94-2.06 2.06-.94-2.06-.94-.94-2.06-.94 2.06-2.06.94z\"/><path d=\"M17.41 7.96l-1.37-1.37c-.4-.4-.92-.59-1.43-.59-.52 0-1.04.2-1.43.59L10.3 9.45l-7.72 7.72c-.78.78-.78 2.05 0 2.83L4 21.41c.39.39.9.59 1.41.59.51 0 1.02-.2 1.41-.59l7.78-7.78 2.81-2.81c.8-.78.8-2.07 0-2.86zM5.41 20L4 18.59l7.72-7.72 1.47 1.35L5.41 20z\"/>\n",
              "  </svg>\n",
              "      </button>\n",
              "      \n",
              "  <style>\n",
              "    .colab-df-container {\n",
              "      display:flex;\n",
              "      flex-wrap:wrap;\n",
              "      gap: 12px;\n",
              "    }\n",
              "\n",
              "    .colab-df-convert {\n",
              "      background-color: #E8F0FE;\n",
              "      border: none;\n",
              "      border-radius: 50%;\n",
              "      cursor: pointer;\n",
              "      display: none;\n",
              "      fill: #1967D2;\n",
              "      height: 32px;\n",
              "      padding: 0 0 0 0;\n",
              "      width: 32px;\n",
              "    }\n",
              "\n",
              "    .colab-df-convert:hover {\n",
              "      background-color: #E2EBFA;\n",
              "      box-shadow: 0px 1px 2px rgba(60, 64, 67, 0.3), 0px 1px 3px 1px rgba(60, 64, 67, 0.15);\n",
              "      fill: #174EA6;\n",
              "    }\n",
              "\n",
              "    [theme=dark] .colab-df-convert {\n",
              "      background-color: #3B4455;\n",
              "      fill: #D2E3FC;\n",
              "    }\n",
              "\n",
              "    [theme=dark] .colab-df-convert:hover {\n",
              "      background-color: #434B5C;\n",
              "      box-shadow: 0px 1px 3px 1px rgba(0, 0, 0, 0.15);\n",
              "      filter: drop-shadow(0px 1px 2px rgba(0, 0, 0, 0.3));\n",
              "      fill: #FFFFFF;\n",
              "    }\n",
              "  </style>\n",
              "\n",
              "      <script>\n",
              "        const buttonEl =\n",
              "          document.querySelector('#df-4876451e-870b-450c-b050-1a74f4c7386d button.colab-df-convert');\n",
              "        buttonEl.style.display =\n",
              "          google.colab.kernel.accessAllowed ? 'block' : 'none';\n",
              "\n",
              "        async function convertToInteractive(key) {\n",
              "          const element = document.querySelector('#df-4876451e-870b-450c-b050-1a74f4c7386d');\n",
              "          const dataTable =\n",
              "            await google.colab.kernel.invokeFunction('convertToInteractive',\n",
              "                                                     [key], {});\n",
              "          if (!dataTable) return;\n",
              "\n",
              "          const docLinkHtml = 'Like what you see? Visit the ' +\n",
              "            '<a target=\"_blank\" href=https://colab.research.google.com/notebooks/data_table.ipynb>data table notebook</a>'\n",
              "            + ' to learn more about interactive tables.';\n",
              "          element.innerHTML = '';\n",
              "          dataTable['output_type'] = 'display_data';\n",
              "          await google.colab.output.renderOutput(dataTable, element);\n",
              "          const docLink = document.createElement('div');\n",
              "          docLink.innerHTML = docLinkHtml;\n",
              "          element.appendChild(docLink);\n",
              "        }\n",
              "      </script>\n",
              "    </div>\n",
              "  </div>\n",
              "  "
            ]
          },
          "metadata": {},
          "execution_count": 36
        }
      ]
    },
    {
      "cell_type": "markdown",
      "source": [
        "* Pandas Series는 Index를 체크하지만, 그 외(scalar, list, numpy array, ...)는 단일 변수는 일괄 설정, list, array는 행의 수가 동일할 때 위치에 대응이 되어 입력이 된다."
      ],
      "metadata": {
        "id": "Icp3QB1JzZYP"
      }
    },
    {
      "cell_type": "code",
      "source": [
        "df[\"five\"] = 5 # 단일 변수는 모든 행이 동일하게 추가.\n",
        "df"
      ],
      "metadata": {
        "id": "sUMAV3s6xugd",
        "outputId": "5f783d4b-5317-4574-d9b9-a77e06e19ee0",
        "colab": {
          "base_uri": "https://localhost:8080/",
          "height": 206
        }
      },
      "execution_count": 43,
      "outputs": [
        {
          "output_type": "execute_result",
          "data": {
            "text/plain": [
              "    one  two  three  four  five\n",
              "0     1    2      3   2.0     5\n",
              "10   11   12     13  12.0     5\n",
              "20   21   22     23   NaN     5\n",
              "30   31   32     33   NaN     5\n",
              "40   41   42     43   NaN     5"
            ],
            "text/html": [
              "\n",
              "  <div id=\"df-bf3eb713-549d-4de4-b0cd-e625912652c6\">\n",
              "    <div class=\"colab-df-container\">\n",
              "      <div>\n",
              "<style scoped>\n",
              "    .dataframe tbody tr th:only-of-type {\n",
              "        vertical-align: middle;\n",
              "    }\n",
              "\n",
              "    .dataframe tbody tr th {\n",
              "        vertical-align: top;\n",
              "    }\n",
              "\n",
              "    .dataframe thead th {\n",
              "        text-align: right;\n",
              "    }\n",
              "</style>\n",
              "<table border=\"1\" class=\"dataframe\">\n",
              "  <thead>\n",
              "    <tr style=\"text-align: right;\">\n",
              "      <th></th>\n",
              "      <th>one</th>\n",
              "      <th>two</th>\n",
              "      <th>three</th>\n",
              "      <th>four</th>\n",
              "      <th>five</th>\n",
              "    </tr>\n",
              "  </thead>\n",
              "  <tbody>\n",
              "    <tr>\n",
              "      <th>0</th>\n",
              "      <td>1</td>\n",
              "      <td>2</td>\n",
              "      <td>3</td>\n",
              "      <td>2.0</td>\n",
              "      <td>5</td>\n",
              "    </tr>\n",
              "    <tr>\n",
              "      <th>10</th>\n",
              "      <td>11</td>\n",
              "      <td>12</td>\n",
              "      <td>13</td>\n",
              "      <td>12.0</td>\n",
              "      <td>5</td>\n",
              "    </tr>\n",
              "    <tr>\n",
              "      <th>20</th>\n",
              "      <td>21</td>\n",
              "      <td>22</td>\n",
              "      <td>23</td>\n",
              "      <td>NaN</td>\n",
              "      <td>5</td>\n",
              "    </tr>\n",
              "    <tr>\n",
              "      <th>30</th>\n",
              "      <td>31</td>\n",
              "      <td>32</td>\n",
              "      <td>33</td>\n",
              "      <td>NaN</td>\n",
              "      <td>5</td>\n",
              "    </tr>\n",
              "    <tr>\n",
              "      <th>40</th>\n",
              "      <td>41</td>\n",
              "      <td>42</td>\n",
              "      <td>43</td>\n",
              "      <td>NaN</td>\n",
              "      <td>5</td>\n",
              "    </tr>\n",
              "  </tbody>\n",
              "</table>\n",
              "</div>\n",
              "      <button class=\"colab-df-convert\" onclick=\"convertToInteractive('df-bf3eb713-549d-4de4-b0cd-e625912652c6')\"\n",
              "              title=\"Convert this dataframe to an interactive table.\"\n",
              "              style=\"display:none;\">\n",
              "        \n",
              "  <svg xmlns=\"http://www.w3.org/2000/svg\" height=\"24px\"viewBox=\"0 0 24 24\"\n",
              "       width=\"24px\">\n",
              "    <path d=\"M0 0h24v24H0V0z\" fill=\"none\"/>\n",
              "    <path d=\"M18.56 5.44l.94 2.06.94-2.06 2.06-.94-2.06-.94-.94-2.06-.94 2.06-2.06.94zm-11 1L8.5 8.5l.94-2.06 2.06-.94-2.06-.94L8.5 2.5l-.94 2.06-2.06.94zm10 10l.94 2.06.94-2.06 2.06-.94-2.06-.94-.94-2.06-.94 2.06-2.06.94z\"/><path d=\"M17.41 7.96l-1.37-1.37c-.4-.4-.92-.59-1.43-.59-.52 0-1.04.2-1.43.59L10.3 9.45l-7.72 7.72c-.78.78-.78 2.05 0 2.83L4 21.41c.39.39.9.59 1.41.59.51 0 1.02-.2 1.41-.59l7.78-7.78 2.81-2.81c.8-.78.8-2.07 0-2.86zM5.41 20L4 18.59l7.72-7.72 1.47 1.35L5.41 20z\"/>\n",
              "  </svg>\n",
              "      </button>\n",
              "      \n",
              "  <style>\n",
              "    .colab-df-container {\n",
              "      display:flex;\n",
              "      flex-wrap:wrap;\n",
              "      gap: 12px;\n",
              "    }\n",
              "\n",
              "    .colab-df-convert {\n",
              "      background-color: #E8F0FE;\n",
              "      border: none;\n",
              "      border-radius: 50%;\n",
              "      cursor: pointer;\n",
              "      display: none;\n",
              "      fill: #1967D2;\n",
              "      height: 32px;\n",
              "      padding: 0 0 0 0;\n",
              "      width: 32px;\n",
              "    }\n",
              "\n",
              "    .colab-df-convert:hover {\n",
              "      background-color: #E2EBFA;\n",
              "      box-shadow: 0px 1px 2px rgba(60, 64, 67, 0.3), 0px 1px 3px 1px rgba(60, 64, 67, 0.15);\n",
              "      fill: #174EA6;\n",
              "    }\n",
              "\n",
              "    [theme=dark] .colab-df-convert {\n",
              "      background-color: #3B4455;\n",
              "      fill: #D2E3FC;\n",
              "    }\n",
              "\n",
              "    [theme=dark] .colab-df-convert:hover {\n",
              "      background-color: #434B5C;\n",
              "      box-shadow: 0px 1px 3px 1px rgba(0, 0, 0, 0.15);\n",
              "      filter: drop-shadow(0px 1px 2px rgba(0, 0, 0, 0.3));\n",
              "      fill: #FFFFFF;\n",
              "    }\n",
              "  </style>\n",
              "\n",
              "      <script>\n",
              "        const buttonEl =\n",
              "          document.querySelector('#df-bf3eb713-549d-4de4-b0cd-e625912652c6 button.colab-df-convert');\n",
              "        buttonEl.style.display =\n",
              "          google.colab.kernel.accessAllowed ? 'block' : 'none';\n",
              "\n",
              "        async function convertToInteractive(key) {\n",
              "          const element = document.querySelector('#df-bf3eb713-549d-4de4-b0cd-e625912652c6');\n",
              "          const dataTable =\n",
              "            await google.colab.kernel.invokeFunction('convertToInteractive',\n",
              "                                                     [key], {});\n",
              "          if (!dataTable) return;\n",
              "\n",
              "          const docLinkHtml = 'Like what you see? Visit the ' +\n",
              "            '<a target=\"_blank\" href=https://colab.research.google.com/notebooks/data_table.ipynb>data table notebook</a>'\n",
              "            + ' to learn more about interactive tables.';\n",
              "          element.innerHTML = '';\n",
              "          dataTable['output_type'] = 'display_data';\n",
              "          await google.colab.output.renderOutput(dataTable, element);\n",
              "          const docLink = document.createElement('div');\n",
              "          docLink.innerHTML = docLinkHtml;\n",
              "          element.appendChild(docLink);\n",
              "        }\n",
              "      </script>\n",
              "    </div>\n",
              "  </div>\n",
              "  "
            ]
          },
          "metadata": {},
          "execution_count": 43
        }
      ]
    },
    {
      "cell_type": "code",
      "source": [
        "df[\"five\"] = np.arange(0, 5) * 10 # numpy array는 순차적으로 추가된다.\n",
        "df"
      ],
      "metadata": {
        "id": "opzuagMYxDmv",
        "outputId": "ade91eb7-496a-4e33-a6b0-32802b47b243",
        "colab": {
          "base_uri": "https://localhost:8080/",
          "height": 206
        }
      },
      "execution_count": 41,
      "outputs": [
        {
          "output_type": "execute_result",
          "data": {
            "text/plain": [
              "    one  two  three  four  five\n",
              "0     1    2      3   2.0     0\n",
              "10   11   12     13  12.0    10\n",
              "20   21   22     23   NaN    20\n",
              "30   31   32     33   NaN    30\n",
              "40   41   42     43   NaN    40"
            ],
            "text/html": [
              "\n",
              "  <div id=\"df-f0678b34-73c3-4b9c-9a82-e66ac0409840\">\n",
              "    <div class=\"colab-df-container\">\n",
              "      <div>\n",
              "<style scoped>\n",
              "    .dataframe tbody tr th:only-of-type {\n",
              "        vertical-align: middle;\n",
              "    }\n",
              "\n",
              "    .dataframe tbody tr th {\n",
              "        vertical-align: top;\n",
              "    }\n",
              "\n",
              "    .dataframe thead th {\n",
              "        text-align: right;\n",
              "    }\n",
              "</style>\n",
              "<table border=\"1\" class=\"dataframe\">\n",
              "  <thead>\n",
              "    <tr style=\"text-align: right;\">\n",
              "      <th></th>\n",
              "      <th>one</th>\n",
              "      <th>two</th>\n",
              "      <th>three</th>\n",
              "      <th>four</th>\n",
              "      <th>five</th>\n",
              "    </tr>\n",
              "  </thead>\n",
              "  <tbody>\n",
              "    <tr>\n",
              "      <th>0</th>\n",
              "      <td>1</td>\n",
              "      <td>2</td>\n",
              "      <td>3</td>\n",
              "      <td>2.0</td>\n",
              "      <td>0</td>\n",
              "    </tr>\n",
              "    <tr>\n",
              "      <th>10</th>\n",
              "      <td>11</td>\n",
              "      <td>12</td>\n",
              "      <td>13</td>\n",
              "      <td>12.0</td>\n",
              "      <td>10</td>\n",
              "    </tr>\n",
              "    <tr>\n",
              "      <th>20</th>\n",
              "      <td>21</td>\n",
              "      <td>22</td>\n",
              "      <td>23</td>\n",
              "      <td>NaN</td>\n",
              "      <td>20</td>\n",
              "    </tr>\n",
              "    <tr>\n",
              "      <th>30</th>\n",
              "      <td>31</td>\n",
              "      <td>32</td>\n",
              "      <td>33</td>\n",
              "      <td>NaN</td>\n",
              "      <td>30</td>\n",
              "    </tr>\n",
              "    <tr>\n",
              "      <th>40</th>\n",
              "      <td>41</td>\n",
              "      <td>42</td>\n",
              "      <td>43</td>\n",
              "      <td>NaN</td>\n",
              "      <td>40</td>\n",
              "    </tr>\n",
              "  </tbody>\n",
              "</table>\n",
              "</div>\n",
              "      <button class=\"colab-df-convert\" onclick=\"convertToInteractive('df-f0678b34-73c3-4b9c-9a82-e66ac0409840')\"\n",
              "              title=\"Convert this dataframe to an interactive table.\"\n",
              "              style=\"display:none;\">\n",
              "        \n",
              "  <svg xmlns=\"http://www.w3.org/2000/svg\" height=\"24px\"viewBox=\"0 0 24 24\"\n",
              "       width=\"24px\">\n",
              "    <path d=\"M0 0h24v24H0V0z\" fill=\"none\"/>\n",
              "    <path d=\"M18.56 5.44l.94 2.06.94-2.06 2.06-.94-2.06-.94-.94-2.06-.94 2.06-2.06.94zm-11 1L8.5 8.5l.94-2.06 2.06-.94-2.06-.94L8.5 2.5l-.94 2.06-2.06.94zm10 10l.94 2.06.94-2.06 2.06-.94-2.06-.94-.94-2.06-.94 2.06-2.06.94z\"/><path d=\"M17.41 7.96l-1.37-1.37c-.4-.4-.92-.59-1.43-.59-.52 0-1.04.2-1.43.59L10.3 9.45l-7.72 7.72c-.78.78-.78 2.05 0 2.83L4 21.41c.39.39.9.59 1.41.59.51 0 1.02-.2 1.41-.59l7.78-7.78 2.81-2.81c.8-.78.8-2.07 0-2.86zM5.41 20L4 18.59l7.72-7.72 1.47 1.35L5.41 20z\"/>\n",
              "  </svg>\n",
              "      </button>\n",
              "      \n",
              "  <style>\n",
              "    .colab-df-container {\n",
              "      display:flex;\n",
              "      flex-wrap:wrap;\n",
              "      gap: 12px;\n",
              "    }\n",
              "\n",
              "    .colab-df-convert {\n",
              "      background-color: #E8F0FE;\n",
              "      border: none;\n",
              "      border-radius: 50%;\n",
              "      cursor: pointer;\n",
              "      display: none;\n",
              "      fill: #1967D2;\n",
              "      height: 32px;\n",
              "      padding: 0 0 0 0;\n",
              "      width: 32px;\n",
              "    }\n",
              "\n",
              "    .colab-df-convert:hover {\n",
              "      background-color: #E2EBFA;\n",
              "      box-shadow: 0px 1px 2px rgba(60, 64, 67, 0.3), 0px 1px 3px 1px rgba(60, 64, 67, 0.15);\n",
              "      fill: #174EA6;\n",
              "    }\n",
              "\n",
              "    [theme=dark] .colab-df-convert {\n",
              "      background-color: #3B4455;\n",
              "      fill: #D2E3FC;\n",
              "    }\n",
              "\n",
              "    [theme=dark] .colab-df-convert:hover {\n",
              "      background-color: #434B5C;\n",
              "      box-shadow: 0px 1px 3px 1px rgba(0, 0, 0, 0.15);\n",
              "      filter: drop-shadow(0px 1px 2px rgba(0, 0, 0, 0.3));\n",
              "      fill: #FFFFFF;\n",
              "    }\n",
              "  </style>\n",
              "\n",
              "      <script>\n",
              "        const buttonEl =\n",
              "          document.querySelector('#df-f0678b34-73c3-4b9c-9a82-e66ac0409840 button.colab-df-convert');\n",
              "        buttonEl.style.display =\n",
              "          google.colab.kernel.accessAllowed ? 'block' : 'none';\n",
              "\n",
              "        async function convertToInteractive(key) {\n",
              "          const element = document.querySelector('#df-f0678b34-73c3-4b9c-9a82-e66ac0409840');\n",
              "          const dataTable =\n",
              "            await google.colab.kernel.invokeFunction('convertToInteractive',\n",
              "                                                     [key], {});\n",
              "          if (!dataTable) return;\n",
              "\n",
              "          const docLinkHtml = 'Like what you see? Visit the ' +\n",
              "            '<a target=\"_blank\" href=https://colab.research.google.com/notebooks/data_table.ipynb>data table notebook</a>'\n",
              "            + ' to learn more about interactive tables.';\n",
              "          element.innerHTML = '';\n",
              "          dataTable['output_type'] = 'display_data';\n",
              "          await google.colab.output.renderOutput(dataTable, element);\n",
              "          const docLink = document.createElement('div');\n",
              "          docLink.innerHTML = docLinkHtml;\n",
              "          element.appendChild(docLink);\n",
              "        }\n",
              "      </script>\n",
              "    </div>\n",
              "  </div>\n",
              "  "
            ]
          },
          "metadata": {},
          "execution_count": 41
        }
      ]
    },
    {
      "cell_type": "code",
      "source": [
        "df[\"six\"] = np.arange(0, 4) * 10 # numpy array는 행의 수가 같아야 한다. 아니면 에러"
      ],
      "metadata": {
        "id": "Us0LgPbixZVF",
        "outputId": "c568efd6-2cd1-4fa7-8a59-8dde567317f0",
        "colab": {
          "base_uri": "https://localhost:8080/",
          "height": 327
        }
      },
      "execution_count": 42,
      "outputs": [
        {
          "output_type": "error",
          "ename": "ValueError",
          "evalue": "ignored",
          "traceback": [
            "\u001b[0;31m---------------------------------------------------------------------------\u001b[0m",
            "\u001b[0;31mValueError\u001b[0m                                Traceback (most recent call last)",
            "\u001b[0;32m<ipython-input-42-69d0c24a8fa7>\u001b[0m in \u001b[0;36m<module>\u001b[0;34m\u001b[0m\n\u001b[0;32m----> 1\u001b[0;31m \u001b[0mdf\u001b[0m\u001b[0;34m[\u001b[0m\u001b[0;34m\"six\"\u001b[0m\u001b[0;34m]\u001b[0m \u001b[0;34m=\u001b[0m \u001b[0mnp\u001b[0m\u001b[0;34m.\u001b[0m\u001b[0marange\u001b[0m\u001b[0;34m(\u001b[0m\u001b[0;36m0\u001b[0m\u001b[0;34m,\u001b[0m \u001b[0;36m4\u001b[0m\u001b[0;34m)\u001b[0m \u001b[0;34m*\u001b[0m \u001b[0;36m10\u001b[0m \u001b[0;31m# numpy array는 행의 수가 같아야 한다. 아니면 에러\u001b[0m\u001b[0;34m\u001b[0m\u001b[0;34m\u001b[0m\u001b[0m\n\u001b[0m",
            "\u001b[0;32m/usr/local/lib/python3.8/dist-packages/pandas/core/frame.py\u001b[0m in \u001b[0;36m__setitem__\u001b[0;34m(self, key, value)\u001b[0m\n\u001b[1;32m   3610\u001b[0m         \u001b[0;32melse\u001b[0m\u001b[0;34m:\u001b[0m\u001b[0;34m\u001b[0m\u001b[0;34m\u001b[0m\u001b[0m\n\u001b[1;32m   3611\u001b[0m             \u001b[0;31m# set column\u001b[0m\u001b[0;34m\u001b[0m\u001b[0;34m\u001b[0m\u001b[0;34m\u001b[0m\u001b[0m\n\u001b[0;32m-> 3612\u001b[0;31m             \u001b[0mself\u001b[0m\u001b[0;34m.\u001b[0m\u001b[0m_set_item\u001b[0m\u001b[0;34m(\u001b[0m\u001b[0mkey\u001b[0m\u001b[0;34m,\u001b[0m \u001b[0mvalue\u001b[0m\u001b[0;34m)\u001b[0m\u001b[0;34m\u001b[0m\u001b[0;34m\u001b[0m\u001b[0m\n\u001b[0m\u001b[1;32m   3613\u001b[0m \u001b[0;34m\u001b[0m\u001b[0m\n\u001b[1;32m   3614\u001b[0m     \u001b[0;32mdef\u001b[0m \u001b[0m_setitem_slice\u001b[0m\u001b[0;34m(\u001b[0m\u001b[0mself\u001b[0m\u001b[0;34m,\u001b[0m \u001b[0mkey\u001b[0m\u001b[0;34m:\u001b[0m \u001b[0mslice\u001b[0m\u001b[0;34m,\u001b[0m \u001b[0mvalue\u001b[0m\u001b[0;34m)\u001b[0m\u001b[0;34m:\u001b[0m\u001b[0;34m\u001b[0m\u001b[0;34m\u001b[0m\u001b[0m\n",
            "\u001b[0;32m/usr/local/lib/python3.8/dist-packages/pandas/core/frame.py\u001b[0m in \u001b[0;36m_set_item\u001b[0;34m(self, key, value)\u001b[0m\n\u001b[1;32m   3782\u001b[0m         \u001b[0mensure\u001b[0m \u001b[0mhomogeneity\u001b[0m\u001b[0;34m.\u001b[0m\u001b[0;34m\u001b[0m\u001b[0;34m\u001b[0m\u001b[0m\n\u001b[1;32m   3783\u001b[0m         \"\"\"\n\u001b[0;32m-> 3784\u001b[0;31m         \u001b[0mvalue\u001b[0m \u001b[0;34m=\u001b[0m \u001b[0mself\u001b[0m\u001b[0;34m.\u001b[0m\u001b[0m_sanitize_column\u001b[0m\u001b[0;34m(\u001b[0m\u001b[0mvalue\u001b[0m\u001b[0;34m)\u001b[0m\u001b[0;34m\u001b[0m\u001b[0;34m\u001b[0m\u001b[0m\n\u001b[0m\u001b[1;32m   3785\u001b[0m \u001b[0;34m\u001b[0m\u001b[0m\n\u001b[1;32m   3786\u001b[0m         if (\n",
            "\u001b[0;32m/usr/local/lib/python3.8/dist-packages/pandas/core/frame.py\u001b[0m in \u001b[0;36m_sanitize_column\u001b[0;34m(self, value)\u001b[0m\n\u001b[1;32m   4507\u001b[0m \u001b[0;34m\u001b[0m\u001b[0m\n\u001b[1;32m   4508\u001b[0m         \u001b[0;32mif\u001b[0m \u001b[0mis_list_like\u001b[0m\u001b[0;34m(\u001b[0m\u001b[0mvalue\u001b[0m\u001b[0;34m)\u001b[0m\u001b[0;34m:\u001b[0m\u001b[0;34m\u001b[0m\u001b[0;34m\u001b[0m\u001b[0m\n\u001b[0;32m-> 4509\u001b[0;31m             \u001b[0mcom\u001b[0m\u001b[0;34m.\u001b[0m\u001b[0mrequire_length_match\u001b[0m\u001b[0;34m(\u001b[0m\u001b[0mvalue\u001b[0m\u001b[0;34m,\u001b[0m \u001b[0mself\u001b[0m\u001b[0;34m.\u001b[0m\u001b[0mindex\u001b[0m\u001b[0;34m)\u001b[0m\u001b[0;34m\u001b[0m\u001b[0;34m\u001b[0m\u001b[0m\n\u001b[0m\u001b[1;32m   4510\u001b[0m         \u001b[0;32mreturn\u001b[0m \u001b[0msanitize_array\u001b[0m\u001b[0;34m(\u001b[0m\u001b[0mvalue\u001b[0m\u001b[0;34m,\u001b[0m \u001b[0mself\u001b[0m\u001b[0;34m.\u001b[0m\u001b[0mindex\u001b[0m\u001b[0;34m,\u001b[0m \u001b[0mcopy\u001b[0m\u001b[0;34m=\u001b[0m\u001b[0;32mTrue\u001b[0m\u001b[0;34m,\u001b[0m \u001b[0mallow_2d\u001b[0m\u001b[0;34m=\u001b[0m\u001b[0;32mTrue\u001b[0m\u001b[0;34m)\u001b[0m\u001b[0;34m\u001b[0m\u001b[0;34m\u001b[0m\u001b[0m\n\u001b[1;32m   4511\u001b[0m \u001b[0;34m\u001b[0m\u001b[0m\n",
            "\u001b[0;32m/usr/local/lib/python3.8/dist-packages/pandas/core/common.py\u001b[0m in \u001b[0;36mrequire_length_match\u001b[0;34m(data, index)\u001b[0m\n\u001b[1;32m    529\u001b[0m     \"\"\"\n\u001b[1;32m    530\u001b[0m     \u001b[0;32mif\u001b[0m \u001b[0mlen\u001b[0m\u001b[0;34m(\u001b[0m\u001b[0mdata\u001b[0m\u001b[0;34m)\u001b[0m \u001b[0;34m!=\u001b[0m \u001b[0mlen\u001b[0m\u001b[0;34m(\u001b[0m\u001b[0mindex\u001b[0m\u001b[0;34m)\u001b[0m\u001b[0;34m:\u001b[0m\u001b[0;34m\u001b[0m\u001b[0;34m\u001b[0m\u001b[0m\n\u001b[0;32m--> 531\u001b[0;31m         raise ValueError(\n\u001b[0m\u001b[1;32m    532\u001b[0m             \u001b[0;34m\"Length of values \"\u001b[0m\u001b[0;34m\u001b[0m\u001b[0;34m\u001b[0m\u001b[0m\n\u001b[1;32m    533\u001b[0m             \u001b[0;34mf\"({len(data)}) \"\u001b[0m\u001b[0;34m\u001b[0m\u001b[0;34m\u001b[0m\u001b[0m\n",
            "\u001b[0;31mValueError\u001b[0m: Length of values (4) does not match length of index (5)"
          ]
        }
      ]
    },
    {
      "cell_type": "markdown",
      "source": [
        "assign은 열이 추가된 열을 반환하다. 이 때 데이터는 **복사**가 된다. 메소드 연결 호출에 유용하다."
      ],
      "metadata": {
        "id": "xOVuQgc49miX"
      }
    },
    {
      "cell_type": "code",
      "source": [
        "df.assign(five=lambda x: x['three'] + 1) # three열에 1을 더해 five을 만든다."
      ],
      "metadata": {
        "id": "sWXM9E529hdJ",
        "outputId": "66d97afd-eef8-45df-efb3-e7fbe8fb57ce",
        "colab": {
          "base_uri": "https://localhost:8080/",
          "height": 206
        }
      },
      "execution_count": 44,
      "outputs": [
        {
          "output_type": "execute_result",
          "data": {
            "text/plain": [
              "    one  two  three  four  five\n",
              "0     1    2      3   2.0     4\n",
              "10   11   12     13  12.0    14\n",
              "20   21   22     23   NaN    24\n",
              "30   31   32     33   NaN    34\n",
              "40   41   42     43   NaN    44"
            ],
            "text/html": [
              "\n",
              "  <div id=\"df-eb1cd235-12cd-4c9e-ba95-abc7a0101438\">\n",
              "    <div class=\"colab-df-container\">\n",
              "      <div>\n",
              "<style scoped>\n",
              "    .dataframe tbody tr th:only-of-type {\n",
              "        vertical-align: middle;\n",
              "    }\n",
              "\n",
              "    .dataframe tbody tr th {\n",
              "        vertical-align: top;\n",
              "    }\n",
              "\n",
              "    .dataframe thead th {\n",
              "        text-align: right;\n",
              "    }\n",
              "</style>\n",
              "<table border=\"1\" class=\"dataframe\">\n",
              "  <thead>\n",
              "    <tr style=\"text-align: right;\">\n",
              "      <th></th>\n",
              "      <th>one</th>\n",
              "      <th>two</th>\n",
              "      <th>three</th>\n",
              "      <th>four</th>\n",
              "      <th>five</th>\n",
              "    </tr>\n",
              "  </thead>\n",
              "  <tbody>\n",
              "    <tr>\n",
              "      <th>0</th>\n",
              "      <td>1</td>\n",
              "      <td>2</td>\n",
              "      <td>3</td>\n",
              "      <td>2.0</td>\n",
              "      <td>4</td>\n",
              "    </tr>\n",
              "    <tr>\n",
              "      <th>10</th>\n",
              "      <td>11</td>\n",
              "      <td>12</td>\n",
              "      <td>13</td>\n",
              "      <td>12.0</td>\n",
              "      <td>14</td>\n",
              "    </tr>\n",
              "    <tr>\n",
              "      <th>20</th>\n",
              "      <td>21</td>\n",
              "      <td>22</td>\n",
              "      <td>23</td>\n",
              "      <td>NaN</td>\n",
              "      <td>24</td>\n",
              "    </tr>\n",
              "    <tr>\n",
              "      <th>30</th>\n",
              "      <td>31</td>\n",
              "      <td>32</td>\n",
              "      <td>33</td>\n",
              "      <td>NaN</td>\n",
              "      <td>34</td>\n",
              "    </tr>\n",
              "    <tr>\n",
              "      <th>40</th>\n",
              "      <td>41</td>\n",
              "      <td>42</td>\n",
              "      <td>43</td>\n",
              "      <td>NaN</td>\n",
              "      <td>44</td>\n",
              "    </tr>\n",
              "  </tbody>\n",
              "</table>\n",
              "</div>\n",
              "      <button class=\"colab-df-convert\" onclick=\"convertToInteractive('df-eb1cd235-12cd-4c9e-ba95-abc7a0101438')\"\n",
              "              title=\"Convert this dataframe to an interactive table.\"\n",
              "              style=\"display:none;\">\n",
              "        \n",
              "  <svg xmlns=\"http://www.w3.org/2000/svg\" height=\"24px\"viewBox=\"0 0 24 24\"\n",
              "       width=\"24px\">\n",
              "    <path d=\"M0 0h24v24H0V0z\" fill=\"none\"/>\n",
              "    <path d=\"M18.56 5.44l.94 2.06.94-2.06 2.06-.94-2.06-.94-.94-2.06-.94 2.06-2.06.94zm-11 1L8.5 8.5l.94-2.06 2.06-.94-2.06-.94L8.5 2.5l-.94 2.06-2.06.94zm10 10l.94 2.06.94-2.06 2.06-.94-2.06-.94-.94-2.06-.94 2.06-2.06.94z\"/><path d=\"M17.41 7.96l-1.37-1.37c-.4-.4-.92-.59-1.43-.59-.52 0-1.04.2-1.43.59L10.3 9.45l-7.72 7.72c-.78.78-.78 2.05 0 2.83L4 21.41c.39.39.9.59 1.41.59.51 0 1.02-.2 1.41-.59l7.78-7.78 2.81-2.81c.8-.78.8-2.07 0-2.86zM5.41 20L4 18.59l7.72-7.72 1.47 1.35L5.41 20z\"/>\n",
              "  </svg>\n",
              "      </button>\n",
              "      \n",
              "  <style>\n",
              "    .colab-df-container {\n",
              "      display:flex;\n",
              "      flex-wrap:wrap;\n",
              "      gap: 12px;\n",
              "    }\n",
              "\n",
              "    .colab-df-convert {\n",
              "      background-color: #E8F0FE;\n",
              "      border: none;\n",
              "      border-radius: 50%;\n",
              "      cursor: pointer;\n",
              "      display: none;\n",
              "      fill: #1967D2;\n",
              "      height: 32px;\n",
              "      padding: 0 0 0 0;\n",
              "      width: 32px;\n",
              "    }\n",
              "\n",
              "    .colab-df-convert:hover {\n",
              "      background-color: #E2EBFA;\n",
              "      box-shadow: 0px 1px 2px rgba(60, 64, 67, 0.3), 0px 1px 3px 1px rgba(60, 64, 67, 0.15);\n",
              "      fill: #174EA6;\n",
              "    }\n",
              "\n",
              "    [theme=dark] .colab-df-convert {\n",
              "      background-color: #3B4455;\n",
              "      fill: #D2E3FC;\n",
              "    }\n",
              "\n",
              "    [theme=dark] .colab-df-convert:hover {\n",
              "      background-color: #434B5C;\n",
              "      box-shadow: 0px 1px 3px 1px rgba(0, 0, 0, 0.15);\n",
              "      filter: drop-shadow(0px 1px 2px rgba(0, 0, 0, 0.3));\n",
              "      fill: #FFFFFF;\n",
              "    }\n",
              "  </style>\n",
              "\n",
              "      <script>\n",
              "        const buttonEl =\n",
              "          document.querySelector('#df-eb1cd235-12cd-4c9e-ba95-abc7a0101438 button.colab-df-convert');\n",
              "        buttonEl.style.display =\n",
              "          google.colab.kernel.accessAllowed ? 'block' : 'none';\n",
              "\n",
              "        async function convertToInteractive(key) {\n",
              "          const element = document.querySelector('#df-eb1cd235-12cd-4c9e-ba95-abc7a0101438');\n",
              "          const dataTable =\n",
              "            await google.colab.kernel.invokeFunction('convertToInteractive',\n",
              "                                                     [key], {});\n",
              "          if (!dataTable) return;\n",
              "\n",
              "          const docLinkHtml = 'Like what you see? Visit the ' +\n",
              "            '<a target=\"_blank\" href=https://colab.research.google.com/notebooks/data_table.ipynb>data table notebook</a>'\n",
              "            + ' to learn more about interactive tables.';\n",
              "          element.innerHTML = '';\n",
              "          dataTable['output_type'] = 'display_data';\n",
              "          await google.colab.output.renderOutput(dataTable, element);\n",
              "          const docLink = document.createElement('div');\n",
              "          docLink.innerHTML = docLinkHtml;\n",
              "          element.appendChild(docLink);\n",
              "        }\n",
              "      </script>\n",
              "    </div>\n",
              "  </div>\n",
              "  "
            ]
          },
          "metadata": {},
          "execution_count": 44
        }
      ]
    },
    {
      "cell_type": "code",
      "source": [
        "del df['four'] # del을 통해 삭제\n",
        "df"
      ],
      "metadata": {
        "id": "sYiCPvM2-gFB",
        "outputId": "b3419769-f6b4-46ed-cbc8-5fd689c32336",
        "colab": {
          "base_uri": "https://localhost:8080/",
          "height": 206
        }
      },
      "execution_count": 45,
      "outputs": [
        {
          "output_type": "execute_result",
          "data": {
            "text/plain": [
              "    one  two  three  five\n",
              "0     1    2      3     5\n",
              "10   11   12     13     5\n",
              "20   21   22     23     5\n",
              "30   31   32     33     5\n",
              "40   41   42     43     5"
            ],
            "text/html": [
              "\n",
              "  <div id=\"df-aa84ee60-2377-479c-8ba3-d213f4027800\">\n",
              "    <div class=\"colab-df-container\">\n",
              "      <div>\n",
              "<style scoped>\n",
              "    .dataframe tbody tr th:only-of-type {\n",
              "        vertical-align: middle;\n",
              "    }\n",
              "\n",
              "    .dataframe tbody tr th {\n",
              "        vertical-align: top;\n",
              "    }\n",
              "\n",
              "    .dataframe thead th {\n",
              "        text-align: right;\n",
              "    }\n",
              "</style>\n",
              "<table border=\"1\" class=\"dataframe\">\n",
              "  <thead>\n",
              "    <tr style=\"text-align: right;\">\n",
              "      <th></th>\n",
              "      <th>one</th>\n",
              "      <th>two</th>\n",
              "      <th>three</th>\n",
              "      <th>five</th>\n",
              "    </tr>\n",
              "  </thead>\n",
              "  <tbody>\n",
              "    <tr>\n",
              "      <th>0</th>\n",
              "      <td>1</td>\n",
              "      <td>2</td>\n",
              "      <td>3</td>\n",
              "      <td>5</td>\n",
              "    </tr>\n",
              "    <tr>\n",
              "      <th>10</th>\n",
              "      <td>11</td>\n",
              "      <td>12</td>\n",
              "      <td>13</td>\n",
              "      <td>5</td>\n",
              "    </tr>\n",
              "    <tr>\n",
              "      <th>20</th>\n",
              "      <td>21</td>\n",
              "      <td>22</td>\n",
              "      <td>23</td>\n",
              "      <td>5</td>\n",
              "    </tr>\n",
              "    <tr>\n",
              "      <th>30</th>\n",
              "      <td>31</td>\n",
              "      <td>32</td>\n",
              "      <td>33</td>\n",
              "      <td>5</td>\n",
              "    </tr>\n",
              "    <tr>\n",
              "      <th>40</th>\n",
              "      <td>41</td>\n",
              "      <td>42</td>\n",
              "      <td>43</td>\n",
              "      <td>5</td>\n",
              "    </tr>\n",
              "  </tbody>\n",
              "</table>\n",
              "</div>\n",
              "      <button class=\"colab-df-convert\" onclick=\"convertToInteractive('df-aa84ee60-2377-479c-8ba3-d213f4027800')\"\n",
              "              title=\"Convert this dataframe to an interactive table.\"\n",
              "              style=\"display:none;\">\n",
              "        \n",
              "  <svg xmlns=\"http://www.w3.org/2000/svg\" height=\"24px\"viewBox=\"0 0 24 24\"\n",
              "       width=\"24px\">\n",
              "    <path d=\"M0 0h24v24H0V0z\" fill=\"none\"/>\n",
              "    <path d=\"M18.56 5.44l.94 2.06.94-2.06 2.06-.94-2.06-.94-.94-2.06-.94 2.06-2.06.94zm-11 1L8.5 8.5l.94-2.06 2.06-.94-2.06-.94L8.5 2.5l-.94 2.06-2.06.94zm10 10l.94 2.06.94-2.06 2.06-.94-2.06-.94-.94-2.06-.94 2.06-2.06.94z\"/><path d=\"M17.41 7.96l-1.37-1.37c-.4-.4-.92-.59-1.43-.59-.52 0-1.04.2-1.43.59L10.3 9.45l-7.72 7.72c-.78.78-.78 2.05 0 2.83L4 21.41c.39.39.9.59 1.41.59.51 0 1.02-.2 1.41-.59l7.78-7.78 2.81-2.81c.8-.78.8-2.07 0-2.86zM5.41 20L4 18.59l7.72-7.72 1.47 1.35L5.41 20z\"/>\n",
              "  </svg>\n",
              "      </button>\n",
              "      \n",
              "  <style>\n",
              "    .colab-df-container {\n",
              "      display:flex;\n",
              "      flex-wrap:wrap;\n",
              "      gap: 12px;\n",
              "    }\n",
              "\n",
              "    .colab-df-convert {\n",
              "      background-color: #E8F0FE;\n",
              "      border: none;\n",
              "      border-radius: 50%;\n",
              "      cursor: pointer;\n",
              "      display: none;\n",
              "      fill: #1967D2;\n",
              "      height: 32px;\n",
              "      padding: 0 0 0 0;\n",
              "      width: 32px;\n",
              "    }\n",
              "\n",
              "    .colab-df-convert:hover {\n",
              "      background-color: #E2EBFA;\n",
              "      box-shadow: 0px 1px 2px rgba(60, 64, 67, 0.3), 0px 1px 3px 1px rgba(60, 64, 67, 0.15);\n",
              "      fill: #174EA6;\n",
              "    }\n",
              "\n",
              "    [theme=dark] .colab-df-convert {\n",
              "      background-color: #3B4455;\n",
              "      fill: #D2E3FC;\n",
              "    }\n",
              "\n",
              "    [theme=dark] .colab-df-convert:hover {\n",
              "      background-color: #434B5C;\n",
              "      box-shadow: 0px 1px 3px 1px rgba(0, 0, 0, 0.15);\n",
              "      filter: drop-shadow(0px 1px 2px rgba(0, 0, 0, 0.3));\n",
              "      fill: #FFFFFF;\n",
              "    }\n",
              "  </style>\n",
              "\n",
              "      <script>\n",
              "        const buttonEl =\n",
              "          document.querySelector('#df-aa84ee60-2377-479c-8ba3-d213f4027800 button.colab-df-convert');\n",
              "        buttonEl.style.display =\n",
              "          google.colab.kernel.accessAllowed ? 'block' : 'none';\n",
              "\n",
              "        async function convertToInteractive(key) {\n",
              "          const element = document.querySelector('#df-aa84ee60-2377-479c-8ba3-d213f4027800');\n",
              "          const dataTable =\n",
              "            await google.colab.kernel.invokeFunction('convertToInteractive',\n",
              "                                                     [key], {});\n",
              "          if (!dataTable) return;\n",
              "\n",
              "          const docLinkHtml = 'Like what you see? Visit the ' +\n",
              "            '<a target=\"_blank\" href=https://colab.research.google.com/notebooks/data_table.ipynb>data table notebook</a>'\n",
              "            + ' to learn more about interactive tables.';\n",
              "          element.innerHTML = '';\n",
              "          dataTable['output_type'] = 'display_data';\n",
              "          await google.colab.output.renderOutput(dataTable, element);\n",
              "          const docLink = document.createElement('div');\n",
              "          docLink.innerHTML = docLinkHtml;\n",
              "          element.appendChild(docLink);\n",
              "        }\n",
              "      </script>\n",
              "    </div>\n",
              "  </div>\n",
              "  "
            ]
          },
          "metadata": {},
          "execution_count": 45
        }
      ]
    },
    {
      "cell_type": "markdown",
      "source": [
        "**Pandas DataFrame의 연산 또한 벡터화 연산와 고차원변환(Broadcasting)을 지원한다.**\n",
        "\n",
        "DataFrame 과 DataFrame\n",
        "\n",
        "DataFrame 와 Series\n",
        "\n",
        "- 색인 별로(색인이 같은 수 끼리) 연산이 이루어짐\n",
        "- 색인이 일치 하지 않을 경우 NaN 값이 됨\n",
        "- numpy array를 가지고 numpy 연산으로 처리하는 것보다 느리니, 보다 빠른 연산을 하려면, 인덱스 없이 numpy array와 함수로 처리할 것을 권장한다.\n",
        "\n",
        "numpy 함수와 DataFrame 간 연산 => DataFrame으로 반환"
      ],
      "metadata": {
        "id": "1NKeUjDdyO97"
      }
    },
    {
      "cell_type": "code",
      "source": [
        "df_A = pd.DataFrame(np.array([\n",
        "    [1, 2, 3],\n",
        "    [11, 12, 13],\n",
        "    [21, 22, 23],\n",
        "    [31, 32, 33],\n",
        "    [41, 42, 43],\n",
        "]), index=[0, 10, 20, 30, 40], columns=[\"one\", \"two\", \"three\"])\n",
        "\n",
        "df_B = pd.DataFrame(np.array([\n",
        "    [3, 2, 1],\n",
        "    [13, 12, 11],\n",
        "    [23, 22, 21],\n",
        "    [33, 32, 31],\n",
        "    [53, 52, 51],\n",
        "]), index=[0, 10, 20, 30, 50], columns=[\"one\", \"two\", \"four\"])\n",
        "\n",
        "df_A + df_B # 매칭하는 columns과 index가 없을 경우 NaN이 된다."
      ],
      "metadata": {
        "id": "JTqO_jcU3Pfd",
        "outputId": "62101552-62c8-40dd-82eb-e7d15dec3cc7",
        "colab": {
          "base_uri": "https://localhost:8080/",
          "height": 238
        }
      },
      "execution_count": 46,
      "outputs": [
        {
          "output_type": "execute_result",
          "data": {
            "text/plain": [
              "    four   one  three   two\n",
              "0    NaN   4.0    NaN   4.0\n",
              "10   NaN  24.0    NaN  24.0\n",
              "20   NaN  44.0    NaN  44.0\n",
              "30   NaN  64.0    NaN  64.0\n",
              "40   NaN   NaN    NaN   NaN\n",
              "50   NaN   NaN    NaN   NaN"
            ],
            "text/html": [
              "\n",
              "  <div id=\"df-a74eb4db-e663-4bfd-ad8b-4a1cdfe102a3\">\n",
              "    <div class=\"colab-df-container\">\n",
              "      <div>\n",
              "<style scoped>\n",
              "    .dataframe tbody tr th:only-of-type {\n",
              "        vertical-align: middle;\n",
              "    }\n",
              "\n",
              "    .dataframe tbody tr th {\n",
              "        vertical-align: top;\n",
              "    }\n",
              "\n",
              "    .dataframe thead th {\n",
              "        text-align: right;\n",
              "    }\n",
              "</style>\n",
              "<table border=\"1\" class=\"dataframe\">\n",
              "  <thead>\n",
              "    <tr style=\"text-align: right;\">\n",
              "      <th></th>\n",
              "      <th>four</th>\n",
              "      <th>one</th>\n",
              "      <th>three</th>\n",
              "      <th>two</th>\n",
              "    </tr>\n",
              "  </thead>\n",
              "  <tbody>\n",
              "    <tr>\n",
              "      <th>0</th>\n",
              "      <td>NaN</td>\n",
              "      <td>4.0</td>\n",
              "      <td>NaN</td>\n",
              "      <td>4.0</td>\n",
              "    </tr>\n",
              "    <tr>\n",
              "      <th>10</th>\n",
              "      <td>NaN</td>\n",
              "      <td>24.0</td>\n",
              "      <td>NaN</td>\n",
              "      <td>24.0</td>\n",
              "    </tr>\n",
              "    <tr>\n",
              "      <th>20</th>\n",
              "      <td>NaN</td>\n",
              "      <td>44.0</td>\n",
              "      <td>NaN</td>\n",
              "      <td>44.0</td>\n",
              "    </tr>\n",
              "    <tr>\n",
              "      <th>30</th>\n",
              "      <td>NaN</td>\n",
              "      <td>64.0</td>\n",
              "      <td>NaN</td>\n",
              "      <td>64.0</td>\n",
              "    </tr>\n",
              "    <tr>\n",
              "      <th>40</th>\n",
              "      <td>NaN</td>\n",
              "      <td>NaN</td>\n",
              "      <td>NaN</td>\n",
              "      <td>NaN</td>\n",
              "    </tr>\n",
              "    <tr>\n",
              "      <th>50</th>\n",
              "      <td>NaN</td>\n",
              "      <td>NaN</td>\n",
              "      <td>NaN</td>\n",
              "      <td>NaN</td>\n",
              "    </tr>\n",
              "  </tbody>\n",
              "</table>\n",
              "</div>\n",
              "      <button class=\"colab-df-convert\" onclick=\"convertToInteractive('df-a74eb4db-e663-4bfd-ad8b-4a1cdfe102a3')\"\n",
              "              title=\"Convert this dataframe to an interactive table.\"\n",
              "              style=\"display:none;\">\n",
              "        \n",
              "  <svg xmlns=\"http://www.w3.org/2000/svg\" height=\"24px\"viewBox=\"0 0 24 24\"\n",
              "       width=\"24px\">\n",
              "    <path d=\"M0 0h24v24H0V0z\" fill=\"none\"/>\n",
              "    <path d=\"M18.56 5.44l.94 2.06.94-2.06 2.06-.94-2.06-.94-.94-2.06-.94 2.06-2.06.94zm-11 1L8.5 8.5l.94-2.06 2.06-.94-2.06-.94L8.5 2.5l-.94 2.06-2.06.94zm10 10l.94 2.06.94-2.06 2.06-.94-2.06-.94-.94-2.06-.94 2.06-2.06.94z\"/><path d=\"M17.41 7.96l-1.37-1.37c-.4-.4-.92-.59-1.43-.59-.52 0-1.04.2-1.43.59L10.3 9.45l-7.72 7.72c-.78.78-.78 2.05 0 2.83L4 21.41c.39.39.9.59 1.41.59.51 0 1.02-.2 1.41-.59l7.78-7.78 2.81-2.81c.8-.78.8-2.07 0-2.86zM5.41 20L4 18.59l7.72-7.72 1.47 1.35L5.41 20z\"/>\n",
              "  </svg>\n",
              "      </button>\n",
              "      \n",
              "  <style>\n",
              "    .colab-df-container {\n",
              "      display:flex;\n",
              "      flex-wrap:wrap;\n",
              "      gap: 12px;\n",
              "    }\n",
              "\n",
              "    .colab-df-convert {\n",
              "      background-color: #E8F0FE;\n",
              "      border: none;\n",
              "      border-radius: 50%;\n",
              "      cursor: pointer;\n",
              "      display: none;\n",
              "      fill: #1967D2;\n",
              "      height: 32px;\n",
              "      padding: 0 0 0 0;\n",
              "      width: 32px;\n",
              "    }\n",
              "\n",
              "    .colab-df-convert:hover {\n",
              "      background-color: #E2EBFA;\n",
              "      box-shadow: 0px 1px 2px rgba(60, 64, 67, 0.3), 0px 1px 3px 1px rgba(60, 64, 67, 0.15);\n",
              "      fill: #174EA6;\n",
              "    }\n",
              "\n",
              "    [theme=dark] .colab-df-convert {\n",
              "      background-color: #3B4455;\n",
              "      fill: #D2E3FC;\n",
              "    }\n",
              "\n",
              "    [theme=dark] .colab-df-convert:hover {\n",
              "      background-color: #434B5C;\n",
              "      box-shadow: 0px 1px 3px 1px rgba(0, 0, 0, 0.15);\n",
              "      filter: drop-shadow(0px 1px 2px rgba(0, 0, 0, 0.3));\n",
              "      fill: #FFFFFF;\n",
              "    }\n",
              "  </style>\n",
              "\n",
              "      <script>\n",
              "        const buttonEl =\n",
              "          document.querySelector('#df-a74eb4db-e663-4bfd-ad8b-4a1cdfe102a3 button.colab-df-convert');\n",
              "        buttonEl.style.display =\n",
              "          google.colab.kernel.accessAllowed ? 'block' : 'none';\n",
              "\n",
              "        async function convertToInteractive(key) {\n",
              "          const element = document.querySelector('#df-a74eb4db-e663-4bfd-ad8b-4a1cdfe102a3');\n",
              "          const dataTable =\n",
              "            await google.colab.kernel.invokeFunction('convertToInteractive',\n",
              "                                                     [key], {});\n",
              "          if (!dataTable) return;\n",
              "\n",
              "          const docLinkHtml = 'Like what you see? Visit the ' +\n",
              "            '<a target=\"_blank\" href=https://colab.research.google.com/notebooks/data_table.ipynb>data table notebook</a>'\n",
              "            + ' to learn more about interactive tables.';\n",
              "          element.innerHTML = '';\n",
              "          dataTable['output_type'] = 'display_data';\n",
              "          await google.colab.output.renderOutput(dataTable, element);\n",
              "          const docLink = document.createElement('div');\n",
              "          docLink.innerHTML = docLinkHtml;\n",
              "          element.appendChild(docLink);\n",
              "        }\n",
              "      </script>\n",
              "    </div>\n",
              "  </div>\n",
              "  "
            ]
          },
          "metadata": {},
          "execution_count": 46
        }
      ]
    },
    {
      "cell_type": "code",
      "source": [
        "df_A = pd.DataFrame(np.array([\n",
        "    [1, 2, 3],\n",
        "    [11, 12, 13],\n",
        "    [21, 22, 23],\n",
        "    [31, 32, 33],\n",
        "    [41, 42, 43],\n",
        "]), index=[0, 10, 20, 30, 40], columns=[\"one\", \"two\", \"three\"])\n",
        "\n",
        "df_A * 5 # DataFrame 과 Scalar  "
      ],
      "metadata": {
        "id": "_bP8cLbe5OPn",
        "outputId": "d7089609-f4a5-4ed2-d5ea-56b21ff3339e",
        "colab": {
          "base_uri": "https://localhost:8080/",
          "height": 206
        }
      },
      "execution_count": 47,
      "outputs": [
        {
          "output_type": "execute_result",
          "data": {
            "text/plain": [
              "    one  two  three\n",
              "0     5   10     15\n",
              "10   55   60     65\n",
              "20  105  110    115\n",
              "30  155  160    165\n",
              "40  205  210    215"
            ],
            "text/html": [
              "\n",
              "  <div id=\"df-f5e5dae3-441c-4e19-9429-cfe565e955ea\">\n",
              "    <div class=\"colab-df-container\">\n",
              "      <div>\n",
              "<style scoped>\n",
              "    .dataframe tbody tr th:only-of-type {\n",
              "        vertical-align: middle;\n",
              "    }\n",
              "\n",
              "    .dataframe tbody tr th {\n",
              "        vertical-align: top;\n",
              "    }\n",
              "\n",
              "    .dataframe thead th {\n",
              "        text-align: right;\n",
              "    }\n",
              "</style>\n",
              "<table border=\"1\" class=\"dataframe\">\n",
              "  <thead>\n",
              "    <tr style=\"text-align: right;\">\n",
              "      <th></th>\n",
              "      <th>one</th>\n",
              "      <th>two</th>\n",
              "      <th>three</th>\n",
              "    </tr>\n",
              "  </thead>\n",
              "  <tbody>\n",
              "    <tr>\n",
              "      <th>0</th>\n",
              "      <td>5</td>\n",
              "      <td>10</td>\n",
              "      <td>15</td>\n",
              "    </tr>\n",
              "    <tr>\n",
              "      <th>10</th>\n",
              "      <td>55</td>\n",
              "      <td>60</td>\n",
              "      <td>65</td>\n",
              "    </tr>\n",
              "    <tr>\n",
              "      <th>20</th>\n",
              "      <td>105</td>\n",
              "      <td>110</td>\n",
              "      <td>115</td>\n",
              "    </tr>\n",
              "    <tr>\n",
              "      <th>30</th>\n",
              "      <td>155</td>\n",
              "      <td>160</td>\n",
              "      <td>165</td>\n",
              "    </tr>\n",
              "    <tr>\n",
              "      <th>40</th>\n",
              "      <td>205</td>\n",
              "      <td>210</td>\n",
              "      <td>215</td>\n",
              "    </tr>\n",
              "  </tbody>\n",
              "</table>\n",
              "</div>\n",
              "      <button class=\"colab-df-convert\" onclick=\"convertToInteractive('df-f5e5dae3-441c-4e19-9429-cfe565e955ea')\"\n",
              "              title=\"Convert this dataframe to an interactive table.\"\n",
              "              style=\"display:none;\">\n",
              "        \n",
              "  <svg xmlns=\"http://www.w3.org/2000/svg\" height=\"24px\"viewBox=\"0 0 24 24\"\n",
              "       width=\"24px\">\n",
              "    <path d=\"M0 0h24v24H0V0z\" fill=\"none\"/>\n",
              "    <path d=\"M18.56 5.44l.94 2.06.94-2.06 2.06-.94-2.06-.94-.94-2.06-.94 2.06-2.06.94zm-11 1L8.5 8.5l.94-2.06 2.06-.94-2.06-.94L8.5 2.5l-.94 2.06-2.06.94zm10 10l.94 2.06.94-2.06 2.06-.94-2.06-.94-.94-2.06-.94 2.06-2.06.94z\"/><path d=\"M17.41 7.96l-1.37-1.37c-.4-.4-.92-.59-1.43-.59-.52 0-1.04.2-1.43.59L10.3 9.45l-7.72 7.72c-.78.78-.78 2.05 0 2.83L4 21.41c.39.39.9.59 1.41.59.51 0 1.02-.2 1.41-.59l7.78-7.78 2.81-2.81c.8-.78.8-2.07 0-2.86zM5.41 20L4 18.59l7.72-7.72 1.47 1.35L5.41 20z\"/>\n",
              "  </svg>\n",
              "      </button>\n",
              "      \n",
              "  <style>\n",
              "    .colab-df-container {\n",
              "      display:flex;\n",
              "      flex-wrap:wrap;\n",
              "      gap: 12px;\n",
              "    }\n",
              "\n",
              "    .colab-df-convert {\n",
              "      background-color: #E8F0FE;\n",
              "      border: none;\n",
              "      border-radius: 50%;\n",
              "      cursor: pointer;\n",
              "      display: none;\n",
              "      fill: #1967D2;\n",
              "      height: 32px;\n",
              "      padding: 0 0 0 0;\n",
              "      width: 32px;\n",
              "    }\n",
              "\n",
              "    .colab-df-convert:hover {\n",
              "      background-color: #E2EBFA;\n",
              "      box-shadow: 0px 1px 2px rgba(60, 64, 67, 0.3), 0px 1px 3px 1px rgba(60, 64, 67, 0.15);\n",
              "      fill: #174EA6;\n",
              "    }\n",
              "\n",
              "    [theme=dark] .colab-df-convert {\n",
              "      background-color: #3B4455;\n",
              "      fill: #D2E3FC;\n",
              "    }\n",
              "\n",
              "    [theme=dark] .colab-df-convert:hover {\n",
              "      background-color: #434B5C;\n",
              "      box-shadow: 0px 1px 3px 1px rgba(0, 0, 0, 0.15);\n",
              "      filter: drop-shadow(0px 1px 2px rgba(0, 0, 0, 0.3));\n",
              "      fill: #FFFFFF;\n",
              "    }\n",
              "  </style>\n",
              "\n",
              "      <script>\n",
              "        const buttonEl =\n",
              "          document.querySelector('#df-f5e5dae3-441c-4e19-9429-cfe565e955ea button.colab-df-convert');\n",
              "        buttonEl.style.display =\n",
              "          google.colab.kernel.accessAllowed ? 'block' : 'none';\n",
              "\n",
              "        async function convertToInteractive(key) {\n",
              "          const element = document.querySelector('#df-f5e5dae3-441c-4e19-9429-cfe565e955ea');\n",
              "          const dataTable =\n",
              "            await google.colab.kernel.invokeFunction('convertToInteractive',\n",
              "                                                     [key], {});\n",
              "          if (!dataTable) return;\n",
              "\n",
              "          const docLinkHtml = 'Like what you see? Visit the ' +\n",
              "            '<a target=\"_blank\" href=https://colab.research.google.com/notebooks/data_table.ipynb>data table notebook</a>'\n",
              "            + ' to learn more about interactive tables.';\n",
              "          element.innerHTML = '';\n",
              "          dataTable['output_type'] = 'display_data';\n",
              "          await google.colab.output.renderOutput(dataTable, element);\n",
              "          const docLink = document.createElement('div');\n",
              "          docLink.innerHTML = docLinkHtml;\n",
              "          element.appendChild(docLink);\n",
              "        }\n",
              "      </script>\n",
              "    </div>\n",
              "  </div>\n",
              "  "
            ]
          },
          "metadata": {},
          "execution_count": 47
        }
      ]
    },
    {
      "cell_type": "code",
      "source": [
        "s_A = pd.Series([5, 4, 3], index=[\"one\", \"two\", \"three\"])\n",
        "df_A * s_A # 행에 대한 고차원변환이 된다."
      ],
      "metadata": {
        "id": "J3YQEwLN5qTF",
        "outputId": "eaedfa5e-9092-4011-a5fe-618b9bb5e9ab",
        "colab": {
          "base_uri": "https://localhost:8080/",
          "height": 206
        }
      },
      "execution_count": 48,
      "outputs": [
        {
          "output_type": "execute_result",
          "data": {
            "text/plain": [
              "    one  two  three\n",
              "0     5    8      9\n",
              "10   55   48     39\n",
              "20  105   88     69\n",
              "30  155  128     99\n",
              "40  205  168    129"
            ],
            "text/html": [
              "\n",
              "  <div id=\"df-a1c01d00-f07f-4679-b8a8-452ff6faaa92\">\n",
              "    <div class=\"colab-df-container\">\n",
              "      <div>\n",
              "<style scoped>\n",
              "    .dataframe tbody tr th:only-of-type {\n",
              "        vertical-align: middle;\n",
              "    }\n",
              "\n",
              "    .dataframe tbody tr th {\n",
              "        vertical-align: top;\n",
              "    }\n",
              "\n",
              "    .dataframe thead th {\n",
              "        text-align: right;\n",
              "    }\n",
              "</style>\n",
              "<table border=\"1\" class=\"dataframe\">\n",
              "  <thead>\n",
              "    <tr style=\"text-align: right;\">\n",
              "      <th></th>\n",
              "      <th>one</th>\n",
              "      <th>two</th>\n",
              "      <th>three</th>\n",
              "    </tr>\n",
              "  </thead>\n",
              "  <tbody>\n",
              "    <tr>\n",
              "      <th>0</th>\n",
              "      <td>5</td>\n",
              "      <td>8</td>\n",
              "      <td>9</td>\n",
              "    </tr>\n",
              "    <tr>\n",
              "      <th>10</th>\n",
              "      <td>55</td>\n",
              "      <td>48</td>\n",
              "      <td>39</td>\n",
              "    </tr>\n",
              "    <tr>\n",
              "      <th>20</th>\n",
              "      <td>105</td>\n",
              "      <td>88</td>\n",
              "      <td>69</td>\n",
              "    </tr>\n",
              "    <tr>\n",
              "      <th>30</th>\n",
              "      <td>155</td>\n",
              "      <td>128</td>\n",
              "      <td>99</td>\n",
              "    </tr>\n",
              "    <tr>\n",
              "      <th>40</th>\n",
              "      <td>205</td>\n",
              "      <td>168</td>\n",
              "      <td>129</td>\n",
              "    </tr>\n",
              "  </tbody>\n",
              "</table>\n",
              "</div>\n",
              "      <button class=\"colab-df-convert\" onclick=\"convertToInteractive('df-a1c01d00-f07f-4679-b8a8-452ff6faaa92')\"\n",
              "              title=\"Convert this dataframe to an interactive table.\"\n",
              "              style=\"display:none;\">\n",
              "        \n",
              "  <svg xmlns=\"http://www.w3.org/2000/svg\" height=\"24px\"viewBox=\"0 0 24 24\"\n",
              "       width=\"24px\">\n",
              "    <path d=\"M0 0h24v24H0V0z\" fill=\"none\"/>\n",
              "    <path d=\"M18.56 5.44l.94 2.06.94-2.06 2.06-.94-2.06-.94-.94-2.06-.94 2.06-2.06.94zm-11 1L8.5 8.5l.94-2.06 2.06-.94-2.06-.94L8.5 2.5l-.94 2.06-2.06.94zm10 10l.94 2.06.94-2.06 2.06-.94-2.06-.94-.94-2.06-.94 2.06-2.06.94z\"/><path d=\"M17.41 7.96l-1.37-1.37c-.4-.4-.92-.59-1.43-.59-.52 0-1.04.2-1.43.59L10.3 9.45l-7.72 7.72c-.78.78-.78 2.05 0 2.83L4 21.41c.39.39.9.59 1.41.59.51 0 1.02-.2 1.41-.59l7.78-7.78 2.81-2.81c.8-.78.8-2.07 0-2.86zM5.41 20L4 18.59l7.72-7.72 1.47 1.35L5.41 20z\"/>\n",
              "  </svg>\n",
              "      </button>\n",
              "      \n",
              "  <style>\n",
              "    .colab-df-container {\n",
              "      display:flex;\n",
              "      flex-wrap:wrap;\n",
              "      gap: 12px;\n",
              "    }\n",
              "\n",
              "    .colab-df-convert {\n",
              "      background-color: #E8F0FE;\n",
              "      border: none;\n",
              "      border-radius: 50%;\n",
              "      cursor: pointer;\n",
              "      display: none;\n",
              "      fill: #1967D2;\n",
              "      height: 32px;\n",
              "      padding: 0 0 0 0;\n",
              "      width: 32px;\n",
              "    }\n",
              "\n",
              "    .colab-df-convert:hover {\n",
              "      background-color: #E2EBFA;\n",
              "      box-shadow: 0px 1px 2px rgba(60, 64, 67, 0.3), 0px 1px 3px 1px rgba(60, 64, 67, 0.15);\n",
              "      fill: #174EA6;\n",
              "    }\n",
              "\n",
              "    [theme=dark] .colab-df-convert {\n",
              "      background-color: #3B4455;\n",
              "      fill: #D2E3FC;\n",
              "    }\n",
              "\n",
              "    [theme=dark] .colab-df-convert:hover {\n",
              "      background-color: #434B5C;\n",
              "      box-shadow: 0px 1px 3px 1px rgba(0, 0, 0, 0.15);\n",
              "      filter: drop-shadow(0px 1px 2px rgba(0, 0, 0, 0.3));\n",
              "      fill: #FFFFFF;\n",
              "    }\n",
              "  </style>\n",
              "\n",
              "      <script>\n",
              "        const buttonEl =\n",
              "          document.querySelector('#df-a1c01d00-f07f-4679-b8a8-452ff6faaa92 button.colab-df-convert');\n",
              "        buttonEl.style.display =\n",
              "          google.colab.kernel.accessAllowed ? 'block' : 'none';\n",
              "\n",
              "        async function convertToInteractive(key) {\n",
              "          const element = document.querySelector('#df-a1c01d00-f07f-4679-b8a8-452ff6faaa92');\n",
              "          const dataTable =\n",
              "            await google.colab.kernel.invokeFunction('convertToInteractive',\n",
              "                                                     [key], {});\n",
              "          if (!dataTable) return;\n",
              "\n",
              "          const docLinkHtml = 'Like what you see? Visit the ' +\n",
              "            '<a target=\"_blank\" href=https://colab.research.google.com/notebooks/data_table.ipynb>data table notebook</a>'\n",
              "            + ' to learn more about interactive tables.';\n",
              "          element.innerHTML = '';\n",
              "          dataTable['output_type'] = 'display_data';\n",
              "          await google.colab.output.renderOutput(dataTable, element);\n",
              "          const docLink = document.createElement('div');\n",
              "          docLink.innerHTML = docLinkHtml;\n",
              "          element.appendChild(docLink);\n",
              "        }\n",
              "      </script>\n",
              "    </div>\n",
              "  </div>\n",
              "  "
            ]
          },
          "metadata": {},
          "execution_count": 48
        }
      ]
    },
    {
      "cell_type": "code",
      "source": [
        "s_A = pd.Series([5, 4, 3, 2, 1], index=[50, 10, 20, 30, 40])\n",
        "df_A * s_A # 연산자로는 지원하지 않는다."
      ],
      "metadata": {
        "id": "5Gy4cB0w5XRg",
        "outputId": "d63bcfcc-0ba6-442d-dc3a-124af7a09d69",
        "colab": {
          "base_uri": "https://localhost:8080/",
          "height": 206
        }
      },
      "execution_count": 49,
      "outputs": [
        {
          "output_type": "execute_result",
          "data": {
            "text/plain": [
              "    10  20  30  40  50  one  three  two\n",
              "0  NaN NaN NaN NaN NaN  NaN    NaN  NaN\n",
              "10 NaN NaN NaN NaN NaN  NaN    NaN  NaN\n",
              "20 NaN NaN NaN NaN NaN  NaN    NaN  NaN\n",
              "30 NaN NaN NaN NaN NaN  NaN    NaN  NaN\n",
              "40 NaN NaN NaN NaN NaN  NaN    NaN  NaN"
            ],
            "text/html": [
              "\n",
              "  <div id=\"df-a3153bdc-dff6-4db6-941a-0759f1b11f64\">\n",
              "    <div class=\"colab-df-container\">\n",
              "      <div>\n",
              "<style scoped>\n",
              "    .dataframe tbody tr th:only-of-type {\n",
              "        vertical-align: middle;\n",
              "    }\n",
              "\n",
              "    .dataframe tbody tr th {\n",
              "        vertical-align: top;\n",
              "    }\n",
              "\n",
              "    .dataframe thead th {\n",
              "        text-align: right;\n",
              "    }\n",
              "</style>\n",
              "<table border=\"1\" class=\"dataframe\">\n",
              "  <thead>\n",
              "    <tr style=\"text-align: right;\">\n",
              "      <th></th>\n",
              "      <th>10</th>\n",
              "      <th>20</th>\n",
              "      <th>30</th>\n",
              "      <th>40</th>\n",
              "      <th>50</th>\n",
              "      <th>one</th>\n",
              "      <th>three</th>\n",
              "      <th>two</th>\n",
              "    </tr>\n",
              "  </thead>\n",
              "  <tbody>\n",
              "    <tr>\n",
              "      <th>0</th>\n",
              "      <td>NaN</td>\n",
              "      <td>NaN</td>\n",
              "      <td>NaN</td>\n",
              "      <td>NaN</td>\n",
              "      <td>NaN</td>\n",
              "      <td>NaN</td>\n",
              "      <td>NaN</td>\n",
              "      <td>NaN</td>\n",
              "    </tr>\n",
              "    <tr>\n",
              "      <th>10</th>\n",
              "      <td>NaN</td>\n",
              "      <td>NaN</td>\n",
              "      <td>NaN</td>\n",
              "      <td>NaN</td>\n",
              "      <td>NaN</td>\n",
              "      <td>NaN</td>\n",
              "      <td>NaN</td>\n",
              "      <td>NaN</td>\n",
              "    </tr>\n",
              "    <tr>\n",
              "      <th>20</th>\n",
              "      <td>NaN</td>\n",
              "      <td>NaN</td>\n",
              "      <td>NaN</td>\n",
              "      <td>NaN</td>\n",
              "      <td>NaN</td>\n",
              "      <td>NaN</td>\n",
              "      <td>NaN</td>\n",
              "      <td>NaN</td>\n",
              "    </tr>\n",
              "    <tr>\n",
              "      <th>30</th>\n",
              "      <td>NaN</td>\n",
              "      <td>NaN</td>\n",
              "      <td>NaN</td>\n",
              "      <td>NaN</td>\n",
              "      <td>NaN</td>\n",
              "      <td>NaN</td>\n",
              "      <td>NaN</td>\n",
              "      <td>NaN</td>\n",
              "    </tr>\n",
              "    <tr>\n",
              "      <th>40</th>\n",
              "      <td>NaN</td>\n",
              "      <td>NaN</td>\n",
              "      <td>NaN</td>\n",
              "      <td>NaN</td>\n",
              "      <td>NaN</td>\n",
              "      <td>NaN</td>\n",
              "      <td>NaN</td>\n",
              "      <td>NaN</td>\n",
              "    </tr>\n",
              "  </tbody>\n",
              "</table>\n",
              "</div>\n",
              "      <button class=\"colab-df-convert\" onclick=\"convertToInteractive('df-a3153bdc-dff6-4db6-941a-0759f1b11f64')\"\n",
              "              title=\"Convert this dataframe to an interactive table.\"\n",
              "              style=\"display:none;\">\n",
              "        \n",
              "  <svg xmlns=\"http://www.w3.org/2000/svg\" height=\"24px\"viewBox=\"0 0 24 24\"\n",
              "       width=\"24px\">\n",
              "    <path d=\"M0 0h24v24H0V0z\" fill=\"none\"/>\n",
              "    <path d=\"M18.56 5.44l.94 2.06.94-2.06 2.06-.94-2.06-.94-.94-2.06-.94 2.06-2.06.94zm-11 1L8.5 8.5l.94-2.06 2.06-.94-2.06-.94L8.5 2.5l-.94 2.06-2.06.94zm10 10l.94 2.06.94-2.06 2.06-.94-2.06-.94-.94-2.06-.94 2.06-2.06.94z\"/><path d=\"M17.41 7.96l-1.37-1.37c-.4-.4-.92-.59-1.43-.59-.52 0-1.04.2-1.43.59L10.3 9.45l-7.72 7.72c-.78.78-.78 2.05 0 2.83L4 21.41c.39.39.9.59 1.41.59.51 0 1.02-.2 1.41-.59l7.78-7.78 2.81-2.81c.8-.78.8-2.07 0-2.86zM5.41 20L4 18.59l7.72-7.72 1.47 1.35L5.41 20z\"/>\n",
              "  </svg>\n",
              "      </button>\n",
              "      \n",
              "  <style>\n",
              "    .colab-df-container {\n",
              "      display:flex;\n",
              "      flex-wrap:wrap;\n",
              "      gap: 12px;\n",
              "    }\n",
              "\n",
              "    .colab-df-convert {\n",
              "      background-color: #E8F0FE;\n",
              "      border: none;\n",
              "      border-radius: 50%;\n",
              "      cursor: pointer;\n",
              "      display: none;\n",
              "      fill: #1967D2;\n",
              "      height: 32px;\n",
              "      padding: 0 0 0 0;\n",
              "      width: 32px;\n",
              "    }\n",
              "\n",
              "    .colab-df-convert:hover {\n",
              "      background-color: #E2EBFA;\n",
              "      box-shadow: 0px 1px 2px rgba(60, 64, 67, 0.3), 0px 1px 3px 1px rgba(60, 64, 67, 0.15);\n",
              "      fill: #174EA6;\n",
              "    }\n",
              "\n",
              "    [theme=dark] .colab-df-convert {\n",
              "      background-color: #3B4455;\n",
              "      fill: #D2E3FC;\n",
              "    }\n",
              "\n",
              "    [theme=dark] .colab-df-convert:hover {\n",
              "      background-color: #434B5C;\n",
              "      box-shadow: 0px 1px 3px 1px rgba(0, 0, 0, 0.15);\n",
              "      filter: drop-shadow(0px 1px 2px rgba(0, 0, 0, 0.3));\n",
              "      fill: #FFFFFF;\n",
              "    }\n",
              "  </style>\n",
              "\n",
              "      <script>\n",
              "        const buttonEl =\n",
              "          document.querySelector('#df-a3153bdc-dff6-4db6-941a-0759f1b11f64 button.colab-df-convert');\n",
              "        buttonEl.style.display =\n",
              "          google.colab.kernel.accessAllowed ? 'block' : 'none';\n",
              "\n",
              "        async function convertToInteractive(key) {\n",
              "          const element = document.querySelector('#df-a3153bdc-dff6-4db6-941a-0759f1b11f64');\n",
              "          const dataTable =\n",
              "            await google.colab.kernel.invokeFunction('convertToInteractive',\n",
              "                                                     [key], {});\n",
              "          if (!dataTable) return;\n",
              "\n",
              "          const docLinkHtml = 'Like what you see? Visit the ' +\n",
              "            '<a target=\"_blank\" href=https://colab.research.google.com/notebooks/data_table.ipynb>data table notebook</a>'\n",
              "            + ' to learn more about interactive tables.';\n",
              "          element.innerHTML = '';\n",
              "          dataTable['output_type'] = 'display_data';\n",
              "          await google.colab.output.renderOutput(dataTable, element);\n",
              "          const docLink = document.createElement('div');\n",
              "          docLink.innerHTML = docLinkHtml;\n",
              "          element.appendChild(docLink);\n",
              "        }\n",
              "      </script>\n",
              "    </div>\n",
              "  </div>\n",
              "  "
            ]
          },
          "metadata": {},
          "execution_count": 49
        }
      ]
    },
    {
      "cell_type": "code",
      "source": [
        "s_A = pd.Series([5, 4, 3, 2, 1], index=[50, 10, 20, 30, 40])\n",
        "df_A.multiply(s_A, axis=0)# 연산자로는 지원하지 않는다. 연산을 수행할 축을 지정하여 처리한다."
      ],
      "metadata": {
        "id": "ejbANhM06CsA",
        "outputId": "0dbc62cc-c301-45d0-e2bd-56e72802913c",
        "colab": {
          "base_uri": "https://localhost:8080/",
          "height": 238
        }
      },
      "execution_count": 50,
      "outputs": [
        {
          "output_type": "execute_result",
          "data": {
            "text/plain": [
              "     one   two  three\n",
              "0    NaN   NaN    NaN\n",
              "10  44.0  48.0   52.0\n",
              "20  63.0  66.0   69.0\n",
              "30  62.0  64.0   66.0\n",
              "40  41.0  42.0   43.0\n",
              "50   NaN   NaN    NaN"
            ],
            "text/html": [
              "\n",
              "  <div id=\"df-b28f94f6-2d97-4b37-9632-c8505ea6ddc4\">\n",
              "    <div class=\"colab-df-container\">\n",
              "      <div>\n",
              "<style scoped>\n",
              "    .dataframe tbody tr th:only-of-type {\n",
              "        vertical-align: middle;\n",
              "    }\n",
              "\n",
              "    .dataframe tbody tr th {\n",
              "        vertical-align: top;\n",
              "    }\n",
              "\n",
              "    .dataframe thead th {\n",
              "        text-align: right;\n",
              "    }\n",
              "</style>\n",
              "<table border=\"1\" class=\"dataframe\">\n",
              "  <thead>\n",
              "    <tr style=\"text-align: right;\">\n",
              "      <th></th>\n",
              "      <th>one</th>\n",
              "      <th>two</th>\n",
              "      <th>three</th>\n",
              "    </tr>\n",
              "  </thead>\n",
              "  <tbody>\n",
              "    <tr>\n",
              "      <th>0</th>\n",
              "      <td>NaN</td>\n",
              "      <td>NaN</td>\n",
              "      <td>NaN</td>\n",
              "    </tr>\n",
              "    <tr>\n",
              "      <th>10</th>\n",
              "      <td>44.0</td>\n",
              "      <td>48.0</td>\n",
              "      <td>52.0</td>\n",
              "    </tr>\n",
              "    <tr>\n",
              "      <th>20</th>\n",
              "      <td>63.0</td>\n",
              "      <td>66.0</td>\n",
              "      <td>69.0</td>\n",
              "    </tr>\n",
              "    <tr>\n",
              "      <th>30</th>\n",
              "      <td>62.0</td>\n",
              "      <td>64.0</td>\n",
              "      <td>66.0</td>\n",
              "    </tr>\n",
              "    <tr>\n",
              "      <th>40</th>\n",
              "      <td>41.0</td>\n",
              "      <td>42.0</td>\n",
              "      <td>43.0</td>\n",
              "    </tr>\n",
              "    <tr>\n",
              "      <th>50</th>\n",
              "      <td>NaN</td>\n",
              "      <td>NaN</td>\n",
              "      <td>NaN</td>\n",
              "    </tr>\n",
              "  </tbody>\n",
              "</table>\n",
              "</div>\n",
              "      <button class=\"colab-df-convert\" onclick=\"convertToInteractive('df-b28f94f6-2d97-4b37-9632-c8505ea6ddc4')\"\n",
              "              title=\"Convert this dataframe to an interactive table.\"\n",
              "              style=\"display:none;\">\n",
              "        \n",
              "  <svg xmlns=\"http://www.w3.org/2000/svg\" height=\"24px\"viewBox=\"0 0 24 24\"\n",
              "       width=\"24px\">\n",
              "    <path d=\"M0 0h24v24H0V0z\" fill=\"none\"/>\n",
              "    <path d=\"M18.56 5.44l.94 2.06.94-2.06 2.06-.94-2.06-.94-.94-2.06-.94 2.06-2.06.94zm-11 1L8.5 8.5l.94-2.06 2.06-.94-2.06-.94L8.5 2.5l-.94 2.06-2.06.94zm10 10l.94 2.06.94-2.06 2.06-.94-2.06-.94-.94-2.06-.94 2.06-2.06.94z\"/><path d=\"M17.41 7.96l-1.37-1.37c-.4-.4-.92-.59-1.43-.59-.52 0-1.04.2-1.43.59L10.3 9.45l-7.72 7.72c-.78.78-.78 2.05 0 2.83L4 21.41c.39.39.9.59 1.41.59.51 0 1.02-.2 1.41-.59l7.78-7.78 2.81-2.81c.8-.78.8-2.07 0-2.86zM5.41 20L4 18.59l7.72-7.72 1.47 1.35L5.41 20z\"/>\n",
              "  </svg>\n",
              "      </button>\n",
              "      \n",
              "  <style>\n",
              "    .colab-df-container {\n",
              "      display:flex;\n",
              "      flex-wrap:wrap;\n",
              "      gap: 12px;\n",
              "    }\n",
              "\n",
              "    .colab-df-convert {\n",
              "      background-color: #E8F0FE;\n",
              "      border: none;\n",
              "      border-radius: 50%;\n",
              "      cursor: pointer;\n",
              "      display: none;\n",
              "      fill: #1967D2;\n",
              "      height: 32px;\n",
              "      padding: 0 0 0 0;\n",
              "      width: 32px;\n",
              "    }\n",
              "\n",
              "    .colab-df-convert:hover {\n",
              "      background-color: #E2EBFA;\n",
              "      box-shadow: 0px 1px 2px rgba(60, 64, 67, 0.3), 0px 1px 3px 1px rgba(60, 64, 67, 0.15);\n",
              "      fill: #174EA6;\n",
              "    }\n",
              "\n",
              "    [theme=dark] .colab-df-convert {\n",
              "      background-color: #3B4455;\n",
              "      fill: #D2E3FC;\n",
              "    }\n",
              "\n",
              "    [theme=dark] .colab-df-convert:hover {\n",
              "      background-color: #434B5C;\n",
              "      box-shadow: 0px 1px 3px 1px rgba(0, 0, 0, 0.15);\n",
              "      filter: drop-shadow(0px 1px 2px rgba(0, 0, 0, 0.3));\n",
              "      fill: #FFFFFF;\n",
              "    }\n",
              "  </style>\n",
              "\n",
              "      <script>\n",
              "        const buttonEl =\n",
              "          document.querySelector('#df-b28f94f6-2d97-4b37-9632-c8505ea6ddc4 button.colab-df-convert');\n",
              "        buttonEl.style.display =\n",
              "          google.colab.kernel.accessAllowed ? 'block' : 'none';\n",
              "\n",
              "        async function convertToInteractive(key) {\n",
              "          const element = document.querySelector('#df-b28f94f6-2d97-4b37-9632-c8505ea6ddc4');\n",
              "          const dataTable =\n",
              "            await google.colab.kernel.invokeFunction('convertToInteractive',\n",
              "                                                     [key], {});\n",
              "          if (!dataTable) return;\n",
              "\n",
              "          const docLinkHtml = 'Like what you see? Visit the ' +\n",
              "            '<a target=\"_blank\" href=https://colab.research.google.com/notebooks/data_table.ipynb>data table notebook</a>'\n",
              "            + ' to learn more about interactive tables.';\n",
              "          element.innerHTML = '';\n",
              "          dataTable['output_type'] = 'display_data';\n",
              "          await google.colab.output.renderOutput(dataTable, element);\n",
              "          const docLink = document.createElement('div');\n",
              "          docLink.innerHTML = docLinkHtml;\n",
              "          element.appendChild(docLink);\n",
              "        }\n",
              "      </script>\n",
              "    </div>\n",
              "  </div>\n",
              "  "
            ]
          },
          "metadata": {},
          "execution_count": 50
        }
      ]
    },
    {
      "cell_type": "code",
      "source": [
        "# Series와  마찬가지로 numpy와 호완되며 DataFrame을 반환한다.\n",
        "s_A = pd.Series([5, 4, 3], index=[\"one\", \"two\", \"three\"])\n",
        "np.add(df_A, s_A)"
      ],
      "metadata": {
        "id": "RtpldnLQ_ArC",
        "outputId": "7422008b-c161-473a-8e23-a10ed058a242",
        "colab": {
          "base_uri": "https://localhost:8080/",
          "height": 206
        }
      },
      "execution_count": 51,
      "outputs": [
        {
          "output_type": "execute_result",
          "data": {
            "text/plain": [
              "    one  two  three\n",
              "0     6    6      6\n",
              "10   16   16     16\n",
              "20   26   26     26\n",
              "30   36   36     36\n",
              "40   46   46     46"
            ],
            "text/html": [
              "\n",
              "  <div id=\"df-59001b11-0083-4754-8927-6716f01ddda2\">\n",
              "    <div class=\"colab-df-container\">\n",
              "      <div>\n",
              "<style scoped>\n",
              "    .dataframe tbody tr th:only-of-type {\n",
              "        vertical-align: middle;\n",
              "    }\n",
              "\n",
              "    .dataframe tbody tr th {\n",
              "        vertical-align: top;\n",
              "    }\n",
              "\n",
              "    .dataframe thead th {\n",
              "        text-align: right;\n",
              "    }\n",
              "</style>\n",
              "<table border=\"1\" class=\"dataframe\">\n",
              "  <thead>\n",
              "    <tr style=\"text-align: right;\">\n",
              "      <th></th>\n",
              "      <th>one</th>\n",
              "      <th>two</th>\n",
              "      <th>three</th>\n",
              "    </tr>\n",
              "  </thead>\n",
              "  <tbody>\n",
              "    <tr>\n",
              "      <th>0</th>\n",
              "      <td>6</td>\n",
              "      <td>6</td>\n",
              "      <td>6</td>\n",
              "    </tr>\n",
              "    <tr>\n",
              "      <th>10</th>\n",
              "      <td>16</td>\n",
              "      <td>16</td>\n",
              "      <td>16</td>\n",
              "    </tr>\n",
              "    <tr>\n",
              "      <th>20</th>\n",
              "      <td>26</td>\n",
              "      <td>26</td>\n",
              "      <td>26</td>\n",
              "    </tr>\n",
              "    <tr>\n",
              "      <th>30</th>\n",
              "      <td>36</td>\n",
              "      <td>36</td>\n",
              "      <td>36</td>\n",
              "    </tr>\n",
              "    <tr>\n",
              "      <th>40</th>\n",
              "      <td>46</td>\n",
              "      <td>46</td>\n",
              "      <td>46</td>\n",
              "    </tr>\n",
              "  </tbody>\n",
              "</table>\n",
              "</div>\n",
              "      <button class=\"colab-df-convert\" onclick=\"convertToInteractive('df-59001b11-0083-4754-8927-6716f01ddda2')\"\n",
              "              title=\"Convert this dataframe to an interactive table.\"\n",
              "              style=\"display:none;\">\n",
              "        \n",
              "  <svg xmlns=\"http://www.w3.org/2000/svg\" height=\"24px\"viewBox=\"0 0 24 24\"\n",
              "       width=\"24px\">\n",
              "    <path d=\"M0 0h24v24H0V0z\" fill=\"none\"/>\n",
              "    <path d=\"M18.56 5.44l.94 2.06.94-2.06 2.06-.94-2.06-.94-.94-2.06-.94 2.06-2.06.94zm-11 1L8.5 8.5l.94-2.06 2.06-.94-2.06-.94L8.5 2.5l-.94 2.06-2.06.94zm10 10l.94 2.06.94-2.06 2.06-.94-2.06-.94-.94-2.06-.94 2.06-2.06.94z\"/><path d=\"M17.41 7.96l-1.37-1.37c-.4-.4-.92-.59-1.43-.59-.52 0-1.04.2-1.43.59L10.3 9.45l-7.72 7.72c-.78.78-.78 2.05 0 2.83L4 21.41c.39.39.9.59 1.41.59.51 0 1.02-.2 1.41-.59l7.78-7.78 2.81-2.81c.8-.78.8-2.07 0-2.86zM5.41 20L4 18.59l7.72-7.72 1.47 1.35L5.41 20z\"/>\n",
              "  </svg>\n",
              "      </button>\n",
              "      \n",
              "  <style>\n",
              "    .colab-df-container {\n",
              "      display:flex;\n",
              "      flex-wrap:wrap;\n",
              "      gap: 12px;\n",
              "    }\n",
              "\n",
              "    .colab-df-convert {\n",
              "      background-color: #E8F0FE;\n",
              "      border: none;\n",
              "      border-radius: 50%;\n",
              "      cursor: pointer;\n",
              "      display: none;\n",
              "      fill: #1967D2;\n",
              "      height: 32px;\n",
              "      padding: 0 0 0 0;\n",
              "      width: 32px;\n",
              "    }\n",
              "\n",
              "    .colab-df-convert:hover {\n",
              "      background-color: #E2EBFA;\n",
              "      box-shadow: 0px 1px 2px rgba(60, 64, 67, 0.3), 0px 1px 3px 1px rgba(60, 64, 67, 0.15);\n",
              "      fill: #174EA6;\n",
              "    }\n",
              "\n",
              "    [theme=dark] .colab-df-convert {\n",
              "      background-color: #3B4455;\n",
              "      fill: #D2E3FC;\n",
              "    }\n",
              "\n",
              "    [theme=dark] .colab-df-convert:hover {\n",
              "      background-color: #434B5C;\n",
              "      box-shadow: 0px 1px 3px 1px rgba(0, 0, 0, 0.15);\n",
              "      filter: drop-shadow(0px 1px 2px rgba(0, 0, 0, 0.3));\n",
              "      fill: #FFFFFF;\n",
              "    }\n",
              "  </style>\n",
              "\n",
              "      <script>\n",
              "        const buttonEl =\n",
              "          document.querySelector('#df-59001b11-0083-4754-8927-6716f01ddda2 button.colab-df-convert');\n",
              "        buttonEl.style.display =\n",
              "          google.colab.kernel.accessAllowed ? 'block' : 'none';\n",
              "\n",
              "        async function convertToInteractive(key) {\n",
              "          const element = document.querySelector('#df-59001b11-0083-4754-8927-6716f01ddda2');\n",
              "          const dataTable =\n",
              "            await google.colab.kernel.invokeFunction('convertToInteractive',\n",
              "                                                     [key], {});\n",
              "          if (!dataTable) return;\n",
              "\n",
              "          const docLinkHtml = 'Like what you see? Visit the ' +\n",
              "            '<a target=\"_blank\" href=https://colab.research.google.com/notebooks/data_table.ipynb>data table notebook</a>'\n",
              "            + ' to learn more about interactive tables.';\n",
              "          element.innerHTML = '';\n",
              "          dataTable['output_type'] = 'display_data';\n",
              "          await google.colab.output.renderOutput(dataTable, element);\n",
              "          const docLink = document.createElement('div');\n",
              "          docLink.innerHTML = docLinkHtml;\n",
              "          element.appendChild(docLink);\n",
              "        }\n",
              "      </script>\n",
              "    </div>\n",
              "  </div>\n",
              "  "
            ]
          },
          "metadata": {},
          "execution_count": 51
        }
      ]
    },
    {
      "cell_type": "code",
      "source": [
        "%%timeit\n",
        "\n",
        "df_A = pd.DataFrame(np.array([\n",
        "    [1, 2, 3],\n",
        "    [11, 12, 13],\n",
        "    [21, 22, 23],\n",
        "    [31, 32, 33],\n",
        "    [41, 42, 43],\n",
        "]), index=[0, 10, 20, 30, 40], columns=[\"one\", \"two\", \"three\"])\n",
        "\n",
        "\n",
        "df_B = pd.DataFrame(np.array([\n",
        "    [3, 2, 1],\n",
        "    [13, 12, 11],\n",
        "    [23, 22, 21],\n",
        "    [33, 32, 31],\n",
        "    [53, 52, 51],\n",
        "]), index=[0, 10, 20, 30, 40], columns=[\"one\", \"two\", \"three\"])\n",
        "\n",
        "df_A * df_B"
      ],
      "metadata": {
        "id": "jgAs3bac6bCX",
        "outputId": "b98e073a-7a5f-42d5-fa87-d0438e4e294b",
        "colab": {
          "base_uri": "https://localhost:8080/"
        }
      },
      "execution_count": 52,
      "outputs": [
        {
          "output_type": "stream",
          "name": "stdout",
          "text": [
            "758 µs ± 72.5 µs per loop (mean ± std. dev. of 7 runs, 1000 loops each)\n"
          ]
        }
      ]
    },
    {
      "cell_type": "code",
      "source": [
        "%%timeit\n",
        "\n",
        "df_A.values * df_B.values"
      ],
      "metadata": {
        "id": "-k18O3HC6h5f",
        "outputId": "e1f6b23e-def0-4723-a1fb-aa7fedf49828",
        "colab": {
          "base_uri": "https://localhost:8080/"
        }
      },
      "execution_count": 53,
      "outputs": [
        {
          "output_type": "stream",
          "name": "stdout",
          "text": [
            "8.45 µs ± 935 ns per loop (mean ± std. dev. of 7 runs, 100000 loops each)\n"
          ]
        }
      ]
    },
    {
      "cell_type": "markdown",
      "source": [
        "동일한 형태의 DataFrame이라면 numpy를 통한 연산이 훨씬 빠르다."
      ],
      "metadata": {
        "id": "59FsVXTV6_K4"
      }
    },
    {
      "cell_type": "markdown",
      "source": [
        "# 참고"
      ],
      "metadata": {
        "id": "Sf1C95BNHa3P"
      }
    },
    {
      "cell_type": "markdown",
      "source": [
        "## 벡터화 연산(Vectorized operations)\n",
        "\n"
      ],
      "metadata": {
        "id": "_YWaGDUyRwXA"
      }
    },
    {
      "cell_type": "markdown",
      "source": [
        "**벡터화 연산(Vectorized operation) 이란?**\n",
        "\n",
        "array의 단위(1차원, 2차원, ... n차원)의 연산을 할 때, 한 번에 많은 양의 수를 연산하여 연산 효율을 높인다. 이와 함께 구현을 간단하게 할 수 있다. > 이를 최대한 잘 활용해야, **개발/연산 시간**과 **에너지**를 아낄 수 있다."
      ],
      "metadata": {
        "id": "-pA3SL27YwLE"
      }
    },
    {
      "cell_type": "markdown",
      "source": [
        "ex) 0 ~ 1000 까지의 수열과,\n",
        "1000 ~ 0 까지의 수열 각각을 더해보자."
      ],
      "metadata": {
        "id": "uHTcbFL5fB8a"
      }
    },
    {
      "cell_type": "code",
      "source": [
        "a = [i for i in range(0, 1001)]\n",
        "b = [i for i in range(1000, -1, -1)]"
      ],
      "metadata": {
        "id": "E8RG6tuYfAjD"
      },
      "execution_count": 54,
      "outputs": []
    },
    {
      "cell_type": "code",
      "source": [
        "# list에서 a + b 는 두 리스트가 값이 더 해져서 나오는 것이 아니라, 요소들이 합쳐진다.\n",
        "# 즉, 벡터화 연산을 지원하지 않는다.\n",
        "c = a + b\n",
        "# 확인하기 위해 c는 길이가 길어 처음 5개 끝 5개와 길이를 보자\n",
        "c[:5], c[-5:], len(c)"
      ],
      "metadata": {
        "colab": {
          "base_uri": "https://localhost:8080/"
        },
        "id": "DUcQUs5bgmab",
        "outputId": "b5536fc7-7c21-49fb-d916-a7a881b6fb4f"
      },
      "execution_count": 55,
      "outputs": [
        {
          "output_type": "execute_result",
          "data": {
            "text/plain": [
              "([0, 1, 2, 3, 4], [4, 3, 2, 1, 0], 2002)"
            ]
          },
          "metadata": {},
          "execution_count": 55
        }
      ]
    },
    {
      "cell_type": "code",
      "source": [
        "# 이 둘을 더 하려면, 요소별로 덧셈을 해주어야 한다.\n",
        "\n",
        "c = []\n",
        "for i, j in zip(a, b):\n",
        "    c.append(i + j)\n",
        "\n",
        "#처음 5개와 길이만 보자\n",
        "c[:5], len(c)"
      ],
      "metadata": {
        "colab": {
          "base_uri": "https://localhost:8080/"
        },
        "id": "l3AubB8GhLhs",
        "outputId": "6a7a9fb8-8a9c-4ae4-dd14-50c1010a3717"
      },
      "execution_count": 56,
      "outputs": [
        {
          "output_type": "execute_result",
          "data": {
            "text/plain": [
              "([1000, 1000, 1000, 1000, 1000], 1001)"
            ]
          },
          "metadata": {},
          "execution_count": 56
        }
      ]
    },
    {
      "cell_type": "code",
      "source": [
        "# Numpy ndarray는 벡터화 연산을 지원한다.\n",
        "np_a = np.array(a)\n",
        "np_b = np.array(b)\n",
        "\n",
        "# 각각의 array 인덱스에 대응하여 덧셈이 이루어 진다\n",
        "np_c = np_a + np_b\n",
        "\n",
        "np_c[:5], len(np_c)"
      ],
      "metadata": {
        "colab": {
          "base_uri": "https://localhost:8080/"
        },
        "id": "-sUaI-9zibUF",
        "outputId": "8abea6a7-2b9f-4c65-9506-d6c8cd71c61e"
      },
      "execution_count": 57,
      "outputs": [
        {
          "output_type": "execute_result",
          "data": {
            "text/plain": [
              "(array([1000, 1000, 1000, 1000, 1000]), 1001)"
            ]
          },
          "metadata": {},
          "execution_count": 57
        }
      ]
    },
    {
      "cell_type": "markdown",
      "source": [
        "numpy ndarray는 벡터화 연산을 통해 수행 속도를 줄일 수 있다.\n",
        "\n",
        "동일한 numpy ndarray를 이용하여 벡터를 이용했을 때와\n",
        "\n",
        "단일 연산의 반복으로 처리했을 때를 비교해보자."
      ],
      "metadata": {
        "id": "Jau8mDBoi9i6"
      }
    },
    {
      "cell_type": "code",
      "source": [
        "# 동일한 numpy ndarray를 이용하여 벡터\n",
        "%%timeit\n",
        "\n",
        "np_c = np_a + np_b"
      ],
      "metadata": {
        "colab": {
          "base_uri": "https://localhost:8080/"
        },
        "id": "v0e7J5V4jIXj",
        "outputId": "e4605a0d-e0af-4d55-b887-6e21555a772f"
      },
      "execution_count": 58,
      "outputs": [
        {
          "output_type": "stream",
          "name": "stdout",
          "text": [
            "1.1 µs ± 10.9 ns per loop (mean ± std. dev. of 7 runs, 1000000 loops each)\n"
          ]
        }
      ]
    },
    {
      "cell_type": "code",
      "source": [
        "# 단일 연산의 반복으로 처리했을 때\n",
        "%%timeit\n",
        "\n",
        "np_c_v = np.zeros(len(np_a))\n",
        "for i, (a, b) in enumerate(zip(np_a, np_b)):\n",
        "    np_c_v[i] = a + b"
      ],
      "metadata": {
        "colab": {
          "base_uri": "https://localhost:8080/"
        },
        "id": "03pmOOw0wdl-",
        "outputId": "d2468ea3-7978-42ad-ff12-2cee68d46ae5"
      },
      "execution_count": 59,
      "outputs": [
        {
          "output_type": "stream",
          "name": "stdout",
          "text": [
            "431 µs ± 11.1 µs per loop (mean ± std. dev. of 7 runs, 1000 loops each)\n"
          ]
        }
      ]
    },
    {
      "cell_type": "code",
      "source": [
        "# a의 합을 구해보자\n",
        "%%timeit\n",
        "\n",
        "s_a = 0\n",
        "for a in np_a:\n",
        "    s_a += a"
      ],
      "metadata": {
        "colab": {
          "base_uri": "https://localhost:8080/"
        },
        "id": "X2mZ6yrl_-SQ",
        "outputId": "326a3eef-9f48-40ec-d1f2-9ddb29ad99e5"
      },
      "execution_count": 60,
      "outputs": [
        {
          "output_type": "stream",
          "name": "stdout",
          "text": [
            "124 µs ± 5.13 µs per loop (mean ± std. dev. of 7 runs, 10000 loops each)\n"
          ]
        }
      ]
    },
    {
      "cell_type": "code",
      "source": [
        "%%timeit\n",
        "\n",
        "s_a = np.sum(np_a)"
      ],
      "metadata": {
        "colab": {
          "base_uri": "https://localhost:8080/"
        },
        "id": "ONuoWL3fAQHP",
        "outputId": "3f492853-b78c-46e6-81e7-067b969fa8c7"
      },
      "execution_count": 61,
      "outputs": [
        {
          "output_type": "stream",
          "name": "stdout",
          "text": [
            "5.21 µs ± 194 ns per loop (mean ± std. dev. of 7 runs, 100000 loops each)\n"
          ]
        }
      ]
    },
    {
      "cell_type": "markdown",
      "source": [
        "[Practice]\n",
        "\n",
        "np_c와 np_c_v가 같은지 확인"
      ],
      "metadata": {
        "id": "Jedw1dpvzI1N"
      }
    },
    {
      "cell_type": "code",
      "source": [
        "np_c = np_a + np_b\n",
        "\n",
        "np_c_v = np.zeros_like(np_a) # np_a와 동일한 형태로 모두 0으로 된 ndarray 생성\n",
        "for i, (a, b) in enumerate(zip(np_a, np_b)):\n",
        "    np_c_v[i] = a + b\n",
        "\n",
        "np.sum(np_c == np_c_v) == len(np_c)"
      ],
      "metadata": {
        "colab": {
          "base_uri": "https://localhost:8080/"
        },
        "id": "Srv-iLMkw2i9",
        "outputId": "78dcfbe5-375f-4433-c972-ef93ef51b0a8"
      },
      "execution_count": 62,
      "outputs": [
        {
          "output_type": "execute_result",
          "data": {
            "text/plain": [
              "True"
            ]
          },
          "metadata": {},
          "execution_count": 62
        }
      ]
    },
    {
      "cell_type": "markdown",
      "source": [
        "a = np.array([1, 2, 3, 4, 5])\n",
        "b = np.array([5, 4, 3, 2, 1]) 일 때, 다음을 구하라\n",
        "\n",
        "$s=\\sum\\limits_{i=1}^{n}a_ib_i$"
      ],
      "metadata": {
        "id": "KReJG-OjDMXV"
      }
    },
    {
      "cell_type": "code",
      "source": [
        "a = np.array([1, 2, 3, 4, 5])\n",
        "b = np.array([5, 4, 3, 2, 1])\n",
        "np.sum(a * b)"
      ],
      "metadata": {
        "colab": {
          "base_uri": "https://localhost:8080/"
        },
        "id": "oWwBEZcIFP5C",
        "outputId": "42c14a5c-fa45-4ee9-8b80-fbd0e20e2a19"
      },
      "execution_count": 63,
      "outputs": [
        {
          "output_type": "execute_result",
          "data": {
            "text/plain": [
              "35"
            ]
          },
          "metadata": {},
          "execution_count": 63
        }
      ]
    },
    {
      "cell_type": "code",
      "source": [
        "np.dot(a, b)"
      ],
      "metadata": {
        "colab": {
          "base_uri": "https://localhost:8080/"
        },
        "id": "nMGrQDweFuRZ",
        "outputId": "8d67afa1-495e-4ce4-d92f-edf206dfa356"
      },
      "execution_count": 64,
      "outputs": [
        {
          "output_type": "execute_result",
          "data": {
            "text/plain": [
              "35"
            ]
          },
          "metadata": {},
          "execution_count": 64
        }
      ]
    },
    {
      "cell_type": "code",
      "source": [
        "%%timeit\n",
        "np.sum(a * b) # a * b => np.sum 2번"
      ],
      "metadata": {
        "colab": {
          "base_uri": "https://localhost:8080/"
        },
        "id": "_fFMS9nbF31u",
        "outputId": "5dc58a8d-3c19-4a5f-b5cc-4237a4768cc5"
      },
      "execution_count": 65,
      "outputs": [
        {
          "output_type": "stream",
          "name": "stdout",
          "text": [
            "5.27 µs ± 807 ns per loop (mean ± std. dev. of 7 runs, 100000 loops each)\n"
          ]
        }
      ]
    },
    {
      "cell_type": "code",
      "source": [
        "%%timeit\n",
        "np.dot(a, b) # np.dot => 1번"
      ],
      "metadata": {
        "colab": {
          "base_uri": "https://localhost:8080/"
        },
        "id": "rtd-HG3ZF9gn",
        "outputId": "cfc7f167-0341-49a2-a999-70186baa9417"
      },
      "execution_count": 66,
      "outputs": [
        {
          "output_type": "stream",
          "name": "stdout",
          "text": [
            "1.32 µs ± 61 ns per loop (mean ± std. dev. of 7 runs, 100000 loops each)\n"
          ]
        }
      ]
    },
    {
      "cell_type": "markdown",
      "source": [
        "## 고차원변환(Broadcasting) 연산\n",
        "\n",
        "서로 다른 차원의 배열의 연산에서, 낮은 차원의 배열이 높은 차원의 배열로 차원 변환(Casting)되어 연산을 하는 것\n",
        "\n",
        "numpy는 고차원변환(broadcasting)을 지원한다. [Numpy Broadcating](https://numpy.org/doc/stable/user/basics.broadcasting.html)"
      ],
      "metadata": {
        "id": "M80_VBswxcKz"
      }
    },
    {
      "cell_type": "code",
      "source": [
        "s = np.array([1, 2, 3, 4, 5])\n",
        "s * 3 # s는 1차원이고 3은 단일 변수(scalar)이다. 단일 변수(scalar)가 s의 차원과 형태(shape, (5, ))에 맞춰 변환되여 * 연산을 수행한다."
      ],
      "metadata": {
        "colab": {
          "base_uri": "https://localhost:8080/"
        },
        "id": "sWfoOLib3u87",
        "outputId": "6f460494-79dc-4118-a6bd-fcadae0de3c4"
      },
      "execution_count": 67,
      "outputs": [
        {
          "output_type": "execute_result",
          "data": {
            "text/plain": [
              "array([ 3,  6,  9, 12, 15])"
            ]
          },
          "metadata": {},
          "execution_count": 67
        }
      ]
    },
    {
      "cell_type": "code",
      "source": [
        "# broadcating이 지원 안 된다면, 다음과 같이 연산을 수행해야 한다.\n",
        "s1 = np.array([1, 2, 3, 4, 5])\n",
        "s2 = np.array([3, 3, 3, 3, 3])\n",
        "\n",
        "s1 * s2"
      ],
      "metadata": {
        "colab": {
          "base_uri": "https://localhost:8080/"
        },
        "id": "tuQwQSQl4PKV",
        "outputId": "2895394c-5b79-4f40-d57d-430b4ec65add"
      },
      "execution_count": 68,
      "outputs": [
        {
          "output_type": "execute_result",
          "data": {
            "text/plain": [
              "array([ 3,  6,  9, 12, 15])"
            ]
          },
          "metadata": {},
          "execution_count": 68
        }
      ]
    },
    {
      "cell_type": "markdown",
      "source": [
        "이러한 점에서 고차원변환(Broadcasting)은 연산에 엄청난 편리성을 제공"
      ],
      "metadata": {
        "id": "GfUu3Qes4yV-"
      }
    },
    {
      "cell_type": "code",
      "source": [
        "# 2차원 배열과 1차원 배열\n",
        "a = np.arange(1, 21).reshape((4, 5))\n",
        "a"
      ],
      "metadata": {
        "colab": {
          "base_uri": "https://localhost:8080/"
        },
        "id": "iLmCdAWG4xP0",
        "outputId": "706ac15b-bdd5-4ee0-d47c-474c1b87c982"
      },
      "execution_count": 69,
      "outputs": [
        {
          "output_type": "execute_result",
          "data": {
            "text/plain": [
              "array([[ 1,  2,  3,  4,  5],\n",
              "       [ 6,  7,  8,  9, 10],\n",
              "       [11, 12, 13, 14, 15],\n",
              "       [16, 17, 18, 19, 20]])"
            ]
          },
          "metadata": {},
          "execution_count": 69
        }
      ]
    },
    {
      "cell_type": "code",
      "source": [
        "b = np.arange(1, 6)\n",
        "b"
      ],
      "metadata": {
        "colab": {
          "base_uri": "https://localhost:8080/"
        },
        "id": "g9u0wF3A7qB_",
        "outputId": "63c10d80-6bf8-41e4-e297-bbd1cbc8a2d4"
      },
      "execution_count": 70,
      "outputs": [
        {
          "output_type": "execute_result",
          "data": {
            "text/plain": [
              "array([1, 2, 3, 4, 5])"
            ]
          },
          "metadata": {},
          "execution_count": 70
        }
      ]
    },
    {
      "cell_type": "code",
      "source": [
        "a / b # a와 같은 row수로 [1, 2, 3, 4 ,5] 반복적으로 확장이 되어  연산이 된다"
      ],
      "metadata": {
        "colab": {
          "base_uri": "https://localhost:8080/"
        },
        "id": "Ck8t84qe8ByE",
        "outputId": "4a63252e-d713-4a18-c0f8-02053b668795"
      },
      "execution_count": 71,
      "outputs": [
        {
          "output_type": "execute_result",
          "data": {
            "text/plain": [
              "array([[ 1.        ,  1.        ,  1.        ,  1.        ,  1.        ],\n",
              "       [ 6.        ,  3.5       ,  2.66666667,  2.25      ,  2.        ],\n",
              "       [11.        ,  6.        ,  4.33333333,  3.5       ,  3.        ],\n",
              "       [16.        ,  8.5       ,  6.        ,  4.75      ,  4.        ]])"
            ]
          },
          "metadata": {},
          "execution_count": 71
        }
      ]
    },
    {
      "cell_type": "code",
      "source": [
        "# 고차원확장이 없다면, 다음과 같이 연산을 진행\n",
        "c = a.copy().astype(np.float32)\n",
        "for i in range(a.shape[0]):\n",
        "    c[i] = c[i] /  b\n",
        "c"
      ],
      "metadata": {
        "colab": {
          "base_uri": "https://localhost:8080/"
        },
        "id": "M5xBQb_H8h7q",
        "outputId": "d861b63d-a1f3-4ba8-d964-ebb519ec1a48"
      },
      "execution_count": 72,
      "outputs": [
        {
          "output_type": "execute_result",
          "data": {
            "text/plain": [
              "array([[ 1.       ,  1.       ,  1.       ,  1.       ,  1.       ],\n",
              "       [ 6.       ,  3.5      ,  2.6666667,  2.25     ,  2.       ],\n",
              "       [11.       ,  6.       ,  4.3333335,  3.5      ,  3.       ],\n",
              "       [16.       ,  8.5      ,  6.       ,  4.75     ,  4.       ]],\n",
              "      dtype=float32)"
            ]
          },
          "metadata": {},
          "execution_count": 72
        }
      ]
    },
    {
      "cell_type": "code",
      "source": [
        "b = np.arange(1, 5)\n",
        "a / b # 낮은 차원일 때는, 열(마지막 차원) 수와 일치해야한다."
      ],
      "metadata": {
        "colab": {
          "base_uri": "https://localhost:8080/",
          "height": 193
        },
        "id": "liuedsEO9jmu",
        "outputId": "f8bb2aff-6c45-414d-aa6e-14a3779132c9"
      },
      "execution_count": 73,
      "outputs": [
        {
          "output_type": "error",
          "ename": "ValueError",
          "evalue": "ignored",
          "traceback": [
            "\u001b[0;31m---------------------------------------------------------------------------\u001b[0m",
            "\u001b[0;31mValueError\u001b[0m                                Traceback (most recent call last)",
            "\u001b[0;32m<ipython-input-73-8fc0412a926e>\u001b[0m in \u001b[0;36m<module>\u001b[0;34m\u001b[0m\n\u001b[1;32m      1\u001b[0m \u001b[0mb\u001b[0m \u001b[0;34m=\u001b[0m \u001b[0mnp\u001b[0m\u001b[0;34m.\u001b[0m\u001b[0marange\u001b[0m\u001b[0;34m(\u001b[0m\u001b[0;36m1\u001b[0m\u001b[0;34m,\u001b[0m \u001b[0;36m5\u001b[0m\u001b[0;34m)\u001b[0m\u001b[0;34m\u001b[0m\u001b[0;34m\u001b[0m\u001b[0m\n\u001b[0;32m----> 2\u001b[0;31m \u001b[0ma\u001b[0m \u001b[0;34m/\u001b[0m \u001b[0mb\u001b[0m \u001b[0;31m# 낮은 차원일 때는, 열(마지막 차원) 수와 일치해야한다.\u001b[0m\u001b[0;34m\u001b[0m\u001b[0;34m\u001b[0m\u001b[0m\n\u001b[0m",
            "\u001b[0;31mValueError\u001b[0m: operands could not be broadcast together with shapes (4,5) (4,) "
          ]
        }
      ]
    },
    {
      "cell_type": "code",
      "source": [
        "b = np.arange(1, 5) # 열에 대한 직접적인 고차원 변환은 지원하지 않지만,\n",
        "a / b[:, np.newaxis] # 동일한 차원이고, 형태가 1인 것만 제외하고 나머지는 같다면, 형태가 1인 차원에 대해서 반복을 통해 형태를 맞추어 연산이 된다."
      ],
      "metadata": {
        "colab": {
          "base_uri": "https://localhost:8080/"
        },
        "id": "V_6_mZPF9ozW",
        "outputId": "fa74f215-79dc-4ccf-fb48-edbb01cac7e9"
      },
      "execution_count": 74,
      "outputs": [
        {
          "output_type": "execute_result",
          "data": {
            "text/plain": [
              "array([[1.        , 2.        , 3.        , 4.        , 5.        ],\n",
              "       [3.        , 3.5       , 4.        , 4.5       , 5.        ],\n",
              "       [3.66666667, 4.        , 4.33333333, 4.66666667, 5.        ],\n",
              "       [4.        , 4.25      , 4.5       , 4.75      , 5.        ]])"
            ]
          },
          "metadata": {},
          "execution_count": 74
        }
      ]
    },
    {
      "cell_type": "code",
      "source": [
        "b[:, np.newaxis ], b[:, np.newaxis ].shape # 즉 열에 대한 형태가 반복을 통해 맞추어져서 열단위 고차원 변환과 같은 효과를 낸 것이다."
      ],
      "metadata": {
        "colab": {
          "base_uri": "https://localhost:8080/"
        },
        "id": "2DbpdjjZB1MH",
        "outputId": "b6f4491a-fa1b-4903-e02f-d1c6477ab260"
      },
      "execution_count": 75,
      "outputs": [
        {
          "output_type": "execute_result",
          "data": {
            "text/plain": [
              "(array([[1],\n",
              "        [2],\n",
              "        [3],\n",
              "        [4]]), (4, 1))"
            ]
          },
          "metadata": {},
          "execution_count": 75
        }
      ]
    },
    {
      "cell_type": "code",
      "source": [
        "# 위의 연산은 다음과 같다.\n",
        "c = a.copy().astype(np.float32)\n",
        "for i in range(a.shape[1]):\n",
        "    c[:, i] = c[:, i] /  b\n",
        "c"
      ],
      "metadata": {
        "colab": {
          "base_uri": "https://localhost:8080/"
        },
        "id": "4HPszcRLB66f",
        "outputId": "6545fc18-fbbd-48f6-b5e5-afc5d7d93e3c"
      },
      "execution_count": 76,
      "outputs": [
        {
          "output_type": "execute_result",
          "data": {
            "text/plain": [
              "array([[1.       , 2.       , 3.       , 4.       , 5.       ],\n",
              "       [3.       , 3.5      , 4.       , 4.5      , 5.       ],\n",
              "       [3.6666667, 4.       , 4.3333335, 4.6666665, 5.       ],\n",
              "       [4.       , 4.25     , 4.5      , 4.75     , 5.       ]],\n",
              "      dtype=float32)"
            ]
          },
          "metadata": {},
          "execution_count": 76
        }
      ]
    },
    {
      "cell_type": "markdown",
      "source": [
        "고차원변환과 벡터화까지 적용되어 있다면, \n",
        "numpy에서는 연산속도에 향상이 있다."
      ],
      "metadata": {
        "id": "AyDJjoWDDoMf"
      }
    },
    {
      "cell_type": "code",
      "source": [
        "s1 = np.arange(1, 10001).astype(np.float32).reshape(100, 100)\n",
        "s2 = np.arange(1, 101)"
      ],
      "metadata": {
        "id": "3lwwz1GzDcqf"
      },
      "execution_count": 77,
      "outputs": []
    },
    {
      "cell_type": "code",
      "source": [
        "%%timeit\n",
        "s1 / s2"
      ],
      "metadata": {
        "colab": {
          "base_uri": "https://localhost:8080/"
        },
        "id": "EqlxuaILEJqB",
        "outputId": "a51fce8c-5448-4a70-eb61-c07eba305889"
      },
      "execution_count": 78,
      "outputs": [
        {
          "output_type": "stream",
          "name": "stdout",
          "text": [
            "23.7 µs ± 428 ns per loop (mean ± std. dev. of 7 runs, 10000 loops each)\n"
          ]
        }
      ]
    },
    {
      "cell_type": "code",
      "source": [
        "%%timeit\n",
        "for i in range(100):\n",
        "    s1[i] /= s2"
      ],
      "metadata": {
        "colab": {
          "base_uri": "https://localhost:8080/"
        },
        "id": "Sm5joWpzEMQJ",
        "outputId": "0c433db5-60fa-40df-e78a-bf06bec02eb4"
      },
      "execution_count": 79,
      "outputs": [
        {
          "output_type": "stream",
          "name": "stdout",
          "text": [
            "285 µs ± 12.3 µs per loop (mean ± std. dev. of 7 runs, 1000 loops each)\n"
          ]
        }
      ]
    },
    {
      "cell_type": "code",
      "source": [],
      "metadata": {
        "id": "0yTxsgTfEVZg"
      },
      "execution_count": null,
      "outputs": []
    }
  ]
}