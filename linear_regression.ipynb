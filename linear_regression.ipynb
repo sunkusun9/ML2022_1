{
  "nbformat": 4,
  "nbformat_minor": 0,
  "metadata": {
    "colab": {
      "provenance": [],
      "authorship_tag": "ABX9TyO0vPIhlOqZgVeK0uTwLnZj",
      "include_colab_link": true
    },
    "kernelspec": {
      "name": "python3",
      "display_name": "Python 3"
    },
    "language_info": {
      "name": "python"
    }
  },
  "cells": [
    {
      "cell_type": "markdown",
      "metadata": {
        "id": "view-in-github",
        "colab_type": "text"
      },
      "source": [
        "<a href=\"https://colab.research.google.com/github/sunkusun9/ML2022_1/blob/main/linear_regression.ipynb\" target=\"_parent\"><img src=\"https://colab.research.google.com/assets/colab-badge.svg\" alt=\"Open In Colab\"/></a>"
      ]
    },
    {
      "cell_type": "code",
      "source": [
        "# 한글 폰트 설정\n",
        "!apt-get install -y fonts-nanum\n",
        "!fc-cache -fv\n",
        "!rm ~/.cache/matplotlib -rf\n",
        "# 런타임 다시 시작 필요"
      ],
      "metadata": {
        "id": "Kpz2SoGzy92X"
      },
      "execution_count": null,
      "outputs": []
    },
    {
      "cell_type": "code",
      "source": [
        "import matplotlib as mpl\n",
        "import matplotlib.pyplot as plt\n",
        "import matplotlib.font_manager as fm\n",
        "\n",
        "plt.rc('font', family='NanumBarunGothic') \n",
        "mpl.rcParams['axes.unicode_minus'] = False"
      ],
      "metadata": {
        "id": "Jsls64MW31i0"
      },
      "execution_count": 12,
      "outputs": []
    },
    {
      "cell_type": "markdown",
      "source": [
        "# Linear Regression"
      ],
      "metadata": {
        "id": "a27vRYj6YU5s"
      }
    },
    {
      "cell_type": "code",
      "source": [
        "import numpy as np"
      ],
      "metadata": {
        "id": "wasNejtTzFBr"
      },
      "execution_count": 2,
      "outputs": []
    },
    {
      "cell_type": "markdown",
      "source": [
        "## 선형 회귀 분석 데이터셋 만들기\n",
        "\n",
        "* 표준정규분포를 따르는 x_0, x_1을 200개 생성\n",
        "beta_0 = 1, beta_1 = -0.1, beta_2 = 0.8 이고\n",
        "노이즈의 분산을 0.4로 하여 y를 생성"
      ],
      "metadata": {
        "id": "lYz6-GUWvTUg"
      }
    },
    {
      "cell_type": "code",
      "source": [
        "n = 200 # 데이터 생성 수\n",
        "np.random.seed(42) # 매번 동일한 난수 생성하기 위해 랜덤 Seed를 42로 지정\n",
        "x_0 = np.random.normal(size=n) # 표준정규분포(평균=0, 분산=1인 정규분포)\n",
        "x_1 = np.random.normal(size=n) # 표준정규분포(평균=0, 분산=1인 정규분포)\n",
        "beta_0, beta_1, beta_2, eps = 1, -0.3, 0.8, 0.4\n",
        "y = beta_0 + beta_1 * x_0 + beta_2 * x_1\n",
        "np.mean(x_0), np.var(x_0), np.mean(x_1), np.var(x_1) # 각각 평균과 분산을 뽑아 확인"
      ],
      "metadata": {
        "id": "7aFF-3rDsYcN",
        "outputId": "9563225b-d94f-452f-d28a-ba0feeb642a1",
        "colab": {
          "base_uri": "https://localhost:8080/"
        }
      },
      "execution_count": 14,
      "outputs": [
        {
          "output_type": "execute_result",
          "data": {
            "text/plain": [
              "(-0.04077096517208498,\n",
              " 0.8624344486801115,\n",
              " 0.0858681868988765,\n",
              " 0.9693056403571758)"
            ]
          },
          "metadata": {},
          "execution_count": 14
        }
      ]
    },
    {
      "cell_type": "markdown",
      "source": [
        "* x_0는 평균 10, 분산 4가 되도록 변환 \n",
        "* x_1은 평균 -40, 분산이 16이 되도록 변환"
      ],
      "metadata": {
        "id": "5sicbmnNzfGu"
      }
    },
    {
      "cell_type": "code",
      "source": [
        "x_0 = x_0 * 2 + 10 # 표준편차 2를 곱하고 여기에 평균 10을 더한다\n",
        "x_1 = x_1 * 4 - 40 # 표준편차 4를 곱하고 여기에 평균 -40을 더한다\n",
        "np.mean(x_0), np.var(x_0), np.mean(x_1), np.var(x_1) # 각각 평균과 분산을 뽑아 확인"
      ],
      "metadata": {
        "id": "E5aNJwedz_ka",
        "outputId": "992af96c-9aa4-4cd4-bc19-3263016276f0",
        "colab": {
          "base_uri": "https://localhost:8080/"
        }
      },
      "execution_count": 15,
      "outputs": [
        {
          "output_type": "execute_result",
          "data": {
            "text/plain": [
              "(9.91845806965583, 3.449737794720446, -39.656527252404494, 15.508890245714811)"
            ]
          },
          "metadata": {},
          "execution_count": 15
        }
      ]
    },
    {
      "cell_type": "markdown",
      "source": [
        "x_0, x_1으로 Matrix X를 만든다."
      ],
      "metadata": {
        "id": "qOr6wOVg01cl"
      }
    },
    {
      "cell_type": "code",
      "source": [
        "X = np.vstack([x_0, x_1]).T"
      ],
      "metadata": {
        "id": "49Wi6H1ezJOf"
      },
      "execution_count": 10,
      "outputs": []
    },
    {
      "cell_type": "markdown",
      "source": [
        "* 각각의 속성값과 (x_0, x_1)과 y값의 산포도 그래프를 찍는다."
      ],
      "metadata": {
        "id": "9EAk3KyT1nml"
      }
    },
    {
      "cell_type": "code",
      "source": [
        "fig, axs = plt.subplots(1, 2, figsize=(8, 4))\n",
        "for i, ax in enumerate(axs):\n",
        "    col_name = 'x{}'.format(i)\n",
        "    ax.scatter(X[:, i], y, label=col_name)\n",
        "    ax.set_xlabel(col_name)\n",
        "    ax.set_ylabel(\"y\")\n",
        "plt.tight_layout()\n",
        "plt.show()"
      ],
      "metadata": {
        "id": "Dq38edKU0p-K",
        "outputId": "df2c333e-edb2-48f8-948f-802d37dcb52c",
        "colab": {
          "base_uri": "https://localhost:8080/",
          "height": 297
        }
      },
      "execution_count": 16,
      "outputs": [
        {
          "output_type": "display_data",
          "data": {
            "text/plain": [
              "<Figure size 576x288 with 2 Axes>"
            ],
            "image/png": "[encoded data removed]"
          },
          "metadata": {
            "needs_background": "light"
          }
        }
      ]
    },
    {
      "cell_type": "code",
      "source": [
        "from sklearn.datasets import make_regression"
      ],
      "metadata": {
        "id": "CzyONwwSajVZ"
      },
      "execution_count": null,
      "outputs": []
    },
    {
      "cell_type": "markdown",
      "source": [
        "[sklearn.datasets.make_regression](https://scikit-learn.org/stable/modules/generated/sklearn.datasets.make_regression.html#sklearn.datasets.make_regression) 회귀 분석 데이터셋을 만든다. \n",
        "\n",
        "n_samples=100, n_features=5, n_informative=3, random_state=9, coef=True 로 해서 데이터셋 생성하여 입력 값은 X에 출력은 y 값, 계수는 coef에 설정."
      ],
      "metadata": {
        "id": "2EifADhUYwYY"
      }
    },
    {
      "cell_type": "code",
      "source": [
        "X, y, coef = make_regression(n_samples=100, n_features=5, n_informative=3, random_state=9, coef=True)\n",
        "X.shape, y.shape, coef"
      ],
      "metadata": {
        "id": "j3GGsGnNWsp9",
        "outputId": "9f09264a-6784-444a-95c8-792ae90b9388",
        "colab": {
          "base_uri": "https://localhost:8080/"
        }
      },
      "execution_count": null,
      "outputs": [
        {
          "output_type": "execute_result",
          "data": {
            "text/plain": [
              "((100, 5),\n",
              " (100,),\n",
              " array([ 6.74479784, 71.20447834,  0.        ,  0.        , 50.7033102 ]))"
            ]
          },
          "metadata": {},
          "execution_count": 47
        }
      ]
    },
    {
      "cell_type": "markdown",
      "source": [
        "각각의 속성과, y를 산포도 그래프로 시각화"
      ],
      "metadata": {
        "id": "j1KFjqUTp2JH"
      }
    },
    {
      "cell_type": "code",
      "source": [
        "fig, axs = plt.subplots(1, 5, figsize=(16, 4))\n",
        "for i, ax in enumerate(axs):\n",
        "    col_name = 'x{}'.format(i)\n",
        "    ax.scatter(X[:, i], y, label=col_name)\n",
        "    ax.set_xlabel(col_name)\n",
        "    ax.set_ylabel(\"y\")\n",
        "plt.show()"
      ],
      "metadata": {
        "id": "1B4t7359k1RT",
        "outputId": "54d4ae23-0bd9-4356-854d-1e5d0374bf68",
        "colab": {
          "base_uri": "https://localhost:8080/",
          "height": 279
        }
      },
      "execution_count": null,
      "outputs": [
        {
          "output_type": "display_data",
          "data": {
            "text/plain": [
              "<Figure size 1152x288 with 5 Axes>"
            ],
            "image/png": "[encoded data removed]"
          },
          "metadata": {
            "needs_background": "light"
          }
        }
      ]
    },
    {
      "cell_type": "code",
      "source": [],
      "metadata": {
        "id": "WZn5SUEdq33Q"
      },
      "execution_count": null,
      "outputs": []
    }
  ]
}