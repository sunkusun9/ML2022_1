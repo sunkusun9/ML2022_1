{
  "nbformat": 4,
  "nbformat_minor": 0,
  "metadata": {
    "colab": {
      "provenance": [],
      "authorship_tag": "ABX9TyPaSwBOGLMace0wcQFKPdMt",
      "include_colab_link": true
    },
    "kernelspec": {
      "name": "python3",
      "display_name": "Python 3"
    },
    "language_info": {
      "name": "python"
    }
  },
  "cells": [
    {
      "cell_type": "markdown",
      "metadata": {
        "id": "view-in-github",
        "colab_type": "text"
      },
      "source": [
        "<a href=\"https://colab.research.google.com/github/sunkusun9/ML2022_1/blob/main/linear_regression.ipynb\" target=\"_parent\"><img src=\"https://colab.research.google.com/assets/colab-badge.svg\" alt=\"Open In Colab\"/></a>"
      ]
    },
    {
      "cell_type": "code",
      "source": [
        "# 한글 폰트 설정\n",
        "!apt-get install -y fonts-nanum\n",
        "!fc-cache -fv\n",
        "!rm ~/.cache/matplotlib -rf\n",
        "# 런타임 다시 시작 필요"
      ],
      "metadata": {
        "id": "Kpz2SoGzy92X",
        "outputId": "e0d2f13a-073a-46f8-c55f-93f988a92573",
        "colab": {
          "base_uri": "https://localhost:8080/"
        }
      },
      "execution_count": 1,
      "outputs": [
        {
          "output_type": "stream",
          "name": "stdout",
          "text": [
            "Reading package lists... Done\n",
            "Building dependency tree       \n",
            "Reading state information... Done\n",
            "The following package was automatically installed and is no longer required:\n",
            "  libnvidia-common-460\n",
            "Use 'apt autoremove' to remove it.\n",
            "The following NEW packages will be installed:\n",
            "  fonts-nanum\n",
            "0 upgraded, 1 newly installed, 0 to remove and 20 not upgraded.\n",
            "Need to get 9,604 kB of archives.\n",
            "After this operation, 29.5 MB of additional disk space will be used.\n",
            "Get:1 http://archive.ubuntu.com/ubuntu bionic/universe amd64 fonts-nanum all 20170925-1 [9,604 kB]\n",
            "Fetched 9,604 kB in 1s (17.1 MB/s)\n",
            "Selecting previously unselected package fonts-nanum.\n",
            "(Reading database ... 124016 files and directories currently installed.)\n",
            "Preparing to unpack .../fonts-nanum_20170925-1_all.deb ...\n",
            "Unpacking fonts-nanum (20170925-1) ...\n",
            "Setting up fonts-nanum (20170925-1) ...\n",
            "Processing triggers for fontconfig (2.12.6-0ubuntu2) ...\n",
            "/usr/share/fonts: caching, new cache contents: 0 fonts, 1 dirs\n",
            "/usr/share/fonts/truetype: caching, new cache contents: 0 fonts, 3 dirs\n",
            "/usr/share/fonts/truetype/humor-sans: caching, new cache contents: 1 fonts, 0 dirs\n",
            "/usr/share/fonts/truetype/liberation: caching, new cache contents: 16 fonts, 0 dirs\n",
            "/usr/share/fonts/truetype/nanum: caching, new cache contents: 10 fonts, 0 dirs\n",
            "/usr/local/share/fonts: caching, new cache contents: 0 fonts, 0 dirs\n",
            "/root/.local/share/fonts: skipping, no such directory\n",
            "/root/.fonts: skipping, no such directory\n",
            "/var/cache/fontconfig: cleaning cache directory\n",
            "/root/.cache/fontconfig: not cleaning non-existent cache directory\n",
            "/root/.fontconfig: not cleaning non-existent cache directory\n",
            "fc-cache: succeeded\n"
          ]
        }
      ]
    },
    {
      "cell_type": "code",
      "source": [
        "import matplotlib as mpl\n",
        "import matplotlib.pyplot as plt\n",
        "import matplotlib.font_manager as fm\n",
        "\n",
        "plt.rc('font', family='NanumBarunGothic') \n",
        "mpl.rcParams['axes.unicode_minus'] = False"
      ],
      "metadata": {
        "id": "Jsls64MW31i0"
      },
      "execution_count": 1,
      "outputs": []
    },
    {
      "cell_type": "markdown",
      "source": [
        "# Linear Regression"
      ],
      "metadata": {
        "id": "a27vRYj6YU5s"
      }
    },
    {
      "cell_type": "code",
      "source": [
        "import numpy as np"
      ],
      "metadata": {
        "id": "wasNejtTzFBr"
      },
      "execution_count": 2,
      "outputs": []
    },
    {
      "cell_type": "markdown",
      "source": [
        "## 선형 회귀 분석 데이터셋 만들기\n",
        "\n",
        "* 표준정규분포를 따르는 x_0, x_1을 200개 생성\n",
        "beta_0 = 1, beta_1 = -0.1, beta_2 = 0.8 이고\n",
        "노이즈의 분산을 0.4로 하여 y를 생성"
      ],
      "metadata": {
        "id": "lYz6-GUWvTUg"
      }
    },
    {
      "cell_type": "code",
      "source": [
        "n = 200 # 데이터 생성 수\n",
        "np.random.seed(42) # 매번 동일한 난수 생성하기 위해 랜덤 Seed를 42로 지정\n",
        "x_0 = np.random.normal(size=n) # 표준정규분포(평균=0, 분산=1인 정규분포)\n",
        "x_1 = np.random.normal(size=n) # 표준정규분포(평균=0, 분산=1인 정규분포)\n",
        "beta_0, beta_1, beta_2, eps = 1, -0.3, 0.8, 0.4 # eps는 noise의 분산\n",
        "y = beta_0 + beta_1 * x_0 + beta_2 * x_1 + np.random.normal(scale=eps, size=n) \n",
        "np.mean(x_0), np.var(x_0), np.mean(x_1), np.var(x_1) # 각각 평균과 분산을 뽑아 확인"
      ],
      "metadata": {
        "id": "7aFF-3rDsYcN",
        "outputId": "f9fa5df2-02b4-4361-c5e0-777c2de9d7dd",
        "colab": {
          "base_uri": "https://localhost:8080/"
        }
      },
      "execution_count": 75,
      "outputs": [
        {
          "output_type": "execute_result",
          "data": {
            "text/plain": [
              "(-0.04077096517208498,\n",
              " 0.8624344486801115,\n",
              " 0.0858681868988765,\n",
              " 0.9693056403571758)"
            ]
          },
          "metadata": {},
          "execution_count": 75
        }
      ]
    },
    {
      "cell_type": "markdown",
      "source": [
        "x_0, x_1으로 Matrix X를 만든다."
      ],
      "metadata": {
        "id": "qOr6wOVg01cl"
      }
    },
    {
      "cell_type": "code",
      "source": [
        "X = np.vstack([x_0, x_1]).T"
      ],
      "metadata": {
        "id": "49Wi6H1ezJOf"
      },
      "execution_count": 76,
      "outputs": []
    },
    {
      "cell_type": "markdown",
      "source": [
        "* 각각의 속성값과 (x_0, x_1)과 y값의 산포도 그래프를 찍는다."
      ],
      "metadata": {
        "id": "rCubd50yNY40"
      }
    },
    {
      "cell_type": "code",
      "source": [
        "fig, axs = plt.subplots(1, 2, figsize=(8, 4))\n",
        "for i, ax in enumerate(axs):\n",
        "    col_name = 'x{}'.format(i)\n",
        "    ax.scatter(X[:, i], y, label=col_name)\n",
        "    ax.set_xlabel(col_name)\n",
        "    ax.set_ylabel(\"y\")\n",
        "plt.tight_layout()\n",
        "plt.show()"
      ],
      "metadata": {
        "outputId": "b767ddfa-0319-4f83-feb0-7a793ccb6cd2",
        "colab": {
          "base_uri": "https://localhost:8080/",
          "height": 297
        },
        "id": "I0298KTZNY46"
      },
      "execution_count": 77,
      "outputs": [
        {
          "output_type": "display_data",
          "data": {
            "text/plain": [
              "<Figure size 576x288 with 2 Axes>"
            ],
            "image/png": "[encoded data removed]"
          },
          "metadata": {
            "needs_background": "light"
          }
        }
      ]
    },
    {
      "cell_type": "markdown",
      "source": [
        "## 학습"
      ],
      "metadata": {
        "id": "_VxUSKTmK4_Q"
      }
    },
    {
      "cell_type": "markdown",
      "source": [
        "## 정규방정식\n",
        "\n",
        "$\\beta=(X^TX)^{-1}X^Ty$"
      ],
      "metadata": {
        "id": "eBpciCrBMUtI"
      }
    },
    {
      "cell_type": "code",
      "source": [
        "X_1 = np.hstack([np.ones((X.shape[0], 1)), X])"
      ],
      "metadata": {
        "id": "zel10VG5K7H1"
      },
      "execution_count": 78,
      "outputs": []
    },
    {
      "cell_type": "code",
      "source": [
        "gram_matrix = np.matmul(X_1.T, X_1)\n",
        "inv_gram_matrix = np.linalg.inv(gram_matrix)\n",
        "beta = np.dot(inv_gram_matrix,  np.dot(X_1.T, y))\n",
        "beta"
      ],
      "metadata": {
        "id": "Pg1k1XPBLSoq",
        "outputId": "a4357d77-b7a5-4f20-97b2-96c60771adc2",
        "colab": {
          "base_uri": "https://localhost:8080/"
        }
      },
      "execution_count": 79,
      "outputs": [
        {
          "output_type": "execute_result",
          "data": {
            "text/plain": [
              "array([ 0.96412765, -0.35649907,  0.79192737])"
            ]
          },
          "metadata": {},
          "execution_count": 79
        }
      ]
    },
    {
      "cell_type": "markdown",
      "source": [
        "## 경사하강법"
      ],
      "metadata": {
        "id": "eWNZgakaOg7g"
      }
    },
    {
      "cell_type": "markdown",
      "source": [
        "$\\frac{\\partial F}{\\partial\\beta_0}=\\frac{\\sum\\limits_{i=1}^{n}-(y_i-\\beta_0-x_i^T\\beta)}{n}$\n",
        "\n",
        "$\\frac{\\partial F}{\\partial\\beta}=\\frac{\\sum\\limits_{i=1}^{n}-x_i(y_i-\\beta_0-x_i^T\\beta)}{n}$"
      ],
      "metadata": {
        "id": "6xACdFf8O3D3"
      }
    },
    {
      "cell_type": "code",
      "source": [
        "np.random.seed(42)\n",
        "beta =  np.random.rand(3) * 2 - 1 # [-1, 1) 까지 랜덤 번호 생성\n",
        "beta_0 = beta[0]\n",
        "beta = beta[1:]\n",
        "learning_rate = 0.1\n",
        "epoch = 10\n",
        "for j in range(epoch):\n",
        "    y_delta =  y - beta_0 - np.matmul(X, beta)\n",
        "    \"\"\"\n",
        "    ### Vectorized Operation을 사용하지 않는다면\n",
        "    F_delta_by_beta_0 = 0\n",
        "    F_delta_by_beta = np.zeros(2)\n",
        "    for i in range(i):\n",
        "        F_delta_by_beta_0 += -y_delta[i]\n",
        "        F_delta_by_beta += -x[i] * y_delta[i]\n",
        "    F_delta_by_beta_0 = F_delta_by_beta_0 / n\n",
        "    F_delta_by_beta = F_delta_by_beta / n\n",
        "    \"\"\"\n",
        "    F_delta_by_beta_0 = -np.mean(y_delta)\n",
        "    #F_delta_by_beta = -np.mean(X * y_delta[:, np.newaxis], axis=0)\n",
        "    F_delta_by_beta = -np.dot(X.T, y_delta) / n # 좀 더효율적이고 간결하다\n",
        "    beta_0 -= learning_rate * F_delta_by_beta_0\n",
        "    beta -= learning_rate * F_delta_by_beta"
      ],
      "metadata": {
        "id": "2rcyEZG9NIbs"
      },
      "execution_count": 105,
      "outputs": []
    },
    {
      "cell_type": "markdown",
      "source": [
        "벡터화 연산(Vectorized Operation) 활용의 중요성"
      ],
      "metadata": {
        "id": "25yx2IL0a8y5"
      }
    },
    {
      "cell_type": "code",
      "source": [
        "%%timeit\n",
        "\n",
        "F_delta_by_beta_0 = 0\n",
        "F_delta_by_beta = np.zeros(2)\n",
        "for i in range(X.shape[0]):\n",
        "    F_delta_by_beta_0 += -y_delta[i]\n",
        "    F_delta_by_beta += -X[i] * y_delta[i]\n",
        "F_delta_by_beta_0 = F_delta_by_beta_0 / n\n",
        "F_delta_by_beta = F_delta_by_beta / n"
      ],
      "metadata": {
        "id": "uiSqeL_uZAcQ",
        "outputId": "74d92b5d-d7e4-4ed5-bbe8-dea74af807d5",
        "colab": {
          "base_uri": "https://localhost:8080/"
        }
      },
      "execution_count": 103,
      "outputs": [
        {
          "output_type": "stream",
          "name": "stdout",
          "text": [
            "713 µs ± 21 µs per loop (mean ± std. dev. of 7 runs, 1000 loops each)\n"
          ]
        }
      ]
    },
    {
      "cell_type": "code",
      "source": [
        "%%timeit\n",
        "\n",
        "-np.dot(X.T, y_delta) / n"
      ],
      "metadata": {
        "id": "szz31ovKZFaP",
        "outputId": "a83b261a-e2e5-422a-ae8e-c5ef6405bc27",
        "colab": {
          "base_uri": "https://localhost:8080/"
        }
      },
      "execution_count": 106,
      "outputs": [
        {
          "output_type": "stream",
          "name": "stdout",
          "text": [
            "3.95 µs ± 547 ns per loop (mean ± std. dev. of 7 runs, 100000 loops each)\n"
          ]
        }
      ]
    },
    {
      "cell_type": "code",
      "source": [
        "%%timeit\n",
        "\n",
        "-np.mean(X * y_delta[:, np.newaxis], axis=0)"
      ],
      "metadata": {
        "id": "-SZnLgB1ZOQI",
        "outputId": "42ab3da6-761c-4194-d40e-09c5dea8e4f9",
        "colab": {
          "base_uri": "https://localhost:8080/"
        }
      },
      "execution_count": 107,
      "outputs": [
        {
          "output_type": "stream",
          "name": "stdout",
          "text": [
            "19.2 µs ± 6.68 µs per loop (mean ± std. dev. of 7 runs, 10000 loops each)\n"
          ]
        }
      ]
    },
    {
      "cell_type": "markdown",
      "source": [
        "* x_0는 평균 10, 분산 4가 되도록 변환 \n",
        "* x_1은 평균 -40, 분산이 16이 되도록 변환"
      ],
      "metadata": {
        "id": "5sicbmnNzfGu"
      }
    },
    {
      "cell_type": "code",
      "source": [
        "x_0 = x_0 * 2 + 10 # 표준편차 2를 곱하고 여기에 평균 10을 더한다\n",
        "x_1 = x_1 * 20 - 40 # 표준편차 20를 곱하고 여기에 평균 -40을 더한다\n",
        "np.mean(x_0), np.var(x_0), np.mean(x_1), np.var(x_1) # 각각 평균과 분산을 뽑아 확인"
      ],
      "metadata": {
        "id": "E5aNJwedz_ka",
        "outputId": "edfb1fb5-dfdc-4985-f1d1-cc9ee994d9ec",
        "colab": {
          "base_uri": "https://localhost:8080/"
        }
      },
      "execution_count": 44,
      "outputs": [
        {
          "output_type": "execute_result",
          "data": {
            "text/plain": [
              "(9.91845806965583, 3.449737794720446, -38.28263626202247, 387.7222561428703)"
            ]
          },
          "metadata": {},
          "execution_count": 44
        }
      ]
    },
    {
      "cell_type": "markdown",
      "source": [
        "* 각각의 속성값과 (x_0, x_1)과 y값의 산포도 그래프를 찍는다."
      ],
      "metadata": {
        "id": "9EAk3KyT1nml"
      }
    },
    {
      "cell_type": "code",
      "source": [
        "fig, axs = plt.subplots(1, 2, figsize=(8, 4))\n",
        "for i, ax in enumerate(axs):\n",
        "    col_name = 'x{}'.format(i)\n",
        "    ax.scatter(X[:, i], y, label=col_name)\n",
        "    ax.set_xlabel(col_name)\n",
        "    ax.set_ylabel(\"y\")\n",
        "plt.tight_layout()\n",
        "plt.show()"
      ],
      "metadata": {
        "id": "Dq38edKU0p-K",
        "outputId": "b87765a4-dd0d-458f-b197-e35191625e97",
        "colab": {
          "base_uri": "https://localhost:8080/",
          "height": 297
        }
      },
      "execution_count": 46,
      "outputs": [
        {
          "output_type": "display_data",
          "data": {
            "text/plain": [
              "<Figure size 576x288 with 2 Axes>"
            ],
            "image/png": "[encoded data removed]"
          },
          "metadata": {
            "needs_background": "light"
          }
        }
      ]
    },
    {
      "cell_type": "markdown",
      "source": [
        "## 정규방정식으로 학습"
      ],
      "metadata": {
        "id": "n-8Rt9sCKtdp"
      }
    },
    {
      "cell_type": "code",
      "source": [
        "X_1 = np.hstack([np.ones((X.shape[0], 1)), X]) # 절편을 구하기 위해서 전부 값이 1인 열을 추가"
      ],
      "metadata": {
        "id": "5hijLd4cCxQX"
      },
      "execution_count": 47,
      "outputs": []
    },
    {
      "cell_type": "code",
      "source": [
        "beta = np.dot(np.linalg.inv(np.matmul(X_1.T, X_1)),  np.dot(X_1.T, y))\n",
        "beta_hat0, beta_hat1, beta_hat2  = beta[0], beta[1], beta[2]"
      ],
      "metadata": {
        "id": "Y0Nr_LdXCtoY"
      },
      "execution_count": 50,
      "outputs": []
    },
    {
      "cell_type": "code",
      "source": [
        "beta_1, beta_hat1, beta_2, beta_hat2"
      ],
      "metadata": {
        "id": "7Hy3vkGvEbvI",
        "outputId": "dfb1d5d5-2851-4605-c3e5-e8dce6fbdebf",
        "colab": {
          "base_uri": "https://localhost:8080/"
        }
      },
      "execution_count": 53,
      "outputs": [
        {
          "output_type": "execute_result",
          "data": {
            "text/plain": [
              "(-0.3, -0.1500000000000018, 0.8, 0.04000000000000022)"
            ]
          },
          "metadata": {},
          "execution_count": 53
        }
      ]
    },
    {
      "cell_type": "markdown",
      "source": [
        "표준화가 되어 있지 않는다면 계수를 가지고 중요성, 상대적으로 분산이 큰 속성은 계수의 크기 작다."
      ],
      "metadata": {
        "id": "4PpiL5aSIcJy"
      }
    },
    {
      "cell_type": "markdown",
      "source": [
        "* 표준정규분포로(Z-scaling)로 정규화를 진행해 본다.\n",
        "\n",
        "$X\\_std = \\frac{(X-\\bar{X})}{s}$"
      ],
      "metadata": {
        "id": "r264-6wbJwmo"
      }
    },
    {
      "cell_type": "code",
      "source": [
        "X_std =  (X - np.mean(X, axis=0)) / np.std(X, axis=0) # Z-scaling"
      ],
      "metadata": {
        "id": "i2PxxuZ_Jit2"
      },
      "execution_count": 54,
      "outputs": []
    },
    {
      "cell_type": "markdown",
      "source": [
        "X_std "
      ],
      "metadata": {
        "id": "jkOthmcyKqxZ"
      }
    },
    {
      "cell_type": "code",
      "source": [],
      "metadata": {
        "id": "NcGTk_PEKqWx"
      },
      "execution_count": null,
      "outputs": []
    },
    {
      "cell_type": "code",
      "source": [
        "from sklearn.datasets import make_regression"
      ],
      "metadata": {
        "id": "CzyONwwSajVZ"
      },
      "execution_count": null,
      "outputs": []
    },
    {
      "cell_type": "markdown",
      "source": [
        "[sklearn.datasets.make_regression](https://scikit-learn.org/stable/modules/generated/sklearn.datasets.make_regression.html#sklearn.datasets.make_regression) 회귀 분석 데이터셋을 만든다. \n",
        "\n",
        "n_samples=100, n_features=5, n_informative=3, random_state=9, coef=True 로 해서 데이터셋 생성하여 입력 값은 X에 출력은 y 값, 계수는 coef에 설정."
      ],
      "metadata": {
        "id": "2EifADhUYwYY"
      }
    },
    {
      "cell_type": "code",
      "source": [
        "X, y, coef = make_regression(n_samples=100, n_features=5, n_informative=3, random_state=9, coef=True)\n",
        "X.shape, y.shape, coef"
      ],
      "metadata": {
        "id": "j3GGsGnNWsp9",
        "outputId": "9f09264a-6784-444a-95c8-792ae90b9388",
        "colab": {
          "base_uri": "https://localhost:8080/"
        }
      },
      "execution_count": null,
      "outputs": [
        {
          "output_type": "execute_result",
          "data": {
            "text/plain": [
              "((100, 5),\n",
              " (100,),\n",
              " array([ 6.74479784, 71.20447834,  0.        ,  0.        , 50.7033102 ]))"
            ]
          },
          "metadata": {},
          "execution_count": 47
        }
      ]
    },
    {
      "cell_type": "markdown",
      "source": [
        "각각의 속성과, y를 산포도 그래프로 시각화"
      ],
      "metadata": {
        "id": "j1KFjqUTp2JH"
      }
    },
    {
      "cell_type": "code",
      "source": [
        "fig, axs = plt.subplots(1, 5, figsize=(16, 4))\n",
        "for i, ax in enumerate(axs):\n",
        "    col_name = 'x{}'.format(i)\n",
        "    ax.scatter(X[:, i], y, label=col_name)\n",
        "    ax.set_xlabel(col_name)\n",
        "    ax.set_ylabel(\"y\")\n",
        "plt.show()"
      ],
      "metadata": {
        "id": "1B4t7359k1RT",
        "outputId": "54d4ae23-0bd9-4356-854d-1e5d0374bf68",
        "colab": {
          "base_uri": "https://localhost:8080/",
          "height": 279
        }
      },
      "execution_count": null,
      "outputs": [
        {
          "output_type": "display_data",
          "data": {
            "text/plain": [
              "<Figure size 1152x288 with 5 Axes>"
            ],
            "image/png": "[encoded data removed]"
          },
          "metadata": {
            "needs_background": "light"
          }
        }
      ]
    },
    {
      "cell_type": "code",
      "source": [],
      "metadata": {
        "id": "WZn5SUEdq33Q"
      },
      "execution_count": null,
      "outputs": []
    }
  ]
}