{
  "nbformat": 4,
  "nbformat_minor": 0,
  "metadata": {
    "colab": {
      "provenance": [],
      "authorship_tag": "ABX9TyN14re8xyrndCyeVsM+H7B1",
      "include_colab_link": true
    },
    "kernelspec": {
      "name": "python3",
      "display_name": "Python 3"
    },
    "language_info": {
      "name": "python"
    }
  },
  "cells": [
    {
      "cell_type": "markdown",
      "metadata": {
        "id": "view-in-github",
        "colab_type": "text"
      },
      "source": [
        "<a href=\"https://colab.research.google.com/github/sunkusun9/ML2022_1/blob/main/linear_regression.ipynb\" target=\"_parent\"><img src=\"https://colab.research.google.com/assets/colab-badge.svg\" alt=\"Open In Colab\"/></a>"
      ]
    },
    {
      "cell_type": "code",
      "source": [
        "# 한글 폰트 설정\n",
        "!apt-get install -y fonts-nanum\n",
        "!fc-cache -fv\n",
        "!rm ~/.cache/matplotlib -rf\n",
        "# 런타임 다시 시작 필요"
      ],
      "metadata": {
        "id": "Kpz2SoGzy92X",
        "colab": {
          "base_uri": "https://localhost:8080/"
        },
        "outputId": "f8b5714c-b385-4b5d-f39d-9be2a745a5e9"
      },
      "execution_count": 1,
      "outputs": [
        {
          "output_type": "stream",
          "name": "stdout",
          "text": [
            "Reading package lists... Done\n",
            "Building dependency tree       \n",
            "Reading state information... Done\n",
            "The following package was automatically installed and is no longer required:\n",
            "  libnvidia-common-460\n",
            "Use 'apt autoremove' to remove it.\n",
            "The following NEW packages will be installed:\n",
            "  fonts-nanum\n",
            "0 upgraded, 1 newly installed, 0 to remove and 20 not upgraded.\n",
            "Need to get 9,604 kB of archives.\n",
            "After this operation, 29.5 MB of additional disk space will be used.\n",
            "Get:1 http://archive.ubuntu.com/ubuntu bionic/universe amd64 fonts-nanum all 20170925-1 [9,604 kB]\n",
            "Fetched 9,604 kB in 1s (6,860 kB/s)\n",
            "Selecting previously unselected package fonts-nanum.\n",
            "(Reading database ... 124016 files and directories currently installed.)\n",
            "Preparing to unpack .../fonts-nanum_20170925-1_all.deb ...\n",
            "Unpacking fonts-nanum (20170925-1) ...\n",
            "Setting up fonts-nanum (20170925-1) ...\n",
            "Processing triggers for fontconfig (2.12.6-0ubuntu2) ...\n",
            "/usr/share/fonts: caching, new cache contents: 0 fonts, 1 dirs\n",
            "/usr/share/fonts/truetype: caching, new cache contents: 0 fonts, 3 dirs\n",
            "/usr/share/fonts/truetype/humor-sans: caching, new cache contents: 1 fonts, 0 dirs\n",
            "/usr/share/fonts/truetype/liberation: caching, new cache contents: 16 fonts, 0 dirs\n",
            "/usr/share/fonts/truetype/nanum: caching, new cache contents: 10 fonts, 0 dirs\n",
            "/usr/local/share/fonts: caching, new cache contents: 0 fonts, 0 dirs\n",
            "/root/.local/share/fonts: skipping, no such directory\n",
            "/root/.fonts: skipping, no such directory\n",
            "/var/cache/fontconfig: cleaning cache directory\n",
            "/root/.cache/fontconfig: not cleaning non-existent cache directory\n",
            "/root/.fontconfig: not cleaning non-existent cache directory\n",
            "fc-cache: succeeded\n"
          ]
        }
      ]
    },
    {
      "cell_type": "code",
      "source": [
        "import matplotlib as mpl\n",
        "import matplotlib.pyplot as plt\n",
        "import matplotlib.font_manager as fm\n",
        "\n",
        "plt.rc('font', family='NanumBarunGothic') \n",
        "mpl.rcParams['axes.unicode_minus'] = False"
      ],
      "metadata": {
        "id": "Jsls64MW31i0"
      },
      "execution_count": 2,
      "outputs": []
    },
    {
      "cell_type": "code",
      "source": [
        "from sklearn.metrics import mean_squared_error"
      ],
      "metadata": {
        "id": "0WJrCITB8mS3"
      },
      "execution_count": 61,
      "outputs": []
    },
    {
      "cell_type": "markdown",
      "source": [
        "# 다중회귀분석(Multiple Linear Regression)"
      ],
      "metadata": {
        "id": "a27vRYj6YU5s"
      }
    },
    {
      "cell_type": "code",
      "source": [
        "import numpy as np"
      ],
      "metadata": {
        "id": "wasNejtTzFBr"
      },
      "execution_count": 3,
      "outputs": []
    },
    {
      "cell_type": "markdown",
      "source": [
        "## 다중 회귀 분석 선형 회귀 분석 데이터셋 만들기\n",
        "\n",
        "* 표준정규분포를 따르는 x_0, x_1을 200개 생성\n",
        "beta_0 = 1, beta_1 = -0.1, beta_2 = 0.8 이고\n",
        "노이즈의 분산을 0.4로 하여 y를 생성\n",
        "\n",
        "$y=1-0.1x_1+0.8x_2+e, e \\sim N(0, 0.4)$"
      ],
      "metadata": {
        "id": "lYz6-GUWvTUg"
      }
    },
    {
      "cell_type": "code",
      "source": [
        "n = 200 # 데이터 생성 수\n",
        "np.random.seed(42) # 매번 동일한 난수 생성하기 위해 랜덤 Seed를 42로 지정\n",
        "x_0 = np.random.normal(size=n) # 표준정규분포(평균=0, 분산=1인 정규분포)\n",
        "x_1 = np.random.normal(size=n) # 표준정규분포(평균=0, 분산=1인 정규분포)\n",
        "beta_0, beta_1, beta_2, eps = 1, -0.3, 0.8, 0.4 # eps는 오차의 분산\n",
        "y = beta_0 + beta_1 * x_0 + beta_2 * x_1 + np.random.normal(scale=eps**0.5, size=n) \n",
        "np.mean(x_0), np.var(x_0), np.mean(x_1), np.var(x_1) # 각각 평균과 분산을 뽑아 확인"
      ],
      "metadata": {
        "id": "7aFF-3rDsYcN",
        "outputId": "ffdb19b3-575a-4852-ff21-5471ea76f885",
        "colab": {
          "base_uri": "https://localhost:8080/"
        }
      },
      "execution_count": 32,
      "outputs": [
        {
          "output_type": "execute_result",
          "data": {
            "text/plain": [
              "(-0.04077096517208498,\n",
              " 0.8624344486801115,\n",
              " 0.0858681868988765,\n",
              " 0.9693056403571758)"
            ]
          },
          "metadata": {},
          "execution_count": 32
        }
      ]
    },
    {
      "cell_type": "markdown",
      "source": [
        "x_0, x_1으로 Matrix X를 만든다."
      ],
      "metadata": {
        "id": "qOr6wOVg01cl"
      }
    },
    {
      "cell_type": "code",
      "source": [
        "X = np.vstack([x_0, x_1]).T"
      ],
      "metadata": {
        "id": "49Wi6H1ezJOf"
      },
      "execution_count": 5,
      "outputs": []
    },
    {
      "cell_type": "markdown",
      "source": [
        "* 각각의 속성값과 (x_0, x_1)과 y값의 산포도 그래프를 찍는다."
      ],
      "metadata": {
        "id": "rCubd50yNY40"
      }
    },
    {
      "cell_type": "code",
      "source": [
        "fig, axs = plt.subplots(1, 2, figsize=(8, 4))\n",
        "for i, ax in enumerate(axs):\n",
        "    col_name = 'x{}'.format(i)\n",
        "    ax.scatter(X[:, i], y, label=col_name)\n",
        "    ax.set_xlabel(col_name)\n",
        "    ax.set_ylabel(\"y\")\n",
        "plt.tight_layout()\n",
        "plt.show()"
      ],
      "metadata": {
        "outputId": "8875a0de-de1a-4b2a-d1e3-071e6f6df888",
        "colab": {
          "base_uri": "https://localhost:8080/",
          "height": 297
        },
        "id": "I0298KTZNY46"
      },
      "execution_count": 145,
      "outputs": [
        {
          "output_type": "display_data",
          "data": {
            "text/plain": [
              "<Figure size 576x288 with 2 Axes>"
            ],
            "image/png": "[encoded data removed]"
          },
          "metadata": {
            "needs_background": "light"
          }
        }
      ]
    },
    {
      "cell_type": "markdown",
      "source": [
        "# 학습"
      ],
      "metadata": {
        "id": "_VxUSKTmK4_Q"
      }
    },
    {
      "cell_type": "markdown",
      "source": [
        "## 정규방정식\n",
        "\n",
        "$\\beta=(X^TX)^{-1}X^Ty$"
      ],
      "metadata": {
        "id": "eBpciCrBMUtI"
      }
    },
    {
      "cell_type": "code",
      "source": [
        "X_1 = np.hstack([np.ones((X.shape[0], 1)), X])"
      ],
      "metadata": {
        "id": "zel10VG5K7H1"
      },
      "execution_count": 7,
      "outputs": []
    },
    {
      "cell_type": "code",
      "source": [
        "gram_matrix = np.matmul(X_1.T, X_1)\n",
        "inv_gram_matrix = np.linalg.inv(gram_matrix)\n",
        "beta_hat = np.dot(inv_gram_matrix,  np.dot(X_1.T, y))\n",
        "beta_hat"
      ],
      "metadata": {
        "colab": {
          "base_uri": "https://localhost:8080/"
        },
        "id": "Pg1k1XPBLSoq",
        "outputId": "c1164cab-ffdd-4923-fb97-1dea6c8b68a4"
      },
      "execution_count": 9,
      "outputs": [
        {
          "output_type": "execute_result",
          "data": {
            "text/plain": [
              "array([ 0.96412765, -0.35649907,  0.79192737])"
            ]
          },
          "metadata": {},
          "execution_count": 9
        }
      ]
    },
    {
      "cell_type": "markdown",
      "source": [
        "## 경사하강법"
      ],
      "metadata": {
        "id": "eWNZgakaOg7g"
      }
    },
    {
      "cell_type": "markdown",
      "source": [
        "$\\frac{\\partial F}{\\partial\\beta_0}=\\frac{\\sum\\limits_{i=1}^{n}-(y_i-\\beta_0-x_i^T\\beta)}{n}$\n",
        "\n",
        "$\\frac{\\partial F}{\\partial\\beta}=\\frac{\\sum\\limits_{i=1}^{n}-x_i(y_i-\\beta_0-x_i^T\\beta)}{n}$"
      ],
      "metadata": {
        "id": "6xACdFf8O3D3"
      }
    },
    {
      "cell_type": "code",
      "source": [
        "np.random.seed(42)\n",
        "beta_hat =  np.random.rand(3) * 2 - 1 # [-1, 1) 까지 랜덤 번호 생성\n",
        "beta_hat_0 = beta_hat[0]  # 절편을 따로 뗀다\n",
        "beta_hat = beta_hat[1:] # 절편을 제외한 계수를 beta_hat로 다시 지정한다 \n",
        "learning_rate = 0.1\n",
        "epoch = 30\n",
        "loss_hist = []\n",
        "beta_hist = []\n",
        "for j in range(epoch):\n",
        "    y_delta =  y - beta_hat_0 - np.matmul(X, beta_hat)\n",
        "    \"\"\"\n",
        "    ### Vectorized Operation을 사용하지 않는다면... \n",
        "    beta_hat_delta_0 = 0\n",
        "    beta_hat_delta = np.zeros(2)\n",
        "    for i in range(X.shape[0]):\n",
        "        beta_hat_delta_0 += -y_delta[i]\n",
        "        beta_hat_delta += -X[i] * y_delta[i]\n",
        "    beta_hat_delta_0 = beta_hat_delta_0 / n\n",
        "    beta_hat_delta = beta_hat_delta / n\n",
        "    \"\"\"\n",
        "    beta_hat_delta_0 = -np.mean(y_delta)\n",
        "    #beta_hat_delta = -np.mean(X * y_delta[:, np.newaxis], axis=0)\n",
        "    beta_hat_delta = -np.dot(X.T, y_delta) / n # 좀 더효율적이고 간결하다\n",
        "    beta_hat_0 -= learning_rate * beta_hat_delta_0\n",
        "    beta_hat -= learning_rate * beta_hat_delta\n",
        "    y_hat = beta_hat_0 + np.matmul(X, beta_hat)\n",
        "    loss = mean_squared_error(y, y_hat) # mse\n",
        "    loss_hist.append(loss)\n",
        "    beta_hist.append((beta_hat_0, beta_hat))"
      ],
      "metadata": {
        "id": "2rcyEZG9NIbs"
      },
      "execution_count": 62,
      "outputs": []
    },
    {
      "cell_type": "code",
      "source": [
        "plt.plot(loss_hist)\n",
        "plt.xlabel('step')\n",
        "plt.ylabel('loss(MSE)')\n",
        "plt.show()"
      ],
      "metadata": {
        "id": "ESQzqNYp2J-f",
        "outputId": "4acf9235-c17b-45d5-d657-91de0056d759",
        "colab": {
          "base_uri": "https://localhost:8080/",
          "height": 279
        }
      },
      "execution_count": 63,
      "outputs": [
        {
          "output_type": "display_data",
          "data": {
            "text/plain": [
              "<Figure size 432x288 with 1 Axes>"
            ],
            "image/png": "[encoded data removed]"
          },
          "metadata": {
            "needs_background": "light"
          }
        }
      ]
    },
    {
      "cell_type": "code",
      "source": [
        "beta_hat_0, beta_hat"
      ],
      "metadata": {
        "id": "xhwCyHJC2e81",
        "outputId": "c52def66-d48e-4f73-8809-2c17abdb1491",
        "colab": {
          "base_uri": "https://localhost:8080/"
        }
      },
      "execution_count": 22,
      "outputs": [
        {
          "output_type": "execute_result",
          "data": {
            "text/plain": [
              "(0.9261131158007276, array([-0.27521052,  0.77155434]))"
            ]
          },
          "metadata": {},
          "execution_count": 22
        }
      ]
    },
    {
      "cell_type": "markdown",
      "source": [
        "[Question]\n",
        "\n",
        "1. beta_0(절편)을 따로 분리하지않고 하는 방법은?\n",
        "\n",
        "2. 왜 beta를 따로 분리했을까?"
      ],
      "metadata": {
        "id": "cUjRZ_YYi_df"
      }
    },
    {
      "cell_type": "markdown",
      "source": [
        "잠깐] 벡터화 연산(Vectorized Operation) 활용의 중요성"
      ],
      "metadata": {
        "id": "25yx2IL0a8y5"
      }
    },
    {
      "cell_type": "code",
      "source": [
        "%%timeit\n",
        "\n",
        "beta_hat_delta_0 = 0\n",
        "beta_hat_delta = np.zeros(2)\n",
        "for i in range(X.shape[0]):\n",
        "    beta_hat_delta_0 += -y_delta[i]\n",
        "    beta_hat_delta += -X[i] * y_delta[i]\n",
        "beta_hat_delta_0 = beta_hat_delta_0 / n\n",
        "beta_hat_delta = beta_hat_delta / n"
      ],
      "metadata": {
        "colab": {
          "base_uri": "https://localhost:8080/"
        },
        "id": "uiSqeL_uZAcQ",
        "outputId": "acbd96d5-282b-4e6b-ff29-98e987f4db03"
      },
      "execution_count": 24,
      "outputs": [
        {
          "output_type": "stream",
          "name": "stdout",
          "text": [
            "680 µs ± 14.7 µs per loop (mean ± std. dev. of 7 runs, 1000 loops each)\n"
          ]
        }
      ]
    },
    {
      "cell_type": "code",
      "source": [
        "%%timeit\n",
        "\n",
        "-np.mean(X * y_delta[:, np.newaxis], axis=0)"
      ],
      "metadata": {
        "colab": {
          "base_uri": "https://localhost:8080/"
        },
        "id": "-SZnLgB1ZOQI",
        "outputId": "6be6133d-db03-4394-bbfb-8272aa21d45a"
      },
      "execution_count": 26,
      "outputs": [
        {
          "output_type": "stream",
          "name": "stdout",
          "text": [
            "15.6 µs ± 373 ns per loop (mean ± std. dev. of 7 runs, 100000 loops each)\n"
          ]
        }
      ]
    },
    {
      "cell_type": "code",
      "source": [
        "%%timeit\n",
        "\n",
        "-np.dot(X.T, y_delta) / n"
      ],
      "metadata": {
        "colab": {
          "base_uri": "https://localhost:8080/"
        },
        "id": "szz31ovKZFaP",
        "outputId": "fc778f50-9159-458b-f397-458aa717a368"
      },
      "execution_count": 25,
      "outputs": [
        {
          "output_type": "stream",
          "name": "stdout",
          "text": [
            "3.56 µs ± 88.3 ns per loop (mean ± std. dev. of 7 runs, 100000 loops each)\n"
          ]
        }
      ]
    },
    {
      "cell_type": "markdown",
      "source": [
        "# 선형회귀분석과 정규화"
      ],
      "metadata": {
        "id": "EWVrulXi0T5P"
      }
    },
    {
      "cell_type": "markdown",
      "source": [
        "$y=1-0.2x_1+0.9x_2+0.3x_3+e, e \\sim N(0, 0.64)$"
      ],
      "metadata": {
        "id": "Db5iKSpIRePF"
      }
    },
    {
      "cell_type": "code",
      "source": [
        "n = 200 # 데이터 생성 수\n",
        "np.random.seed(42) # 매번 동일한 난수 생성하기 위해 랜덤 Seed를 42로 지정\n",
        "x2_0 = np.random.normal(size=n) # 표준정규분포(평균=0, 분산=1인 정규분포)\n",
        "x2_1 = np.random.normal(size=n) # 표준정규분포(평균=0, 분산=1인 정규분포)\n",
        "x2_2 = np.random.normal(size=n) # 표준정규분포(평균=0, 분산=1인 정규분포)\n",
        "beta_0, beta_1, beta_2, beta_3, eps = 1, -0.2, 0.9, 0.3, 0.64 # eps는 오차의 분산\n",
        "y = beta_0 + beta_1 * x2_0 + beta_2 * x2_1 + beta_3 * x2_2 + np.random.normal(scale=eps**0.5, size=n) \n",
        "np.mean(x2_0), np.var(x2_0), np.mean(x2_1), np.var(x2_1), np.mean(x2_2), np.var(x2_2) # 각각 평균과 분산을 뽑아 확인"
      ],
      "metadata": {
        "id": "l0-c2hNpCyP3",
        "outputId": "d71cc249-ffb0-4bb9-9d55-ebbbc2e46495",
        "colab": {
          "base_uri": "https://localhost:8080/"
        }
      },
      "execution_count": 95,
      "outputs": [
        {
          "output_type": "execute_result",
          "data": {
            "text/plain": [
              "(-0.04077096517208498,\n",
              " 0.8624344486801115,\n",
              " 0.0858681868988765,\n",
              " 0.9693056403571758,\n",
              " -0.08565503438661713,\n",
              " 0.9831788497612339)"
            ]
          },
          "metadata": {},
          "execution_count": 95
        }
      ]
    },
    {
      "cell_type": "markdown",
      "source": [
        "* x_0는 평균 10, 분산 4가 되도록 변환 \n",
        "* x_1은 평균 -40, 분산이 16이 되도록 변환\n",
        "* x_1은 평균 12, 분산이 25이 되도록 변환"
      ],
      "metadata": {
        "id": "5sicbmnNzfGu"
      }
    },
    {
      "cell_type": "code",
      "source": [
        "x2_0 = x2_0 * 2 + 10 # 표준편차 2를 곱하고 여기에 평균 10을 더한다\n",
        "x2_1 = x2_1 * 4 - 40 # 표준편차 4를 곱하고 여기에 평균 -40을 더한다\n",
        "x2_2 = x2_2 * 5 + 12 # 표준편차 5를 곱하고 여기에 평균 12을 더한다\n",
        "np.mean(x2_0), np.var(x2_0), np.mean(x2_1), np.var(x2_1), np.mean(x2_2), np.var(x2_2) # 각각 평균과 분산을 뽑아 확인"
      ],
      "metadata": {
        "id": "E5aNJwedz_ka",
        "outputId": "dc31b31d-b5e5-4da8-bece-397f396d5209",
        "colab": {
          "base_uri": "https://localhost:8080/"
        }
      },
      "execution_count": 96,
      "outputs": [
        {
          "output_type": "execute_result",
          "data": {
            "text/plain": [
              "(9.91845806965583,\n",
              " 3.449737794720446,\n",
              " -39.656527252404494,\n",
              " 15.508890245714811,\n",
              " 11.571724828066912,\n",
              " 24.579471244030852)"
            ]
          },
          "metadata": {},
          "execution_count": 96
        }
      ]
    },
    {
      "cell_type": "markdown",
      "source": [
        "* 각각의 속성값과 (x_0, x_1)과 y값의 산포도 그래프를 찍는다."
      ],
      "metadata": {
        "id": "9EAk3KyT1nml"
      }
    },
    {
      "cell_type": "code",
      "source": [
        "X2 = np.vstack([x2_0, x2_1, x2_2]).T"
      ],
      "metadata": {
        "id": "AIgoZaHY3mIf"
      },
      "execution_count": 97,
      "outputs": []
    },
    {
      "cell_type": "code",
      "source": [
        "fig, axs = plt.subplots(1, 3, figsize=(12, 4))\n",
        "for i, ax in enumerate(axs):\n",
        "    col_name = 'x{}'.format(i)\n",
        "    ax.scatter(X2[:, i], y, label=col_name)\n",
        "    ax.set_xlabel(col_name)\n",
        "    ax.set_ylabel(\"y\")\n",
        "plt.tight_layout()\n",
        "plt.show()"
      ],
      "metadata": {
        "id": "Dq38edKU0p-K",
        "outputId": "0409ef52-dfc8-4a23-ca3b-5a69de44df7a",
        "colab": {
          "base_uri": "https://localhost:8080/",
          "height": 297
        }
      },
      "execution_count": 98,
      "outputs": [
        {
          "output_type": "display_data",
          "data": {
            "text/plain": [
              "<Figure size 864x288 with 3 Axes>"
            ],
            "image/png": "[encoded data removed]"
          },
          "metadata": {
            "needs_background": "light"
          }
        }
      ]
    },
    {
      "cell_type": "markdown",
      "source": [
        "## 정규방정식으로 학습"
      ],
      "metadata": {
        "id": "n-8Rt9sCKtdp"
      }
    },
    {
      "cell_type": "code",
      "source": [
        "X2_1 = np.hstack([np.ones((X2.shape[0], 1)), X2]) # 절편을 구하기 위해서 전부 값이 1인 열을 추가"
      ],
      "metadata": {
        "id": "5hijLd4cCxQX"
      },
      "execution_count": 99,
      "outputs": []
    },
    {
      "cell_type": "code",
      "source": [
        "beta_hat = np.dot(np.linalg.inv(np.matmul(X2_1.T, X2_1)),  np.dot(X2_1.T, y))"
      ],
      "metadata": {
        "id": "Y0Nr_LdXCtoY"
      },
      "execution_count": 127,
      "outputs": []
    },
    {
      "cell_type": "code",
      "source": [
        "[(i, j ) for i,j in zip([beta_0, beta_1, beta_2, beta_3], beta_hat)], mean_squared_error(y, np.dot(X2_1, beta_hat))"
      ],
      "metadata": {
        "colab": {
          "base_uri": "https://localhost:8080/"
        },
        "id": "7Hy3vkGvEbvI",
        "outputId": "e7009864-07ce-4863-821a-bf310c7c7540"
      },
      "execution_count": 128,
      "outputs": [
        {
          "output_type": "execute_result",
          "data": {
            "text/plain": [
              "([(1, 8.80347166307444),\n",
              "  (-0.2, -0.0601795922692232),\n",
              "  (0.9, 0.2030377874265124),\n",
              "  (0.3, 0.0788216995362907)],\n",
              " 0.6428587489550194)"
            ]
          },
          "metadata": {},
          "execution_count": 128
        }
      ]
    },
    {
      "cell_type": "markdown",
      "source": [
        "표준화가 되어 있지 않는다면 계수를 가지고 중요성, 상대적으로 분산이 큰 속성은 계수의 크기 작다."
      ],
      "metadata": {
        "id": "4PpiL5aSIcJy"
      }
    },
    {
      "cell_type": "markdown",
      "source": [
        "## 경사하강법으로 학습"
      ],
      "metadata": {
        "id": "t2u0CSaI-TLP"
      }
    },
    {
      "cell_type": "code",
      "source": [
        "# 경사하강법을 함수화\n",
        "def gradient_descent(X, y, learning_rate, epoch, random_state=9):\n",
        "    np.random.seed(random_state)\n",
        "    beta_hat =  np.random.rand(X.shape[1] + 1) * 2 - 1 # [-1, 1) 까지 랜덤 번호 생성\n",
        "    beta_hat_0 = beta_hat[0]\n",
        "    beta_hat = beta_hat[1:]\n",
        "    loss_hist = []\n",
        "    beta_hist = []\n",
        "    for j in range(epoch):\n",
        "        y_delta =  y - beta_hat_0 - np.matmul(X, beta_hat)\n",
        "        beta_hat_delta_0 = -np.mean(y_delta)\n",
        "        beta_hat_delta = -np.dot(X.T, y_delta) / n # 좀 더효율적이고 간결하다\n",
        "        beta_hat_0 -= learning_rate * beta_hat_delta_0\n",
        "        beta_hat -= learning_rate * beta_hat_delta\n",
        "        y_hat = beta_hat_0 + np.matmul(X, beta_hat)\n",
        "        loss = mean_squared_error(y, y_hat) # mse\n",
        "        loss_hist.append(loss)\n",
        "        beta_hist.append((beta_hat_0, beta_hat))\n",
        "    return beta_hat_0, beta_hat, loss_hist, beta_hist\n",
        "beta_hat_0, beta_hat,loss_hist, beta_hist = gradient_descent(X2, y, 0.001, 100)"
      ],
      "metadata": {
        "id": "WXHVhJgU-St9"
      },
      "execution_count": 131,
      "outputs": []
    },
    {
      "cell_type": "code",
      "source": [
        "(beta_0, beta_hat_0), [(i, j ) for i,j in zip([beta_1, beta_2, beta_3], beta_hat)], mean_squared_error(y, np.dot(X2, beta_hat) + beta_hat_0)"
      ],
      "metadata": {
        "id": "NSylOlrmE6Q9",
        "outputId": "70a88161-912c-4af6-cb0f-2f04363b3b99",
        "colab": {
          "base_uri": "https://localhost:8080/"
        }
      },
      "execution_count": 133,
      "outputs": [
        {
          "output_type": "execute_result",
          "data": {
            "text/plain": [
              "((1, -0.9680981578315895),\n",
              " [(-0.2, 0.06335524287309413),\n",
              "  (0.9, -0.02108052872627008),\n",
              "  (0.3, 0.043267782556658176)],\n",
              " 1.472632825333718)"
            ]
          },
          "metadata": {},
          "execution_count": 133
        }
      ]
    },
    {
      "cell_type": "code",
      "source": [
        "plt.plot(loss_hist)\n",
        "plt.xlabel('step')\n",
        "plt.ylabel('loss(MSE)')\n",
        "plt.show()"
      ],
      "metadata": {
        "id": "_5ZnYGabFrsF",
        "outputId": "00dd8985-4378-4ace-d962-6f8d1965ac19",
        "colab": {
          "base_uri": "https://localhost:8080/",
          "height": 279
        }
      },
      "execution_count": 124,
      "outputs": [
        {
          "output_type": "display_data",
          "data": {
            "text/plain": [
              "<Figure size 432x288 with 1 Axes>"
            ],
            "image/png": "[encoded data removed]"
          },
          "metadata": {
            "needs_background": "light"
          }
        }
      ]
    },
    {
      "cell_type": "markdown",
      "source": [
        "* scipy에 있는 최적화 알고리즘을 사용해본다.\n",
        "\n",
        "> [scipy.optimize,minimize](https://docs.scipy.org/doc/scipy/reference/generated/scipy.optimize.minimize.html#scipy.optimize.minimize) 로 선형회귀모델을 학습한다. (method='Newton-CG')"
      ],
      "metadata": {
        "id": "EqdUsFNPZPO2"
      }
    },
    {
      "cell_type": "code",
      "source": [
        "def mse(beta_hat, X, y):\n",
        "    r = y - np.dot(X, beta_hat)\n",
        "    return np.dot(r, r)\n",
        "def jac(beta_hat, X, y):\n",
        "    y_delta =  y - np.dot(X, beta_hat)\n",
        "    return -np.dot(X.T, y_delta) / X.shape[0]\n",
        "result = minimize(mse, np.random.rand(X2_1.shape[1]), jac=jac, args=(X2_1, y), method='Newton-CG')\n",
        "result"
      ],
      "metadata": {
        "id": "M_py1KJOZZX_",
        "outputId": "261e9361-24f0-454f-fbac-b3483b551ef0",
        "colab": {
          "base_uri": "https://localhost:8080/"
        }
      },
      "execution_count": 160,
      "outputs": [
        {
          "output_type": "execute_result",
          "data": {
            "text/plain": [
              "     fun: 128.5717497910053\n",
              "     jac: array([ 3.22013891e-08,  1.15288288e-06, -3.51120097e-06, -1.32999695e-05])\n",
              " message: 'Optimization terminated successfully.'\n",
              "    nfev: 6\n",
              "    nhev: 0\n",
              "     nit: 5\n",
              "    njev: 25\n",
              "  status: 0\n",
              " success: True\n",
              "       x: array([ 8.80347062, -0.06017957,  0.20303777,  0.0788217 ])"
            ]
          },
          "metadata": {},
          "execution_count": 160
        }
      ]
    },
    {
      "cell_type": "code",
      "source": [
        "beta_hat = result.x\n",
        "[(i, j ) for i,j in zip([beta_0, beta_1, beta_2, beta_3], beta_hat)], mean_squared_error(y, np.dot(X2_1, beta_hat))"
      ],
      "metadata": {
        "id": "l54grC3-ZzY_",
        "outputId": "a89d684f-9799-450e-d9f1-92aa568eb79a",
        "colab": {
          "base_uri": "https://localhost:8080/"
        }
      },
      "execution_count": 161,
      "outputs": [
        {
          "output_type": "execute_result",
          "data": {
            "text/plain": [
              "([(1, 8.803470622293585),\n",
              "  (-0.2, -0.06017956543195355),\n",
              "  (0.9, 0.2030377693034956),\n",
              "  (0.3, 0.078821703644403)],\n",
              " 0.6428587489550265)"
            ]
          },
          "metadata": {},
          "execution_count": 161
        }
      ]
    },
    {
      "cell_type": "markdown",
      "source": [
        "직접만든 경사하강법보다 좋은 결과를 뽑아냈지만, 복잡한 데이터셋에서는 이 알고리즘도 정규화를 하지 않으면, 제대로 작동하지 않게 된다.  "
      ],
      "metadata": {
        "id": "tgyRNjR7akvC"
      }
    },
    {
      "cell_type": "markdown",
      "source": [
        "## 정규화(Normalization)\n",
        "\n",
        "* 표준정규분포로(Z-scaling)로 정규화를 진행해 본다.\n",
        "\n",
        "$X\\_std = \\frac{(X-\\bar{X})}{s}$"
      ],
      "metadata": {
        "id": "r264-6wbJwmo"
      }
    },
    {
      "cell_type": "code",
      "source": [
        "X2_std =  (X2 - np.mean(X2, axis=0)) / np.std(X2, axis=0) # Z-scaling"
      ],
      "metadata": {
        "id": "i2PxxuZ_Jit2"
      },
      "execution_count": 134,
      "outputs": []
    },
    {
      "cell_type": "code",
      "source": [
        "X2_std.shape, np.mean(X2_std), np.std(X2_std)"
      ],
      "metadata": {
        "colab": {
          "base_uri": "https://localhost:8080/"
        },
        "id": "NcGTk_PEKqWx",
        "outputId": "cdf04eb5-62ad-4ac4-d811-a2dcf2a1b9df"
      },
      "execution_count": 135,
      "outputs": [
        {
          "output_type": "execute_result",
          "data": {
            "text/plain": [
              "((200, 3), 3.1086244689504386e-17, 1.0)"
            ]
          },
          "metadata": {},
          "execution_count": 135
        }
      ]
    },
    {
      "cell_type": "markdown",
      "source": [
        "[Practice]\n",
        "\n",
        "X_std를 가지고 정규방정식을 이용하여 beta_hat을 구하시오."
      ],
      "metadata": {
        "id": "XDeUWMKp58PP"
      }
    },
    {
      "cell_type": "code",
      "source": [
        "X2_std_1 = np.hstack([np.ones((X2_std.shape[0], 1)), X2_std])\n",
        "beta_hat = np.dot(np.linalg.inv(np.matmul(X2_std_1.T, X2_std_1)),  np.dot(X2_std_1.T, y))\n",
        "beta_hat0, beta_hat1, beta_hat2  = beta_hat[0], beta_hat[1], beta_hat[2]"
      ],
      "metadata": {
        "id": "J6CBkxXZ57KN"
      },
      "execution_count": 136,
      "outputs": []
    },
    {
      "cell_type": "code",
      "source": [
        "beta_1, beta_hat1, beta_2, beta_hat2"
      ],
      "metadata": {
        "id": "xJwNY0Cn6nBA",
        "outputId": "e80c906c-ecda-4ab2-e4aa-922c53390ad3",
        "colab": {
          "base_uri": "https://localhost:8080/"
        }
      },
      "execution_count": 60,
      "outputs": [
        {
          "output_type": "execute_result",
          "data": {
            "text/plain": [
              "(-0.3, -0.33107123589311044, 0.8, 0.7796787945495445)"
            ]
          },
          "metadata": {},
          "execution_count": 60
        }
      ]
    },
    {
      "cell_type": "markdown",
      "source": [
        "경사하강법으로 해보자."
      ],
      "metadata": {
        "id": "YVtsFAmr88xn"
      }
    },
    {
      "cell_type": "code",
      "source": [
        "beta_hat_0, beta_hat,loss_hist, beta_hist = gradient_descent(X2_std, y, 0.1, 100)"
      ],
      "metadata": {
        "id": "1p08aZgW9ppO"
      },
      "execution_count": 141,
      "outputs": []
    },
    {
      "cell_type": "code",
      "source": [
        "plt.plot(loss_hist)\n",
        "plt.xlabel('step')\n",
        "plt.ylabel('loss(MSE)')\n",
        "plt.show()"
      ],
      "metadata": {
        "id": "DDcAuA6J947l",
        "outputId": "8ce0b8e5-b847-4923-a3f4-b91e05cadb79",
        "colab": {
          "base_uri": "https://localhost:8080/",
          "height": 279
        }
      },
      "execution_count": 142,
      "outputs": [
        {
          "output_type": "display_data",
          "data": {
            "text/plain": [
              "<Figure size 432x288 with 1 Axes>"
            ],
            "image/png": "[encoded data removed]"
          },
          "metadata": {
            "needs_background": "light"
          }
        }
      ]
    },
    {
      "cell_type": "code",
      "source": [
        "(beta_0, beta_hat_0), [(i, j ) for i,j in zip([beta_1, beta_2, beta_3], beta_hat)], mean_squared_error(y, np.dot(X2_std, beta_hat) + beta_hat_0)"
      ],
      "metadata": {
        "id": "ptUqKo_OGevu",
        "outputId": "8d8bfdd3-a12a-4bf1-bd76-f28f4cf4f228",
        "colab": {
          "base_uri": "https://localhost:8080/"
        }
      },
      "execution_count": 144,
      "outputs": [
        {
          "output_type": "execute_result",
          "data": {
            "text/plain": [
              "((1, 1.0668580186905179),\n",
              " [(-0.2, -0.11180052070328339),\n",
              "  (0.9, 0.7995643018058106),\n",
              "  (0.3, 0.3907272865967305)],\n",
              " 0.6428587556659252)"
            ]
          },
          "metadata": {},
          "execution_count": 144
        }
      ]
    },
    {
      "cell_type": "markdown",
      "source": [
        "[Practice]\n",
        "\n",
        "scipy에 있는 최적화 알고리즘으로 학습해본다.\n",
        "\n",
        "[scipy.optimize,minimize](https://docs.scipy.org/doc/scipy/reference/generated/scipy.optimize.minimize.html#scipy.optimize.minimize) 로 선형회귀모델을 학습한다.(method='Newton-CG')"
      ],
      "metadata": {
        "id": "DUvjv8ekUzuO"
      }
    },
    {
      "cell_type": "code",
      "source": [
        "from scipy.optimize import minimize"
      ],
      "metadata": {
        "id": "_ZqfYENAWWfT"
      },
      "execution_count": 146,
      "outputs": []
    },
    {
      "cell_type": "code",
      "source": [
        "def mse(beta_hat, X, y):\n",
        "    r = y - np.dot(X, beta_hat)\n",
        "    return np.dot(r, r)\n",
        "def jac(beta_hat, X, y):\n",
        "    y_delta =  y - np.dot(X, beta_hat)\n",
        "    return -np.dot(X.T, y_delta) / X.shape[0]\n",
        "minimize(mse, np.random.rand(X2_std_1.shape[1]), jac=jac, args=(X2_std_1, y), method='Newton-CG')"
      ],
      "metadata": {
        "id": "I73FpGtlWgIO",
        "outputId": "8d7334df-344f-42fe-9fdb-03b63cead639",
        "colab": {
          "base_uri": "https://localhost:8080/"
        }
      },
      "execution_count": 162,
      "outputs": [
        {
          "output_type": "execute_result",
          "data": {
            "text/plain": [
              "     fun: 128.5717497910039\n",
              "     jac: array([-1.65738823e-06, -3.56382762e-07,  5.11383033e-06,  3.85283197e-06])\n",
              " message: 'Optimization terminated successfully.'\n",
              "    nfev: 5\n",
              "    nhev: 0\n",
              "     nit: 4\n",
              "    njev: 13\n",
              "  status: 0\n",
              " success: True\n",
              "       x: array([ 1.06691237, -0.11177438,  0.79958977,  0.39077976])"
            ]
          },
          "metadata": {},
          "execution_count": 162
        }
      ]
    },
    {
      "cell_type": "code",
      "source": [
        "from sklearn.datasets import make_regression"
      ],
      "metadata": {
        "id": "CzyONwwSajVZ"
      },
      "execution_count": null,
      "outputs": []
    },
    {
      "cell_type": "markdown",
      "source": [
        "[sklearn.datasets.make_regression](https://scikit-learn.org/stable/modules/generated/sklearn.datasets.make_regression.html#sklearn.datasets.make_regression) 회귀 분석 데이터셋을 만든다. \n",
        "\n",
        "n_samples=100, n_features=5, n_informative=3, random_state=9, coef=True 로 해서 데이터셋 생성하여 입력 값은 X에 출력은 y 값, 계수는 coef에 설정."
      ],
      "metadata": {
        "id": "2EifADhUYwYY"
      }
    },
    {
      "cell_type": "code",
      "source": [
        "X, y, coef = make_regression(n_samples=100, n_features=5, n_informative=3, random_state=9, coef=True)\n",
        "X.shape, y.shape, coef"
      ],
      "metadata": {
        "id": "j3GGsGnNWsp9",
        "outputId": "9f09264a-6784-444a-95c8-792ae90b9388",
        "colab": {
          "base_uri": "https://localhost:8080/"
        }
      },
      "execution_count": null,
      "outputs": [
        {
          "output_type": "execute_result",
          "data": {
            "text/plain": [
              "((100, 5),\n",
              " (100,),\n",
              " array([ 6.74479784, 71.20447834,  0.        ,  0.        , 50.7033102 ]))"
            ]
          },
          "metadata": {},
          "execution_count": 47
        }
      ]
    },
    {
      "cell_type": "markdown",
      "source": [
        "각각의 속성과, y를 산포도 그래프로 시각화"
      ],
      "metadata": {
        "id": "j1KFjqUTp2JH"
      }
    },
    {
      "cell_type": "code",
      "source": [
        "fig, axs = plt.subplots(1, 5, figsize=(16, 4))\n",
        "for i, ax in enumerate(axs):\n",
        "    col_name = 'x{}'.format(i)\n",
        "    ax.scatter(X[:, i], y, label=col_name)\n",
        "    ax.set_xlabel(col_name)\n",
        "    ax.set_ylabel(\"y\")\n",
        "plt.show()"
      ],
      "metadata": {
        "id": "1B4t7359k1RT",
        "outputId": "54d4ae23-0bd9-4356-854d-1e5d0374bf68",
        "colab": {
          "base_uri": "https://localhost:8080/",
          "height": 279
        }
      },
      "execution_count": null,
      "outputs": [
        {
          "output_type": "display_data",
          "data": {
            "text/plain": [
              "<Figure size 1152x288 with 5 Axes>"
            ],
            "image/png": "[encoded data removed]"
          },
          "metadata": {
            "needs_background": "light"
          }
        }
      ]
    },
    {
      "cell_type": "code",
      "source": [],
      "metadata": {
        "id": "WZn5SUEdq33Q"
      },
      "execution_count": null,
      "outputs": []
    }
  ]
}