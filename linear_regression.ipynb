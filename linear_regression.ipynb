{
  "nbformat": 4,
  "nbformat_minor": 0,
  "metadata": {
    "colab": {
      "provenance": [],
      "authorship_tag": "ABX9TyOeqHLRQ2ca3Jx25ICFDyEP",
      "include_colab_link": true
    },
    "kernelspec": {
      "name": "python3",
      "display_name": "Python 3"
    },
    "language_info": {
      "name": "python"
    }
  },
  "cells": [
    {
      "cell_type": "markdown",
      "metadata": {
        "id": "view-in-github",
        "colab_type": "text"
      },
      "source": [
        "<a href=\"https://colab.research.google.com/github/sunkusun9/ML2022_1/blob/main/linear_regression.ipynb\" target=\"_parent\"><img src=\"https://colab.research.google.com/assets/colab-badge.svg\" alt=\"Open In Colab\"/></a>"
      ]
    },
    {
      "cell_type": "code",
      "source": [
        "# 한글 폰트 설정\n",
        "!apt-get install -y fonts-nanum\n",
        "!fc-cache -fv\n",
        "!rm ~/.cache/matplotlib -rf\n",
        "# 런타임 다시 시작 필요"
      ],
      "metadata": {
        "id": "Kpz2SoGzy92X",
        "colab": {
          "base_uri": "https://localhost:8080/"
        },
        "outputId": "1b146d79-69d1-4bfb-d5a1-bff967f08132"
      },
      "execution_count": 2,
      "outputs": [
        {
          "output_type": "stream",
          "name": "stdout",
          "text": [
            "Reading package lists... Done\n",
            "Building dependency tree       \n",
            "Reading state information... Done\n",
            "The following package was automatically installed and is no longer required:\n",
            "  libnvidia-common-460\n",
            "Use 'apt autoremove' to remove it.\n",
            "The following NEW packages will be installed:\n",
            "  fonts-nanum\n",
            "0 upgraded, 1 newly installed, 0 to remove and 20 not upgraded.\n",
            "Need to get 9,604 kB of archives.\n",
            "After this operation, 29.5 MB of additional disk space will be used.\n",
            "Get:1 http://archive.ubuntu.com/ubuntu bionic/universe amd64 fonts-nanum all 20170925-1 [9,604 kB]\n",
            "Fetched 9,604 kB in 1s (7,250 kB/s)\n",
            "Selecting previously unselected package fonts-nanum.\n",
            "(Reading database ... 124016 files and directories currently installed.)\n",
            "Preparing to unpack .../fonts-nanum_20170925-1_all.deb ...\n",
            "Unpacking fonts-nanum (20170925-1) ...\n",
            "Setting up fonts-nanum (20170925-1) ...\n",
            "Processing triggers for fontconfig (2.12.6-0ubuntu2) ...\n",
            "/usr/share/fonts: caching, new cache contents: 0 fonts, 1 dirs\n",
            "/usr/share/fonts/truetype: caching, new cache contents: 0 fonts, 3 dirs\n",
            "/usr/share/fonts/truetype/humor-sans: caching, new cache contents: 1 fonts, 0 dirs\n",
            "/usr/share/fonts/truetype/liberation: caching, new cache contents: 16 fonts, 0 dirs\n",
            "/usr/share/fonts/truetype/nanum: caching, new cache contents: 10 fonts, 0 dirs\n",
            "/usr/local/share/fonts: caching, new cache contents: 0 fonts, 0 dirs\n",
            "/root/.local/share/fonts: skipping, no such directory\n",
            "/root/.fonts: skipping, no such directory\n",
            "/var/cache/fontconfig: cleaning cache directory\n",
            "/root/.cache/fontconfig: not cleaning non-existent cache directory\n",
            "/root/.fontconfig: not cleaning non-existent cache directory\n",
            "fc-cache: succeeded\n"
          ]
        }
      ]
    },
    {
      "cell_type": "code",
      "source": [
        "import matplotlib as mpl\n",
        "import matplotlib.pyplot as plt\n",
        "import matplotlib.font_manager as fm\n",
        "import seaborn as sns\n",
        "import pandas as pd\n",
        "\n",
        "plt.rc('font', family='NanumBarunGothic') \n",
        "mpl.rcParams['axes.unicode_minus'] = False"
      ],
      "metadata": {
        "id": "Jsls64MW31i0"
      },
      "execution_count": 63,
      "outputs": []
    },
    {
      "cell_type": "code",
      "source": [
        "from sklearn.metrics import mean_squared_error"
      ],
      "metadata": {
        "id": "0WJrCITB8mS3"
      },
      "execution_count": 2,
      "outputs": []
    },
    {
      "cell_type": "markdown",
      "source": [
        "# 다중선형회귀분석(Multiple Linear Regression)"
      ],
      "metadata": {
        "id": "a27vRYj6YU5s"
      }
    },
    {
      "cell_type": "code",
      "source": [
        "import numpy as np"
      ],
      "metadata": {
        "id": "wasNejtTzFBr"
      },
      "execution_count": 3,
      "outputs": []
    },
    {
      "cell_type": "markdown",
      "source": [
        "## 다중선형회귀분석 데이터셋 만들기\n",
        "\n",
        "* 표준정규분포를 따르는 x_0, x_1을 200개 생성\n",
        "beta_0 = 1, beta_1 = -0.1, beta_2 = 0.8 이고\n",
        "노이즈의 분산을 0.4로 하여 y를 생성\n",
        "\n",
        "$y=1-0.1x_1+0.8x_2+e, e \\sim N(0, 0.4)$"
      ],
      "metadata": {
        "id": "lYz6-GUWvTUg"
      }
    },
    {
      "cell_type": "code",
      "source": [
        "n = 200 # 데이터 생성 수\n",
        "np.random.seed(42) # 매번 동일한 난수 생성하기 위해 랜덤 Seed를 42로 지정\n",
        "x_0 = np.random.normal(size=n) # 표준정규분포(평균=0, 분산=1인 정규분포)\n",
        "x_1 = np.random.normal(size=n) # 표준정규분포(평균=0, 분산=1인 정규분포)\n",
        "beta_0, beta_1, beta_2, eps = 1, -0.3, 0.8, 0.4 # eps는 오차의 분산\n",
        "y = beta_0 + beta_1 * x_0 + beta_2 * x_1 + np.random.normal(scale=eps**0.5, size=n) \n",
        "np.mean(x_0), np.var(x_0), np.mean(x_1), np.var(x_1) # 각각 평균과 분산을 뽑아 확인"
      ],
      "metadata": {
        "id": "7aFF-3rDsYcN",
        "outputId": "76cd9590-9532-4f84-f925-45180bac127e",
        "colab": {
          "base_uri": "https://localhost:8080/"
        }
      },
      "execution_count": 4,
      "outputs": [
        {
          "output_type": "execute_result",
          "data": {
            "text/plain": [
              "(-0.04077096517208498,\n",
              " 0.8624344486801115,\n",
              " 0.0858681868988765,\n",
              " 0.9693056403571758)"
            ]
          },
          "metadata": {},
          "execution_count": 4
        }
      ]
    },
    {
      "cell_type": "markdown",
      "source": [
        "x_0, x_1으로 Matrix X를 만든다."
      ],
      "metadata": {
        "id": "qOr6wOVg01cl"
      }
    },
    {
      "cell_type": "code",
      "source": [
        "X = np.vstack([x_0, x_1]).T"
      ],
      "metadata": {
        "id": "49Wi6H1ezJOf"
      },
      "execution_count": 5,
      "outputs": []
    },
    {
      "cell_type": "markdown",
      "source": [
        "* 각각의 속성값과 (x_0, x_1)과 y값의 산포도 그래프를 찍는다."
      ],
      "metadata": {
        "id": "rCubd50yNY40"
      }
    },
    {
      "cell_type": "code",
      "source": [
        "fig, axs = plt.subplots(1, 2, figsize=(8, 4))\n",
        "for i, ax in enumerate(axs):\n",
        "    col_name = 'x{}'.format(i)\n",
        "    ax.scatter(X[:, i], y, label=col_name)\n",
        "    ax.set_xlabel(col_name)\n",
        "    ax.set_ylabel(\"y\")\n",
        "plt.tight_layout()\n",
        "plt.show()"
      ],
      "metadata": {
        "outputId": "6735184a-5f17-4bb3-a777-d060d674cf77",
        "colab": {
          "base_uri": "https://localhost:8080/",
          "height": 297
        },
        "id": "I0298KTZNY46"
      },
      "execution_count": 6,
      "outputs": [
        {
          "output_type": "display_data",
          "data": {
            "text/plain": [
              "<Figure size 576x288 with 2 Axes>"
            ],
            "image/png": "[encoded data removed]"
          },
          "metadata": {
            "needs_background": "light"
          }
        }
      ]
    },
    {
      "cell_type": "markdown",
      "source": [
        "# 학습"
      ],
      "metadata": {
        "id": "_VxUSKTmK4_Q"
      }
    },
    {
      "cell_type": "markdown",
      "source": [
        "## 정규방정식\n",
        "\n",
        "$\\beta=(X^TX)^{-1}X^Ty$"
      ],
      "metadata": {
        "id": "eBpciCrBMUtI"
      }
    },
    {
      "cell_type": "code",
      "source": [
        "X_1 = np.hstack([np.ones((X.shape[0], 1)), X])"
      ],
      "metadata": {
        "id": "zel10VG5K7H1"
      },
      "execution_count": 7,
      "outputs": []
    },
    {
      "cell_type": "code",
      "source": [
        "gram_matrix = np.matmul(X_1.T, X_1)\n",
        "inv_gram_matrix = np.linalg.inv(gram_matrix)\n",
        "beta_hat = np.dot(inv_gram_matrix,  np.dot(X_1.T, y))\n",
        "beta_hat"
      ],
      "metadata": {
        "colab": {
          "base_uri": "https://localhost:8080/"
        },
        "id": "Pg1k1XPBLSoq",
        "outputId": "f788c6d5-dad8-4842-917f-47ec872735f9"
      },
      "execution_count": 8,
      "outputs": [
        {
          "output_type": "execute_result",
          "data": {
            "text/plain": [
              "array([ 0.94328083, -0.38933287,  0.78723605])"
            ]
          },
          "metadata": {},
          "execution_count": 8
        }
      ]
    },
    {
      "cell_type": "markdown",
      "source": [
        "## 경사하강법"
      ],
      "metadata": {
        "id": "eWNZgakaOg7g"
      }
    },
    {
      "cell_type": "markdown",
      "source": [
        "$\\frac{\\partial F}{\\partial\\beta_0}=\\frac{\\sum\\limits_{i=1}^{n}-(y_i-\\beta_0-x_i^T\\beta)}{n}$\n",
        "\n",
        "$\\frac{\\partial F}{\\partial\\beta}=\\frac{\\sum\\limits_{i=1}^{n}-x_i(y_i-\\beta_0-x_i^T\\beta)}{n}$"
      ],
      "metadata": {
        "id": "6xACdFf8O3D3"
      }
    },
    {
      "cell_type": "code",
      "source": [
        "np.random.seed(42)\n",
        "beta_hat =  np.random.rand(3) * 2 - 1 # [-1, 1) 까지 랜덤 번호 생성\n",
        "beta_hat_0 = beta_hat[0]  # 절편을 따로 뗀다\n",
        "beta_hat = beta_hat[1:] # 절편을 제외한 계수를 beta_hat로 다시 지정한다 \n",
        "learning_rate = 0.1\n",
        "epoch = 30\n",
        "loss_hist = []\n",
        "beta_hist = []\n",
        "for j in range(epoch):\n",
        "    y_delta =  y - beta_hat_0 - np.matmul(X, beta_hat)\n",
        "    \"\"\"\n",
        "    ### Vectorized Operation을 사용하지 않는다면... \n",
        "    beta_hat_delta_0 = 0\n",
        "    beta_hat_delta = np.zeros(2)\n",
        "    for i in range(X.shape[0]):\n",
        "        beta_hat_delta_0 += -y_delta[i]\n",
        "        beta_hat_delta += -X[i] * y_delta[i]\n",
        "    beta_hat_delta_0 = beta_hat_delta_0 / n\n",
        "    beta_hat_delta = beta_hat_delta / n\n",
        "    \"\"\"\n",
        "    beta_hat_delta_0 = -np.mean(y_delta)\n",
        "    #beta_hat_delta = -np.mean(X * y_delta[:, np.newaxis], axis=0)\n",
        "    beta_hat_delta = -np.dot(X.T, y_delta) / n # 좀 더효율적이고 간결하다\n",
        "    beta_hat_0 -= learning_rate * beta_hat_delta_0\n",
        "    beta_hat -= learning_rate * beta_hat_delta\n",
        "    y_hat = beta_hat_0 + np.matmul(X, beta_hat)\n",
        "    loss = mean_squared_error(y, y_hat) # mse\n",
        "    loss_hist.append(loss)\n",
        "    beta_hist.append((beta_hat_0, beta_hat))"
      ],
      "metadata": {
        "id": "2rcyEZG9NIbs"
      },
      "execution_count": 9,
      "outputs": []
    },
    {
      "cell_type": "code",
      "source": [
        "plt.plot(loss_hist)\n",
        "plt.xlabel('step')\n",
        "plt.ylabel('loss(MSE)')\n",
        "plt.show()"
      ],
      "metadata": {
        "id": "ESQzqNYp2J-f",
        "outputId": "9b973af3-667a-428a-e2f8-67381cb255d5",
        "colab": {
          "base_uri": "https://localhost:8080/",
          "height": 281
        }
      },
      "execution_count": 10,
      "outputs": [
        {
          "output_type": "display_data",
          "data": {
            "text/plain": [
              "<Figure size 432x288 with 1 Axes>"
            ],
            "image/png": "[encoded data removed]"
          },
          "metadata": {
            "needs_background": "light"
          }
        }
      ]
    },
    {
      "cell_type": "code",
      "source": [
        "beta_hat_0, beta_hat"
      ],
      "metadata": {
        "id": "xhwCyHJC2e81",
        "outputId": "59e8f353-1c6b-4b69-fee9-f265b1300997",
        "colab": {
          "base_uri": "https://localhost:8080/"
        }
      },
      "execution_count": 11,
      "outputs": [
        {
          "output_type": "execute_result",
          "data": {
            "text/plain": [
              "(0.9064412026592172, array([-0.30565103,  0.76625944]))"
            ]
          },
          "metadata": {},
          "execution_count": 11
        }
      ]
    },
    {
      "cell_type": "markdown",
      "source": [
        "[Question]\n",
        "\n",
        "1. beta_0(절편)을 따로 분리하지않고 하는 방법은?\n",
        "\n",
        "2. 왜 beta를 따로 분리했을까?"
      ],
      "metadata": {
        "id": "cUjRZ_YYi_df"
      }
    },
    {
      "cell_type": "markdown",
      "source": [
        "잠깐] 벡터화 연산(Vectorized Operation) 활용의 중요성"
      ],
      "metadata": {
        "id": "25yx2IL0a8y5"
      }
    },
    {
      "cell_type": "code",
      "source": [
        "%%timeit\n",
        "\n",
        "beta_hat_delta_0 = 0\n",
        "beta_hat_delta = np.zeros(2)\n",
        "for i in range(X.shape[0]):\n",
        "    beta_hat_delta_0 += -y_delta[i]\n",
        "    beta_hat_delta += -X[i] * y_delta[i]\n",
        "beta_hat_delta_0 = beta_hat_delta_0 / n\n",
        "beta_hat_delta = beta_hat_delta / n"
      ],
      "metadata": {
        "colab": {
          "base_uri": "https://localhost:8080/"
        },
        "id": "uiSqeL_uZAcQ",
        "outputId": "d93e7b59-750b-462b-bdb4-2903cfbf4c62"
      },
      "execution_count": 12,
      "outputs": [
        {
          "output_type": "stream",
          "name": "stdout",
          "text": [
            "913 µs ± 280 µs per loop (mean ± std. dev. of 7 runs, 1000 loops each)\n"
          ]
        }
      ]
    },
    {
      "cell_type": "code",
      "source": [
        "%%timeit\n",
        "\n",
        "-np.mean(X * y_delta[:, np.newaxis], axis=0)"
      ],
      "metadata": {
        "colab": {
          "base_uri": "https://localhost:8080/"
        },
        "id": "-SZnLgB1ZOQI",
        "outputId": "f3f9748a-74bf-4085-fb0a-704acb7b80d8"
      },
      "execution_count": 13,
      "outputs": [
        {
          "output_type": "stream",
          "name": "stdout",
          "text": [
            "41.7 µs ± 6.42 µs per loop (mean ± std. dev. of 7 runs, 10000 loops each)\n"
          ]
        }
      ]
    },
    {
      "cell_type": "code",
      "source": [
        "%%timeit\n",
        "\n",
        "-np.dot(X.T, y_delta) / n"
      ],
      "metadata": {
        "colab": {
          "base_uri": "https://localhost:8080/"
        },
        "id": "szz31ovKZFaP",
        "outputId": "3c4a8b8b-b454-4b35-a363-4c3357df9c6c"
      },
      "execution_count": 14,
      "outputs": [
        {
          "output_type": "stream",
          "name": "stdout",
          "text": [
            "10 µs ± 1.15 µs per loop (mean ± std. dev. of 7 runs, 100000 loops each)\n"
          ]
        }
      ]
    },
    {
      "cell_type": "markdown",
      "source": [
        "# 다중선형회귀분석과 정규화"
      ],
      "metadata": {
        "id": "EWVrulXi0T5P"
      }
    },
    {
      "cell_type": "markdown",
      "source": [
        "$y=1-0.2x_1+0.9x_2+0.3x_3+e, e \\sim N(0, 0.64)$"
      ],
      "metadata": {
        "id": "Db5iKSpIRePF"
      }
    },
    {
      "cell_type": "code",
      "source": [
        "n = 200 # 데이터 생성 수\n",
        "np.random.seed(42) # 매번 동일한 난수 생성하기 위해 랜덤 Seed를 42로 지정\n",
        "x2_0 = np.random.normal(size=n) # 표준정규분포(평균=0, 분산=1인 정규분포)\n",
        "x2_1 = np.random.normal(size=n) # 표준정규분포(평균=0, 분산=1인 정규분포)\n",
        "x2_2 = np.random.normal(size=n) # 표준정규분포(평균=0, 분산=1인 정규분포)\n",
        "beta_0, beta_1, beta_2, beta_3, eps = 1, -0.2, 0.9, 0.3, 0.64 # eps는 오차의 분산\n",
        "y = beta_0 + beta_1 * x2_0 + beta_2 * x2_1 + beta_3 * x2_2 + np.random.normal(scale=eps**0.5, size=n) \n",
        "np.mean(x2_0), np.var(x2_0), np.mean(x2_1), np.var(x2_1), np.mean(x2_2), np.var(x2_2) # 각각 평균과 분산을 뽑아 확인"
      ],
      "metadata": {
        "id": "l0-c2hNpCyP3",
        "outputId": "a60e7b77-1df3-4871-cf80-176cf57b3e92",
        "colab": {
          "base_uri": "https://localhost:8080/"
        }
      },
      "execution_count": 15,
      "outputs": [
        {
          "output_type": "execute_result",
          "data": {
            "text/plain": [
              "(-0.04077096517208498,\n",
              " 0.8624344486801115,\n",
              " 0.0858681868988765,\n",
              " 0.9693056403571758,\n",
              " -0.08565503438661713,\n",
              " 0.9831788497612339)"
            ]
          },
          "metadata": {},
          "execution_count": 15
        }
      ]
    },
    {
      "cell_type": "markdown",
      "source": [
        "* x_0는 평균 10, 분산 4가 되도록 변환 \n",
        "* x_1은 평균 -40, 분산이 16이 되도록 변환\n",
        "* x_1은 평균 12, 분산이 25이 되도록 변환"
      ],
      "metadata": {
        "id": "5sicbmnNzfGu"
      }
    },
    {
      "cell_type": "code",
      "source": [
        "x2_0 = x2_0 * 2 + 10 # 표준편차 2를 곱하고 여기에 평균 10을 더한다\n",
        "x2_1 = x2_1 * 4 - 40 # 표준편차 4를 곱하고 여기에 평균 -40을 더한다\n",
        "x2_2 = x2_2 * 5 + 12 # 표준편차 5를 곱하고 여기에 평균 12을 더한다\n",
        "np.mean(x2_0), np.var(x2_0), np.mean(x2_1), np.var(x2_1), np.mean(x2_2), np.var(x2_2) # 각각 평균과 분산을 뽑아 확인"
      ],
      "metadata": {
        "id": "E5aNJwedz_ka",
        "outputId": "1243fcc2-a0a6-43bf-cfcf-a33d91070eeb",
        "colab": {
          "base_uri": "https://localhost:8080/"
        }
      },
      "execution_count": 16,
      "outputs": [
        {
          "output_type": "execute_result",
          "data": {
            "text/plain": [
              "(9.91845806965583,\n",
              " 3.449737794720446,\n",
              " -39.656527252404494,\n",
              " 15.508890245714811,\n",
              " 11.571724828066912,\n",
              " 24.579471244030852)"
            ]
          },
          "metadata": {},
          "execution_count": 16
        }
      ]
    },
    {
      "cell_type": "markdown",
      "source": [
        "* 각각의 속성값과 (x_0, x_1)과 y값의 산포도 그래프를 찍는다."
      ],
      "metadata": {
        "id": "9EAk3KyT1nml"
      }
    },
    {
      "cell_type": "code",
      "source": [
        "X2 = np.vstack([x2_0, x2_1, x2_2]).T"
      ],
      "metadata": {
        "id": "AIgoZaHY3mIf"
      },
      "execution_count": 17,
      "outputs": []
    },
    {
      "cell_type": "code",
      "source": [
        "fig, axs = plt.subplots(1, 3, figsize=(12, 4))\n",
        "for i, ax in enumerate(axs):\n",
        "    col_name = 'x{}'.format(i)\n",
        "    ax.scatter(X2[:, i], y, label=col_name)\n",
        "    ax.set_xlabel(col_name)\n",
        "    ax.set_ylabel(\"y\")\n",
        "plt.tight_layout()\n",
        "plt.show()"
      ],
      "metadata": {
        "id": "Dq38edKU0p-K",
        "outputId": "05f4798b-23c2-40ec-c041-b18eb6b2e036",
        "colab": {
          "base_uri": "https://localhost:8080/",
          "height": 297
        }
      },
      "execution_count": 18,
      "outputs": [
        {
          "output_type": "display_data",
          "data": {
            "text/plain": [
              "<Figure size 864x288 with 3 Axes>"
            ],
            "image/png": "[encoded data removed]"
          },
          "metadata": {
            "needs_background": "light"
          }
        }
      ]
    },
    {
      "cell_type": "markdown",
      "source": [
        "## 정규방정식으로 학습"
      ],
      "metadata": {
        "id": "n-8Rt9sCKtdp"
      }
    },
    {
      "cell_type": "code",
      "source": [
        "X2_1 = np.hstack([np.ones((X2.shape[0], 1)), X2]) # 절편을 구하기 위해서 전부 값이 1인 열을 추가"
      ],
      "metadata": {
        "id": "5hijLd4cCxQX"
      },
      "execution_count": 19,
      "outputs": []
    },
    {
      "cell_type": "code",
      "source": [
        "beta_hat = np.dot(np.linalg.inv(np.matmul(X2_1.T, X2_1)),  np.dot(X2_1.T, y))"
      ],
      "metadata": {
        "id": "Y0Nr_LdXCtoY"
      },
      "execution_count": 20,
      "outputs": []
    },
    {
      "cell_type": "code",
      "source": [
        "[(i, j ) for i,j in zip([beta_0, beta_1, beta_2, beta_3], beta_hat)], mean_squared_error(y, np.dot(X2_1, beta_hat))"
      ],
      "metadata": {
        "colab": {
          "base_uri": "https://localhost:8080/"
        },
        "id": "7Hy3vkGvEbvI",
        "outputId": "26ac0316-9dd6-4f26-c392-86107617433b"
      },
      "execution_count": 21,
      "outputs": [
        {
          "output_type": "execute_result",
          "data": {
            "text/plain": [
              "([(1, 8.80347166307444),\n",
              "  (-0.2, -0.0601795922692232),\n",
              "  (0.9, 0.2030377874265124),\n",
              "  (0.3, 0.0788216995362907)],\n",
              " 0.6428587489550194)"
            ]
          },
          "metadata": {},
          "execution_count": 21
        }
      ]
    },
    {
      "cell_type": "markdown",
      "source": [
        "표준화가 되어 있지 않는다면 계수를 가지고 중요성, 상대적으로 분산이 큰 속성은 계수의 크기 작다."
      ],
      "metadata": {
        "id": "4PpiL5aSIcJy"
      }
    },
    {
      "cell_type": "markdown",
      "source": [
        "## 경사하강법으로 학습"
      ],
      "metadata": {
        "id": "t2u0CSaI-TLP"
      }
    },
    {
      "cell_type": "code",
      "source": [
        "# 경사하강법을 함수화\n",
        "def gradient_descent(X, y, learning_rate, epoch, random_state=9):\n",
        "    if random_state is not None:\n",
        "        np.random.seed(random_state)\n",
        "    beta_hat =  np.random.rand(X.shape[1] + 1) * 2 - 1 # [-1, 1) 까지 랜덤 번호 생성\n",
        "    beta_hat_0 = beta_hat[0]\n",
        "    beta_hat = beta_hat[1:]\n",
        "    loss_hist = []\n",
        "    beta_hist = []\n",
        "    for j in range(epoch):\n",
        "        y_delta =  y - beta_hat_0 - np.matmul(X, beta_hat)\n",
        "        beta_hat_delta_0 = -np.mean(y_delta)\n",
        "        beta_hat_delta = -np.dot(X.T, y_delta) / n # 좀 더효율적이고 간결하다\n",
        "        beta_hat_0 -= learning_rate * beta_hat_delta_0\n",
        "        beta_hat -= learning_rate * beta_hat_delta\n",
        "        y_hat = beta_hat_0 + np.matmul(X, beta_hat)\n",
        "        loss = mean_squared_error(y, y_hat) # mse\n",
        "        loss_hist.append(loss)\n",
        "        beta_hist.append((beta_hat_0, beta_hat))\n",
        "    return beta_hat_0, beta_hat, loss_hist, beta_hist\n",
        "beta_hat_0, beta_hat,loss_hist, beta_hist = gradient_descent(X2, y, 0.001, 100)"
      ],
      "metadata": {
        "id": "WXHVhJgU-St9"
      },
      "execution_count": 245,
      "outputs": []
    },
    {
      "cell_type": "code",
      "source": [
        "(beta_0, beta_hat_0), [(i, j ) for i,j in zip([beta_1, beta_2, beta_3], beta_hat)], mean_squared_error(y, np.dot(X2, beta_hat) + beta_hat_0)"
      ],
      "metadata": {
        "id": "NSylOlrmE6Q9",
        "outputId": "3f3925df-b320-4bef-d804-fa927cb82c0d",
        "colab": {
          "base_uri": "https://localhost:8080/"
        }
      },
      "execution_count": 23,
      "outputs": [
        {
          "output_type": "execute_result",
          "data": {
            "text/plain": [
              "((1, -0.9680981578315895),\n",
              " [(-0.2, 0.06335524287309413),\n",
              "  (0.9, -0.02108052872627008),\n",
              "  (0.3, 0.043267782556658176)],\n",
              " 1.472632825333718)"
            ]
          },
          "metadata": {},
          "execution_count": 23
        }
      ]
    },
    {
      "cell_type": "code",
      "source": [
        "plt.plot(loss_hist)\n",
        "plt.xlabel('step')\n",
        "plt.ylabel('loss(MSE)')\n",
        "plt.show()"
      ],
      "metadata": {
        "id": "_5ZnYGabFrsF",
        "outputId": "52b17eac-c50f-4685-9010-1fe62bc2be98",
        "colab": {
          "base_uri": "https://localhost:8080/",
          "height": 279
        }
      },
      "execution_count": 24,
      "outputs": [
        {
          "output_type": "display_data",
          "data": {
            "text/plain": [
              "<Figure size 432x288 with 1 Axes>"
            ],
            "image/png": "[encoded data removed]"
          },
          "metadata": {
            "needs_background": "light"
          }
        }
      ]
    },
    {
      "cell_type": "markdown",
      "source": [
        "* scipy에 있는 최적화 알고리즘을 사용해본다.\n",
        "\n",
        "> [scipy.optimize,minimize](https://docs.scipy.org/doc/scipy/reference/generated/scipy.optimize.minimize.html#scipy.optimize.minimize) 로 선형회귀모델을 학습한다. (method='Newton-CG')"
      ],
      "metadata": {
        "id": "EqdUsFNPZPO2"
      }
    },
    {
      "cell_type": "code",
      "source": [
        "from scipy.optimize import minimize\n",
        "\n",
        "def mse(beta_hat, X, y):\n",
        "    r = y - np.dot(X, beta_hat)\n",
        "    return np.dot(r, r)\n",
        "def jac(beta_hat, X, y):\n",
        "    y_delta =  y - np.dot(X, beta_hat)\n",
        "    return -np.dot(X.T, y_delta) / X.shape[0]\n",
        "result = minimize(mse, np.random.rand(X2_1.shape[1]), jac=jac, args=(X2_1, y), method='Newton-CG')\n",
        "result"
      ],
      "metadata": {
        "id": "M_py1KJOZZX_",
        "outputId": "1797c75f-41be-4f26-e974-5771fa05b4f2",
        "colab": {
          "base_uri": "https://localhost:8080/"
        }
      },
      "execution_count": 27,
      "outputs": [
        {
          "output_type": "execute_result",
          "data": {
            "text/plain": [
              "     fun: 128.5717497910178\n",
              "     jac: array([ 1.15809925e-05,  1.15680095e-04, -4.65324999e-04,  1.15230377e-04])\n",
              " message: 'Optimization terminated successfully.'\n",
              "    nfev: 6\n",
              "    nhev: 0\n",
              "     nit: 5\n",
              "    njev: 25\n",
              "  status: 0\n",
              " success: True\n",
              "       x: array([ 8.80347489, -0.06017968,  0.20303784,  0.07882169])"
            ]
          },
          "metadata": {},
          "execution_count": 27
        }
      ]
    },
    {
      "cell_type": "code",
      "source": [
        "beta_hat = result.x\n",
        "[(i, j ) for i,j in zip([beta_0, beta_1, beta_2, beta_3], beta_hat)], mean_squared_error(y, np.dot(X2_1, beta_hat))"
      ],
      "metadata": {
        "id": "l54grC3-ZzY_",
        "outputId": "f37ae593-e933-4d22-fa51-34a1210a3c40",
        "colab": {
          "base_uri": "https://localhost:8080/"
        }
      },
      "execution_count": 28,
      "outputs": [
        {
          "output_type": "execute_result",
          "data": {
            "text/plain": [
              "([(1, 8.803474889821661),\n",
              "  (-0.2, -0.06017968066542497),\n",
              "  (0.9, 0.203037842459493),\n",
              "  (0.3, 0.07882168682165092)],\n",
              " 0.642858748955089)"
            ]
          },
          "metadata": {},
          "execution_count": 28
        }
      ]
    },
    {
      "cell_type": "markdown",
      "source": [
        "직접만든 경사하강법보다 좋은 결과를 뽑아냈지만, 복잡한 데이터셋에서는 이 알고리즘도 정규화를 하지 않으면, 제대로 작동하지 않게 된다.  "
      ],
      "metadata": {
        "id": "tgyRNjR7akvC"
      }
    },
    {
      "cell_type": "markdown",
      "source": [
        "## 정규화(Normalization)\n",
        "\n",
        "* 표준정규분포로(Z-scaling)로 정규화를 진행해 본다.\n",
        "\n",
        "$X\\_std = \\frac{(X-\\bar{X})}{s}$"
      ],
      "metadata": {
        "id": "r264-6wbJwmo"
      }
    },
    {
      "cell_type": "code",
      "source": [
        "X2_std =  (X2 - np.mean(X2, axis=0)) / np.std(X2, axis=0) # Z-scaling"
      ],
      "metadata": {
        "id": "i2PxxuZ_Jit2"
      },
      "execution_count": 29,
      "outputs": []
    },
    {
      "cell_type": "code",
      "source": [
        "X2_std.shape, np.mean(X2_std), np.std(X2_std)"
      ],
      "metadata": {
        "colab": {
          "base_uri": "https://localhost:8080/"
        },
        "id": "NcGTk_PEKqWx",
        "outputId": "d58bf4a9-9558-4b25-ecfd-f36ba23947d8"
      },
      "execution_count": 30,
      "outputs": [
        {
          "output_type": "execute_result",
          "data": {
            "text/plain": [
              "((200, 3), 3.1086244689504386e-17, 1.0)"
            ]
          },
          "metadata": {},
          "execution_count": 30
        }
      ]
    },
    {
      "cell_type": "markdown",
      "source": [
        "[Practice]\n",
        "\n",
        "X_std를 가지고 정규방정식을 이용하여 beta_hat을 구하시오."
      ],
      "metadata": {
        "id": "XDeUWMKp58PP"
      }
    },
    {
      "cell_type": "code",
      "source": [
        "X2_std_1 = np.hstack([np.ones((X2_std.shape[0], 1)), X2_std])\n",
        "beta_hat = np.dot(np.linalg.inv(np.matmul(X2_std_1.T, X2_std_1)),  np.dot(X2_std_1.T, y))\n",
        "beta_hat0, beta_hat1, beta_hat2  = beta_hat[0], beta_hat[1], beta_hat[2]"
      ],
      "metadata": {
        "id": "J6CBkxXZ57KN"
      },
      "execution_count": 31,
      "outputs": []
    },
    {
      "cell_type": "code",
      "source": [
        "beta_1, beta_hat1, beta_2, beta_hat2"
      ],
      "metadata": {
        "id": "xJwNY0Cn6nBA",
        "outputId": "2d968703-d82f-4c21-9f09-7671a1a8a845",
        "colab": {
          "base_uri": "https://localhost:8080/"
        }
      },
      "execution_count": 32,
      "outputs": [
        {
          "output_type": "execute_result",
          "data": {
            "text/plain": [
              "(-0.2, -0.11177438380664462, 0.9, 0.7995897779155682)"
            ]
          },
          "metadata": {},
          "execution_count": 32
        }
      ]
    },
    {
      "cell_type": "markdown",
      "source": [
        "경사하강법으로 해보자."
      ],
      "metadata": {
        "id": "YVtsFAmr88xn"
      }
    },
    {
      "cell_type": "code",
      "source": [
        "beta_hat_0, beta_hat,loss_hist, beta_hist = gradient_descent(X2_std, y, 0.1, 100)"
      ],
      "metadata": {
        "id": "1p08aZgW9ppO"
      },
      "execution_count": 33,
      "outputs": []
    },
    {
      "cell_type": "code",
      "source": [
        "plt.plot(loss_hist)\n",
        "plt.xlabel('step')\n",
        "plt.ylabel('loss(MSE)')\n",
        "plt.show()"
      ],
      "metadata": {
        "id": "DDcAuA6J947l",
        "outputId": "6cb286ae-76d8-4d1a-af0f-9108ea2d980a",
        "colab": {
          "base_uri": "https://localhost:8080/",
          "height": 279
        }
      },
      "execution_count": 34,
      "outputs": [
        {
          "output_type": "display_data",
          "data": {
            "text/plain": [
              "<Figure size 432x288 with 1 Axes>"
            ],
            "image/png": "[encoded data removed]"
          },
          "metadata": {
            "needs_background": "light"
          }
        }
      ]
    },
    {
      "cell_type": "code",
      "source": [
        "(beta_0, beta_hat_0), [(i, j ) for i,j in zip([beta_1, beta_2, beta_3], beta_hat)], mean_squared_error(y, np.dot(X2_std, beta_hat) + beta_hat_0)"
      ],
      "metadata": {
        "id": "ptUqKo_OGevu",
        "outputId": "02c05e2a-e94d-47f4-f961-2cbd330418f5",
        "colab": {
          "base_uri": "https://localhost:8080/"
        }
      },
      "execution_count": 35,
      "outputs": [
        {
          "output_type": "execute_result",
          "data": {
            "text/plain": [
              "((1, 1.0668580186905179),\n",
              " [(-0.2, -0.11180052070328339),\n",
              "  (0.9, 0.7995643018058106),\n",
              "  (0.3, 0.3907272865967305)],\n",
              " 0.6428587556659252)"
            ]
          },
          "metadata": {},
          "execution_count": 35
        }
      ]
    },
    {
      "cell_type": "markdown",
      "source": [
        "[Practice]\n",
        "\n",
        "scipy에 있는 최적화 알고리즘으로 학습해본다.\n",
        "\n",
        "[scipy.optimize,minimize](https://docs.scipy.org/doc/scipy/reference/generated/scipy.optimize.minimize.html#scipy.optimize.minimize) 로 선형회귀모델을 학습한다.(method='Newton-CG')"
      ],
      "metadata": {
        "id": "DUvjv8ekUzuO"
      }
    },
    {
      "cell_type": "code",
      "source": [
        "from scipy.optimize import minimize"
      ],
      "metadata": {
        "id": "_ZqfYENAWWfT"
      },
      "execution_count": 36,
      "outputs": []
    },
    {
      "cell_type": "code",
      "source": [
        "def mse(beta_hat, X, y):\n",
        "    r = y - np.dot(X, beta_hat)\n",
        "    return np.dot(r, r)\n",
        "def jac(beta_hat, X, y):\n",
        "    y_delta =  y - np.dot(X, beta_hat)\n",
        "    return -np.dot(X.T, y_delta) / X.shape[0]\n",
        "minimize(mse, np.random.rand(X2_std_1.shape[1]), jac=jac, args=(X2_std_1, y), method='Newton-CG')"
      ],
      "metadata": {
        "id": "I73FpGtlWgIO",
        "outputId": "0b27e7bd-08e3-4b50-d8b6-4da95834b300",
        "colab": {
          "base_uri": "https://localhost:8080/"
        }
      },
      "execution_count": 37,
      "outputs": [
        {
          "output_type": "execute_result",
          "data": {
            "text/plain": [
              "     fun: 128.5717497910039\n",
              "     jac: array([ 3.07432540e-06, -1.42835243e-07,  3.18181428e-06,  2.23641944e-06])\n",
              " message: 'Optimization terminated successfully.'\n",
              "    nfev: 5\n",
              "    nhev: 0\n",
              "     nit: 4\n",
              "    njev: 13\n",
              "  status: 0\n",
              " success: True\n",
              "       x: array([ 1.06691236, -0.11177438,  0.79958978,  0.39077976])"
            ]
          },
          "metadata": {},
          "execution_count": 37
        }
      ]
    },
    {
      "cell_type": "markdown",
      "source": [
        "[Practice]\n",
        "\n",
        "[sklearn.linear_model.LinearRegression](https://scikit-learn.org/stable/modules/generated/sklearn.linear_model.LinearRegression.html) 을 사용해서 구해보자"
      ],
      "metadata": {
        "id": "dmjHCmMFQMXD"
      }
    },
    {
      "cell_type": "code",
      "source": [
        "from sklearn.linear_model import LinearRegression\n",
        "lr_reg = LinearRegression()\n",
        "lr_reg.fit(X2_std, y)\n",
        "lr_reg.intercept_, lr_reg.coef_, mean_squared_error(y, lr_reg.predict(X2_std))"
      ],
      "metadata": {
        "id": "tQjTECxjQk_A",
        "outputId": "2c9983c4-3fe9-4454-ddb7-191f332e2941",
        "colab": {
          "base_uri": "https://localhost:8080/"
        }
      },
      "execution_count": null,
      "outputs": [
        {
          "output_type": "execute_result",
          "data": {
            "text/plain": [
              "(1.0669123676703023,\n",
              " array([-0.11177438,  0.79958978,  0.39077976]),\n",
              " 0.6428587489550194)"
            ]
          },
          "metadata": {},
          "execution_count": 39
        }
      ]
    },
    {
      "cell_type": "markdown",
      "source": [
        "# 다중공선성\n",
        "\n",
        "다중공선성을 위한  데이터셋을 만들어보자."
      ],
      "metadata": {
        "id": "a-8ejeE2UaUv"
      }
    },
    {
      "cell_type": "code",
      "source": [
        "n = 200 # 데이터 생성 수\n",
        "np.random.seed(42) # 매번 동일한 난수 생성하기 위해 랜덤 Seed를 42로 지정\n",
        "x3_0 = np.random.normal(size=n) # 표준정규분포(평균=0, 분산=1인 정규분포)\n",
        "x3_1 = np.random.normal(size=n) # 표준정규분포(평균=0, 분산=1인 정규분포)\n",
        "x3_2 = x3_0 * 0.6 + x3_1 * 0.4 + np.random.normal(scale=0.1, size=n) # 표준정규분포(평균=0, 분산=1인 정규분포)\n",
        "\n",
        "beta_0, beta_1, beta_2, beta_3, eps = 1, -0.2, 0.9, 0.3, 1.0 # eps는 오차의 분산\n",
        "y = beta_0 + beta_1 * x3_0 + beta_2 * x3_1 + beta_3 * x3_2 + np.random.normal(scale=eps**0.5, size=n) \n",
        "X3 = np.vstack([x3_0, x3_1, x3_2]).T\n",
        "np.cov(X3, rowvar=False)"
      ],
      "metadata": {
        "id": "AHIzQp6eS5Pz",
        "outputId": "23db97c2-d7ac-420a-d001-6dcc370c42e8",
        "colab": {
          "base_uri": "https://localhost:8080/"
        }
      },
      "execution_count": 170,
      "outputs": [
        {
          "output_type": "execute_result",
          "data": {
            "text/plain": [
              "array([[0.86676829, 0.0874307 , 0.54261391],\n",
              "       [0.0874307 , 0.97417652, 0.43892805],\n",
              "       [0.54261391, 0.43892805, 0.50228876]])"
            ]
          },
          "metadata": {},
          "execution_count": 170
        }
      ]
    },
    {
      "cell_type": "code",
      "source": [
        "sns.pairplot(pd.DataFrame(X3, columns=['x0', 'x1', 'x2']))\n",
        "plt.show()"
      ],
      "metadata": {
        "id": "KrDGj0Y6g6PQ",
        "outputId": "d0641ab6-0994-4498-bbf4-ecbec386817f",
        "colab": {
          "base_uri": "https://localhost:8080/",
          "height": 550
        }
      },
      "execution_count": 171,
      "outputs": [
        {
          "output_type": "display_data",
          "data": {
            "text/plain": [
              "<Figure size 540x540 with 12 Axes>"
            ],
            "image/png": "[encoded data removed]"
          },
          "metadata": {
            "needs_background": "light"
          }
        }
      ]
    },
    {
      "cell_type": "markdown",
      "source": [
        "VIF를 함수로 만들어 보자.\n",
        "\n",
        "$VIF=1/(1-R^2)$\n",
        "\n",
        "$R^2=1-\\frac{\\sum\\limits_{i=1}^n(y_i-\\hat{y}_i)^2}{\\sum\\limits_{i=1}^n(y_i-\\bar{y})^2}$"
      ],
      "metadata": {
        "id": "YPGgpfQXnZcM"
      }
    },
    {
      "cell_type": "code",
      "source": [
        "from sklearn.linear_model import LinearRegression"
      ],
      "metadata": {
        "id": "LzI1s05coV6U"
      },
      "execution_count": 172,
      "outputs": []
    },
    {
      "cell_type": "markdown",
      "source": [
        "$R^2$ 부터 계산해보자"
      ],
      "metadata": {
        "id": "EXGrzmKAo_Vb"
      }
    },
    {
      "cell_type": "code",
      "source": [
        "X_ = X3[:, [0, 1]]\n",
        "y_ = X3[:, 2]\n",
        "lr_reg = LinearRegression()\n",
        "lr_reg.fit(X_, y_)\n",
        "residual = y_ - lr_reg.predict(X_)\n",
        "diff = y_ -  np.mean(y_)\n",
        "R2 = 1 - np.dot(residual, residual) / np.dot(diff, diff)\n",
        "R2"
      ],
      "metadata": {
        "id": "IyVtFg8mnUTM",
        "outputId": "77db205c-734e-48b1-c2c5-ca8a6132c2a4",
        "colab": {
          "base_uri": "https://localhost:8080/"
        }
      },
      "execution_count": 231,
      "outputs": [
        {
          "output_type": "execute_result",
          "data": {
            "text/plain": [
              "0.9806897649393779"
            ]
          },
          "metadata": {},
          "execution_count": 231
        }
      ]
    },
    {
      "cell_type": "markdown",
      "source": [
        "[sklearn.metric.r2_score](https://scikit-learn.org/stable/modules/generated/sklearn.metrics.r2_score.html) 를  이용해 서 구해보자"
      ],
      "metadata": {
        "id": "v9n9Cf95p9B6"
      }
    },
    {
      "cell_type": "code",
      "source": [
        "from sklearn.metrics import r2_score\n",
        "r2_score(y_, lr_reg.predict(X_))"
      ],
      "metadata": {
        "id": "tUYsk5AAp777",
        "outputId": "a368c3c0-d880-4f69-e600-7ec669ea2c12",
        "colab": {
          "base_uri": "https://localhost:8080/"
        }
      },
      "execution_count": 216,
      "outputs": [
        {
          "output_type": "execute_result",
          "data": {
            "text/plain": [
              "0.9806897649393779"
            ]
          },
          "metadata": {},
          "execution_count": 216
        }
      ]
    },
    {
      "cell_type": "code",
      "source": [
        "vif = 1 / (1-r2_score(y_, lr_reg.predict(X_)))\n",
        "vif"
      ],
      "metadata": {
        "id": "Eqp-oCZFrYJj",
        "outputId": "dd7a4ae4-ad8f-4c2b-e40c-4de923934dcd",
        "colab": {
          "base_uri": "https://localhost:8080/"
        }
      },
      "execution_count": 217,
      "outputs": [
        {
          "output_type": "execute_result",
          "data": {
            "text/plain": [
              "51.786008656063586"
            ]
          },
          "metadata": {},
          "execution_count": 217
        }
      ]
    },
    {
      "cell_type": "markdown",
      "source": [
        "[Practice]\n",
        "\n",
        "X와 i를 입력받아, i번재 열의 VIF 구하는 calc_vif 함수를 만들고, \n",
        "\n",
        "이를 활용하여, 나머지 변수 x0, x1의 VIF를 구하시오.\n",
        "- 정규방정식을 이용하라.\n",
        "- sklearn과 굳이 종속성을 만들지 않기위해 numpy 만을 이용하여 구현하라\n"
      ],
      "metadata": {
        "id": "u1aiYfxfO5ga"
      }
    },
    {
      "cell_type": "code",
      "source": [
        "def calc_vif(X, i):\n",
        "    \"\"\"\n",
        "    VIF를 계산한다.\n",
        "    Parameters\n",
        "    -----------\n",
        "    X: design matrix\n",
        "    i: 열 인덱스\n",
        "    returns\n",
        "    VIF\n",
        "    \"\"\"\n",
        "    csel = [j != i for j in range(X.shape[1])]\n",
        "    X_add_1 = np.hstack([np.ones((X.shape[0], 1)), X[:, csel]])\n",
        "    y = X[:, i]\n",
        "    gram_mat = np.matmul(X_add_1.T, X_add_1)\n",
        "    inv_gram_mat = np.linalg.inv(gram_mat)\n",
        "    beta_hat = np.dot(inv_gram_mat, np.dot(X_add_1.T, y))\n",
        "    y_hat  = np.dot(X_add_1, beta_hat)\n",
        "    residual = y - y_hat\n",
        "    diff = y -  np.mean(y)\n",
        "    R2 = 1 - np.dot(residual, residual) / np.dot(diff, diff)\n",
        "    return 1 / (1 - R2)\n",
        "calc_vif(X3, 2)"
      ],
      "metadata": {
        "id": "ugf6phgnPqvS",
        "outputId": "956be68b-a73d-4eb2-a1bd-47ec55e99909",
        "colab": {
          "base_uri": "https://localhost:8080/"
        }
      },
      "execution_count": 244,
      "outputs": [
        {
          "output_type": "execute_result",
          "data": {
            "text/plain": [
              "51.786008656063586"
            ]
          },
          "metadata": {},
          "execution_count": 244
        }
      ]
    },
    {
      "cell_type": "code",
      "source": [
        "for i in  [0, 1]:\n",
        "    print(\"VIF of {}: {}\".format(i, calc_vif(X3, i)))"
      ],
      "metadata": {
        "id": "e_eBTCoSaBI9",
        "outputId": "8fd83b16-786a-485d-d1d3-985787a486b5",
        "colab": {
          "base_uri": "https://localhost:8080/"
        }
      },
      "execution_count": 252,
      "outputs": [
        {
          "output_type": "stream",
          "name": "stdout",
          "text": [
            "VIF of 0: 31.68326708066757\n",
            "VIF of 1: 16.917413095819736\n"
          ]
        }
      ]
    },
    {
      "cell_type": "markdown",
      "source": [
        "다중공선성의 정도를 지정하여 데이터셋을 만들자."
      ],
      "metadata": {
        "id": "3iCWNabKWaYG"
      }
    },
    {
      "cell_type": "code",
      "source": [
        "def gen_conlinear_sample(n, degree):\n",
        "    \"\"\"\n",
        "    다중공선성 데이터셋을 만든다.\n",
        "    Parameters\n",
        "        n: int 데이터수\n",
        "        degree: 정도(낮을 수록 정도가 세다.)\n",
        "    Returns\n",
        "        X, y\n",
        "    \"\"\"\n",
        "\n",
        "    np.random.seed(42) # 매번 동일한 난수 생성하기 위해 랜덤 Seed를 42로 지정\n",
        "    x_con_0 = np.random.normal(size=n) # 표준정규분포(평균=0, 분산=1인 정규분포)\n",
        "    x_con_1 = np.random.normal(size=n) # 표준정규분포(평균=0, 분산=1인 정규분포)\n",
        "    if degree > 0:\n",
        "        x_con_2 = x_con_0 * 0.6 + x_con_1 * 0.4 + np.random.normal(scale=degree, size=n) # 표준정규분포(평균=0, 분산=1인 정규분포)\n",
        "    else:\n",
        "        x_con_2 = x_con_0 * 0.6 + x_con_1 * 0.4 # 표준정규분포(평균=0, 분산=1인 정규분포)\n",
        "    beta_0, beta_1, beta_2, beta_3, eps = 1, -0.2, 0.9, 0.3, 1.0 # eps는 오차의 분산\n",
        "    y = beta_0 + beta_1 * x_con_0 + beta_2 * x_con_1 + beta_3 * x_con_2 + np.random.normal(scale=eps**0.5, size=n) \n",
        "    X_con = np.vstack([x_con_0, x_con_1, x_con_2]).T\n",
        "    return X_con, y"
      ],
      "metadata": {
        "id": "LntcO26aWWCj"
      },
      "execution_count": 317,
      "outputs": []
    },
    {
      "cell_type": "markdown",
      "source": [
        "* 다중공선성이 클수록 학습결과가 불안정하다.\n",
        "\n",
        "> 다중공선성의 정도를 점점 크게 하면서, 샘플의 미세한 변경에 따라서 산출되는 $\\hat{\\beta}$의 편차가 어떻게 달라지는지 살펴보자.\n",
        "\n"
      ],
      "metadata": {
        "id": "GiOv_K2VYf2k"
      }
    },
    {
      "cell_type": "code",
      "source": [
        "lr_reg = LinearRegression()\n",
        "dfs = {}\n",
        "for degree in [1.0, 0.2, 0.1]:\n",
        "    X_e, y_e = gen_conlinear_sample(300, degree)\n",
        "    vif = calc_vif(X_e, 2)\n",
        "    print(vif)\n",
        "    # 데이터셋 중에서, 랜덤으로 95%만 골라서 학습을 하여 beta_hat을 구하자.(절편은 생략)\n",
        "    # 이를 100회 반복하고 beta_hat을 저장하고 이에 대한 히스토그램을 찍어 보자.\n",
        "    beta_s = []\n",
        "    for i in range(100):\n",
        "        rsel = np.random.rand(X_e.shape[0]) < 0.95 # rand는 [0, 1) boolean index를 활용하여 95%만 골라내자\n",
        "        X_e_, y_e_ = X_e[rsel], y_e[rsel]\n",
        "        lr_reg.fit(X_e_, y_e_) # 학습\n",
        "        beta_s.append(lr_reg.coef_)\n",
        "    df = pd.DataFrame(np.vstack(beta_s), columns=['beta_1', 'beta_2', 'beta_3'])\n",
        "    dfs['vif{:.2f}'.format(vif)] = df"
      ],
      "metadata": {
        "id": "EgHa5af-98CC",
        "outputId": "7001d26b-5a55-4ae7-b739-c61a29c87955",
        "colab": {
          "base_uri": "https://localhost:8080/"
        }
      },
      "execution_count": 305,
      "outputs": [
        {
          "output_type": "stream",
          "name": "stdout",
          "text": [
            "1.4160308279945637\n",
            "12.723466890555894\n",
            "48.57786763754932\n"
          ]
        }
      ]
    },
    {
      "cell_type": "code",
      "source": [
        "beta = [-0.2, 0.9, 0.3]\n",
        "fig, axs = plt.subplots(3, 3, figsize=(12, 9), sharex=True)\n",
        "for i, k in zip(range(3), dfs.keys()):\n",
        "    axs_ = axs[i]\n",
        "    for j, ax in enumerate(axs_):\n",
        "        ax.hist(dfs[k].iloc[:, j], bins=15)\n",
        "        ax.axvline(beta[j], color='r')\n",
        "        ax.set_xlabel(\"{} beta_{}\".format(k, j + 1))\n",
        "plt.tight_layout()\n",
        "plt.show()"
      ],
      "metadata": {
        "id": "vD9P9zi2etb3",
        "outputId": "b9dc67c9-c611-408f-dbfd-861015454325",
        "colab": {
          "base_uri": "https://localhost:8080/",
          "height": 657
        }
      },
      "execution_count": 308,
      "outputs": [
        {
          "output_type": "display_data",
          "data": {
            "text/plain": [
              "<Figure size 864x648 with 9 Axes>"
            ],
            "image/png": "[encoded data removed]"
          },
          "metadata": {
            "needs_background": "light"
          }
        }
      ]
    },
    {
      "cell_type": "code",
      "source": [
        "X_e, y_e = gen_conlinear_sample(300, degree)\n",
        "beta_hat_0, beta_hat,_, _ = gradient_descent(X_e, y_e, 0.1, 50, random_state=None)"
      ],
      "metadata": {
        "id": "-ujun82y9t3j"
      },
      "execution_count": 309,
      "outputs": []
    },
    {
      "cell_type": "code",
      "source": [
        "plt.plot(loss_hist)\n",
        "plt.show()"
      ],
      "metadata": {
        "id": "IR3MFIfB9wpb",
        "outputId": "ed331b25-aa3a-4491-f24c-1840711b7858",
        "colab": {
          "base_uri": "https://localhost:8080/",
          "height": 265
        }
      },
      "execution_count": 310,
      "outputs": [
        {
          "output_type": "display_data",
          "data": {
            "text/plain": [
              "<Figure size 432x288 with 1 Axes>"
            ],
            "image/png": "[encoded data removed]"
          },
          "metadata": {
            "needs_background": "light"
          }
        }
      ]
    },
    {
      "cell_type": "code",
      "source": [
        "dfs = {}\n",
        "for degree in [1.0, 0.2, 0.1]:\n",
        "    X_e, y_e = gen_conlinear_sample(300, degree)\n",
        "    vif = calc_vif(X_e, 2)\n",
        "    print(vif)\n",
        "    # 데이터셋 중에서, 랜덤으로 95%만 골라서 학습을 하여 beta_hat을 구하자.(절편은 생략)\n",
        "    # 이를 100회 반복하고 beta_hat을 저장하고 이에 대한 히스토그램을 찍어 보자.\n",
        "    beta_s = []\n",
        "    for i in range(100):\n",
        "        beta_hat_0, beta_hat,_, _ = gradient_descent(X_e, y_e, 0.1, 50, random_state=None)\n",
        "        beta_s.append(beta_hat)\n",
        "    df = pd.DataFrame(np.vstack(beta_s), columns=['beta_1', 'beta_2', 'beta_3'])\n",
        "    dfs['vif{:.2f}'.format(vif)] = df"
      ],
      "metadata": {
        "id": "Q-CMj2K8C8oE",
        "outputId": "dc0e61dd-a551-4404-d924-2776b32177d7",
        "colab": {
          "base_uri": "https://localhost:8080/"
        }
      },
      "execution_count": 311,
      "outputs": [
        {
          "output_type": "stream",
          "name": "stdout",
          "text": [
            "1.4160308279945637\n",
            "12.723466890555894\n",
            "48.57786763754932\n"
          ]
        }
      ]
    },
    {
      "cell_type": "code",
      "source": [
        "beta = [-0.2, 0.9, 0.3]\n",
        "fig, axs = plt.subplots(3, 3, figsize=(12, 9), sharex=True)\n",
        "for i, k in zip(range(3), dfs.keys()):\n",
        "    axs_ = axs[i]\n",
        "    for j, ax in enumerate(axs_):\n",
        "        ax.hist(dfs[k].iloc[:, j], bins=15)\n",
        "        ax.axvline(beta[j], color='r')\n",
        "        ax.set_xlabel(\"{} beta_{}\".format(k, j + 1))\n",
        "plt.tight_layout()\n",
        "plt.show()"
      ],
      "metadata": {
        "id": "abBZ7sHvVb0k",
        "outputId": "724d19b7-0353-4246-eba5-a2d222b22a08",
        "colab": {
          "base_uri": "https://localhost:8080/",
          "height": 657
        }
      },
      "execution_count": 312,
      "outputs": [
        {
          "output_type": "display_data",
          "data": {
            "text/plain": [
              "<Figure size 864x648 with 9 Axes>"
            ],
            "image/png": "[encoded data removed]"
          },
          "metadata": {
            "needs_background": "light"
          }
        }
      ]
    },
    {
      "cell_type": "markdown",
      "source": [
        "[Practice]\n",
        "완벽히 예측이 가능하다면 어찌되는지 확인."
      ],
      "metadata": {
        "id": "MXYt1zJ7uTJu"
      }
    },
    {
      "cell_type": "code",
      "source": [
        "X_e, y_e = gen_conlinear_sample(300, 0)\n",
        "lr_reg = LinearRegression()\n",
        "lr_reg.fit(X_e, y_e)\n",
        "lr_reg.coef_"
      ],
      "metadata": {
        "id": "6lOl2oEeuSTU",
        "outputId": "770142ab-d16f-4ab8-9f6d-16bd8158bd62",
        "colab": {
          "base_uri": "https://localhost:8080/"
        }
      },
      "execution_count": 318,
      "outputs": [
        {
          "output_type": "execute_result",
          "data": {
            "text/plain": [
              "array([ 2.76237143e+13,  1.84158095e+13, -4.60395238e+13])"
            ]
          },
          "metadata": {},
          "execution_count": 318
        }
      ]
    },
    {
      "cell_type": "code",
      "source": [
        "np.linalg.inv(np.matmul(X_e.T, X_e)) # 역행렬이 존재하지 않는다."
      ],
      "metadata": {
        "id": "vWJ4U7qRu9a8",
        "outputId": "288f14d1-8181-48ca-e2c6-07263a18689f",
        "colab": {
          "base_uri": "https://localhost:8080/",
          "height": 363
        }
      },
      "execution_count": 320,
      "outputs": [
        {
          "output_type": "error",
          "ename": "LinAlgError",
          "evalue": "ignored",
          "traceback": [
            "\u001b[0;31m---------------------------------------------------------------------------\u001b[0m",
            "\u001b[0;31mLinAlgError\u001b[0m                               Traceback (most recent call last)",
            "\u001b[0;32m<ipython-input-320-6db623bdd6d4>\u001b[0m in \u001b[0;36m<module>\u001b[0;34m\u001b[0m\n\u001b[0;32m----> 1\u001b[0;31m \u001b[0mnp\u001b[0m\u001b[0;34m.\u001b[0m\u001b[0mlinalg\u001b[0m\u001b[0;34m.\u001b[0m\u001b[0minv\u001b[0m\u001b[0;34m(\u001b[0m\u001b[0mnp\u001b[0m\u001b[0;34m.\u001b[0m\u001b[0mmatmul\u001b[0m\u001b[0;34m(\u001b[0m\u001b[0mX_e\u001b[0m\u001b[0;34m.\u001b[0m\u001b[0mT\u001b[0m\u001b[0;34m,\u001b[0m \u001b[0mX_e\u001b[0m\u001b[0;34m)\u001b[0m\u001b[0;34m)\u001b[0m\u001b[0;34m\u001b[0m\u001b[0;34m\u001b[0m\u001b[0m\n\u001b[0m",
            "\u001b[0;32m<__array_function__ internals>\u001b[0m in \u001b[0;36minv\u001b[0;34m(*args, **kwargs)\u001b[0m\n",
            "\u001b[0;32m/usr/local/lib/python3.8/dist-packages/numpy/linalg/linalg.py\u001b[0m in \u001b[0;36minv\u001b[0;34m(a)\u001b[0m\n\u001b[1;32m    543\u001b[0m     \u001b[0msignature\u001b[0m \u001b[0;34m=\u001b[0m \u001b[0;34m'D->D'\u001b[0m \u001b[0;32mif\u001b[0m \u001b[0misComplexType\u001b[0m\u001b[0;34m(\u001b[0m\u001b[0mt\u001b[0m\u001b[0;34m)\u001b[0m \u001b[0;32melse\u001b[0m \u001b[0;34m'd->d'\u001b[0m\u001b[0;34m\u001b[0m\u001b[0;34m\u001b[0m\u001b[0m\n\u001b[1;32m    544\u001b[0m     \u001b[0mextobj\u001b[0m \u001b[0;34m=\u001b[0m \u001b[0mget_linalg_error_extobj\u001b[0m\u001b[0;34m(\u001b[0m\u001b[0m_raise_linalgerror_singular\u001b[0m\u001b[0;34m)\u001b[0m\u001b[0;34m\u001b[0m\u001b[0;34m\u001b[0m\u001b[0m\n\u001b[0;32m--> 545\u001b[0;31m     \u001b[0mainv\u001b[0m \u001b[0;34m=\u001b[0m \u001b[0m_umath_linalg\u001b[0m\u001b[0;34m.\u001b[0m\u001b[0minv\u001b[0m\u001b[0;34m(\u001b[0m\u001b[0ma\u001b[0m\u001b[0;34m,\u001b[0m \u001b[0msignature\u001b[0m\u001b[0;34m=\u001b[0m\u001b[0msignature\u001b[0m\u001b[0;34m,\u001b[0m \u001b[0mextobj\u001b[0m\u001b[0;34m=\u001b[0m\u001b[0mextobj\u001b[0m\u001b[0;34m)\u001b[0m\u001b[0;34m\u001b[0m\u001b[0;34m\u001b[0m\u001b[0m\n\u001b[0m\u001b[1;32m    546\u001b[0m     \u001b[0;32mreturn\u001b[0m \u001b[0mwrap\u001b[0m\u001b[0;34m(\u001b[0m\u001b[0mainv\u001b[0m\u001b[0;34m.\u001b[0m\u001b[0mastype\u001b[0m\u001b[0;34m(\u001b[0m\u001b[0mresult_t\u001b[0m\u001b[0;34m,\u001b[0m \u001b[0mcopy\u001b[0m\u001b[0;34m=\u001b[0m\u001b[0;32mFalse\u001b[0m\u001b[0;34m)\u001b[0m\u001b[0;34m)\u001b[0m\u001b[0;34m\u001b[0m\u001b[0;34m\u001b[0m\u001b[0m\n\u001b[1;32m    547\u001b[0m \u001b[0;34m\u001b[0m\u001b[0m\n",
            "\u001b[0;32m/usr/local/lib/python3.8/dist-packages/numpy/linalg/linalg.py\u001b[0m in \u001b[0;36m_raise_linalgerror_singular\u001b[0;34m(err, flag)\u001b[0m\n\u001b[1;32m     86\u001b[0m \u001b[0;34m\u001b[0m\u001b[0m\n\u001b[1;32m     87\u001b[0m \u001b[0;32mdef\u001b[0m \u001b[0m_raise_linalgerror_singular\u001b[0m\u001b[0;34m(\u001b[0m\u001b[0merr\u001b[0m\u001b[0;34m,\u001b[0m \u001b[0mflag\u001b[0m\u001b[0;34m)\u001b[0m\u001b[0;34m:\u001b[0m\u001b[0;34m\u001b[0m\u001b[0;34m\u001b[0m\u001b[0m\n\u001b[0;32m---> 88\u001b[0;31m     \u001b[0;32mraise\u001b[0m \u001b[0mLinAlgError\u001b[0m\u001b[0;34m(\u001b[0m\u001b[0;34m\"Singular matrix\"\u001b[0m\u001b[0;34m)\u001b[0m\u001b[0;34m\u001b[0m\u001b[0;34m\u001b[0m\u001b[0m\n\u001b[0m\u001b[1;32m     89\u001b[0m \u001b[0;34m\u001b[0m\u001b[0m\n\u001b[1;32m     90\u001b[0m \u001b[0;32mdef\u001b[0m \u001b[0m_raise_linalgerror_nonposdef\u001b[0m\u001b[0;34m(\u001b[0m\u001b[0merr\u001b[0m\u001b[0;34m,\u001b[0m \u001b[0mflag\u001b[0m\u001b[0;34m)\u001b[0m\u001b[0;34m:\u001b[0m\u001b[0;34m\u001b[0m\u001b[0;34m\u001b[0m\u001b[0m\n",
            "\u001b[0;31mLinAlgError\u001b[0m: Singular matrix"
          ]
        }
      ]
    },
    {
      "cell_type": "code",
      "source": [
        "beta_hat_0, beta_hat,_, _ = gradient_descent(X_e, y_e, 0.1, 100, random_state=None)\n",
        "beta_hat"
      ],
      "metadata": {
        "id": "9QIIbF40vULO",
        "outputId": "c004351f-2810-4bad-c5ee-168191bf9c41",
        "colab": {
          "base_uri": "https://localhost:8080/"
        }
      },
      "execution_count": 322,
      "outputs": [
        {
          "output_type": "execute_result",
          "data": {
            "text/plain": [
              "array([-0.64502911,  0.59565462,  0.97562944])"
            ]
          },
          "metadata": {},
          "execution_count": 322
        }
      ]
    },
    {
      "cell_type": "code",
      "source": [
        "from sklearn.datasets import make_regression"
      ],
      "metadata": {
        "id": "CzyONwwSajVZ"
      },
      "execution_count": null,
      "outputs": []
    },
    {
      "cell_type": "code",
      "source": [],
      "metadata": {
        "id": "WZn5SUEdq33Q"
      },
      "execution_count": null,
      "outputs": []
    }
  ]
}