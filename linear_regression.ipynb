{
  "nbformat": 4,
  "nbformat_minor": 0,
  "metadata": {
    "colab": {
      "provenance": [],
      "authorship_tag": "ABX9TyMivS/UJdWBvnWm9TVCIy8L",
      "include_colab_link": true
    },
    "kernelspec": {
      "name": "python3",
      "display_name": "Python 3"
    },
    "language_info": {
      "name": "python"
    }
  },
  "cells": [
    {
      "cell_type": "markdown",
      "metadata": {
        "id": "view-in-github",
        "colab_type": "text"
      },
      "source": [
        "<a href=\"https://colab.research.google.com/github/sunkusun9/ML2022_1/blob/main/linear_regression.ipynb\" target=\"_parent\"><img src=\"https://colab.research.google.com/assets/colab-badge.svg\" alt=\"Open In Colab\"/></a>"
      ]
    },
    {
      "cell_type": "markdown",
      "source": [
        "# Linear Regression"
      ],
      "metadata": {
        "id": "a27vRYj6YU5s"
      }
    },
    {
      "cell_type": "markdown",
      "source": [
        "표준정규분포를 따르는 x_0, x_1을 200개 생성\n",
        "beta_0 = 1, beta_1 = -0.1, beta_2 = 0.8 이고\n",
        "노이즈의 분산을 0.4로 하여 y를 생성"
      ],
      "metadata": {
        "id": "lYz6-GUWvTUg"
      }
    },
    {
      "cell_type": "code",
      "source": [
        "n = 200 # 데이터 생성 수\n",
        "np.random.seed(42) # 랜덤 Seedㄹ를 42로 지정하여 동일한 난수 생성\n",
        "x_0 = np.random.normal(size=n) # 표준정규분포(평균=0, 분산=1인 정규분포)\n",
        "y_0 = np.random.normal(size=n) # 표준정규분포(평균=0, 분산=1인 정규분포)"
      ],
      "metadata": {
        "id": "7aFF-3rDsYcN"
      },
      "execution_count": null,
      "outputs": []
    },
    {
      "cell_type": "code",
      "source": [
        "from sklearn.datasets import make_regression"
      ],
      "metadata": {
        "id": "CzyONwwSajVZ"
      },
      "execution_count": null,
      "outputs": []
    },
    {
      "cell_type": "markdown",
      "source": [
        "[sklearn.datasets.make_regression](https://scikit-learn.org/stable/modules/generated/sklearn.datasets.make_regression.html#sklearn.datasets.make_regression) 회귀 분석 데이터셋을 만든다. \n",
        "\n",
        "n_samples=100, n_features=5, n_informative=3, random_state=9, coef=True 로 해서 데이터셋 생성하여 입력 값은 X에 출력은 y 값, 계수는 coef에 설정."
      ],
      "metadata": {
        "id": "2EifADhUYwYY"
      }
    },
    {
      "cell_type": "code",
      "source": [
        "X, y, coef = make_regression(n_samples=100, n_features=5, n_informative=3, random_state=9, coef=True)\n",
        "X.shape, y.shape, coef"
      ],
      "metadata": {
        "id": "j3GGsGnNWsp9",
        "outputId": "9f09264a-6784-444a-95c8-792ae90b9388",
        "colab": {
          "base_uri": "https://localhost:8080/"
        }
      },
      "execution_count": null,
      "outputs": [
        {
          "output_type": "execute_result",
          "data": {
            "text/plain": [
              "((100, 5),\n",
              " (100,),\n",
              " array([ 6.74479784, 71.20447834,  0.        ,  0.        , 50.7033102 ]))"
            ]
          },
          "metadata": {},
          "execution_count": 47
        }
      ]
    },
    {
      "cell_type": "markdown",
      "source": [
        "각각의 속성과, y를 산포도 그래프로 시각화"
      ],
      "metadata": {
        "id": "j1KFjqUTp2JH"
      }
    },
    {
      "cell_type": "code",
      "source": [
        "fig, axs = plt.subplots(1, 5, figsize=(16, 4))\n",
        "for i, ax in enumerate(axs):\n",
        "    col_name = 'x{}'.format(i)\n",
        "    ax.scatter(X[:, i], y, label=col_name)\n",
        "    ax.set_xlabel(col_name)\n",
        "    ax.set_ylabel(\"y\")\n",
        "plt.show()"
      ],
      "metadata": {
        "id": "1B4t7359k1RT",
        "outputId": "54d4ae23-0bd9-4356-854d-1e5d0374bf68",
        "colab": {
          "base_uri": "https://localhost:8080/",
          "height": 279
        }
      },
      "execution_count": null,
      "outputs": [
        {
          "output_type": "display_data",
          "data": {
            "text/plain": [
              "<Figure size 1152x288 with 5 Axes>"
            ],
            "image/png": "[encoded data removed]"
          },
          "metadata": {
            "needs_background": "light"
          }
        }
      ]
    },
    {
      "cell_type": "code",
      "source": [],
      "metadata": {
        "id": "WZn5SUEdq33Q"
      },
      "execution_count": null,
      "outputs": []
    }
  ]
}